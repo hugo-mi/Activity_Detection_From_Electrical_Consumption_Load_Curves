{
 "cells": [
  {
   "cell_type": "code",
   "execution_count": 19,
   "metadata": {},
   "outputs": [],
   "source": [
    "import os\n",
    "os.getcwd()\n",
    "os.chdir(r\"src\")\n",
    "import matplotlib.pyplot as plt\n",
    "import utils"
   ]
  },
  {
   "cell_type": "code",
   "execution_count": 10,
   "metadata": {},
   "outputs": [],
   "source": [
    "# ---- utils libs ----\n",
    "import datetime\n",
    "import sys\n",
    "\n",
    "\n",
    "# --- Import functions from utils.py ---\n",
    "sys.path.insert(0,'..')\n",
    "from utils import convertToSequenceParameters, read_pickle_dataset\n",
    "\n",
    "# --- Import functions from preprocessing.py ---\n",
    "sys.path.insert(0,'..')\n",
    "from preprocessing import data_preprocessing\n",
    "\n",
    "# --- Import functions from visualize.py ---\n",
    "sys.path.insert(0,'../src/visualization')\n",
    "from visualize import visualize_load_curve_dataset, visualize_load_curve_resampled, visualize_train_load_curve, visualize_test_load_curve, visualize_test_train_load_curve, visualize_report_preprocessing\n",
    "\n",
    "# --- Import functions from build_model.py ---\n",
    "sys.path.insert(0,'../src/models/')\n",
    "from build_model import model\n",
    "\n",
    "# --- Import functions from train_model.py ---\n",
    "sys.path.insert(0,'../src/models/')\n",
    "from train_model import train\n",
    "\n",
    "# --- Import functions from eval_model.py ---\n",
    "sys.path.insert(0,'../src/models/')\n",
    "from eval_model import plot_train_val_loss, plot_reconstructed_base_load_curve, plot_activity_histogram, plot_activity_distibrution, confusion_matrix, evaluate\n",
    "\n",
    "# --- Import functions from predict_model.py ---\n",
    "sys.path.insert(0,'../src/models/')\n",
    "from predict_model import X_train_predict, X_test_predict, compute_threshold, compute_train_mae_loss, compute_test_mae_loss, plot_train_mae_loss, plot_test_mae_loss, detect_anomaly_sequence, get_anomaly_df, get_df_predict, get_specific_anomaly_sequence, plot_anomaly_sequences, plot_anomaly_data_points\n",
    "\n",
    "# --- Import functions from postprocessing.py ---\n",
    "sys.path.insert(0,'..')\n",
    "from postprocessing import data_postprocessing, plot_postprocessing_anomalies"
   ]
  },
  {
   "cell_type": "code",
   "execution_count": 13,
   "metadata": {},
   "outputs": [
    {
     "name": "stdout",
     "output_type": "stream",
     "text": [
      "CONVERTING GLOBAL USER PARAMETERS...\n",
      "\n",
      "\t\tValeur choisie \t Equivalent sequence\n",
      "Timestep : \t 0:01:30\n",
      "Duration :\t 1:00:00 \t -->  40 \n",
      "Overlap :\t 0.8 \t\t -->  32\n"
     ]
    }
   ],
   "source": [
    "# --- Define global variable ---\n",
    "TIME_STEP = datetime.timedelta(minutes=1, seconds=30) # duration of a step in the resample dataset, originally 1 second\n",
    "DURATION_TIME = datetime.timedelta(minutes=60) # duration of a sequence\n",
    "OVERLAP_PERIOD_PERCENT = 0.8 # 0.5 <=> 50% overlapping\n",
    "TIMEFRAMES = [(datetime.time(0,0,0), datetime.time(3,0,0))] # timeframes we consider as unactive\n",
    "STRATEGY = \"off_peak_time\" # device, off_peak_time, label \n",
    "METHOD = \"method_prediction_1\" # method to choose for aggregating sequences\n",
    "print(\"CONVERTING GLOBAL USER PARAMETERS...\\n\")\n",
    "SEQUENCE_LENGTH, OVERLAP_PERIOD = convertToSequenceParameters(TIME_STEP, DURATION_TIME, OVERLAP_PERIOD_PERCENT)\n",
    "print(\"\\t\\tValeur choisie \\t Equivalent sequence\\nTimestep : \\t {}\\nDuration :\\t {} \\t -->  {} \\nOverlap :\\t {} \\t\\t -->  {}\".format(TIME_STEP, DURATION_TIME, SEQUENCE_LENGTH, OVERLAP_PERIOD_PERCENT, OVERLAP_PERIOD))\n",
    "\n"
   ]
  },
  {
   "cell_type": "code",
   "execution_count": 47,
   "metadata": {},
   "outputs": [],
   "source": [
    "import pandas as pd\n",
    "import numpy as np\n",
    "%reload_ext autoreload\n",
    "import preprocessing\n",
    "%autoreload 2\n",
    "import utils"
   ]
  },
  {
   "cell_type": "markdown",
   "metadata": {},
   "source": [
    "# <>\n",
    "Objectif : développer une meilleure stratégie de train/test split"
   ]
  }
 ],
 "metadata": {
  "kernelspec": {
   "display_name": "Python 3.10.0 ('fil_rouge')",
   "language": "python",
   "name": "python3"
  },
  "language_info": {
   "codemirror_mode": {
    "name": "ipython",
    "version": 3
   },
   "file_extension": ".py",
   "mimetype": "text/x-python",
   "name": "python",
   "nbconvert_exporter": "python",
   "pygments_lexer": "ipython3",
   "version": "3.10.0"
  },
  "orig_nbformat": 4,
  "vscode": {
   "interpreter": {
    "hash": "958bb3f4e90c5d11339ba9887a8a3244acc171abc22f5920b75ba0ee1953ab78"
   }
  }
 },
 "nbformat": 4,
 "nbformat_minor": 2
}
