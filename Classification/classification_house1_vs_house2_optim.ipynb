{
 "cells": [
  {
   "cell_type": "code",
   "execution_count": 1,
   "metadata": {},
   "outputs": [
    {
     "name": "stderr",
     "output_type": "stream",
     "text": [
      "Intel(R) Extension for Scikit-learn* enabled (https://github.com/intel/scikit-learn-intelex)\n"
     ]
    }
   ],
   "source": [
    "from sklearnex import patch_sklearn\n",
    "\n",
    "patch_sklearn()\n",
    "\n",
    "import pickle\n",
    "import sys\n",
    "sys.path.insert(0,'..')\n",
    "import module as mod\n",
    "\n",
    "import numpy as np\n",
    "import pandas as pd\n",
    "\n",
    "import matplotlib.pyplot as plt\n",
    "\n",
    "from sklearn.preprocessing import MinMaxScaler\n",
    "from sklearn.metrics import fbeta_score, accuracy_score, make_scorer\n",
    "\n",
    "from lightgbm import LGBMClassifier, Dataset, train, log_evaluation\n",
    "import optuna"
   ]
  },
  {
   "cell_type": "markdown",
   "metadata": {},
   "source": [
    "# 1. Importation du jeu de données"
   ]
  },
  {
   "cell_type": "code",
   "execution_count": 2,
   "metadata": {},
   "outputs": [
    {
     "data": {
      "text/html": [
       "<div>\n",
       "<style scoped>\n",
       "    .dataframe tbody tr th:only-of-type {\n",
       "        vertical-align: middle;\n",
       "    }\n",
       "\n",
       "    .dataframe tbody tr th {\n",
       "        vertical-align: top;\n",
       "    }\n",
       "\n",
       "    .dataframe thead th {\n",
       "        text-align: right;\n",
       "    }\n",
       "</style>\n",
       "<table border=\"1\" class=\"dataframe\">\n",
       "  <thead>\n",
       "    <tr style=\"text-align: right;\">\n",
       "      <th></th>\n",
       "      <th>mains</th>\n",
       "      <th>activity</th>\n",
       "      <th>hour</th>\n",
       "    </tr>\n",
       "    <tr>\n",
       "      <th>datetime</th>\n",
       "      <th></th>\n",
       "      <th></th>\n",
       "      <th></th>\n",
       "    </tr>\n",
       "  </thead>\n",
       "  <tbody>\n",
       "    <tr>\n",
       "      <th>2016-03-06 00:00:00</th>\n",
       "      <td>473.0</td>\n",
       "      <td>0</td>\n",
       "      <td>0.0</td>\n",
       "    </tr>\n",
       "    <tr>\n",
       "      <th>2016-03-06 00:00:01</th>\n",
       "      <td>474.0</td>\n",
       "      <td>0</td>\n",
       "      <td>0.0</td>\n",
       "    </tr>\n",
       "    <tr>\n",
       "      <th>2016-03-06 00:00:02</th>\n",
       "      <td>476.0</td>\n",
       "      <td>0</td>\n",
       "      <td>0.0</td>\n",
       "    </tr>\n",
       "    <tr>\n",
       "      <th>2016-03-06 00:00:03</th>\n",
       "      <td>476.0</td>\n",
       "      <td>0</td>\n",
       "      <td>0.0</td>\n",
       "    </tr>\n",
       "    <tr>\n",
       "      <th>2016-03-06 00:00:04</th>\n",
       "      <td>475.0</td>\n",
       "      <td>0</td>\n",
       "      <td>0.0</td>\n",
       "    </tr>\n",
       "  </tbody>\n",
       "</table>\n",
       "</div>"
      ],
      "text/plain": [
       "                     mains  activity  hour\n",
       "datetime                                  \n",
       "2016-03-06 00:00:00  473.0         0   0.0\n",
       "2016-03-06 00:00:01  474.0         0   0.0\n",
       "2016-03-06 00:00:02  476.0         0   0.0\n",
       "2016-03-06 00:00:03  476.0         0   0.0\n",
       "2016-03-06 00:00:04  475.0         0   0.0"
      ]
     },
     "execution_count": 2,
     "metadata": {},
     "output_type": "execute_result"
    }
   ],
   "source": [
    "house1_power_blk2 = mod.load_dataset('house1_power_blk2_labels.zip')\n",
    "house1_power_blk2.head()"
   ]
  },
  {
   "cell_type": "code",
   "execution_count": 3,
   "metadata": {},
   "outputs": [
    {
     "data": {
      "text/html": [
       "<div>\n",
       "<style scoped>\n",
       "    .dataframe tbody tr th:only-of-type {\n",
       "        vertical-align: middle;\n",
       "    }\n",
       "\n",
       "    .dataframe tbody tr th {\n",
       "        vertical-align: top;\n",
       "    }\n",
       "\n",
       "    .dataframe thead th {\n",
       "        text-align: right;\n",
       "    }\n",
       "</style>\n",
       "<table border=\"1\" class=\"dataframe\">\n",
       "  <thead>\n",
       "    <tr style=\"text-align: right;\">\n",
       "      <th></th>\n",
       "      <th>mains</th>\n",
       "      <th>activity</th>\n",
       "      <th>hour</th>\n",
       "    </tr>\n",
       "    <tr>\n",
       "      <th>datetime</th>\n",
       "      <th></th>\n",
       "      <th></th>\n",
       "      <th></th>\n",
       "    </tr>\n",
       "  </thead>\n",
       "  <tbody>\n",
       "    <tr>\n",
       "      <th>2017-09-12 23:00:00</th>\n",
       "      <td>103.0</td>\n",
       "      <td>0</td>\n",
       "      <td>23.0</td>\n",
       "    </tr>\n",
       "    <tr>\n",
       "      <th>2017-09-12 23:00:01</th>\n",
       "      <td>101.0</td>\n",
       "      <td>0</td>\n",
       "      <td>23.0</td>\n",
       "    </tr>\n",
       "    <tr>\n",
       "      <th>2017-09-12 23:00:02</th>\n",
       "      <td>104.0</td>\n",
       "      <td>0</td>\n",
       "      <td>23.0</td>\n",
       "    </tr>\n",
       "    <tr>\n",
       "      <th>2017-09-12 23:00:03</th>\n",
       "      <td>104.0</td>\n",
       "      <td>0</td>\n",
       "      <td>23.0</td>\n",
       "    </tr>\n",
       "    <tr>\n",
       "      <th>2017-09-12 23:00:04</th>\n",
       "      <td>105.0</td>\n",
       "      <td>0</td>\n",
       "      <td>23.0</td>\n",
       "    </tr>\n",
       "  </tbody>\n",
       "</table>\n",
       "</div>"
      ],
      "text/plain": [
       "                     mains  activity  hour\n",
       "datetime                                  \n",
       "2017-09-12 23:00:00  103.0         0  23.0\n",
       "2017-09-12 23:00:01  101.0         0  23.0\n",
       "2017-09-12 23:00:02  104.0         0  23.0\n",
       "2017-09-12 23:00:03  104.0         0  23.0\n",
       "2017-09-12 23:00:04  105.0         0  23.0"
      ]
     },
     "execution_count": 3,
     "metadata": {},
     "output_type": "execute_result"
    }
   ],
   "source": [
    "house2_power_blk1 = mod.load_dataset('house2_power_blk1_labels.zip')\n",
    "house2_power_blk1.head()"
   ]
  },
  {
   "cell_type": "code",
   "execution_count": 4,
   "metadata": {},
   "outputs": [],
   "source": [
    "# we generate our features\n",
    "windows = ['1h', '10min']\n",
    "features_col = ['mains', 'hour']\n",
    "\n",
    "house1_power_blk2, _ = mod.generate_features(house1_power_blk2, window=windows)\n",
    "house2_power_blk1, cols = mod.generate_features(house2_power_blk1, window=windows)\n",
    "features_col += cols"
   ]
  },
  {
   "cell_type": "code",
   "execution_count": 5,
   "metadata": {},
   "outputs": [],
   "source": [
    "# train / test split\n",
    "train_df_h1, testval_df_h1 = mod.train_test_split_dataset(house1_power_blk2, 0.5)\n",
    "valid_df_h1, test_df_h1 = mod.train_test_split_dataset(testval_df_h1, 0.5)\n",
    "X_train_h1, y_train_h1 = train_df_h1[features_col].values, train_df_h1[\"activity\"].values\n",
    "X_test_h1, y_test_h1 = test_df_h1[features_col].values, test_df_h1[\"activity\"].values\n",
    "X_valid_h1, y_valid_h1 = valid_df_h1[features_col].values, valid_df_h1[\"activity\"].values\n",
    "\n",
    "train_df_h2, testval_df_h2 = mod.train_test_split_dataset(house2_power_blk1, 0.5)\n",
    "valid_df_h2, test_df_h2 = mod.train_test_split_dataset(testval_df_h2, 0.5)\n",
    "X_train_h2, y_train_h2 = train_df_h2[features_col].values, train_df_h2[\"activity\"].values\n",
    "X_test_h2, y_test_h2 = test_df_h2[features_col].values, test_df_h2[\"activity\"].values\n",
    "X_valid_h2, y_valid_h2 = valid_df_h2[features_col].values, valid_df_h2[\"activity\"].values"
   ]
  },
  {
   "cell_type": "code",
   "execution_count": 6,
   "metadata": {},
   "outputs": [],
   "source": [
    "# mise à l'échelle des données\n",
    "scaler = MinMaxScaler()\n",
    "X_train_h1 = scaler.fit_transform(X_train_h1)\n",
    "X_test_h1 = scaler.transform(X_test_h1)\n",
    "X_valid_h1 = scaler.transform(X_valid_h1)\n",
    "\n",
    "X_train_h2 = scaler.fit_transform(X_train_h2)\n",
    "X_test_h2 = scaler.transform(X_test_h2)\n",
    "X_valid_h2 = scaler.transform(X_valid_h2)"
   ]
  },
  {
   "cell_type": "code",
   "execution_count": 7,
   "metadata": {},
   "outputs": [
    {
     "data": {
      "text/plain": [
       "((2635200, 11), (2635200,))"
      ]
     },
     "execution_count": 7,
     "metadata": {},
     "output_type": "execute_result"
    }
   ],
   "source": [
    "# on regroupe les données de la maison 1 + 2 et on shuffle\n",
    "X_train_h12 = np.append(X_train_h1, X_train_h2, axis=0)\n",
    "y_train_h12 = np.append(y_train_h1, y_train_h2, axis=0)\n",
    "train_idx = np.random.choice(X_train_h12.shape[0],  int(0.5*X_train_h12.shape[0]), replace=False)\n",
    "X_train_h12 = X_train_h12[train_idx, :]\n",
    "y_train_h12 = y_train_h12[train_idx]\n",
    "\n",
    "X_valid_h12 = np.append(X_valid_h1, X_valid_h2, axis=0)\n",
    "y_valid_h12 = np.append(y_valid_h1, y_valid_h2, axis=0)\n",
    "valid_idx = np.random.choice(X_valid_h12.shape[0], int(0.3*X_valid_h12.shape[0]), replace=False)\n",
    "X_test_h12 = X_valid_h12[valid_idx, :]\n",
    "y_test_h12 = y_valid_h12[valid_idx]\n",
    "\n",
    "X_train_h12.shape, y_train_h12.shape"
   ]
  },
  {
   "cell_type": "markdown",
   "metadata": {},
   "source": [
    "# 2. Optimisation"
   ]
  },
  {
   "cell_type": "code",
   "execution_count": 17,
   "metadata": {},
   "outputs": [
    {
     "name": "stderr",
     "output_type": "stream",
     "text": [
      "/home/pierre/.local/lib/python3.8/site-packages/optuna/progress_bar.py:47: ExperimentalWarning: Progress bar is experimental (supported from v1.2.0). The interface can change in the future.\n",
      "  self._init_valid()\n",
      "100%|██████████| 100/100 [08:17<00:00,  4.98s/it, 497.63/3600 seconds]"
     ]
    },
    {
     "name": "stdout",
     "output_type": "stream",
     "text": [
      "Finished 100 trials in 0 days 00:08:17.481408\n",
      "Best trial: 86.14% with params: {'lambda_l1': 5.7697156354232726e-08, 'lambda_l2': 0.09393757061413283, 'num_leaves': 21, 'feature_fraction': 0.8562051606254208, 'bagging_fraction': 0.6693493351224262, 'bagging_freq': 7, 'min_child_samples': 33}\n"
     ]
    },
    {
     "name": "stderr",
     "output_type": "stream",
     "text": [
      "\n"
     ]
    }
   ],
   "source": [
    "# code with pruning\n",
    "def objective(trial):\n",
    "    dtrain = Dataset(X_train_h12, label=y_train_h12)\n",
    "    dvalid = Dataset(X_valid_h12, label=y_valid_h12)\n",
    "\n",
    "    param = {\n",
    "        'verbosity': -1,\n",
    "        'objective': 'binary',\n",
    "        'metric': 'auc',\n",
    "        'lambda_l1': trial.suggest_loguniform('lambda_l1', 1e-8, 10.0),\n",
    "        'lambda_l2': trial.suggest_loguniform('lambda_l2', 1e-8, 10.0),\n",
    "        'num_leaves': trial.suggest_int('num_leaves', 2, 256),\n",
    "        'feature_fraction': trial.suggest_uniform('feature_fraction', 0.4, 1.0),\n",
    "        'bagging_fraction': trial.suggest_uniform('bagging_fraction', 0.4, 1.0),\n",
    "        'bagging_freq': trial.suggest_int('bagging_freq', 1, 7),\n",
    "        'min_child_samples': trial.suggest_int('min_child_samples', 5, 100),\n",
    "    }\n",
    "\n",
    "    # Add a callback for pruning.\n",
    "    #make_scorer(fbeta_score, beta=0.5)\n",
    "    pruning_callback = optuna.integration.LightGBMPruningCallback(trial, 'auc')\n",
    "    gbm = train(param, dtrain, valid_sets=[dvalid], callbacks=[pruning_callback, log_evaluation(0)])\n",
    "\n",
    "    y_preds = gbm.predict(X_valid_h12)\n",
    "    y_labels = np.rint(y_preds)\n",
    "    #accuracy = accuracy_score(y_valid_h12, y_labels)\n",
    "    fb_score = fbeta_score(y_valid_h12, y_labels, beta=0.5)\n",
    "\n",
    "    return fb_score\n",
    "\n",
    "optuna.logging.set_verbosity(optuna.logging.ERROR)\n",
    "study = optuna.create_study(direction='maximize', pruner=optuna.pruners.MedianPruner())\n",
    "study.optimize(objective, n_trials=100, timeout=60*60, show_progress_bar=True)\n",
    "\n",
    "print(f'Finished {len(study.trials)} trials in {study.trials_dataframe(attrs=[\"duration\"]).sum()[0]}')\n",
    "print(f'Best trial: {study.best_value:.2%} with params: {study.best_trial.params}')"
   ]
  },
  {
   "cell_type": "code",
   "execution_count": 58,
   "metadata": {},
   "outputs": [
    {
     "name": "stdout",
     "output_type": "stream",
     "text": [
      "Finished 100 trials in 0 days 00:14:37.421627\n",
      "Best trial: 86.63% with params: {'lambda_l1': 6.997872599114091e-08, 'lambda_l2': 3.106939695465658, 'num_leaves': 21, 'feature_fraction': 0.7749089992945499, 'bagging_fraction': 0.8304216244979004, 'bagging_freq': 4, 'min_child_samples': 92}\n"
     ]
    }
   ],
   "source": [
    "# code without pruning\n",
    "def objective(trial):\n",
    "    dtrain = Dataset(X_train_h12, label=y_train_h12)\n",
    "    #dtest = Dataset(X_test_h12, label=y_test_h12)\n",
    "\n",
    "    param = {\n",
    "        'verbosity': -1,\n",
    "        'objective': 'binary',\n",
    "        'metric': 'binary_logloss',\n",
    "        'lambda_l1': trial.suggest_loguniform('lambda_l1', 1e-8, 10.0),\n",
    "        'lambda_l2': trial.suggest_loguniform('lambda_l2', 1e-8, 10.0),\n",
    "        'num_leaves': trial.suggest_int('num_leaves', 2, 256),\n",
    "        'feature_fraction': trial.suggest_uniform('feature_fraction', 0.4, 1.0),\n",
    "        'bagging_fraction': trial.suggest_uniform('bagging_fraction', 0.4, 1.0),\n",
    "        'bagging_freq': trial.suggest_int('bagging_freq', 1, 7),\n",
    "        'min_child_samples': trial.suggest_int('min_child_samples', 5, 100),\n",
    "    }\n",
    "\n",
    "    # Add a callback for pruning.\n",
    "    #make_scorer(fbeta_score, beta=0.5)\n",
    "    #pruning_callback = optuna.integration.LightGBMPruningCallback(trial, 'binary_logloss')\n",
    "    gbm = train(param, dtrain, callbacks=[log_evaluation(0)])\n",
    "\n",
    "    y_preds = gbm.predict(X_valid_h12)\n",
    "    y_labels = np.rint(y_preds)\n",
    "    #accuracy = accuracy_score(y_valid_h12, y_labels)\n",
    "    fb_score = fbeta_score(y_valid_h12, y_labels, beta=0.5)\n",
    "\n",
    "    return fb_score\n",
    "\n",
    "optuna.logging.set_verbosity(optuna.logging.ERROR)\n",
    "study = optuna.create_study(direction=\"maximize\")\n",
    "study.optimize(objective, n_trials=100, timeout=60*60)\n",
    "\n",
    "print(f'Finished {len(study.trials)} trials in {study.trials_dataframe(attrs=[\"duration\"]).sum()[0]}')\n",
    "print(f'Best trial: {study.best_value:.2%} with params: {study.best_trial.params}')"
   ]
  },
  {
   "cell_type": "code",
   "execution_count": 22,
   "metadata": {},
   "outputs": [],
   "source": [
    "pickle.dump(study, open('optuna_study.pkl', 'wb'))"
   ]
  },
  {
   "cell_type": "code",
   "execution_count": 40,
   "metadata": {},
   "outputs": [
    {
     "data": {
      "text/html": [
       "<div>\n",
       "<style scoped>\n",
       "    .dataframe tbody tr th:only-of-type {\n",
       "        vertical-align: middle;\n",
       "    }\n",
       "\n",
       "    .dataframe tbody tr th {\n",
       "        vertical-align: top;\n",
       "    }\n",
       "\n",
       "    .dataframe thead th {\n",
       "        text-align: right;\n",
       "    }\n",
       "</style>\n",
       "<table border=\"1\" class=\"dataframe\">\n",
       "  <thead>\n",
       "    <tr style=\"text-align: right;\">\n",
       "      <th></th>\n",
       "      <th>number</th>\n",
       "      <th>value</th>\n",
       "      <th>duration</th>\n",
       "      <th>params_bagging_fraction</th>\n",
       "      <th>params_bagging_freq</th>\n",
       "      <th>params_feature_fraction</th>\n",
       "      <th>params_lambda_l1</th>\n",
       "      <th>params_lambda_l2</th>\n",
       "      <th>params_min_child_samples</th>\n",
       "      <th>params_num_leaves</th>\n",
       "      <th>state</th>\n",
       "    </tr>\n",
       "  </thead>\n",
       "  <tbody>\n",
       "    <tr>\n",
       "      <th>86</th>\n",
       "      <td>86</td>\n",
       "      <td>0.866324</td>\n",
       "      <td>0 days 00:00:07.097615</td>\n",
       "      <td>0.830422</td>\n",
       "      <td>4</td>\n",
       "      <td>0.774909</td>\n",
       "      <td>6.997873e-08</td>\n",
       "      <td>3.106940</td>\n",
       "      <td>92</td>\n",
       "      <td>21</td>\n",
       "      <td>COMPLETE</td>\n",
       "    </tr>\n",
       "    <tr>\n",
       "      <th>62</th>\n",
       "      <td>62</td>\n",
       "      <td>0.864377</td>\n",
       "      <td>0 days 00:00:06.868998</td>\n",
       "      <td>0.741750</td>\n",
       "      <td>3</td>\n",
       "      <td>0.929353</td>\n",
       "      <td>2.646206e-07</td>\n",
       "      <td>4.737462</td>\n",
       "      <td>95</td>\n",
       "      <td>22</td>\n",
       "      <td>COMPLETE</td>\n",
       "    </tr>\n",
       "    <tr>\n",
       "      <th>97</th>\n",
       "      <td>97</td>\n",
       "      <td>0.863938</td>\n",
       "      <td>0 days 00:00:06.745737</td>\n",
       "      <td>0.943587</td>\n",
       "      <td>6</td>\n",
       "      <td>0.796979</td>\n",
       "      <td>1.435894e-08</td>\n",
       "      <td>2.327462</td>\n",
       "      <td>99</td>\n",
       "      <td>13</td>\n",
       "      <td>COMPLETE</td>\n",
       "    </tr>\n",
       "    <tr>\n",
       "      <th>77</th>\n",
       "      <td>77</td>\n",
       "      <td>0.863890</td>\n",
       "      <td>0 days 00:00:06.943340</td>\n",
       "      <td>0.781318</td>\n",
       "      <td>3</td>\n",
       "      <td>0.748162</td>\n",
       "      <td>4.819023e-07</td>\n",
       "      <td>5.092320</td>\n",
       "      <td>88</td>\n",
       "      <td>21</td>\n",
       "      <td>COMPLETE</td>\n",
       "    </tr>\n",
       "    <tr>\n",
       "      <th>64</th>\n",
       "      <td>64</td>\n",
       "      <td>0.863708</td>\n",
       "      <td>0 days 00:00:06.911128</td>\n",
       "      <td>0.739346</td>\n",
       "      <td>3</td>\n",
       "      <td>0.880014</td>\n",
       "      <td>7.805053e-07</td>\n",
       "      <td>4.975168</td>\n",
       "      <td>90</td>\n",
       "      <td>22</td>\n",
       "      <td>COMPLETE</td>\n",
       "    </tr>\n",
       "  </tbody>\n",
       "</table>\n",
       "</div>"
      ],
      "text/plain": [
       "    number     value               duration  params_bagging_fraction  \\\n",
       "86      86  0.866324 0 days 00:00:07.097615                 0.830422   \n",
       "62      62  0.864377 0 days 00:00:06.868998                 0.741750   \n",
       "97      97  0.863938 0 days 00:00:06.745737                 0.943587   \n",
       "77      77  0.863890 0 days 00:00:06.943340                 0.781318   \n",
       "64      64  0.863708 0 days 00:00:06.911128                 0.739346   \n",
       "\n",
       "    params_bagging_freq  params_feature_fraction  params_lambda_l1  \\\n",
       "86                    4                 0.774909      6.997873e-08   \n",
       "62                    3                 0.929353      2.646206e-07   \n",
       "97                    6                 0.796979      1.435894e-08   \n",
       "77                    3                 0.748162      4.819023e-07   \n",
       "64                    3                 0.880014      7.805053e-07   \n",
       "\n",
       "    params_lambda_l2  params_min_child_samples  params_num_leaves     state  \n",
       "86          3.106940                        92                 21  COMPLETE  \n",
       "62          4.737462                        95                 22  COMPLETE  \n",
       "97          2.327462                        99                 13  COMPLETE  \n",
       "77          5.092320                        88                 21  COMPLETE  \n",
       "64          4.975168                        90                 22  COMPLETE  "
      ]
     },
     "execution_count": 40,
     "metadata": {},
     "output_type": "execute_result"
    }
   ],
   "source": [
    "study.trials_dataframe(attrs=('number', 'value', 'duration', 'params', 'state')).sort_values(by='value', ascending=False).head()"
   ]
  },
  {
   "cell_type": "markdown",
   "metadata": {},
   "source": [
    "# Test de notre modèle"
   ]
  },
  {
   "cell_type": "markdown",
   "metadata": {},
   "source": [
    "## Maison 1 vs 1"
   ]
  },
  {
   "cell_type": "code",
   "execution_count": 25,
   "metadata": {},
   "outputs": [],
   "source": [
    "# re-entrainement du modèle sur la maison 1\n",
    "#dtest_h1 = Dataset(X_test_h1, label=y_test_h1)\n",
    "dtrain_h1 = Dataset(X_train_h1, label=y_train_h1)\n",
    "\n",
    "gbm = train({**study.best_trial.params, 'verbosity': -1}, dtrain_h1, callbacks=[log_evaluation(0)])"
   ]
  },
  {
   "cell_type": "code",
   "execution_count": 26,
   "metadata": {},
   "outputs": [
    {
     "name": "stdout",
     "output_type": "stream",
     "text": [
      "Score f_beta : 81.402%\n",
      "Score accuracy : 81.559%\n"
     ]
    },
    {
     "data": {
      "image/png": "[encoded data removed]",
      "text/plain": [
       "<Figure size 432x288 with 2 Axes>"
      ]
     },
     "metadata": {
      "needs_background": "light"
     },
     "output_type": "display_data"
    },
    {
     "data": {
      "image/png": "[encoded data removed]",
      "text/plain": [
       "<Figure size 864x432 with 1 Axes>"
      ]
     },
     "metadata": {
      "needs_background": "light"
     },
     "output_type": "display_data"
    }
   ],
   "source": [
    "y_pred_h1 = gbm.predict(X_test_h1)\n",
    "y_pred_h1 = np.rint(y_pred_h1)\n",
    "\n",
    "mod.plot_confusion_matrix(y_test_h1, y_pred_h1);\n",
    "\n",
    "house1_power_blk2_res = house1_power_blk2.copy()\n",
    "house1_power_blk2_res['activity_pred'] = np.nan\n",
    "house1_power_blk2_res.iloc[-X_test_h1.shape[0]:, -1] = (y_pred_h1).astype(int)\n",
    "house1_power_blk2_res.iloc[-X_test_h1.shape[0]:].head()\n",
    "\n",
    "fig, ax = plt.subplots()\n",
    "mod.plot_activity_hist(house1_power_blk2_res['activity_pred'].iloc[-X_test_h1.shape[0]:], figsize=(12, 6), alpha=0.5, label='predictions', ax=ax)\n",
    "mod.plot_activity_hist(house1_power_blk2['activity'].iloc[-X_test_h1.shape[0]:], figsize=(12, 6), alpha=0.5, label='truth', color='tab:orange', ax=ax)"
   ]
  },
  {
   "cell_type": "markdown",
   "metadata": {},
   "source": [
    "## Maison 1 vs 2"
   ]
  },
  {
   "cell_type": "code",
   "execution_count": 27,
   "metadata": {},
   "outputs": [
    {
     "name": "stdout",
     "output_type": "stream",
     "text": [
      "Score f_beta : 84.347%\n",
      "Score accuracy : 84.558%\n"
     ]
    },
    {
     "data": {
      "image/png": "[encoded data removed]",
      "text/plain": [
       "<Figure size 432x288 with 2 Axes>"
      ]
     },
     "metadata": {
      "needs_background": "light"
     },
     "output_type": "display_data"
    },
    {
     "data": {
      "image/png": "[encoded data removed]",
      "text/plain": [
       "<Figure size 864x432 with 1 Axes>"
      ]
     },
     "metadata": {
      "needs_background": "light"
     },
     "output_type": "display_data"
    }
   ],
   "source": [
    "y_pred_h2 = gbm.predict(X_test_h2)\n",
    "y_pred_h2 = np.rint(y_pred_h2)\n",
    "\n",
    "mod.plot_confusion_matrix(y_test_h2, y_pred_h2);\n",
    "\n",
    "house2_power_blk1_res = house2_power_blk1.copy()\n",
    "house2_power_blk1_res['activity_pred'] = np.nan\n",
    "house2_power_blk1_res.iloc[-X_test_h1.shape[0]:, -1] = (y_pred_h1).astype(int)\n",
    "house2_power_blk1_res.iloc[-X_test_h1.shape[0]:].head()\n",
    "\n",
    "fig, ax = plt.subplots()\n",
    "mod.plot_activity_hist(house2_power_blk1_res['activity_pred'].iloc[-X_test_h1.shape[0]:], figsize=(12, 6), alpha=0.5, label='predictions', ax=ax)\n",
    "mod.plot_activity_hist(house2_power_blk1['activity'].iloc[-X_test_h1.shape[0]:], figsize=(12, 6), alpha=0.5, label='truth', color='tab:orange', ax=ax)"
   ]
  },
  {
   "cell_type": "markdown",
   "metadata": {},
   "source": [
    "## Maison 2 vs 1"
   ]
  },
  {
   "cell_type": "code",
   "execution_count": 29,
   "metadata": {},
   "outputs": [],
   "source": [
    "# re-entrainement du modèle sur la maison 1\n",
    "dtrain_h2 = Dataset(X_train_h2, label=y_train_h2)\n",
    "\n",
    "gbm = train({**study.best_trial.params, 'verbosity': -1}, dtrain_h2, callbacks=[log_evaluation(0)])"
   ]
  },
  {
   "cell_type": "code",
   "execution_count": 30,
   "metadata": {},
   "outputs": [
    {
     "name": "stdout",
     "output_type": "stream",
     "text": [
      "Score f_beta : 79.284%\n",
      "Score accuracy : 79.090%\n"
     ]
    },
    {
     "data": {
      "image/png": "[encoded data removed]",
      "text/plain": [
       "<Figure size 432x288 with 2 Axes>"
      ]
     },
     "metadata": {
      "needs_background": "light"
     },
     "output_type": "display_data"
    },
    {
     "data": {
      "image/png": "[encoded data removed]",
      "text/plain": [
       "<Figure size 864x432 with 1 Axes>"
      ]
     },
     "metadata": {
      "needs_background": "light"
     },
     "output_type": "display_data"
    }
   ],
   "source": [
    "y_pred_h1 = gbm.predict(X_test_h1)\n",
    "y_pred_h1 = np.rint(y_pred_h1)\n",
    "\n",
    "mod.plot_confusion_matrix(y_test_h1, y_pred_h1);\n",
    "\n",
    "house1_power_blk2_res = house1_power_blk2.copy()\n",
    "house1_power_blk2_res['activity_pred'] = np.nan\n",
    "house1_power_blk2_res.iloc[-X_test_h1.shape[0]:, -1] = (y_pred_h1).astype(int)\n",
    "house1_power_blk2_res.iloc[-X_test_h1.shape[0]:].head()\n",
    "\n",
    "fig, ax = plt.subplots()\n",
    "mod.plot_activity_hist(house1_power_blk2_res['activity_pred'].iloc[-X_test_h1.shape[0]:], figsize=(12, 6), alpha=0.5, label='predictions', ax=ax)\n",
    "mod.plot_activity_hist(house1_power_blk2['activity'].iloc[-X_test_h1.shape[0]:], figsize=(12, 6), alpha=0.5, label='truth', color='tab:orange', ax=ax)"
   ]
  },
  {
   "cell_type": "code",
   "execution_count": 31,
   "metadata": {},
   "outputs": [
    {
     "name": "stdout",
     "output_type": "stream",
     "text": [
      "Score f_beta : 85.324%\n",
      "Score accuracy : 85.447%\n"
     ]
    },
    {
     "data": {
      "image/png": "[encoded data removed]",
      "text/plain": [
       "<Figure size 432x288 with 2 Axes>"
      ]
     },
     "metadata": {
      "needs_background": "light"
     },
     "output_type": "display_data"
    },
    {
     "data": {
      "image/png": "[encoded data removed]",
      "text/plain": [
       "<Figure size 864x432 with 1 Axes>"
      ]
     },
     "metadata": {
      "needs_background": "light"
     },
     "output_type": "display_data"
    }
   ],
   "source": [
    "y_pred_h2 = gbm.predict(X_test_h2)\n",
    "y_pred_h2 = np.rint(y_pred_h2)\n",
    "\n",
    "mod.plot_confusion_matrix(y_test_h2, y_pred_h2);\n",
    "\n",
    "house2_power_blk1_res = house2_power_blk1.copy()\n",
    "house2_power_blk1_res['activity_pred'] = np.nan\n",
    "house2_power_blk1_res.iloc[-X_test_h1.shape[0]:, -1] = (y_pred_h1).astype(int)\n",
    "house2_power_blk1_res.iloc[-X_test_h1.shape[0]:].head()\n",
    "\n",
    "fig, ax = plt.subplots()\n",
    "mod.plot_activity_hist(house2_power_blk1_res['activity_pred'].iloc[-X_test_h1.shape[0]:], figsize=(12, 6), alpha=0.5, label='predictions', ax=ax)\n",
    "mod.plot_activity_hist(house2_power_blk1['activity'].iloc[-X_test_h1.shape[0]:], figsize=(12, 6), alpha=0.5, label='truth', color='tab:orange', ax=ax)"
   ]
  },
  {
   "cell_type": "code",
   "execution_count": null,
   "metadata": {},
   "outputs": [],
   "source": []
  }
 ],
 "metadata": {
  "interpreter": {
   "hash": "916dbcbb3f70747c44a77c7bcd40155683ae19c65e1c03b4aa3499c5328201f1"
  },
  "kernelspec": {
   "display_name": "Python 3 (ipykernel)",
   "language": "python",
   "name": "python3"
  },
  "language_info": {
   "codemirror_mode": {
    "name": "ipython",
    "version": 3
   },
   "file_extension": ".py",
   "mimetype": "text/x-python",
   "name": "python",
   "nbconvert_exporter": "python",
   "pygments_lexer": "ipython3",
   "version": "3.8.10"
  }
 },
 "nbformat": 4,
 "nbformat_minor": 2
}
