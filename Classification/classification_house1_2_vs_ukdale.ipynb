{
 "cells": [
  {
   "cell_type": "code",
   "execution_count": 1,
   "metadata": {},
   "outputs": [
    {
     "name": "stderr",
     "output_type": "stream",
     "text": [
      "Intel(R) Extension for Scikit-learn* enabled (https://github.com/intel/scikit-learn-intelex)\n"
     ]
    }
   ],
   "source": [
    "from sklearnex import patch_sklearn\n",
    "\n",
    "patch_sklearn()\n",
    "\n",
    "import pickle\n",
    "import sys\n",
    "sys.path.insert(0,'..')\n",
    "import module as mod\n",
    "\n",
    "import numpy as np\n",
    "import pandas as pd\n",
    "\n",
    "import matplotlib.pyplot as plt\n",
    "\n",
    "from sklearn.preprocessing import MinMaxScaler\n",
    "from sklearn.metrics import fbeta_score, accuracy_score, make_scorer\n",
    "\n",
    "from lightgbm import LGBMClassifier, Dataset, train, log_evaluation\n",
    "import optuna"
   ]
  },
  {
   "cell_type": "markdown",
   "metadata": {},
   "source": [
    "# 1. Importation du jeu de données\n",
    "Le jeu de données UKDale était échantillonné à la minute, nous allons re-échantillonner nos jeu de données avec la même fréquence."
   ]
  },
  {
   "cell_type": "code",
   "execution_count": 2,
   "metadata": {},
   "outputs": [
    {
     "data": {
      "text/html": [
       "<div>\n",
       "<style scoped>\n",
       "    .dataframe tbody tr th:only-of-type {\n",
       "        vertical-align: middle;\n",
       "    }\n",
       "\n",
       "    .dataframe tbody tr th {\n",
       "        vertical-align: top;\n",
       "    }\n",
       "\n",
       "    .dataframe thead th {\n",
       "        text-align: right;\n",
       "    }\n",
       "</style>\n",
       "<table border=\"1\" class=\"dataframe\">\n",
       "  <thead>\n",
       "    <tr style=\"text-align: right;\">\n",
       "      <th></th>\n",
       "      <th>mains</th>\n",
       "      <th>activity</th>\n",
       "      <th>hour</th>\n",
       "    </tr>\n",
       "    <tr>\n",
       "      <th>datetime</th>\n",
       "      <th></th>\n",
       "      <th></th>\n",
       "      <th></th>\n",
       "    </tr>\n",
       "  </thead>\n",
       "  <tbody>\n",
       "    <tr>\n",
       "      <th>2016-03-06 00:00:00</th>\n",
       "      <td>473.0</td>\n",
       "      <td>0</td>\n",
       "      <td>0.000000</td>\n",
       "    </tr>\n",
       "    <tr>\n",
       "      <th>2016-03-06 00:01:00</th>\n",
       "      <td>476.0</td>\n",
       "      <td>0</td>\n",
       "      <td>0.016667</td>\n",
       "    </tr>\n",
       "    <tr>\n",
       "      <th>2016-03-06 00:02:00</th>\n",
       "      <td>477.0</td>\n",
       "      <td>0</td>\n",
       "      <td>0.033333</td>\n",
       "    </tr>\n",
       "    <tr>\n",
       "      <th>2016-03-06 00:03:00</th>\n",
       "      <td>474.0</td>\n",
       "      <td>0</td>\n",
       "      <td>0.050000</td>\n",
       "    </tr>\n",
       "    <tr>\n",
       "      <th>2016-03-06 00:04:00</th>\n",
       "      <td>479.0</td>\n",
       "      <td>0</td>\n",
       "      <td>0.066667</td>\n",
       "    </tr>\n",
       "  </tbody>\n",
       "</table>\n",
       "</div>"
      ],
      "text/plain": [
       "                     mains  activity      hour\n",
       "datetime                                      \n",
       "2016-03-06 00:00:00  473.0         0  0.000000\n",
       "2016-03-06 00:01:00  476.0         0  0.016667\n",
       "2016-03-06 00:02:00  477.0         0  0.033333\n",
       "2016-03-06 00:03:00  474.0         0  0.050000\n",
       "2016-03-06 00:04:00  479.0         0  0.066667"
      ]
     },
     "execution_count": 2,
     "metadata": {},
     "output_type": "execute_result"
    }
   ],
   "source": [
    "house1_power_blk2 = mod.load_dataset('house1_power_blk2_labels.zip', resample_period='1min')\n",
    "house1_power_blk2.head()"
   ]
  },
  {
   "cell_type": "code",
   "execution_count": 3,
   "metadata": {},
   "outputs": [
    {
     "data": {
      "text/html": [
       "<div>\n",
       "<style scoped>\n",
       "    .dataframe tbody tr th:only-of-type {\n",
       "        vertical-align: middle;\n",
       "    }\n",
       "\n",
       "    .dataframe tbody tr th {\n",
       "        vertical-align: top;\n",
       "    }\n",
       "\n",
       "    .dataframe thead th {\n",
       "        text-align: right;\n",
       "    }\n",
       "</style>\n",
       "<table border=\"1\" class=\"dataframe\">\n",
       "  <thead>\n",
       "    <tr style=\"text-align: right;\">\n",
       "      <th></th>\n",
       "      <th>mains</th>\n",
       "      <th>activity</th>\n",
       "      <th>hour</th>\n",
       "    </tr>\n",
       "    <tr>\n",
       "      <th>datetime</th>\n",
       "      <th></th>\n",
       "      <th></th>\n",
       "      <th></th>\n",
       "    </tr>\n",
       "  </thead>\n",
       "  <tbody>\n",
       "    <tr>\n",
       "      <th>2017-09-12 23:00:00</th>\n",
       "      <td>103.0</td>\n",
       "      <td>0</td>\n",
       "      <td>23.000000</td>\n",
       "    </tr>\n",
       "    <tr>\n",
       "      <th>2017-09-12 23:01:00</th>\n",
       "      <td>102.0</td>\n",
       "      <td>0</td>\n",
       "      <td>23.016667</td>\n",
       "    </tr>\n",
       "    <tr>\n",
       "      <th>2017-09-12 23:02:00</th>\n",
       "      <td>104.0</td>\n",
       "      <td>0</td>\n",
       "      <td>23.033333</td>\n",
       "    </tr>\n",
       "    <tr>\n",
       "      <th>2017-09-12 23:03:00</th>\n",
       "      <td>106.0</td>\n",
       "      <td>0</td>\n",
       "      <td>23.050000</td>\n",
       "    </tr>\n",
       "    <tr>\n",
       "      <th>2017-09-12 23:04:00</th>\n",
       "      <td>110.0</td>\n",
       "      <td>0</td>\n",
       "      <td>23.066667</td>\n",
       "    </tr>\n",
       "  </tbody>\n",
       "</table>\n",
       "</div>"
      ],
      "text/plain": [
       "                     mains  activity       hour\n",
       "datetime                                       \n",
       "2017-09-12 23:00:00  103.0         0  23.000000\n",
       "2017-09-12 23:01:00  102.0         0  23.016667\n",
       "2017-09-12 23:02:00  104.0         0  23.033333\n",
       "2017-09-12 23:03:00  106.0         0  23.050000\n",
       "2017-09-12 23:04:00  110.0         0  23.066667"
      ]
     },
     "execution_count": 3,
     "metadata": {},
     "output_type": "execute_result"
    }
   ],
   "source": [
    "house2_power_blk1 = mod.load_dataset('house2_power_blk1_labels.zip', resample_period='1min')\n",
    "house2_power_blk1.head()"
   ]
  },
  {
   "cell_type": "code",
   "execution_count": 4,
   "metadata": {},
   "outputs": [
    {
     "data": {
      "text/html": [
       "<div>\n",
       "<style scoped>\n",
       "    .dataframe tbody tr th:only-of-type {\n",
       "        vertical-align: middle;\n",
       "    }\n",
       "\n",
       "    .dataframe tbody tr th {\n",
       "        vertical-align: top;\n",
       "    }\n",
       "\n",
       "    .dataframe thead th {\n",
       "        text-align: right;\n",
       "    }\n",
       "</style>\n",
       "<table border=\"1\" class=\"dataframe\">\n",
       "  <thead>\n",
       "    <tr style=\"text-align: right;\">\n",
       "      <th></th>\n",
       "      <th>mains</th>\n",
       "      <th>activity</th>\n",
       "      <th>hour</th>\n",
       "    </tr>\n",
       "    <tr>\n",
       "      <th>datetime</th>\n",
       "      <th></th>\n",
       "      <th></th>\n",
       "      <th></th>\n",
       "    </tr>\n",
       "  </thead>\n",
       "  <tbody>\n",
       "    <tr>\n",
       "      <th>2013-05-20 21:28:00</th>\n",
       "      <td>92.60000</td>\n",
       "      <td>0.0</td>\n",
       "      <td>21.466667</td>\n",
       "    </tr>\n",
       "    <tr>\n",
       "      <th>2013-05-20 21:29:00</th>\n",
       "      <td>250.18333</td>\n",
       "      <td>0.0</td>\n",
       "      <td>21.483333</td>\n",
       "    </tr>\n",
       "    <tr>\n",
       "      <th>2013-05-20 21:30:00</th>\n",
       "      <td>248.18333</td>\n",
       "      <td>0.0</td>\n",
       "      <td>21.500000</td>\n",
       "    </tr>\n",
       "    <tr>\n",
       "      <th>2013-05-20 21:31:00</th>\n",
       "      <td>252.88333</td>\n",
       "      <td>0.0</td>\n",
       "      <td>21.516667</td>\n",
       "    </tr>\n",
       "    <tr>\n",
       "      <th>2013-05-20 21:32:00</th>\n",
       "      <td>250.60000</td>\n",
       "      <td>0.0</td>\n",
       "      <td>21.533333</td>\n",
       "    </tr>\n",
       "  </tbody>\n",
       "</table>\n",
       "</div>"
      ],
      "text/plain": [
       "                         mains  activity       hour\n",
       "datetime                                           \n",
       "2013-05-20 21:28:00   92.60000       0.0  21.466667\n",
       "2013-05-20 21:29:00  250.18333       0.0  21.483333\n",
       "2013-05-20 21:30:00  248.18333       0.0  21.500000\n",
       "2013-05-20 21:31:00  252.88333       0.0  21.516667\n",
       "2013-05-20 21:32:00  250.60000       0.0  21.533333"
      ]
     },
     "execution_count": 4,
     "metadata": {},
     "output_type": "execute_result"
    }
   ],
   "source": [
    "house2_power_ukdale = mod.load_dataset('ukdale/house2_power_labels.zip', resample_period='1min')\n",
    "house2_power_ukdale.head()"
   ]
  },
  {
   "cell_type": "code",
   "execution_count": 5,
   "metadata": {},
   "outputs": [],
   "source": [
    "# we generate our features\n",
    "windows = ['1h', '10min']\n",
    "features_col = ['mains', 'hour']\n",
    "\n",
    "house1_power_blk2, _ = mod.generate_features(house1_power_blk2, window=windows)\n",
    "house2_power_blk1, _ = mod.generate_features(house2_power_blk1, window=windows)\n",
    "house2_power_ukdale, cols = mod.generate_features(house2_power_ukdale, window=windows)\n",
    "features_col += cols"
   ]
  },
  {
   "cell_type": "code",
   "execution_count": 6,
   "metadata": {},
   "outputs": [],
   "source": [
    "# train / test split\n",
    "X_train_h1, y_train_h1 = house1_power_blk2[features_col].values, house1_power_blk2[\"activity\"].values\n",
    "X_train_h2, y_train_h2 = house2_power_blk1[features_col].values, house2_power_blk1[\"activity\"].values\n",
    "\n",
    "\n",
    "# train_df_h2_ukd, test_df_h2_ukd = mod.train_test_split_dataset(house2_power_ukdale, 0.8)\n",
    "train_df_h2_ukd, test_df_h2_ukd = house2_power_ukdale.iloc[:24*60*15,:], house2_power_ukdale.iloc[24*60*15:,:]\n",
    "X_train_h2_ukd, y_train_h2_ukd = train_df_h2_ukd[features_col].values, train_df_h2_ukd[\"activity\"].values\n",
    "X_test_h2_ukd, y_test_h2_ukd = test_df_h2_ukd[features_col].values, test_df_h2_ukd[\"activity\"].values"
   ]
  },
  {
   "cell_type": "code",
   "execution_count": 7,
   "metadata": {},
   "outputs": [],
   "source": [
    "# mise à l'échelle des données\n",
    "scaler = MinMaxScaler()\n",
    "X_train_h1 = scaler.fit_transform(X_train_h1)\n",
    "X_train_h2 = scaler.fit_transform(X_train_h2)\n",
    "\n",
    "X_train_h2_ukd = scaler.fit_transform(X_train_h2_ukd)\n",
    "X_test_h2_ukd = scaler.transform(X_test_h2_ukd)"
   ]
  },
  {
   "cell_type": "code",
   "execution_count": 8,
   "metadata": {},
   "outputs": [
    {
     "data": {
      "text/plain": [
       "((175680, 11), (175680,))"
      ]
     },
     "execution_count": 8,
     "metadata": {},
     "output_type": "execute_result"
    }
   ],
   "source": [
    "# on regroupe les données de la maison 1 + 2 et on shuffle\n",
    "X_train_h12 = np.append(X_train_h1, X_train_h2, axis=0)\n",
    "y_train_h12 = np.append(y_train_h1, y_train_h2, axis=0)\n",
    "train_idx = np.random.choice(X_train_h12.shape[0],  X_train_h12.shape[0], replace=False)\n",
    "X_train_h12 = X_train_h12[train_idx, :]\n",
    "y_train_h12 = y_train_h12[train_idx]\n",
    "\n",
    "X_train_h12.shape, y_train_h12.shape"
   ]
  },
  {
   "cell_type": "markdown",
   "metadata": {},
   "source": [
    "## Maisons 1+2 vs UKDale maison 2"
   ]
  },
  {
   "cell_type": "code",
   "execution_count": 9,
   "metadata": {},
   "outputs": [],
   "source": [
    "# entrainement du modèle sur la maison 1+2\n",
    "dtrain_h12 = Dataset(X_train_h12, label=y_train_h12)\n",
    "best_params = {'lambda_l1': 6.997872599114091e-08,\n",
    "              'lambda_l2': 3.106939695465658,\n",
    "              'num_leaves': 21,\n",
    "              'feature_fraction': 0.7749089992945499,\n",
    "              'bagging_fraction': 0.8304216244979004,\n",
    "              'bagging_freq': 4,\n",
    "              'min_child_samples': 92\n",
    "              }\n",
    "\n",
    "gbm = train({**best_params, 'verbosity': -1}, dtrain_h12, callbacks=[log_evaluation(0)])"
   ]
  },
  {
   "cell_type": "code",
   "execution_count": 10,
   "metadata": {},
   "outputs": [
    {
     "name": "stdout",
     "output_type": "stream",
     "text": [
      "Score f_beta : 70.830%\n",
      "Score accuracy : 77.720%\n",
      "true positive rate: 95.28%, false positive rate: 13.97%\n"
     ]
    },
    {
     "name": "stderr",
     "output_type": "stream",
     "text": [
      "/mnt/data/Documents/Cours Télécom/INFMDI780 - Projet Fil Rouge/Activity_Detection_From_Electrical_Consumption_Load_Curves/Classification/../module.py:529: RuntimeWarning: invalid value encountered in double_scalars\n",
      "  IoU = I/U\n"
     ]
    },
    {
     "data": {
      "image/png": "[encoded data removed]",
      "text/plain": [
       "<Figure size 432x288 with 2 Axes>"
      ]
     },
     "metadata": {
      "needs_background": "light"
     },
     "output_type": "display_data"
    },
    {
     "data": {
      "image/png": "[encoded data removed]",
      "text/plain": [
       "<Figure size 864x432 with 1 Axes>"
      ]
     },
     "metadata": {
      "needs_background": "light"
     },
     "output_type": "display_data"
    },
    {
     "data": {
      "image/png": "[encoded data removed]",
      "text/plain": [
       "<Figure size 1440x432 with 4 Axes>"
      ]
     },
     "metadata": {
      "needs_background": "light"
     },
     "output_type": "display_data"
    }
   ],
   "source": [
    "y_pred_h2_ukd = gbm.predict(X_test_h2_ukd)\n",
    "y_pred_h2_ukd = np.rint(y_pred_h2_ukd)\n",
    "\n",
    "mod.plot_confusion_matrix(y_test_h2_ukd, y_pred_h2_ukd);\n",
    "\n",
    "house2_power_ukdale_res = house2_power_ukdale.copy()\n",
    "house2_power_ukdale_res['activity_pred'] = np.nan\n",
    "house2_power_ukdale_res.iloc[-X_test_h2_ukd.shape[0]:, -1] = (y_pred_h2_ukd).astype(int)\n",
    "activity_pred_h2_ukd = house2_power_ukdale_res['activity_pred'].iloc[-X_test_h2_ukd.shape[0]:]\n",
    "activity_true_h2_ukd = house2_power_ukdale['activity'].iloc[-X_test_h2_ukd.shape[0]:]\n",
    "\n",
    "fig, ax = plt.subplots()\n",
    "mod.plot_activity_hist(activity_pred_h2_ukd, figsize=(12, 6), alpha=0.5, label='predictions', ax=ax)\n",
    "mod.plot_activity_hist(activity_true_h2_ukd, figsize=(12, 6), alpha=0.5, label='truth', color='tab:orange', ax=ax)\n",
    "\n",
    "TPR, FPR = mod.score_overlap(activity_true_h2_ukd, activity_pred_h2_ukd)\n",
    "print(f\"true positive rate: {TPR:.2%}, false positive rate: {FPR:.2%}\")\n",
    "\n",
    "# plot the confusion metric\n",
    "pred = pd.DataFrame()\n",
    "df_gt = pd.DataFrame()\n",
    "\n",
    "pred[['timestamp', 'activity_prediction']] = house2_power_ukdale_res.reset_index()[['datetime', 'activity_pred']].iloc[-X_test_h2_ukd.shape[0]:]\n",
    "df_gt[['timestamp', 'activity_true']] = house2_power_ukdale.reset_index()[['datetime', 'activity']].iloc[-X_test_h2_ukd.shape[0]:]\n",
    "mod.eval_metric(pred, df_gt);"
   ]
  },
  {
   "cell_type": "code",
   "execution_count": null,
   "metadata": {},
   "outputs": [],
   "source": []
  }
 ],
 "metadata": {
  "interpreter": {
   "hash": "916dbcbb3f70747c44a77c7bcd40155683ae19c65e1c03b4aa3499c5328201f1"
  },
  "kernelspec": {
   "display_name": "Python 3 (ipykernel)",
   "language": "python",
   "name": "python3"
  },
  "language_info": {
   "codemirror_mode": {
    "name": "ipython",
    "version": 3
   },
   "file_extension": ".py",
   "mimetype": "text/x-python",
   "name": "python",
   "nbconvert_exporter": "python",
   "pygments_lexer": "ipython3",
   "version": "3.8.10"
  }
 },
 "nbformat": 4,
 "nbformat_minor": 2
}
