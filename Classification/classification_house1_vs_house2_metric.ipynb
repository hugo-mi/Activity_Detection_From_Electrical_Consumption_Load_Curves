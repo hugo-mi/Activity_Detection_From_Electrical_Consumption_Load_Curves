{
 "cells": [
  {
   "cell_type": "code",
   "execution_count": 1,
   "metadata": {},
   "outputs": [
    {
     "name": "stderr",
     "output_type": "stream",
     "text": [
      "Intel(R) Extension for Scikit-learn* enabled (https://github.com/intel/scikit-learn-intelex)\n"
     ]
    }
   ],
   "source": [
    "from sklearnex import patch_sklearn \n",
    "\n",
    "patch_sklearn()\n",
    "\n",
    "import pandas as pd\n",
    "import matplotlib.pyplot as plt\n",
    "import seaborn as sns\n",
    "import numpy as np\n",
    "\n",
    "import sys\n",
    "sys.path.insert(0,'..')\n",
    "import module as mod\n",
    "\n",
    "\n",
    "from sklearn.preprocessing import MinMaxScaler, StandardScaler, RobustScaler, QuantileTransformer\n",
    "from sklearn.ensemble import HistGradientBoostingClassifier, RandomForestClassifier\n",
    "from sklearn.neighbors import KNeighborsClassifier\n",
    "from sklearn.metrics import fbeta_score, accuracy_score\n",
    "from sklearn.semi_supervised import SelfTrainingClassifier"
   ]
  },
  {
   "cell_type": "markdown",
   "metadata": {},
   "source": [
    "# 1. Import et nettoyage des données"
   ]
  },
  {
   "cell_type": "code",
   "execution_count": 2,
   "metadata": {},
   "outputs": [
    {
     "data": {
      "text/html": [
       "<div>\n",
       "<style scoped>\n",
       "    .dataframe tbody tr th:only-of-type {\n",
       "        vertical-align: middle;\n",
       "    }\n",
       "\n",
       "    .dataframe tbody tr th {\n",
       "        vertical-align: top;\n",
       "    }\n",
       "\n",
       "    .dataframe thead th {\n",
       "        text-align: right;\n",
       "    }\n",
       "</style>\n",
       "<table border=\"1\" class=\"dataframe\">\n",
       "  <thead>\n",
       "    <tr style=\"text-align: right;\">\n",
       "      <th></th>\n",
       "      <th>mains</th>\n",
       "      <th>activity</th>\n",
       "      <th>hour</th>\n",
       "    </tr>\n",
       "    <tr>\n",
       "      <th>datetime</th>\n",
       "      <th></th>\n",
       "      <th></th>\n",
       "      <th></th>\n",
       "    </tr>\n",
       "  </thead>\n",
       "  <tbody>\n",
       "    <tr>\n",
       "      <th>2016-03-06 00:00:00</th>\n",
       "      <td>473.0</td>\n",
       "      <td>0</td>\n",
       "      <td>0.0</td>\n",
       "    </tr>\n",
       "    <tr>\n",
       "      <th>2016-03-06 00:00:01</th>\n",
       "      <td>474.0</td>\n",
       "      <td>0</td>\n",
       "      <td>0.0</td>\n",
       "    </tr>\n",
       "    <tr>\n",
       "      <th>2016-03-06 00:00:02</th>\n",
       "      <td>476.0</td>\n",
       "      <td>0</td>\n",
       "      <td>0.0</td>\n",
       "    </tr>\n",
       "    <tr>\n",
       "      <th>2016-03-06 00:00:03</th>\n",
       "      <td>476.0</td>\n",
       "      <td>0</td>\n",
       "      <td>0.0</td>\n",
       "    </tr>\n",
       "    <tr>\n",
       "      <th>2016-03-06 00:00:04</th>\n",
       "      <td>475.0</td>\n",
       "      <td>0</td>\n",
       "      <td>0.0</td>\n",
       "    </tr>\n",
       "  </tbody>\n",
       "</table>\n",
       "</div>"
      ],
      "text/plain": [
       "                     mains  activity  hour\n",
       "datetime                                  \n",
       "2016-03-06 00:00:00  473.0         0   0.0\n",
       "2016-03-06 00:00:01  474.0         0   0.0\n",
       "2016-03-06 00:00:02  476.0         0   0.0\n",
       "2016-03-06 00:00:03  476.0         0   0.0\n",
       "2016-03-06 00:00:04  475.0         0   0.0"
      ]
     },
     "execution_count": 2,
     "metadata": {},
     "output_type": "execute_result"
    }
   ],
   "source": [
    "house1_power_blk2 = mod.load_dataset('house1_power_blk2_labels.zip')\n",
    "house1_power_blk2.head()"
   ]
  },
  {
   "cell_type": "code",
   "execution_count": 3,
   "metadata": {},
   "outputs": [
    {
     "data": {
      "text/html": [
       "<div>\n",
       "<style scoped>\n",
       "    .dataframe tbody tr th:only-of-type {\n",
       "        vertical-align: middle;\n",
       "    }\n",
       "\n",
       "    .dataframe tbody tr th {\n",
       "        vertical-align: top;\n",
       "    }\n",
       "\n",
       "    .dataframe thead th {\n",
       "        text-align: right;\n",
       "    }\n",
       "</style>\n",
       "<table border=\"1\" class=\"dataframe\">\n",
       "  <thead>\n",
       "    <tr style=\"text-align: right;\">\n",
       "      <th></th>\n",
       "      <th>mains</th>\n",
       "      <th>activity</th>\n",
       "      <th>hour</th>\n",
       "    </tr>\n",
       "    <tr>\n",
       "      <th>datetime</th>\n",
       "      <th></th>\n",
       "      <th></th>\n",
       "      <th></th>\n",
       "    </tr>\n",
       "  </thead>\n",
       "  <tbody>\n",
       "    <tr>\n",
       "      <th>2017-09-12 23:00:00</th>\n",
       "      <td>103.0</td>\n",
       "      <td>0</td>\n",
       "      <td>23.0</td>\n",
       "    </tr>\n",
       "    <tr>\n",
       "      <th>2017-09-12 23:00:01</th>\n",
       "      <td>101.0</td>\n",
       "      <td>0</td>\n",
       "      <td>23.0</td>\n",
       "    </tr>\n",
       "    <tr>\n",
       "      <th>2017-09-12 23:00:02</th>\n",
       "      <td>104.0</td>\n",
       "      <td>0</td>\n",
       "      <td>23.0</td>\n",
       "    </tr>\n",
       "    <tr>\n",
       "      <th>2017-09-12 23:00:03</th>\n",
       "      <td>104.0</td>\n",
       "      <td>0</td>\n",
       "      <td>23.0</td>\n",
       "    </tr>\n",
       "    <tr>\n",
       "      <th>2017-09-12 23:00:04</th>\n",
       "      <td>105.0</td>\n",
       "      <td>0</td>\n",
       "      <td>23.0</td>\n",
       "    </tr>\n",
       "  </tbody>\n",
       "</table>\n",
       "</div>"
      ],
      "text/plain": [
       "                     mains  activity  hour\n",
       "datetime                                  \n",
       "2017-09-12 23:00:00  103.0         0  23.0\n",
       "2017-09-12 23:00:01  101.0         0  23.0\n",
       "2017-09-12 23:00:02  104.0         0  23.0\n",
       "2017-09-12 23:00:03  104.0         0  23.0\n",
       "2017-09-12 23:00:04  105.0         0  23.0"
      ]
     },
     "execution_count": 3,
     "metadata": {},
     "output_type": "execute_result"
    }
   ],
   "source": [
    "house2_power_blk1 = mod.load_dataset('house2_power_blk1_labels.zip')\n",
    "house2_power_blk1.head()"
   ]
  },
  {
   "cell_type": "code",
   "execution_count": 4,
   "metadata": {},
   "outputs": [],
   "source": [
    "windows = ['1h', '10min']\n",
    "features_col = ['mains', 'hour']\n",
    "\n",
    "house1_power_blk2, _ = mod.generate_features(house1_power_blk2, window=windows)\n",
    "house2_power_blk1, cols = mod.generate_features(house2_power_blk1, window=windows)\n",
    "features_col += cols"
   ]
  },
  {
   "cell_type": "markdown",
   "metadata": {},
   "source": [
    "# 3. Algorithmes généraux : house 2 vs house 1\n",
    "## 3.1 Scaler fitté sur la maison 2"
   ]
  },
  {
   "cell_type": "code",
   "execution_count": 26,
   "metadata": {},
   "outputs": [
    {
     "name": "stdout",
     "output_type": "stream",
     "text": [
      "Score f_beta : 79.606%\n",
      "Score accuracy : 78.754%\n"
     ]
    },
    {
     "data": {
      "image/png": "[encoded data removed]",
      "text/plain": [
       "<Figure size 432x288 with 2 Axes>"
      ]
     },
     "metadata": {
      "needs_background": "light"
     },
     "output_type": "display_data"
    }
   ],
   "source": [
    "scaler = MinMaxScaler()\n",
    "X_train = scaler.fit_transform(house2_power_blk1[features_col].values)\n",
    "scaler.fit(house1_power_blk2.iloc[:24*60*60*15,:].loc[:, features_col].values)\n",
    "X_test = scaler.transform(house1_power_blk2.iloc[24*60*60*15:,:].loc[:, features_col].values)\n",
    "\n",
    "y_train = house2_power_blk1['activity'].values\n",
    "y_test = house1_power_blk2.iloc[24*60*60*15:,:].loc[:, 'activity'].values\n",
    "\n",
    "classifier = RandomForestClassifier(n_estimators=30, n_jobs=-1, max_samples=0.9, max_depth=12)\n",
    "classifier.fit(X_train, y_train.ravel())\n",
    "y_pred = classifier.predict(X_test)\n",
    "y_pred_smooth = (pd.Series(y_pred).rolling(10*60).mean()>0).astype(int).values\n",
    "\n",
    "mod.plot_confusion_matrix(y_test, y_pred);"
   ]
  },
  {
   "cell_type": "code",
   "execution_count": 27,
   "metadata": {},
   "outputs": [
    {
     "name": "stdout",
     "output_type": "stream",
     "text": [
      "Score f_beta : 76.113%\n",
      "Score accuracy : 74.231%\n"
     ]
    },
    {
     "data": {
      "image/png": "[encoded data removed]",
      "text/plain": [
       "<Figure size 432x288 with 2 Axes>"
      ]
     },
     "metadata": {
      "needs_background": "light"
     },
     "output_type": "display_data"
    }
   ],
   "source": [
    "# on teste la performance avc la courbe lissée\n",
    "mod.plot_confusion_matrix(y_test, y_pred_smooth);"
   ]
  },
  {
   "cell_type": "code",
   "execution_count": 28,
   "metadata": {},
   "outputs": [
    {
     "data": {
      "image/png": "[encoded data removed]",
      "text/plain": [
       "<Figure size 864x432 with 1 Axes>"
      ]
     },
     "metadata": {
      "needs_background": "light"
     },
     "output_type": "display_data"
    }
   ],
   "source": [
    "house1_power_blk2_res = house1_power_blk2.copy()\n",
    "house1_power_blk2_res['activity_pred'] = np.nan\n",
    "house1_power_blk2_res.iloc[24*60*60*15:, -1] = (y_pred > 0.5).astype(int)\n",
    "house1_power_blk2_res.iloc[24*60*60*15:].head()\n",
    "\n",
    "fig, ax = plt.subplots()\n",
    "mod.plot_activity_hist(house1_power_blk2_res['activity_pred'].iloc[24*60*60*15:], figsize=(12, 6), alpha=0.5, label='predictions', ax=ax)\n",
    "mod.plot_activity_hist(house1_power_blk2['activity'].iloc[24*60*60*15:], figsize=(12, 6), alpha=0.5, label='truth', color='tab:orange', ax=ax)"
   ]
  },
  {
   "cell_type": "code",
   "execution_count": 29,
   "metadata": {},
   "outputs": [
    {
     "data": {
      "image/png": "[encoded data removed]",
      "text/plain": [
       "<Figure size 720x432 with 1 Axes>"
      ]
     },
     "metadata": {
      "needs_background": "light"
     },
     "output_type": "display_data"
    }
   ],
   "source": [
    "start_window = 24*60*60*15\n",
    "activity_pred = (house1_power_blk2_res['activity_pred'].iloc[start_window:start_window+60*60*24].rolling('30min').mean()>0).astype(int)\n",
    "activity_true = (house1_power_blk2['activity'].iloc[start_window:start_window+60*60*24].rolling('30min').mean()>0).astype(int)\n",
    "activity_pred.plot(figsize=(10, 6), label='pred', legend=True)\n",
    "activity_true.plot(label='true', legend=True);"
   ]
  },
  {
   "cell_type": "code",
   "execution_count": 49,
   "metadata": {},
   "outputs": [
    {
     "data": {
      "text/plain": [
       "0    (2016-03-21 00:58:48, 2016-03-21 01:55:04)\n",
       "1    (2016-03-21 02:46:48, 2016-03-21 03:31:53)\n",
       "2    (2016-03-21 03:35:32, 2016-03-21 23:59:59)\n",
       "dtype: interval"
      ]
     },
     "execution_count": 49,
     "metadata": {},
     "output_type": "execute_result"
    }
   ],
   "source": [
    "# activity_pred.plot(figsize=(10, 6))\n",
    "# activity_pred.diff(1).plot(figsize=(10, 6))\n",
    "\n",
    "def activity_periods(data_activity):\n",
    "    \"\"\"\n",
    "    Extracts the activity time periods\n",
    "    Args:\n",
    "       data_activity: the time series from which we want to extract the activity time periods\n",
    "    returns: a pandas series with a line for each activity time period as a pandas Intervalle\n",
    "    \"\"\"\n",
    "    data_activity.iloc[0] = 0\n",
    "    data_activity.iloc[-1] = 0\n",
    "    \n",
    "           # on définit un nouveau dataframe avec diff = 1 si début d'activité, -1 si fin\n",
    "    return pd.DataFrame(data_activity.diff(1)[data_activity.diff(1)!=0].dropna().replace(-1, 'end').replace(1, 'begin')) \\\n",
    "           .reset_index().set_axis(['datetime', 'activity'], axis=1, inplace=False)\\\n",
    "           .pivot(values='datetime', columns='activity').fillna(method='ffill').iloc[1::2, :].reset_index(drop=True).apply(lambda x: pd.Interval(x['begin'], x['end'], closed='neither'), axis=1) # on fait un pivot, ffil et on supprime une ligne sur deux\n",
    "act_per_pred = activity_periods(activity_pred)\n",
    "act_per_pred"
   ]
  },
  {
   "cell_type": "code",
   "execution_count": 50,
   "metadata": {},
   "outputs": [
    {
     "data": {
      "text/plain": [
       "0    (2016-03-21 03:38:39, 2016-03-21 13:03:32)\n",
       "1    (2016-03-21 13:31:01, 2016-03-21 16:16:19)\n",
       "2    (2016-03-21 18:12:33, 2016-03-21 23:02:57)\n",
       "dtype: interval"
      ]
     },
     "execution_count": 50,
     "metadata": {},
     "output_type": "execute_result"
    }
   ],
   "source": [
    "act_per_true = activity_periods(activity_true)\n",
    "act_per_true"
   ]
  },
  {
   "cell_type": "code",
   "execution_count": 51,
   "metadata": {},
   "outputs": [
    {
     "data": {
      "text/plain": [
       "0    1\n",
       "1    1\n",
       "2    1\n",
       "dtype: int64"
      ]
     },
     "execution_count": 51,
     "metadata": {},
     "output_type": "execute_result"
    }
   ],
   "source": [
    "def detect_overlaps(data_act_true, data_act_pred):\n",
    "    \"\"\"\n",
    "    Defines for each line of data_act_true how many lines of data_act_pred it overlaps\n",
    "    Args:\n",
    "        data_act_true: true activity periods\n",
    "        data_act_pred: predicted activity periods\n",
    "    return: A pandas series with the for each data_act_true period how many pperiod of data_act_pred they overlap\n",
    "    \"\"\"\n",
    "    return data_act_true.apply(lambda dtrue: np.array([dtrue.overlaps(dpred) for dpred in data_act_pred]).sum())\n",
    "\n",
    "detect_overlaps(act_per_true, act_per_pred)"
   ]
  },
  {
   "cell_type": "code",
   "execution_count": 52,
   "metadata": {},
   "outputs": [
    {
     "data": {
      "text/plain": [
       "0    0\n",
       "1    0\n",
       "2    3\n",
       "dtype: int64"
      ]
     },
     "execution_count": 52,
     "metadata": {},
     "output_type": "execute_result"
    }
   ],
   "source": [
    "detect_overlaps(act_per_pred, act_per_true)"
   ]
  },
  {
   "cell_type": "code",
   "execution_count": 55,
   "metadata": {},
   "outputs": [
    {
     "name": "stdout",
     "output_type": "stream",
     "text": [
      "true positive rate: 100.00%, false positive rate: 66.67%\n"
     ]
    }
   ],
   "source": [
    "def score_overlap(activity_true, activity_pred, resample_period='30min'):\n",
    "    \"\"\"\n",
    "    Determines the number of activity periods that are detected (TP) and the number of activity periods detected when there was no true activity (FP)\n",
    "    Args:\n",
    "        activity_true: time series that contains the true activity labels\n",
    "        activity_pred: time series that contains the predicted activity labels\n",
    "        resample_period (optional): the time period to use to resample both time series\n",
    "    returns: the percentage of true activity periods that are detected (TP) and the percentage of activity periods predicted when there was no true activity (FP)\n",
    "    \"\"\"\n",
    "\n",
    "    # we start by smoothing the data\n",
    "    activity_true = (activity_true.rolling(resample_period).mean()>0).astype(int).copy()\n",
    "    activity_pred = (activity_pred.rolling(resample_period).mean()>0).astype(int).copy()\n",
    "\n",
    "    # we get the activity perdiods for each activity series\n",
    "    activity_per_true = activity_periods(activity_true)\n",
    "    activity_per_pred = activity_periods(activity_pred)\n",
    "\n",
    "    # we get the count of true activity periods\n",
    "    T = activity_per_true.shape[0]\n",
    "    F = activity_per_pred.shape[0]\n",
    "\n",
    "    # we estimate the true positives and false positives\n",
    "    TP = (detect_overlaps(activity_per_true, activity_per_pred) > 0).sum()\n",
    "    FP = (detect_overlaps(activity_per_pred, activity_per_true) == 0).sum()\n",
    "\n",
    "    return TP/T, FP/F\n",
    "\n",
    "TPR, FPR = score_overlap(activity_true, activity_pred)\n",
    "\n",
    "print(f\"true positive rate: {TPR:.2%}, false positive rate: {FPR:.2%}\")"
   ]
  },
  {
   "cell_type": "markdown",
   "metadata": {},
   "source": [
    "On peut en faire de même avec la maison 1 vs 2"
   ]
  },
  {
   "cell_type": "code",
   "execution_count": 14,
   "metadata": {},
   "outputs": [
    {
     "name": "stdout",
     "output_type": "stream",
     "text": [
      "Score f_beta : 82.161%\n",
      "Score accuracy : 82.334%\n"
     ]
    },
    {
     "data": {
      "image/png": "[encoded data removed]",
      "text/plain": [
       "<Figure size 432x288 with 2 Axes>"
      ]
     },
     "metadata": {
      "needs_background": "light"
     },
     "output_type": "display_data"
    }
   ],
   "source": [
    "scaler = MinMaxScaler()\n",
    "X_train = scaler.fit_transform(house1_power_blk2[features_col].values)\n",
    "scaler.fit(house2_power_blk1.iloc[:24*60*60*15,:].loc[:, features_col].values)\n",
    "X_test = scaler.transform(house2_power_blk1.iloc[24*60*60*15:,:].loc[:, features_col].values)\n",
    "\n",
    "y_train = house1_power_blk2['activity'].values\n",
    "y_test = house2_power_blk1.iloc[24*60*60*15:,:].loc[:, 'activity'].values\n",
    "\n",
    "classifier = RandomForestClassifier(n_estimators=30, n_jobs=-1, max_samples=0.9, max_depth=12)\n",
    "classifier.fit(X_train, y_train.ravel())\n",
    "y_pred = classifier.predict(X_test)\n",
    "\n",
    "mod.plot_confusion_matrix(y_test, y_pred);"
   ]
  },
  {
   "cell_type": "code",
   "execution_count": 15,
   "metadata": {},
   "outputs": [
    {
     "data": {
      "image/png": "[encoded data removed]",
      "text/plain": [
       "<Figure size 864x432 with 1 Axes>"
      ]
     },
     "metadata": {
      "needs_background": "light"
     },
     "output_type": "display_data"
    }
   ],
   "source": [
    "house2_power_blk1_res = house2_power_blk1.copy()\n",
    "house2_power_blk1_res.loc[:, 'activity_pred'] = np.nan\n",
    "house2_power_blk1_res.iloc[24*60*60*15:, -1] = (y_pred > 0.5).astype(int)\n",
    "house2_power_blk1_res.iloc[24*60*60*15:].head()\n",
    "\n",
    "fig, ax = plt.subplots()\n",
    "mod.plot_activity_hist(house2_power_blk1_res['activity_pred'], figsize=(12, 6), alpha=0.5, label='predictions', ax=ax)\n",
    "mod.plot_activity_hist(house2_power_blk1['activity'].iloc[24*60*60*15:], figsize=(12, 6), alpha=0.5, label='truth', color='tab:orange', ax=ax)"
   ]
  }
 ],
 "metadata": {
  "interpreter": {
   "hash": "916dbcbb3f70747c44a77c7bcd40155683ae19c65e1c03b4aa3499c5328201f1"
  },
  "kernelspec": {
   "display_name": "Python 3.8.10 64-bit",
   "language": "python",
   "name": "python3"
  },
  "language_info": {
   "codemirror_mode": {
    "name": "ipython",
    "version": 3
   },
   "file_extension": ".py",
   "mimetype": "text/x-python",
   "name": "python",
   "nbconvert_exporter": "python",
   "pygments_lexer": "ipython3",
   "version": "3.8.10"
  },
  "orig_nbformat": 4
 },
 "nbformat": 4,
 "nbformat_minor": 2
}
