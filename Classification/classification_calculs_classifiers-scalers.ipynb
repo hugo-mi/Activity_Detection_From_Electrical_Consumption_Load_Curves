{
 "cells": [
  {
   "cell_type": "code",
   "execution_count": 1,
   "metadata": {},
   "outputs": [
    {
     "name": "stderr",
     "output_type": "stream",
     "text": [
      "Intel(R) Extension for Scikit-learn* enabled (https://github.com/intel/scikit-learn-intelex)\n"
     ]
    }
   ],
   "source": [
    "from sklearnex import patch_sklearn\n",
    "\n",
    "patch_sklearn()\n",
    "\n",
    "import sys\n",
    "sys.path.insert(0,'..')\n",
    "import module as mod\n",
    "\n",
    "from sklearn.preprocessing import MinMaxScaler, StandardScaler, RobustScaler, QuantileTransformer, MaxAbsScaler, Normalizer, PowerTransformer\n",
    "from sklearn.ensemble import RandomForestClassifier, VotingClassifier, HistGradientBoostingClassifier\n",
    "from sklearn.neighbors import KNeighborsClassifier\n",
    "from sklearn.semi_supervised import SelfTrainingClassifier\n",
    "from sklearn.metrics import fbeta_score, accuracy_score\n",
    "\n",
    "import warnings\n",
    "\n",
    "# we remove warnings during imports\n",
    "with warnings.catch_warnings():\n",
    "    warnings.filterwarnings(\"ignore\")\n",
    "    from lightgbm import LGBMClassifier\n",
    "    from xgboost import XGBClassifier\n",
    "    from catboost import CatBoostClassifier"
   ]
  },
  {
   "cell_type": "code",
   "execution_count": 2,
   "metadata": {},
   "outputs": [
    {
     "data": {
      "text/html": [
       "<div>\n",
       "<style scoped>\n",
       "    .dataframe tbody tr th:only-of-type {\n",
       "        vertical-align: middle;\n",
       "    }\n",
       "\n",
       "    .dataframe tbody tr th {\n",
       "        vertical-align: top;\n",
       "    }\n",
       "\n",
       "    .dataframe thead th {\n",
       "        text-align: right;\n",
       "    }\n",
       "</style>\n",
       "<table border=\"1\" class=\"dataframe\">\n",
       "  <thead>\n",
       "    <tr style=\"text-align: right;\">\n",
       "      <th></th>\n",
       "      <th>mains</th>\n",
       "      <th>activity</th>\n",
       "      <th>hour</th>\n",
       "    </tr>\n",
       "    <tr>\n",
       "      <th>datetime</th>\n",
       "      <th></th>\n",
       "      <th></th>\n",
       "      <th></th>\n",
       "    </tr>\n",
       "  </thead>\n",
       "  <tbody>\n",
       "    <tr>\n",
       "      <th>2016-03-06 00:00:00</th>\n",
       "      <td>473.0</td>\n",
       "      <td>0</td>\n",
       "      <td>0.0</td>\n",
       "    </tr>\n",
       "    <tr>\n",
       "      <th>2016-03-06 00:00:01</th>\n",
       "      <td>474.0</td>\n",
       "      <td>0</td>\n",
       "      <td>0.0</td>\n",
       "    </tr>\n",
       "    <tr>\n",
       "      <th>2016-03-06 00:00:02</th>\n",
       "      <td>476.0</td>\n",
       "      <td>0</td>\n",
       "      <td>0.0</td>\n",
       "    </tr>\n",
       "    <tr>\n",
       "      <th>2016-03-06 00:00:03</th>\n",
       "      <td>476.0</td>\n",
       "      <td>0</td>\n",
       "      <td>0.0</td>\n",
       "    </tr>\n",
       "    <tr>\n",
       "      <th>2016-03-06 00:00:04</th>\n",
       "      <td>475.0</td>\n",
       "      <td>0</td>\n",
       "      <td>0.0</td>\n",
       "    </tr>\n",
       "  </tbody>\n",
       "</table>\n",
       "</div>"
      ],
      "text/plain": [
       "                     mains  activity  hour\n",
       "datetime                                  \n",
       "2016-03-06 00:00:00  473.0         0   0.0\n",
       "2016-03-06 00:00:01  474.0         0   0.0\n",
       "2016-03-06 00:00:02  476.0         0   0.0\n",
       "2016-03-06 00:00:03  476.0         0   0.0\n",
       "2016-03-06 00:00:04  475.0         0   0.0"
      ]
     },
     "execution_count": 2,
     "metadata": {},
     "output_type": "execute_result"
    }
   ],
   "source": [
    "house1_power_blk2 = mod.load_dataset('house1_power_blk2_labels.zip')\n",
    "house1_power_blk2.head()"
   ]
  },
  {
   "cell_type": "code",
   "execution_count": 3,
   "metadata": {},
   "outputs": [
    {
     "data": {
      "text/html": [
       "<div>\n",
       "<style scoped>\n",
       "    .dataframe tbody tr th:only-of-type {\n",
       "        vertical-align: middle;\n",
       "    }\n",
       "\n",
       "    .dataframe tbody tr th {\n",
       "        vertical-align: top;\n",
       "    }\n",
       "\n",
       "    .dataframe thead th {\n",
       "        text-align: right;\n",
       "    }\n",
       "</style>\n",
       "<table border=\"1\" class=\"dataframe\">\n",
       "  <thead>\n",
       "    <tr style=\"text-align: right;\">\n",
       "      <th></th>\n",
       "      <th>mains</th>\n",
       "      <th>activity</th>\n",
       "      <th>hour</th>\n",
       "    </tr>\n",
       "    <tr>\n",
       "      <th>datetime</th>\n",
       "      <th></th>\n",
       "      <th></th>\n",
       "      <th></th>\n",
       "    </tr>\n",
       "  </thead>\n",
       "  <tbody>\n",
       "    <tr>\n",
       "      <th>2017-09-12 23:00:00</th>\n",
       "      <td>103.0</td>\n",
       "      <td>0</td>\n",
       "      <td>23.0</td>\n",
       "    </tr>\n",
       "    <tr>\n",
       "      <th>2017-09-12 23:00:01</th>\n",
       "      <td>101.0</td>\n",
       "      <td>0</td>\n",
       "      <td>23.0</td>\n",
       "    </tr>\n",
       "    <tr>\n",
       "      <th>2017-09-12 23:00:02</th>\n",
       "      <td>104.0</td>\n",
       "      <td>0</td>\n",
       "      <td>23.0</td>\n",
       "    </tr>\n",
       "    <tr>\n",
       "      <th>2017-09-12 23:00:03</th>\n",
       "      <td>104.0</td>\n",
       "      <td>0</td>\n",
       "      <td>23.0</td>\n",
       "    </tr>\n",
       "    <tr>\n",
       "      <th>2017-09-12 23:00:04</th>\n",
       "      <td>105.0</td>\n",
       "      <td>0</td>\n",
       "      <td>23.0</td>\n",
       "    </tr>\n",
       "  </tbody>\n",
       "</table>\n",
       "</div>"
      ],
      "text/plain": [
       "                     mains  activity  hour\n",
       "datetime                                  \n",
       "2017-09-12 23:00:00  103.0         0  23.0\n",
       "2017-09-12 23:00:01  101.0         0  23.0\n",
       "2017-09-12 23:00:02  104.0         0  23.0\n",
       "2017-09-12 23:00:03  104.0         0  23.0\n",
       "2017-09-12 23:00:04  105.0         0  23.0"
      ]
     },
     "execution_count": 3,
     "metadata": {},
     "output_type": "execute_result"
    }
   ],
   "source": [
    "house2_power_blk1 = mod.load_dataset('house2_power_blk1_labels.zip')\n",
    "house2_power_blk1.head()"
   ]
  },
  {
   "cell_type": "code",
   "execution_count": 4,
   "metadata": {},
   "outputs": [],
   "source": [
    "windows = ['1h', '10min']\n",
    "features_col = ['mains', 'hour']\n",
    "\n",
    "house1_power_blk2, _ = mod.generate_features(house1_power_blk2, window=windows)\n",
    "house2_power_blk1, cols = mod.generate_features(house2_power_blk1, window=windows)\n",
    "features_col += cols"
   ]
  },
  {
   "cell_type": "code",
   "execution_count": 5,
   "metadata": {},
   "outputs": [],
   "source": [
    "def score_classif(X_train, X_test, y_train, y_test, para_classifier, para_scaler):\n",
    "\n",
    "    scaler = para_scaler\n",
    "    \n",
    "    X_train_scaled = scaler.fit_transform(X_train)\n",
    "\n",
    "    X_test_scaled = scaler.fit_transform(X_test)\n",
    "    \n",
    "    clf = para_classifier\n",
    "    \n",
    "    clf.fit(X_train_scaled, y_train.ravel())\n",
    "    \n",
    "    y_pred = clf.predict(X_test_scaled)\n",
    "\n",
    "    acc = accuracy_score(y_test, y_pred)\n",
    "    fscore = fbeta_score(y_test, y_pred, beta=0.5)\n",
    "    \n",
    "    return acc, fscore"
   ]
  },
  {
   "cell_type": "markdown",
   "metadata": {},
   "source": [
    "# Train house 1 Test house 2"
   ]
  },
  {
   "cell_type": "code",
   "execution_count": 8,
   "metadata": {},
   "outputs": [],
   "source": [
    "# taux = 1\n",
    "# seed = 8\n",
    "\n",
    "# house1_power_blk2 = house1_power_blk2.sample(n=int(round(house1_power_blk2.shape[0] * taux,0)), random_state=seed)\n",
    "# house2_power_blk1 = house2_power_blk1.sample(n=int(round(house2_power_blk1.shape[0] * taux,0)), random_state=seed)\n",
    "\n",
    "# y_train = house1_power_blk2.iloc[:,-1]\n",
    "# X_train = house1_power_blk2.iloc[:,:-1]\n",
    "\n",
    "# y_test = house2_power_blk1.iloc[:,-1]\n",
    "# X_test = house2_power_blk1.iloc[:,:-1]\n",
    "\n",
    "sample_idx = mod.pick_random_indexes(house2_power_blk1, 0.3)\n",
    "X_train = house1_power_blk2[features_col].values\n",
    "X_test = house2_power_blk1.loc[sample_idx, features_col].values\n",
    "\n",
    "y_train = house1_power_blk2['activity'].values\n",
    "y_test = house2_power_blk1.loc[sample_idx, 'activity'].values"
   ]
  },
  {
   "cell_type": "code",
   "execution_count": 14,
   "metadata": {},
   "outputs": [
    {
     "name": "stdout",
     "output_type": "stream",
     "text": [
      "0\n",
      "1\n",
      "2\n",
      "3\n",
      "4\n",
      "5\n",
      "6\n",
      "7\n",
      "8\n",
      "9\n",
      "10\n",
      "11\n",
      "12\n",
      "13\n",
      "14\n",
      "15\n",
      "16\n",
      "17\n",
      "18\n",
      "19\n",
      "20\n"
     ]
    }
   ],
   "source": [
    "liste_scaler = [MinMaxScaler(), StandardScaler(), QuantileTransformer(), RobustScaler(), Normalizer(), MaxAbsScaler(), PowerTransformer()]\n",
    "liste_scaler_name = [\"MinMaxScaler\", \"StandardScaler\", \"QuantileTransformer\", \"RobustScaler\", \"Normalizer\", \"MaxAbsScaler\", \"PowerTransformer\"]\n",
    "\n",
    "liste_classifier = [HistGradientBoostingClassifier(), LGBMClassifier(), RandomForestClassifier()]\n",
    "liste_classifier_name = [\"HistGradientBoostingClassifier\", \"LGBMClassifier\", \"RandomForestClassifier\"]\n",
    "\n",
    "liste_acc = dict()\n",
    "\n",
    "liste_fscore = dict()\n",
    "\n",
    "n=0\n",
    "    \n",
    "for i in range(len(liste_scaler_name)):\n",
    "    for j in range(len(liste_classifier_name)):\n",
    "        print(n)\n",
    "        n+=1\n",
    "        acc, fscore = score_classif(X_train, X_test, y_train, y_test, liste_classifier[j], liste_scaler[i])\n",
    "        \n",
    "        liste_acc[liste_scaler_name[i]+\" et \"+ liste_classifier_name[j]] = acc\n",
    "        liste_fscore[liste_scaler_name[i]+\" et \"+ liste_classifier_name[j]] = fscore\n"
   ]
  },
  {
   "cell_type": "code",
   "execution_count": 15,
   "metadata": {},
   "outputs": [
    {
     "data": {
      "text/plain": [
       "{'MinMaxScaler et HistGradientBoostingClassifier': 0.8440951797385621,\n",
       " 'MinMaxScaler et LGBMClassifier': 0.8514916938997822,\n",
       " 'MinMaxScaler et RandomForestClassifier': 0.8547998366013072,\n",
       " 'StandardScaler et HistGradientBoostingClassifier': 0.7050708061002179,\n",
       " 'StandardScaler et LGBMClassifier': 0.6989501633986928,\n",
       " 'StandardScaler et RandomForestClassifier': 0.6507339324618736,\n",
       " 'QuantileTransformer et HistGradientBoostingClassifier': 0.7540482026143791,\n",
       " 'QuantileTransformer et LGBMClassifier': 0.7553438180827887,\n",
       " 'QuantileTransformer et RandomForestClassifier': 0.7367395152505447,\n",
       " 'RobustScaler et HistGradientBoostingClassifier': 0.7648011982570806,\n",
       " 'RobustScaler et LGBMClassifier': 0.763244825708061,\n",
       " 'RobustScaler et RandomForestClassifier': 0.7703921568627451,\n",
       " 'Normalizer et HistGradientBoostingClassifier': 0.6291040305010893,\n",
       " 'Normalizer et LGBMClassifier': 0.7088289760348584,\n",
       " 'Normalizer et RandomForestClassifier': 0.7087819989106754,\n",
       " 'MaxAbsScaler et HistGradientBoostingClassifier': 0.8508707788671024,\n",
       " 'MaxAbsScaler et LGBMClassifier': 0.846858660130719,\n",
       " 'MaxAbsScaler et RandomForestClassifier': 0.8265863289760349,\n",
       " 'PowerTransformer et HistGradientBoostingClassifier': 0.7512697440087146,\n",
       " 'PowerTransformer et LGBMClassifier': 0.7562588507625272,\n",
       " 'PowerTransformer et RandomForestClassifier': 0.7460477941176471}"
      ]
     },
     "execution_count": 15,
     "metadata": {},
     "output_type": "execute_result"
    }
   ],
   "source": [
    "liste_acc"
   ]
  },
  {
   "cell_type": "code",
   "execution_count": 16,
   "metadata": {},
   "outputs": [
    {
     "data": {
      "text/plain": [
       "{'MinMaxScaler et HistGradientBoostingClassifier': 0.8121401801582453,\n",
       " 'MinMaxScaler et LGBMClassifier': 0.8219016948447215,\n",
       " 'MinMaxScaler et RandomForestClassifier': 0.8340407662895164,\n",
       " 'StandardScaler et HistGradientBoostingClassifier': 0.6361273347925196,\n",
       " 'StandardScaler et LGBMClassifier': 0.631026298429711,\n",
       " 'StandardScaler et RandomForestClassifier': 0.5931941849733807,\n",
       " 'QuantileTransformer et HistGradientBoostingClassifier': 0.6861654513049217,\n",
       " 'QuantileTransformer et LGBMClassifier': 0.6865894154071295,\n",
       " 'QuantileTransformer et RandomForestClassifier': 0.6673272963623043,\n",
       " 'RobustScaler et HistGradientBoostingClassifier': 0.695508938774974,\n",
       " 'RobustScaler et LGBMClassifier': 0.6934989154341106,\n",
       " 'RobustScaler et RandomForestClassifier': 0.6991586656310622,\n",
       " 'Normalizer et HistGradientBoostingClassifier': 0.524556858050394,\n",
       " 'Normalizer et LGBMClassifier': 0.6696972670554823,\n",
       " 'Normalizer et RandomForestClassifier': 0.6693587306799059,\n",
       " 'MaxAbsScaler et HistGradientBoostingClassifier': 0.8781888158481862,\n",
       " 'MaxAbsScaler et LGBMClassifier': 0.8541152397429679,\n",
       " 'MaxAbsScaler et RandomForestClassifier': 0.8371863563569311,\n",
       " 'PowerTransformer et HistGradientBoostingClassifier': 0.6805697916513154,\n",
       " 'PowerTransformer et LGBMClassifier': 0.6855694577398527,\n",
       " 'PowerTransformer et RandomForestClassifier': 0.674394752516573}"
      ]
     },
     "execution_count": 16,
     "metadata": {},
     "output_type": "execute_result"
    }
   ],
   "source": [
    "liste_fscore"
   ]
  },
  {
   "cell_type": "code",
   "execution_count": 10,
   "metadata": {},
   "outputs": [
    {
     "name": "stdout",
     "output_type": "stream",
     "text": [
      "0\n",
      "1\n",
      "2\n",
      "3\n",
      "4\n",
      "5\n",
      "6\n",
      "7\n",
      "8\n",
      "9\n",
      "10\n",
      "11\n",
      "12\n",
      "13\n"
     ]
    }
   ],
   "source": [
    "liste_scaler = [MinMaxScaler(), StandardScaler(), QuantileTransformer(), RobustScaler(), Normalizer(), MaxAbsScaler(), PowerTransformer()]\n",
    "liste_scaler_name = [\"MinMaxScaler\", \"StandardScaler\", \"QuantileTransformer\", \"RobustScaler\", \"Normalizer\", \"MaxAbsScaler\", \"PowerTransformer\"]\n",
    "\n",
    "liste_classifier = [XGBClassifier(), CatBoostClassifier(silent=True, task_type=\"GPU\")]\n",
    "liste_classifier_name = [\"XGBClassifier\", \"CatBoostClassifier\"]\n",
    "\n",
    "liste_acc = dict()\n",
    "\n",
    "liste_fscore = dict()\n",
    "\n",
    "n=0\n",
    "    \n",
    "for i in range(len(liste_scaler_name)):\n",
    "    for j in range(len(liste_classifier_name)):\n",
    "        print(n)\n",
    "        n+=1\n",
    "        acc, fscore = score_classif(X_train, X_test, y_train, y_test, liste_classifier[j], liste_scaler[i])\n",
    "        \n",
    "        liste_acc[liste_scaler_name[i]+\" et \"+ liste_classifier_name[j]] = acc\n",
    "        liste_fscore[liste_scaler_name[i]+\" et \"+ liste_classifier_name[j]] = fscore\n"
   ]
  },
  {
   "cell_type": "code",
   "execution_count": 11,
   "metadata": {},
   "outputs": [
    {
     "data": {
      "text/plain": [
       "{'MinMaxScaler et XGBClassifier': 0.8134749455337691,\n",
       " 'MinMaxScaler et CatBoostClassifier': 0.7811335784313725,\n",
       " 'StandardScaler et XGBClassifier': 0.7144042755991286,\n",
       " 'StandardScaler et CatBoostClassifier': 0.6760940904139433,\n",
       " 'QuantileTransformer et XGBClassifier': 0.7820390795206972,\n",
       " 'QuantileTransformer et CatBoostClassifier': 0.7715550108932462,\n",
       " 'RobustScaler et XGBClassifier': 0.7912956154684095,\n",
       " 'RobustScaler et CatBoostClassifier': 0.787420343137255,\n",
       " 'Normalizer et XGBClassifier': 0.6113630174291939,\n",
       " 'Normalizer et CatBoostClassifier': 0.6268668300653595,\n",
       " 'MaxAbsScaler et XGBClassifier': 0.7335348583877995,\n",
       " 'MaxAbsScaler et CatBoostClassifier': 0.7493266612200435,\n",
       " 'PowerTransformer et XGBClassifier': 0.7894226579520697,\n",
       " 'PowerTransformer et CatBoostClassifier': 0.7784477124183007}"
      ]
     },
     "execution_count": 11,
     "metadata": {},
     "output_type": "execute_result"
    }
   ],
   "source": [
    "liste_acc"
   ]
  },
  {
   "cell_type": "code",
   "execution_count": 12,
   "metadata": {},
   "outputs": [
    {
     "data": {
      "text/plain": [
       "{'MinMaxScaler et XGBClassifier': 0.835233281090945,\n",
       " 'MinMaxScaler et CatBoostClassifier': 0.8180089600549149,\n",
       " 'StandardScaler et XGBClassifier': 0.6840008655138086,\n",
       " 'StandardScaler et CatBoostClassifier': 0.653311708644315,\n",
       " 'QuantileTransformer et XGBClassifier': 0.7622208583065048,\n",
       " 'QuantileTransformer et CatBoostClassifier': 0.7545398658663537,\n",
       " 'RobustScaler et XGBClassifier': 0.7708506231401319,\n",
       " 'RobustScaler et CatBoostClassifier': 0.7713279761344636,\n",
       " 'Normalizer et XGBClassifier': 0.5624340260634351,\n",
       " 'Normalizer et CatBoostClassifier': 0.5922106496303932,\n",
       " 'MaxAbsScaler et XGBClassifier': 0.7668953881922085,\n",
       " 'MaxAbsScaler et CatBoostClassifier': 0.8021692136160818,\n",
       " 'PowerTransformer et XGBClassifier': 0.7647236786722291,\n",
       " 'PowerTransformer et CatBoostClassifier': 0.75110451088703}"
      ]
     },
     "execution_count": 12,
     "metadata": {},
     "output_type": "execute_result"
    }
   ],
   "source": [
    "liste_fscore"
   ]
  },
  {
   "cell_type": "markdown",
   "metadata": {},
   "source": [
    "# Train house 2 Test house 1"
   ]
  },
  {
   "cell_type": "code",
   "execution_count": 13,
   "metadata": {},
   "outputs": [],
   "source": [
    "sample_idx = mod.pick_random_indexes(house1_power_blk2, 0.3)\n",
    "X_train = house2_power_blk1[features_col].values\n",
    "X_test = house1_power_blk2.loc[sample_idx, features_col].values\n",
    "\n",
    "y_train = house2_power_blk1['activity'].values\n",
    "y_test = house1_power_blk2.loc[sample_idx, 'activity'].values"
   ]
  },
  {
   "cell_type": "code",
   "execution_count": 19,
   "metadata": {
    "scrolled": true
   },
   "outputs": [
    {
     "name": "stdout",
     "output_type": "stream",
     "text": [
      "0\n",
      "1\n",
      "2\n",
      "3\n",
      "4\n",
      "5\n",
      "6\n",
      "7\n",
      "8\n",
      "9\n",
      "10\n",
      "11\n",
      "12\n",
      "13\n",
      "14\n",
      "15\n",
      "16\n",
      "17\n",
      "18\n",
      "19\n",
      "20\n"
     ]
    }
   ],
   "source": [
    "liste_scaler = [MinMaxScaler(), StandardScaler(), QuantileTransformer(), RobustScaler(), Normalizer(), MaxAbsScaler(), PowerTransformer()]\n",
    "liste_scaler_name = [\"MinMaxScaler\", \"StandardScaler\", \"QuantileTransformer\", \"RobustScaler\", \"Normalizer\", \"MaxAbsScaler\", \"PowerTransformer\"]\n",
    "\n",
    "liste_classifier = [HistGradientBoostingClassifier(), LGBMClassifier(), RandomForestClassifier()]\n",
    "liste_classifier_name = [\"HistGradientBoostingClassifier\", \"LGBMClassifier\", \"RandomForestClassifier\"]\n",
    "\n",
    "liste_acc = dict()\n",
    "\n",
    "liste_fscore = dict()\n",
    "\n",
    "n=0\n",
    "    \n",
    "for i in range(len(liste_scaler_name)):\n",
    "    for j in range(len(liste_classifier_name)):\n",
    "        print(n)\n",
    "        n+=1\n",
    "        acc, fscore = score_classif(X_train, X_test, y_train, y_test, liste_classifier[j], liste_scaler[i])\n",
    "        \n",
    "        liste_acc[liste_scaler_name[i]+\" et \"+ liste_classifier_name[j]] = acc\n",
    "        liste_fscore[liste_scaler_name[i]+\" et \"+ liste_classifier_name[j]] = fscore"
   ]
  },
  {
   "cell_type": "code",
   "execution_count": 20,
   "metadata": {},
   "outputs": [
    {
     "data": {
      "text/plain": [
       "{'MinMaxScaler et HistGradientBoostingClassifier': 0.7063895318930041,\n",
       " 'MinMaxScaler et LGBMClassifier': 0.7069290123456791,\n",
       " 'MinMaxScaler et RandomForestClassifier': 0.7077289094650205,\n",
       " 'StandardScaler et HistGradientBoostingClassifier': 0.719363425925926,\n",
       " 'StandardScaler et LGBMClassifier': 0.7191261574074074,\n",
       " 'StandardScaler et RandomForestClassifier': 0.720270061728395,\n",
       " 'QuantileTransformer et HistGradientBoostingClassifier': 0.7312345679012345,\n",
       " 'QuantileTransformer et LGBMClassifier': 0.7384284979423869,\n",
       " 'QuantileTransformer et RandomForestClassifier': 0.7325675154320987,\n",
       " 'RobustScaler et HistGradientBoostingClassifier': 0.7314859825102881,\n",
       " 'RobustScaler et LGBMClassifier': 0.7311541923868313,\n",
       " 'RobustScaler et RandomForestClassifier': 0.7317071759259259,\n",
       " 'Normalizer et HistGradientBoostingClassifier': 0.5456661522633744,\n",
       " 'Normalizer et LGBMClassifier': 0.5461889146090535,\n",
       " 'Normalizer et RandomForestClassifier': 0.506289866255144,\n",
       " 'MaxAbsScaler et HistGradientBoostingClassifier': 0.49888503086419755,\n",
       " 'MaxAbsScaler et LGBMClassifier': 0.49905349794238685,\n",
       " 'MaxAbsScaler et RandomForestClassifier': 0.49881430041152264,\n",
       " 'PowerTransformer et HistGradientBoostingClassifier': 0.7313650977366255,\n",
       " 'PowerTransformer et LGBMClassifier': 0.7312885802469136,\n",
       " 'PowerTransformer et RandomForestClassifier': 0.7300855195473251}"
      ]
     },
     "execution_count": 20,
     "metadata": {},
     "output_type": "execute_result"
    }
   ],
   "source": [
    "liste_acc"
   ]
  },
  {
   "cell_type": "code",
   "execution_count": 21,
   "metadata": {},
   "outputs": [
    {
     "data": {
      "text/plain": [
       "{'MinMaxScaler et HistGradientBoostingClassifier': 0.6809289293296069,\n",
       " 'MinMaxScaler et LGBMClassifier': 0.6815086476842543,\n",
       " 'MinMaxScaler et RandomForestClassifier': 0.6818349069578855,\n",
       " 'StandardScaler et HistGradientBoostingClassifier': 0.7247316997671822,\n",
       " 'StandardScaler et LGBMClassifier': 0.724339953347861,\n",
       " 'StandardScaler et RandomForestClassifier': 0.7213179470649934,\n",
       " 'QuantileTransformer et HistGradientBoostingClassifier': 0.7342395948574117,\n",
       " 'QuantileTransformer et LGBMClassifier': 0.742693394790157,\n",
       " 'QuantileTransformer et RandomForestClassifier': 0.7371689816317258,\n",
       " 'RobustScaler et HistGradientBoostingClassifier': 0.7289455561856923,\n",
       " 'RobustScaler et LGBMClassifier': 0.7302692497633648,\n",
       " 'RobustScaler et RandomForestClassifier': 0.7337013958757831,\n",
       " 'Normalizer et HistGradientBoostingClassifier': 0.5781651011363234,\n",
       " 'Normalizer et LGBMClassifier': 0.5784150332299832,\n",
       " 'Normalizer et RandomForestClassifier': 0.5577797547009105,\n",
       " 'MaxAbsScaler et HistGradientBoostingClassifier': 0.5544190519425349,\n",
       " 'MaxAbsScaler et LGBMClassifier': 0.5545021149186827,\n",
       " 'MaxAbsScaler et RandomForestClassifier': 0.5543841855907392,\n",
       " 'PowerTransformer et HistGradientBoostingClassifier': 0.7288917938428485,\n",
       " 'PowerTransformer et LGBMClassifier': 0.7291930459403633,\n",
       " 'PowerTransformer et RandomForestClassifier': 0.729658594655815}"
      ]
     },
     "execution_count": 21,
     "metadata": {},
     "output_type": "execute_result"
    }
   ],
   "source": [
    "liste_fscore"
   ]
  },
  {
   "cell_type": "code",
   "execution_count": 14,
   "metadata": {},
   "outputs": [
    {
     "name": "stdout",
     "output_type": "stream",
     "text": [
      "0\n",
      "1\n",
      "2\n",
      "3\n",
      "4\n",
      "5\n",
      "6\n",
      "7\n",
      "8\n",
      "9\n",
      "10\n",
      "11\n",
      "12\n",
      "13\n"
     ]
    }
   ],
   "source": [
    "liste_scaler = [MinMaxScaler(), StandardScaler(), QuantileTransformer(), RobustScaler(), Normalizer(), MaxAbsScaler(), PowerTransformer()]\n",
    "liste_scaler_name = [\"MinMaxScaler\", \"StandardScaler\", \"QuantileTransformer\", \"RobustScaler\", \"Normalizer\", \"MaxAbsScaler\", \"PowerTransformer\"]\n",
    "\n",
    "liste_classifier = [XGBClassifier(), CatBoostClassifier(silent=True, task_type=\"GPU\")]\n",
    "liste_classifier_name = [\"XGBClassifier\", \"CatBoostClassifier\"]\n",
    "\n",
    "liste_acc = dict()\n",
    "\n",
    "liste_fscore = dict()\n",
    "\n",
    "n=0\n",
    "    \n",
    "for i in range(len(liste_scaler_name)):\n",
    "    for j in range(len(liste_classifier_name)):\n",
    "        print(n)\n",
    "        n+=1\n",
    "        acc, fscore = score_classif(X_train, X_test, y_train, y_test, liste_classifier[j], liste_scaler[i])\n",
    "        \n",
    "        liste_acc[liste_scaler_name[i]+\" et \"+ liste_classifier_name[j]] = acc\n",
    "        liste_fscore[liste_scaler_name[i]+\" et \"+ liste_classifier_name[j]] = fscore\n"
   ]
  },
  {
   "cell_type": "code",
   "execution_count": 15,
   "metadata": {},
   "outputs": [
    {
     "data": {
      "text/plain": [
       "{'MinMaxScaler et XGBClassifier': 0.7234709362139917,\n",
       " 'MinMaxScaler et CatBoostClassifier': 0.7374871399176954,\n",
       " 'StandardScaler et XGBClassifier': 0.720318287037037,\n",
       " 'StandardScaler et CatBoostClassifier': 0.7281597222222222,\n",
       " 'QuantileTransformer et XGBClassifier': 0.7246965020576132,\n",
       " 'QuantileTransformer et CatBoostClassifier': 0.7290560699588478,\n",
       " 'RobustScaler et XGBClassifier': 0.7061779835390947,\n",
       " 'RobustScaler et CatBoostClassifier': 0.7424942129629629,\n",
       " 'Normalizer et XGBClassifier': 0.5339705504115226,\n",
       " 'Normalizer et CatBoostClassifier': 0.5233416923868313,\n",
       " 'MaxAbsScaler et XGBClassifier': 0.5116583076131688,\n",
       " 'MaxAbsScaler et CatBoostClassifier': 0.5316460905349795,\n",
       " 'PowerTransformer et XGBClassifier': 0.734295267489712,\n",
       " 'PowerTransformer et CatBoostClassifier': 0.7448984053497942}"
      ]
     },
     "execution_count": 15,
     "metadata": {},
     "output_type": "execute_result"
    }
   ],
   "source": [
    "liste_acc"
   ]
  },
  {
   "cell_type": "code",
   "execution_count": 16,
   "metadata": {},
   "outputs": [
    {
     "data": {
      "text/plain": [
       "{'MinMaxScaler et XGBClassifier': 0.6997200278848313,\n",
       " 'MinMaxScaler et CatBoostClassifier': 0.7108581589430142,\n",
       " 'StandardScaler et XGBClassifier': 0.731282222435983,\n",
       " 'StandardScaler et CatBoostClassifier': 0.7446749949539854,\n",
       " 'QuantileTransformer et XGBClassifier': 0.7368801758771993,\n",
       " 'QuantileTransformer et CatBoostClassifier': 0.744541295852371,\n",
       " 'RobustScaler et XGBClassifier': 0.7064063472617004,\n",
       " 'RobustScaler et CatBoostClassifier': 0.748751391655514,\n",
       " 'Normalizer et XGBClassifier': 0.5774966679478688,\n",
       " 'Normalizer et CatBoostClassifier': 0.5720275609646628,\n",
       " 'MaxAbsScaler et XGBClassifier': 0.5662402656125217,\n",
       " 'MaxAbsScaler et CatBoostClassifier': 0.5765105394791121,\n",
       " 'PowerTransformer et XGBClassifier': 0.7405407233754469,\n",
       " 'PowerTransformer et CatBoostClassifier': 0.7549722633863585}"
      ]
     },
     "execution_count": 16,
     "metadata": {},
     "output_type": "execute_result"
    }
   ],
   "source": [
    "liste_fscore"
   ]
  },
  {
   "cell_type": "markdown",
   "metadata": {},
   "source": [
    "# Train house 2 Test house 1 - la nuit"
   ]
  },
  {
   "cell_type": "code",
   "execution_count": 6,
   "metadata": {},
   "outputs": [],
   "source": [
    "#sample_idx = mod.pick_random_indexes(house1_power_blk2, 0.3)\n",
    "X_train = house2_power_blk1[features_col].between_time('22:00', '5:59:59').values\n",
    "X_test = house1_power_blk2[features_col].between_time('22:00', '5:59:59').values\n",
    "\n",
    "y_train = house2_power_blk1['activity'].between_time('22:00', '5:59:59').values\n",
    "y_test = house1_power_blk2['activity'].between_time('22:00', '5:59:59').values"
   ]
  },
  {
   "cell_type": "code",
   "execution_count": 19,
   "metadata": {},
   "outputs": [
    {
     "name": "stdout",
     "output_type": "stream",
     "text": [
      "0\n",
      "1\n",
      "2\n",
      "3\n",
      "4\n",
      "5\n",
      "6\n",
      "7\n",
      "8\n",
      "9\n",
      "10\n",
      "11\n",
      "12\n",
      "13\n",
      "14\n",
      "15\n",
      "16\n",
      "17\n",
      "18\n",
      "19\n",
      "20\n",
      "21\n",
      "22\n",
      "23\n"
     ]
    }
   ],
   "source": [
    "liste_scaler = [MinMaxScaler(), StandardScaler(), QuantileTransformer(), RobustScaler(), MaxAbsScaler(), PowerTransformer()]\n",
    "liste_scaler_name = [\"MinMaxScaler\", \"StandardScaler\", \"QuantileTransformer\", \"RobustScaler\", \"MaxAbsScaler\", \"PowerTransformer\"]\n",
    "\n",
    "liste_classifier = [HistGradientBoostingClassifier(), LGBMClassifier(), CatBoostClassifier(silent=True, task_type=\"GPU\"), RandomForestClassifier()]\n",
    "liste_classifier_name = [\"HistGradientBoostingClassifier\", \"LGBMClassifier\", \"CatBoostClassifier\", \"RandomForestClassifier\"]\n",
    "\n",
    "liste_acc = dict()\n",
    "\n",
    "liste_fscore = dict()\n",
    "\n",
    "n=0\n",
    "    \n",
    "for i in range(len(liste_scaler_name)):\n",
    "    for j in range(len(liste_classifier_name)):\n",
    "        print(n)\n",
    "        n+=1\n",
    "        acc, fscore = score_classif(X_train, X_test, y_train, y_test, liste_classifier[j], liste_scaler[i])\n",
    "        \n",
    "        liste_acc[liste_scaler_name[i]+\" et \"+ liste_classifier_name[j]] = acc\n",
    "        liste_fscore[liste_scaler_name[i]+\" et \"+ liste_classifier_name[j]] = fscore"
   ]
  },
  {
   "cell_type": "code",
   "execution_count": 20,
   "metadata": {},
   "outputs": [
    {
     "data": {
      "text/plain": [
       "{'MinMaxScaler et HistGradientBoostingClassifier': 0.7755682571239231,\n",
       " 'MinMaxScaler et LGBMClassifier': 0.7785431853324497,\n",
       " 'MinMaxScaler et CatBoostClassifier': 0.7792732493925337,\n",
       " 'MinMaxScaler et RandomForestClassifier': 0.7650276121051469,\n",
       " 'StandardScaler et HistGradientBoostingClassifier': 0.8466263529931521,\n",
       " 'StandardScaler et LGBMClassifier': 0.8508554230174509,\n",
       " 'StandardScaler et CatBoostClassifier': 0.8513193063839187,\n",
       " 'StandardScaler et RandomForestClassifier': 0.8416478904351667,\n",
       " 'QuantileTransformer et HistGradientBoostingClassifier': 0.8374988955157942,\n",
       " 'QuantileTransformer et LGBMClassifier': 0.8394908327810913,\n",
       " 'QuantileTransformer et CatBoostClassifier': 0.8472542522641926,\n",
       " 'QuantileTransformer et RandomForestClassifier': 0.845187210072896,\n",
       " 'RobustScaler et HistGradientBoostingClassifier': 0.8371068036227082,\n",
       " 'RobustScaler et LGBMClassifier': 0.838478573006406,\n",
       " 'RobustScaler et CatBoostClassifier': 0.8419864148442677,\n",
       " 'RobustScaler et RandomForestClassifier': 0.8480770929975702,\n",
       " 'MaxAbsScaler et HistGradientBoostingClassifier': 0.24000883587364702,\n",
       " 'MaxAbsScaler et LGBMClassifier': 0.3005036447978794,\n",
       " 'MaxAbsScaler et CatBoostClassifier': 0.6302888226198365,\n",
       " 'MaxAbsScaler et RandomForestClassifier': 0.6299558206317649,\n",
       " 'PowerTransformer et HistGradientBoostingClassifier': 0.8501535233046168,\n",
       " 'PowerTransformer et LGBMClassifier': 0.852339849790148,\n",
       " 'PowerTransformer et CatBoostClassifier': 0.8616937265297107,\n",
       " 'PowerTransformer et RandomForestClassifier': 0.8629749282085266}"
      ]
     },
     "execution_count": 20,
     "metadata": {},
     "output_type": "execute_result"
    }
   ],
   "source": [
    "liste_acc"
   ]
  },
  {
   "cell_type": "code",
   "execution_count": 21,
   "metadata": {},
   "outputs": [
    {
     "data": {
      "text/plain": [
       "{'MinMaxScaler et HistGradientBoostingClassifier': 0.46157576546113954,\n",
       " 'MinMaxScaler et LGBMClassifier': 0.46413560695897566,\n",
       " 'MinMaxScaler et CatBoostClassifier': 0.46467071736573895,\n",
       " 'MinMaxScaler et RandomForestClassifier': 0.4562849415998258,\n",
       " 'StandardScaler et HistGradientBoostingClassifier': 0.5408439879829525,\n",
       " 'StandardScaler et LGBMClassifier': 0.5527071077277022,\n",
       " 'StandardScaler et CatBoostClassifier': 0.5533851346864055,\n",
       " 'StandardScaler et RandomForestClassifier': 0.5236542038057653,\n",
       " 'QuantileTransformer et HistGradientBoostingClassifier': 0.4723677308082771,\n",
       " 'QuantileTransformer et LGBMClassifier': 0.480555744674413,\n",
       " 'QuantileTransformer et CatBoostClassifier': 0.5253379408993228,\n",
       " 'QuantileTransformer et RandomForestClassifier': 0.5040513867878875,\n",
       " 'RobustScaler et HistGradientBoostingClassifier': 0.5197237478017493,\n",
       " 'RobustScaler et LGBMClassifier': 0.5247265283439255,\n",
       " 'RobustScaler et CatBoostClassifier': 0.5358798892184559,\n",
       " 'RobustScaler et RandomForestClassifier': 0.5500685591266541,\n",
       " 'MaxAbsScaler et HistGradientBoostingClassifier': 0.21511609285598265,\n",
       " 'MaxAbsScaler et LGBMClassifier': 0.22990971019245324,\n",
       " 'MaxAbsScaler et CatBoostClassifier': 0.3608066764867251,\n",
       " 'MaxAbsScaler et RandomForestClassifier': 0.3608453275717496,\n",
       " 'PowerTransformer et HistGradientBoostingClassifier': 0.5474391598175685,\n",
       " 'PowerTransformer et LGBMClassifier': 0.5545706218559477,\n",
       " 'PowerTransformer et CatBoostClassifier': 0.5853900603825543,\n",
       " 'PowerTransformer et RandomForestClassifier': 0.5853709942215078}"
      ]
     },
     "execution_count": 21,
     "metadata": {},
     "output_type": "execute_result"
    }
   ],
   "source": [
    "liste_fscore"
   ]
  },
  {
   "cell_type": "code",
   "execution_count": 7,
   "metadata": {},
   "outputs": [
    {
     "name": "stdout",
     "output_type": "stream",
     "text": [
      "0\n",
      "1\n",
      "2\n",
      "3\n",
      "4\n",
      "5\n"
     ]
    }
   ],
   "source": [
    "liste_scaler = [MinMaxScaler(), StandardScaler(), QuantileTransformer(), RobustScaler(), MaxAbsScaler(), PowerTransformer()]\n",
    "liste_scaler_name = [\"MinMaxScaler\", \"StandardScaler\", \"QuantileTransformer\", \"RobustScaler\", \"MaxAbsScaler\", \"PowerTransformer\"]\n",
    "\n",
    "liste_classifier = [XGBClassifier()]\n",
    "liste_classifier_name = [\"XGBClassifier\"]\n",
    "\n",
    "liste_acc = dict()\n",
    "\n",
    "liste_fscore = dict()\n",
    "\n",
    "n=0\n",
    "    \n",
    "for i in range(len(liste_scaler_name)):\n",
    "    for j in range(len(liste_classifier_name)):\n",
    "        print(n)\n",
    "        n+=1\n",
    "        acc, fscore = score_classif(X_train, X_test, y_train, y_test, liste_classifier[j], liste_scaler[i])\n",
    "        \n",
    "        liste_acc[liste_scaler_name[i]+\" et \"+ liste_classifier_name[j]] = acc\n",
    "        liste_fscore[liste_scaler_name[i]+\" et \"+ liste_classifier_name[j]] = fscore"
   ]
  },
  {
   "cell_type": "code",
   "execution_count": 8,
   "metadata": {},
   "outputs": [
    {
     "data": {
      "text/plain": [
       "{'MinMaxScaler et XGBClassifier': 0.7757052131654517,\n",
       " 'StandardScaler et XGBClassifier': 0.8385448420587586,\n",
       " 'QuantileTransformer et XGBClassifier': 0.8355914512922465,\n",
       " 'RobustScaler et XGBClassifier': 0.8399972387894853,\n",
       " 'MaxAbsScaler et XGBClassifier': 0.6235266180693616,\n",
       " 'PowerTransformer et XGBClassifier': 0.8593698917605478}"
      ]
     },
     "execution_count": 8,
     "metadata": {},
     "output_type": "execute_result"
    }
   ],
   "source": [
    "liste_acc"
   ]
  },
  {
   "cell_type": "code",
   "execution_count": 9,
   "metadata": {},
   "outputs": [
    {
     "data": {
      "text/plain": [
       "{'MinMaxScaler et XGBClassifier': 0.4604027020780053,\n",
       " 'StandardScaler et XGBClassifier': 0.5163917759636159,\n",
       " 'QuantileTransformer et XGBClassifier': 0.46674696602167154,\n",
       " 'RobustScaler et XGBClassifier': 0.5172457009284219,\n",
       " 'MaxAbsScaler et XGBClassifier': 0.3529603154281402,\n",
       " 'PowerTransformer et XGBClassifier': 0.5720439089421016}"
      ]
     },
     "execution_count": 9,
     "metadata": {},
     "output_type": "execute_result"
    }
   ],
   "source": [
    "liste_fscore"
   ]
  },
  {
   "cell_type": "markdown",
   "metadata": {},
   "source": [
    "# Train house 2 Test house 1 - le jour"
   ]
  },
  {
   "cell_type": "code",
   "execution_count": 13,
   "metadata": {},
   "outputs": [],
   "source": [
    "X_train = house2_power_blk1[features_col].between_time('6:00:00', '21:59:59').values\n",
    "X_test = house1_power_blk2[features_col].between_time('6:00:00', '21:59:59').values\n",
    "\n",
    "y_train = house2_power_blk1['activity'].between_time('6:00:00', '21:59:59').values\n",
    "y_test = house1_power_blk2['activity'].between_time('6:00:00', '21:59:59').values"
   ]
  },
  {
   "cell_type": "code",
   "execution_count": 23,
   "metadata": {},
   "outputs": [
    {
     "name": "stdout",
     "output_type": "stream",
     "text": [
      "0\n",
      "1\n",
      "2\n",
      "3\n",
      "4\n",
      "5\n",
      "6\n",
      "7\n",
      "8\n",
      "9\n",
      "10\n",
      "11\n",
      "12\n",
      "13\n",
      "14\n",
      "15\n",
      "16\n",
      "17\n",
      "18\n",
      "19\n",
      "20\n",
      "21\n",
      "22\n",
      "23\n"
     ]
    }
   ],
   "source": [
    "liste_scaler = [MinMaxScaler(), StandardScaler(), QuantileTransformer(), RobustScaler(), MaxAbsScaler(), PowerTransformer()]\n",
    "liste_scaler_name = [\"MinMaxScaler\", \"StandardScaler\", \"QuantileTransformer\", \"RobustScaler\", \"MaxAbsScaler\", \"PowerTransformer\"]\n",
    "\n",
    "liste_classifier = [HistGradientBoostingClassifier(), LGBMClassifier(), CatBoostClassifier(silent=True, task_type=\"GPU\"), RandomForestClassifier()]\n",
    "liste_classifier_name = [\"HistGradientBoostingClassifier\", \"LGBMClassifier\", \"CatBoostClassifier\", \"RandomForestClassifier\"]\n",
    "\n",
    "liste_acc = dict()\n",
    "\n",
    "liste_fscore = dict()\n",
    "\n",
    "n=0\n",
    "    \n",
    "for i in range(len(liste_scaler_name)):\n",
    "    for j in range(len(liste_classifier_name)):\n",
    "        print(n)\n",
    "        n+=1\n",
    "        acc, fscore = score_classif(X_train, X_test, y_train, y_test, liste_classifier[j], liste_scaler[i])\n",
    "        \n",
    "        liste_acc[liste_scaler_name[i]+\" et \"+ liste_classifier_name[j]] = acc\n",
    "        liste_fscore[liste_scaler_name[i]+\" et \"+ liste_classifier_name[j]] = fscore"
   ]
  },
  {
   "cell_type": "code",
   "execution_count": 24,
   "metadata": {},
   "outputs": [
    {
     "data": {
      "text/plain": [
       "{'MinMaxScaler et HistGradientBoostingClassifier': 0.7429351300705468,\n",
       " 'MinMaxScaler et LGBMClassifier': 0.7449178791887126,\n",
       " 'MinMaxScaler et CatBoostClassifier': 0.7482123567019401,\n",
       " 'MinMaxScaler et RandomForestClassifier': 0.7370141644620811,\n",
       " 'StandardScaler et HistGradientBoostingClassifier': 0.6849366181657849,\n",
       " 'StandardScaler et LGBMClassifier': 0.6883074294532627,\n",
       " 'StandardScaler et CatBoostClassifier': 0.6947233245149912,\n",
       " 'StandardScaler et RandomForestClassifier': 0.6935918209876544,\n",
       " 'QuantileTransformer et HistGradientBoostingClassifier': 0.7195342813051147,\n",
       " 'QuantileTransformer et LGBMClassifier': 0.7234884810405644,\n",
       " 'QuantileTransformer et CatBoostClassifier': 0.7274765762786596,\n",
       " 'QuantileTransformer et RandomForestClassifier': 0.7245623897707231,\n",
       " 'RobustScaler et HistGradientBoostingClassifier': 0.7268802358906525,\n",
       " 'RobustScaler et LGBMClassifier': 0.7225496031746032,\n",
       " 'RobustScaler et CatBoostClassifier': 0.7174922839506173,\n",
       " 'RobustScaler et RandomForestClassifier': 0.7216123787477954,\n",
       " 'MaxAbsScaler et HistGradientBoostingClassifier': 0.6379370590828924,\n",
       " 'MaxAbsScaler et LGBMClassifier': 0.6399553571428571,\n",
       " 'MaxAbsScaler et CatBoostClassifier': 0.6429329254850088,\n",
       " 'MaxAbsScaler et RandomForestClassifier': 0.6369648368606702,\n",
       " 'PowerTransformer et HistGradientBoostingClassifier': 0.7245692791005292,\n",
       " 'PowerTransformer et LGBMClassifier': 0.7252356150793651,\n",
       " 'PowerTransformer et CatBoostClassifier': 0.726839451058201,\n",
       " 'PowerTransformer et RandomForestClassifier': 0.7230359898589065}"
      ]
     },
     "execution_count": 24,
     "metadata": {},
     "output_type": "execute_result"
    }
   ],
   "source": [
    "liste_acc"
   ]
  },
  {
   "cell_type": "code",
   "execution_count": 25,
   "metadata": {},
   "outputs": [
    {
     "data": {
      "text/plain": [
       "{'MinMaxScaler et HistGradientBoostingClassifier': 0.7625104978537917,\n",
       " 'MinMaxScaler et LGBMClassifier': 0.7638646880132409,\n",
       " 'MinMaxScaler et CatBoostClassifier': 0.7654954366372029,\n",
       " 'MinMaxScaler et RandomForestClassifier': 0.756357956292054,\n",
       " 'StandardScaler et HistGradientBoostingClassifier': 0.7666021272726102,\n",
       " 'StandardScaler et LGBMClassifier': 0.7699521884323878,\n",
       " 'StandardScaler et CatBoostClassifier': 0.7725092324993698,\n",
       " 'StandardScaler et RandomForestClassifier': 0.7704929933067929,\n",
       " 'QuantileTransformer et HistGradientBoostingClassifier': 0.7796074739737792,\n",
       " 'QuantileTransformer et LGBMClassifier': 0.7813326718195938,\n",
       " 'QuantileTransformer et CatBoostClassifier': 0.7828741454799342,\n",
       " 'QuantileTransformer et RandomForestClassifier': 0.7820485470497428,\n",
       " 'RobustScaler et HistGradientBoostingClassifier': 0.7808990046915345,\n",
       " 'RobustScaler et LGBMClassifier': 0.7791779536500574,\n",
       " 'RobustScaler et CatBoostClassifier': 0.77647965162433,\n",
       " 'RobustScaler et RandomForestClassifier': 0.7784101949389537,\n",
       " 'MaxAbsScaler et HistGradientBoostingClassifier': 0.6851573175386096,\n",
       " 'MaxAbsScaler et LGBMClassifier': 0.6863509104652789,\n",
       " 'MaxAbsScaler et CatBoostClassifier': 0.6880733889719428,\n",
       " 'MaxAbsScaler et RandomForestClassifier': 0.6845042672041027,\n",
       " 'PowerTransformer et HistGradientBoostingClassifier': 0.7822946867488414,\n",
       " 'PowerTransformer et LGBMClassifier': 0.7829277624671552,\n",
       " 'PowerTransformer et CatBoostClassifier': 0.7826262416416008,\n",
       " 'PowerTransformer et RandomForestClassifier': 0.7801042365174676}"
      ]
     },
     "execution_count": 25,
     "metadata": {},
     "output_type": "execute_result"
    }
   ],
   "source": [
    "liste_fscore"
   ]
  },
  {
   "cell_type": "code",
   "execution_count": 14,
   "metadata": {},
   "outputs": [
    {
     "name": "stdout",
     "output_type": "stream",
     "text": [
      "0\n",
      "1\n",
      "2\n",
      "3\n",
      "4\n",
      "5\n"
     ]
    }
   ],
   "source": [
    "liste_scaler = [MinMaxScaler(), StandardScaler(), QuantileTransformer(), RobustScaler(), MaxAbsScaler(), PowerTransformer()]\n",
    "liste_scaler_name = [\"MinMaxScaler\", \"StandardScaler\", \"QuantileTransformer\", \"RobustScaler\", \"MaxAbsScaler\", \"PowerTransformer\"]\n",
    "\n",
    "liste_classifier = [XGBClassifier()]\n",
    "liste_classifier_name = [\"XGBClassifier\"]\n",
    "\n",
    "liste_acc = dict()\n",
    "\n",
    "liste_fscore = dict()\n",
    "\n",
    "n=0\n",
    "    \n",
    "for i in range(len(liste_scaler_name)):\n",
    "    for j in range(len(liste_classifier_name)):\n",
    "        print(n)\n",
    "        n+=1\n",
    "        acc, fscore = score_classif(X_train, X_test, y_train, y_test, liste_classifier[j], liste_scaler[i])\n",
    "        \n",
    "        liste_acc[liste_scaler_name[i]+\" et \"+ liste_classifier_name[j]] = acc\n",
    "        liste_fscore[liste_scaler_name[i]+\" et \"+ liste_classifier_name[j]] = fscore"
   ]
  },
  {
   "cell_type": "code",
   "execution_count": 15,
   "metadata": {},
   "outputs": [
    {
     "data": {
      "text/plain": [
       "{'MinMaxScaler et XGBClassifier': 0.7306024029982363,\n",
       " 'StandardScaler et XGBClassifier': 0.6949112654320988,\n",
       " 'QuantileTransformer et XGBClassifier': 0.7214169973544974,\n",
       " 'RobustScaler et XGBClassifier': 0.7241785163139329,\n",
       " 'MaxAbsScaler et XGBClassifier': 0.6421717923280423,\n",
       " 'PowerTransformer et XGBClassifier': 0.7222996582892416}"
      ]
     },
     "execution_count": 15,
     "metadata": {},
     "output_type": "execute_result"
    }
   ],
   "source": [
    "liste_acc"
   ]
  },
  {
   "cell_type": "code",
   "execution_count": 16,
   "metadata": {},
   "outputs": [
    {
     "data": {
      "text/plain": [
       "{'MinMaxScaler et XGBClassifier': 0.7534933851908397,\n",
       " 'StandardScaler et XGBClassifier': 0.7713087231355154,\n",
       " 'QuantileTransformer et XGBClassifier': 0.7780869147621464,\n",
       " 'RobustScaler et XGBClassifier': 0.7689091889471087,\n",
       " 'MaxAbsScaler et XGBClassifier': 0.6880087327440668,\n",
       " 'PowerTransformer et XGBClassifier': 0.7783243224160586}"
      ]
     },
     "execution_count": 16,
     "metadata": {},
     "output_type": "execute_result"
    }
   ],
   "source": [
    "liste_fscore"
   ]
  },
  {
   "cell_type": "markdown",
   "metadata": {},
   "source": [
    "# Train house 1 Test house 2 - la nuit"
   ]
  },
  {
   "cell_type": "code",
   "execution_count": 17,
   "metadata": {},
   "outputs": [],
   "source": [
    "X_train = house1_power_blk2[features_col].between_time('22:00', '5:59:59').values\n",
    "X_test = house2_power_blk1[features_col].between_time('22:00', '5:59:59').values\n",
    "\n",
    "y_train = house1_power_blk2['activity'].between_time('22:00', '5:59:59').values\n",
    "y_test = house2_power_blk1['activity'].between_time('22:00', '5:59:59').values"
   ]
  },
  {
   "cell_type": "code",
   "execution_count": 27,
   "metadata": {},
   "outputs": [
    {
     "name": "stdout",
     "output_type": "stream",
     "text": [
      "0\n",
      "1\n",
      "2\n",
      "3\n",
      "4\n",
      "5\n",
      "6\n",
      "7\n",
      "8\n",
      "9\n",
      "10\n",
      "11\n",
      "12\n",
      "13\n",
      "14\n",
      "15\n",
      "16\n",
      "17\n",
      "18\n",
      "19\n",
      "20\n",
      "21\n",
      "22\n",
      "23\n"
     ]
    }
   ],
   "source": [
    "liste_scaler = [MinMaxScaler(), StandardScaler(), QuantileTransformer(), RobustScaler(), MaxAbsScaler(), PowerTransformer()]\n",
    "liste_scaler_name = [\"MinMaxScaler\", \"StandardScaler\", \"QuantileTransformer\", \"RobustScaler\", \"MaxAbsScaler\", \"PowerTransformer\"]\n",
    "\n",
    "liste_classifier = [HistGradientBoostingClassifier(), LGBMClassifier(), CatBoostClassifier(silent=True, task_type=\"GPU\"), RandomForestClassifier()]\n",
    "liste_classifier_name = [\"HistGradientBoostingClassifier\", \"LGBMClassifier\", \"CatBoostClassifier\", \"RandomForestClassifier\"]\n",
    "\n",
    "liste_acc = dict()\n",
    "\n",
    "liste_fscore = dict()\n",
    "\n",
    "n=0\n",
    "    \n",
    "for i in range(len(liste_scaler_name)):\n",
    "    for j in range(len(liste_classifier_name)):\n",
    "        print(n)\n",
    "        n+=1\n",
    "        acc, fscore = score_classif(X_train, X_test, y_train, y_test, liste_classifier[j], liste_scaler[i])\n",
    "        \n",
    "        liste_acc[liste_scaler_name[i]+\" et \"+ liste_classifier_name[j]] = acc\n",
    "        liste_fscore[liste_scaler_name[i]+\" et \"+ liste_classifier_name[j]] = fscore"
   ]
  },
  {
   "cell_type": "code",
   "execution_count": 28,
   "metadata": {},
   "outputs": [
    {
     "data": {
      "text/plain": [
       "{'MinMaxScaler et HistGradientBoostingClassifier': 0.9166061780596664,\n",
       " 'MinMaxScaler et LGBMClassifier': 0.9252249236551562,\n",
       " 'MinMaxScaler et CatBoostClassifier': 0.9053993422598073,\n",
       " 'MinMaxScaler et RandomForestClassifier': 0.9196200375851539,\n",
       " 'StandardScaler et HistGradientBoostingClassifier': 0.816869274136716,\n",
       " 'StandardScaler et LGBMClassifier': 0.8411392999765093,\n",
       " 'StandardScaler et CatBoostClassifier': 0.8365744655860935,\n",
       " 'StandardScaler et RandomForestClassifier': 0.8671728917077755,\n",
       " 'QuantileTransformer et HistGradientBoostingClassifier': 0.8683168898285177,\n",
       " 'QuantileTransformer et LGBMClassifier': 0.8639323467230444,\n",
       " 'QuantileTransformer et CatBoostClassifier': 0.8681424712238666,\n",
       " 'QuantileTransformer et RandomForestClassifier': 0.878231148696265,\n",
       " 'RobustScaler et HistGradientBoostingClassifier': 0.7583732675593141,\n",
       " 'RobustScaler et LGBMClassifier': 0.7754833215879727,\n",
       " 'RobustScaler et CatBoostClassifier': 0.8121535118628141,\n",
       " 'RobustScaler et RandomForestClassifier': 0.8330426356589147,\n",
       " 'MaxAbsScaler et HistGradientBoostingClassifier': 0.8794444444444445,\n",
       " 'MaxAbsScaler et LGBMClassifier': 0.8792218698614047,\n",
       " 'MaxAbsScaler et CatBoostClassifier': 0.8750287761334273,\n",
       " 'MaxAbsScaler et RandomForestClassifier': 0.8835241954428001,\n",
       " 'PowerTransformer et HistGradientBoostingClassifier': 0.8672674418604651,\n",
       " 'PowerTransformer et LGBMClassifier': 0.86671834625323,\n",
       " 'PowerTransformer et CatBoostClassifier': 0.8725628376791168,\n",
       " 'PowerTransformer et RandomForestClassifier': 0.87787056612638}"
      ]
     },
     "execution_count": 28,
     "metadata": {},
     "output_type": "execute_result"
    }
   ],
   "source": [
    "liste_acc"
   ]
  },
  {
   "cell_type": "code",
   "execution_count": 29,
   "metadata": {},
   "outputs": [
    {
     "data": {
      "text/plain": [
       "{'MinMaxScaler et HistGradientBoostingClassifier': 0.7708107112067547,\n",
       " 'MinMaxScaler et LGBMClassifier': 0.8028095652058582,\n",
       " 'MinMaxScaler et CatBoostClassifier': 0.7182742430404081,\n",
       " 'MinMaxScaler et RandomForestClassifier': 0.7853189924737722,\n",
       " 'StandardScaler et HistGradientBoostingClassifier': 0.4572987104880201,\n",
       " 'StandardScaler et LGBMClassifier': 0.5019724217504724,\n",
       " 'StandardScaler et CatBoostClassifier': 0.4940709436661346,\n",
       " 'StandardScaler et RandomForestClassifier': 0.5593614749622756,\n",
       " 'QuantileTransformer et HistGradientBoostingClassifier': 0.5461864854235248,\n",
       " 'QuantileTransformer et LGBMClassifier': 0.5301416972059387,\n",
       " 'QuantileTransformer et CatBoostClassifier': 0.5464745895069975,\n",
       " 'QuantileTransformer et RandomForestClassifier': 0.5781594501779438,\n",
       " 'RobustScaler et HistGradientBoostingClassifier': 0.17964744692989848,\n",
       " 'RobustScaler et LGBMClassifier': 0.18668869652027906,\n",
       " 'RobustScaler et CatBoostClassifier': 0.34434496364808626,\n",
       " 'RobustScaler et RandomForestClassifier': 0.3269649838114463,\n",
       " 'MaxAbsScaler et HistGradientBoostingClassifier': 0.5227937515223497,\n",
       " 'MaxAbsScaler et LGBMClassifier': 0.5203770164474182,\n",
       " 'MaxAbsScaler et CatBoostClassifier': 0.4711294231926696,\n",
       " 'MaxAbsScaler et RandomForestClassifier': 0.5612421358625884,\n",
       " 'PowerTransformer et HistGradientBoostingClassifier': 0.5589002141099453,\n",
       " 'PowerTransformer et LGBMClassifier': 0.5590838101775942,\n",
       " 'PowerTransformer et CatBoostClassifier': 0.5718398152748874,\n",
       " 'PowerTransformer et RandomForestClassifier': 0.5873873423035515}"
      ]
     },
     "execution_count": 29,
     "metadata": {},
     "output_type": "execute_result"
    }
   ],
   "source": [
    "liste_fscore"
   ]
  },
  {
   "cell_type": "code",
   "execution_count": 18,
   "metadata": {},
   "outputs": [
    {
     "name": "stdout",
     "output_type": "stream",
     "text": [
      "0\n",
      "1\n",
      "2\n",
      "3\n",
      "4\n",
      "5\n"
     ]
    }
   ],
   "source": [
    "liste_scaler = [MinMaxScaler(), StandardScaler(), QuantileTransformer(), RobustScaler(), MaxAbsScaler(), PowerTransformer()]\n",
    "liste_scaler_name = [\"MinMaxScaler\", \"StandardScaler\", \"QuantileTransformer\", \"RobustScaler\", \"MaxAbsScaler\", \"PowerTransformer\"]\n",
    "\n",
    "liste_classifier = [XGBClassifier()]\n",
    "liste_classifier_name = [\"XGBClassifier\"]\n",
    "\n",
    "liste_acc = dict()\n",
    "\n",
    "liste_fscore = dict()\n",
    "\n",
    "n=0\n",
    "    \n",
    "for i in range(len(liste_scaler_name)):\n",
    "    for j in range(len(liste_classifier_name)):\n",
    "        print(n)\n",
    "        n+=1\n",
    "        acc, fscore = score_classif(X_train, X_test, y_train, y_test, liste_classifier[j], liste_scaler[i])\n",
    "        \n",
    "        liste_acc[liste_scaler_name[i]+\" et \"+ liste_classifier_name[j]] = acc\n",
    "        liste_fscore[liste_scaler_name[i]+\" et \"+ liste_classifier_name[j]] = fscore"
   ]
  },
  {
   "cell_type": "code",
   "execution_count": 19,
   "metadata": {},
   "outputs": [
    {
     "data": {
      "text/plain": [
       "{'MinMaxScaler et XGBClassifier': 0.9176755931407095,\n",
       " 'StandardScaler et XGBClassifier': 0.8749113225276016,\n",
       " 'QuantileTransformer et XGBClassifier': 0.8737726098191214,\n",
       " 'RobustScaler et XGBClassifier': 0.7907634484378671,\n",
       " 'MaxAbsScaler et XGBClassifier': 0.8894373972280949,\n",
       " 'PowerTransformer et XGBClassifier': 0.8781688982851773}"
      ]
     },
     "execution_count": 19,
     "metadata": {},
     "output_type": "execute_result"
    }
   ],
   "source": [
    "liste_acc"
   ]
  },
  {
   "cell_type": "code",
   "execution_count": 20,
   "metadata": {},
   "outputs": [
    {
     "data": {
      "text/plain": [
       "{'MinMaxScaler et XGBClassifier': 0.7717192328095166,\n",
       " 'StandardScaler et XGBClassifier': 0.580775688971354,\n",
       " 'QuantileTransformer et XGBClassifier': 0.5669723982072904,\n",
       " 'RobustScaler et XGBClassifier': 0.24598513127204774,\n",
       " 'MaxAbsScaler et XGBClassifier': 0.6155761168527685,\n",
       " 'PowerTransformer et XGBClassifier': 0.5880605423874302}"
      ]
     },
     "execution_count": 20,
     "metadata": {},
     "output_type": "execute_result"
    }
   ],
   "source": [
    "liste_fscore"
   ]
  },
  {
   "cell_type": "markdown",
   "metadata": {},
   "source": [
    "# Train house 1 Test house 2 - le jour"
   ]
  },
  {
   "cell_type": "code",
   "execution_count": 21,
   "metadata": {},
   "outputs": [],
   "source": [
    "X_train = house1_power_blk2[features_col].between_time('6:00:00', '21:59:59').values\n",
    "X_test = house2_power_blk1[features_col].between_time('6:00:00', '21:59:59').values\n",
    "\n",
    "y_train = house1_power_blk2['activity'].between_time('6:00:00', '21:59:59').values\n",
    "y_test = house2_power_blk1['activity'].between_time('6:00:00', '21:59:59').values"
   ]
  },
  {
   "cell_type": "code",
   "execution_count": 31,
   "metadata": {},
   "outputs": [
    {
     "name": "stdout",
     "output_type": "stream",
     "text": [
      "0\n",
      "1\n",
      "2\n",
      "3\n",
      "4\n",
      "5\n",
      "6\n",
      "7\n",
      "8\n",
      "9\n",
      "10\n",
      "11\n",
      "12\n",
      "13\n",
      "14\n",
      "15\n",
      "16\n",
      "17\n",
      "18\n",
      "19\n",
      "20\n",
      "21\n",
      "22\n",
      "23\n"
     ]
    }
   ],
   "source": [
    "liste_scaler = [MinMaxScaler(), StandardScaler(), QuantileTransformer(), RobustScaler(), MaxAbsScaler(), PowerTransformer()]\n",
    "liste_scaler_name = [\"MinMaxScaler\", \"StandardScaler\", \"QuantileTransformer\", \"RobustScaler\", \"MaxAbsScaler\", \"PowerTransformer\"]\n",
    "\n",
    "liste_classifier = [HistGradientBoostingClassifier(), LGBMClassifier(), CatBoostClassifier(silent=True, task_type=\"GPU\"), RandomForestClassifier()]\n",
    "liste_classifier_name = [\"HistGradientBoostingClassifier\", \"LGBMClassifier\", \"CatBoostClassifier\", \"RandomForestClassifier\"]\n",
    "\n",
    "liste_acc = dict()\n",
    "\n",
    "liste_fscore = dict()\n",
    "\n",
    "n=0\n",
    "    \n",
    "for i in range(len(liste_scaler_name)):\n",
    "    for j in range(len(liste_classifier_name)):\n",
    "        print(n)\n",
    "        n+=1\n",
    "        acc, fscore = score_classif(X_train, X_test, y_train, y_test, liste_classifier[j], liste_scaler[i])\n",
    "        \n",
    "        liste_acc[liste_scaler_name[i]+\" et \"+ liste_classifier_name[j]] = acc\n",
    "        liste_fscore[liste_scaler_name[i]+\" et \"+ liste_classifier_name[j]] = fscore"
   ]
  },
  {
   "cell_type": "code",
   "execution_count": 32,
   "metadata": {},
   "outputs": [
    {
     "data": {
      "text/plain": [
       "{'MinMaxScaler et HistGradientBoostingClassifier': 0.764891713747646,\n",
       " 'MinMaxScaler et LGBMClassifier': 0.7713503413370998,\n",
       " 'MinMaxScaler et CatBoostClassifier': 0.7681126412429379,\n",
       " 'MinMaxScaler et RandomForestClassifier': 0.749752824858757,\n",
       " 'StandardScaler et HistGradientBoostingClassifier': 0.6346739642184558,\n",
       " 'StandardScaler et LGBMClassifier': 0.6299585098870056,\n",
       " 'StandardScaler et CatBoostClassifier': 0.6127954331450094,\n",
       " 'StandardScaler et RandomForestClassifier': 0.6231323564030132,\n",
       " 'QuantileTransformer et HistGradientBoostingClassifier': 0.7132950800376647,\n",
       " 'QuantileTransformer et LGBMClassifier': 0.7170759769303201,\n",
       " 'QuantileTransformer et CatBoostClassifier': 0.7104940560263654,\n",
       " 'QuantileTransformer et RandomForestClassifier': 0.7038297434086629,\n",
       " 'RobustScaler et HistGradientBoostingClassifier': 0.7207582980225988,\n",
       " 'RobustScaler et LGBMClassifier': 0.7296304143126177,\n",
       " 'RobustScaler et CatBoostClassifier': 0.716761711393597,\n",
       " 'RobustScaler et RandomForestClassifier': 0.7113791784369115,\n",
       " 'MaxAbsScaler et HistGradientBoostingClassifier': 0.7320489053672317,\n",
       " 'MaxAbsScaler et LGBMClassifier': 0.7413797669491525,\n",
       " 'MaxAbsScaler et CatBoostClassifier': 0.7187314618644067,\n",
       " 'MaxAbsScaler et RandomForestClassifier': 0.7011272951977401,\n",
       " 'PowerTransformer et HistGradientBoostingClassifier': 0.7205049435028249,\n",
       " 'PowerTransformer et LGBMClassifier': 0.7137164548022599,\n",
       " 'PowerTransformer et CatBoostClassifier': 0.7069756355932203,\n",
       " 'PowerTransformer et RandomForestClassifier': 0.6997154543314501}"
      ]
     },
     "execution_count": 32,
     "metadata": {},
     "output_type": "execute_result"
    }
   ],
   "source": [
    "liste_acc"
   ]
  },
  {
   "cell_type": "code",
   "execution_count": 33,
   "metadata": {},
   "outputs": [
    {
     "data": {
      "text/plain": [
       "{'MinMaxScaler et HistGradientBoostingClassifier': 0.8085443186716468,\n",
       " 'MinMaxScaler et LGBMClassifier': 0.8196958564335493,\n",
       " 'MinMaxScaler et CatBoostClassifier': 0.8140438895915348,\n",
       " 'MinMaxScaler et RandomForestClassifier': 0.7845511731902404,\n",
       " 'StandardScaler et HistGradientBoostingClassifier': 0.6708001540999592,\n",
       " 'StandardScaler et LGBMClassifier': 0.6677195595116115,\n",
       " 'StandardScaler et CatBoostClassifier': 0.656883049091942,\n",
       " 'StandardScaler et RandomForestClassifier': 0.6631337201258547,\n",
       " 'QuantileTransformer et HistGradientBoostingClassifier': 0.7403134433463067,\n",
       " 'QuantileTransformer et LGBMClassifier': 0.7434585143560952,\n",
       " 'QuantileTransformer et CatBoostClassifier': 0.736172583773913,\n",
       " 'QuantileTransformer et RandomForestClassifier': 0.7284937711863506,\n",
       " 'RobustScaler et HistGradientBoostingClassifier': 0.7384730049169776,\n",
       " 'RobustScaler et LGBMClassifier': 0.7477767725739103,\n",
       " 'RobustScaler et CatBoostClassifier': 0.7359075882964827,\n",
       " 'RobustScaler et RandomForestClassifier': 0.7303673109867607,\n",
       " 'MaxAbsScaler et HistGradientBoostingClassifier': 0.8218460829678407,\n",
       " 'MaxAbsScaler et LGBMClassifier': 0.8359174014306762,\n",
       " 'MaxAbsScaler et CatBoostClassifier': 0.7995391445039078,\n",
       " 'MaxAbsScaler et RandomForestClassifier': 0.7673304531211006,\n",
       " 'PowerTransformer et HistGradientBoostingClassifier': 0.7386458314279105,\n",
       " 'PowerTransformer et LGBMClassifier': 0.7337391336133976,\n",
       " 'PowerTransformer et CatBoostClassifier': 0.729150510761411,\n",
       " 'PowerTransformer et RandomForestClassifier': 0.7227104451725678}"
      ]
     },
     "execution_count": 33,
     "metadata": {},
     "output_type": "execute_result"
    }
   ],
   "source": [
    "liste_fscore"
   ]
  },
  {
   "cell_type": "code",
   "execution_count": 22,
   "metadata": {},
   "outputs": [
    {
     "name": "stdout",
     "output_type": "stream",
     "text": [
      "0\n",
      "1\n",
      "2\n",
      "3\n",
      "4\n",
      "5\n"
     ]
    }
   ],
   "source": [
    "liste_scaler = [MinMaxScaler(), StandardScaler(), QuantileTransformer(), RobustScaler(), MaxAbsScaler(), PowerTransformer()]\n",
    "liste_scaler_name = [\"MinMaxScaler\", \"StandardScaler\", \"QuantileTransformer\", \"RobustScaler\", \"MaxAbsScaler\", \"PowerTransformer\"]\n",
    "\n",
    "liste_classifier = [XGBClassifier()]\n",
    "liste_classifier_name = [\"XGBClassifier\"]\n",
    "\n",
    "liste_acc = dict()\n",
    "\n",
    "liste_fscore = dict()\n",
    "\n",
    "n=0\n",
    "    \n",
    "for i in range(len(liste_scaler_name)):\n",
    "    for j in range(len(liste_classifier_name)):\n",
    "        print(n)\n",
    "        n+=1\n",
    "        acc, fscore = score_classif(X_train, X_test, y_train, y_test, liste_classifier[j], liste_scaler[i])\n",
    "        \n",
    "        liste_acc[liste_scaler_name[i]+\" et \"+ liste_classifier_name[j]] = acc\n",
    "        liste_fscore[liste_scaler_name[i]+\" et \"+ liste_classifier_name[j]] = fscore"
   ]
  },
  {
   "cell_type": "code",
   "execution_count": 23,
   "metadata": {},
   "outputs": [
    {
     "data": {
      "text/plain": [
       "{'MinMaxScaler et XGBClassifier': 0.7513159133709981,\n",
       " 'StandardScaler et XGBClassifier': 0.630129472693032,\n",
       " 'QuantileTransformer et XGBClassifier': 0.7069859345574387,\n",
       " 'RobustScaler et XGBClassifier': 0.7169367937853107,\n",
       " 'MaxAbsScaler et XGBClassifier': 0.7165510240112994,\n",
       " 'PowerTransformer et XGBClassifier': 0.7146074623352165}"
      ]
     },
     "execution_count": 23,
     "metadata": {},
     "output_type": "execute_result"
    }
   ],
   "source": [
    "liste_acc"
   ]
  },
  {
   "cell_type": "code",
   "execution_count": 24,
   "metadata": {},
   "outputs": [
    {
     "data": {
      "text/plain": [
       "{'MinMaxScaler et XGBClassifier': 0.7892024133048149,\n",
       " 'StandardScaler et XGBClassifier': 0.6684986785313761,\n",
       " 'QuantileTransformer et XGBClassifier': 0.7348442063728245,\n",
       " 'RobustScaler et XGBClassifier': 0.7365813937707809,\n",
       " 'MaxAbsScaler et XGBClassifier': 0.7899286319463854,\n",
       " 'PowerTransformer et XGBClassifier': 0.7378816727729717}"
      ]
     },
     "execution_count": 24,
     "metadata": {},
     "output_type": "execute_result"
    }
   ],
   "source": [
    "liste_fscore"
   ]
  },
  {
   "cell_type": "markdown",
   "metadata": {},
   "source": [
    "# voting Train house 1 Test house 2"
   ]
  },
  {
   "cell_type": "code",
   "execution_count": 34,
   "metadata": {},
   "outputs": [],
   "source": [
    "sample_idx = mod.pick_random_indexes(house2_power_blk1, 0.5)\n",
    "X_train = house1_power_blk2[features_col].values\n",
    "X_test = house2_power_blk1.loc[sample_idx, features_col].values\n",
    "\n",
    "y_train = house1_power_blk2['activity'].values\n",
    "y_test = house2_power_blk1.loc[sample_idx, 'activity'].values"
   ]
  },
  {
   "cell_type": "code",
   "execution_count": 35,
   "metadata": {},
   "outputs": [
    {
     "name": "stdout",
     "output_type": "stream",
     "text": [
      "0\n",
      "1\n",
      "2\n",
      "3\n",
      "4\n",
      "5\n",
      "6\n"
     ]
    }
   ],
   "source": [
    "liste_scaler = [MinMaxScaler(), StandardScaler(), QuantileTransformer(), RobustScaler(), Normalizer(), MaxAbsScaler(), PowerTransformer()]\n",
    "liste_scaler_name = [\"MinMaxScaler\", \"StandardScaler\", \"QuantileTransformer\", \"RobustScaler\", \"Normalizer\", \"MaxAbsScaler\", \"PowerTransformer\"]\n",
    "\n",
    "clf1 = XGBClassifier()\n",
    "clf2 = HistGradientBoostingClassifier()\n",
    "clf3 = LGBMClassifier()\n",
    "clf4 = CatBoostClassifier(silent=True, task_type=\"GPU\")\n",
    "clf5 = RandomForestClassifier()\n",
    "\n",
    "liste_classifier = [VotingClassifier(estimators=[('XGB', clf1), ('HGB', clf2), ('LGBM', clf3), ('CBC', clf4), ('RFC', clf5)], voting='soft')] # weights=[0.1, 0.3, 0.3, 0.3]\n",
    "liste_classifier_name = [\"VotingClassifier\"]\n",
    "\n",
    "liste_acc = dict()\n",
    "\n",
    "liste_fscore = dict()\n",
    "\n",
    "n=0\n",
    "    \n",
    "for i in range(len(liste_scaler_name)):\n",
    "    for j in range(len(liste_classifier_name)):\n",
    "        print(n)\n",
    "        n+=1\n",
    "        acc, fscore = score_classif(X_train, X_test, y_train, y_test, liste_classifier[j], liste_scaler[i])\n",
    "        \n",
    "        liste_acc[liste_scaler_name[i]+\" et \"+ liste_classifier_name[j]] = acc\n",
    "        liste_fscore[liste_scaler_name[i]+\" et \"+ liste_classifier_name[j]] = fscore\n"
   ]
  },
  {
   "cell_type": "code",
   "execution_count": 36,
   "metadata": {},
   "outputs": [
    {
     "data": {
      "text/plain": [
       "{'MinMaxScaler et VotingClassifier': 0.830294540229885,\n",
       " 'StandardScaler et VotingClassifier': 0.6933030012771392,\n",
       " 'QuantileTransformer et VotingClassifier': 0.7570518039591315,\n",
       " 'RobustScaler et VotingClassifier': 0.7756042464878672,\n",
       " 'Normalizer et VotingClassifier': 0.6652282886334611,\n",
       " 'MaxAbsScaler et VotingClassifier': 0.7975566730523627,\n",
       " 'PowerTransformer et VotingClassifier': 0.7631142241379311}"
      ]
     },
     "execution_count": 36,
     "metadata": {},
     "output_type": "execute_result"
    }
   ],
   "source": [
    "liste_acc"
   ]
  },
  {
   "cell_type": "code",
   "execution_count": 37,
   "metadata": {},
   "outputs": [
    {
     "data": {
      "text/plain": [
       "{'MinMaxScaler et VotingClassifier': 0.8184569944074453,\n",
       " 'StandardScaler et VotingClassifier': 0.6420492878912878,\n",
       " 'QuantileTransformer et VotingClassifier': 0.7079036915230363,\n",
       " 'RobustScaler et VotingClassifier': 0.7261750158620066,\n",
       " 'Normalizer et VotingClassifier': 0.6056305390504423,\n",
       " 'MaxAbsScaler et VotingClassifier': 0.8197215837147419,\n",
       " 'PowerTransformer et VotingClassifier': 0.7104368654259119}"
      ]
     },
     "execution_count": 37,
     "metadata": {},
     "output_type": "execute_result"
    }
   ],
   "source": [
    "liste_fscore"
   ]
  },
  {
   "cell_type": "markdown",
   "metadata": {},
   "source": [
    "# voting Train house 2 Test house 1"
   ]
  },
  {
   "cell_type": "code",
   "execution_count": 38,
   "metadata": {},
   "outputs": [],
   "source": [
    "sample_idx = mod.pick_random_indexes(house1_power_blk2, 0.5)\n",
    "X_train = house2_power_blk1[features_col].values\n",
    "X_test = house1_power_blk2.loc[sample_idx, features_col].values\n",
    "\n",
    "y_train = house2_power_blk1['activity'].values\n",
    "y_test = house1_power_blk2.loc[sample_idx, 'activity'].values"
   ]
  },
  {
   "cell_type": "code",
   "execution_count": 39,
   "metadata": {},
   "outputs": [
    {
     "name": "stdout",
     "output_type": "stream",
     "text": [
      "0\n",
      "1\n",
      "2\n",
      "3\n",
      "4\n",
      "5\n",
      "6\n"
     ]
    }
   ],
   "source": [
    "liste_scaler = [MinMaxScaler(), StandardScaler(), QuantileTransformer(), RobustScaler(), Normalizer(), MaxAbsScaler(), PowerTransformer()]\n",
    "liste_scaler_name = [\"MinMaxScaler\", \"StandardScaler\", \"QuantileTransformer\", \"RobustScaler\", \"Normalizer\", \"MaxAbsScaler\", \"PowerTransformer\"]\n",
    "\n",
    "clf1 = XGBClassifier()\n",
    "clf2 = HistGradientBoostingClassifier()\n",
    "clf3 = LGBMClassifier()\n",
    "clf4 = CatBoostClassifier(silent=True, task_type=\"GPU\")\n",
    "clf5 = RandomForestClassifier()\n",
    "\n",
    "liste_classifier = [VotingClassifier(estimators=[('XGB', clf1), ('HGB', clf2), ('LGBM', clf3), ('CBC', clf4), ('RFC', clf5)], voting='soft')]\n",
    "liste_classifier_name = [\"VotingClassifier\"]\n",
    "\n",
    "liste_acc = dict()\n",
    "\n",
    "liste_fscore = dict()\n",
    "\n",
    "n=0\n",
    "    \n",
    "for i in range(len(liste_scaler_name)):\n",
    "    for j in range(len(liste_classifier_name)):\n",
    "        print(n)\n",
    "        n+=1\n",
    "        acc, fscore = score_classif(X_train, X_test, y_train, y_test, liste_classifier[j], liste_scaler[i])\n",
    "        \n",
    "        liste_acc[liste_scaler_name[i]+\" et \"+ liste_classifier_name[j]] = acc\n",
    "        liste_fscore[liste_scaler_name[i]+\" et \"+ liste_classifier_name[j]] = fscore"
   ]
  },
  {
   "cell_type": "code",
   "execution_count": 40,
   "metadata": {},
   "outputs": [
    {
     "data": {
      "text/plain": [
       "{'MinMaxScaler et VotingClassifier': 0.6889859617682198,\n",
       " 'StandardScaler et VotingClassifier': 0.7258445340501792,\n",
       " 'QuantileTransformer et VotingClassifier': 0.7386783154121864,\n",
       " 'RobustScaler et VotingClassifier': 0.7412335722819594,\n",
       " 'Normalizer et VotingClassifier': 0.4745852001194743,\n",
       " 'MaxAbsScaler et VotingClassifier': 0.46290770609319,\n",
       " 'PowerTransformer et VotingClassifier': 0.739195788530466}"
      ]
     },
     "execution_count": 40,
     "metadata": {},
     "output_type": "execute_result"
    }
   ],
   "source": [
    "liste_acc"
   ]
  },
  {
   "cell_type": "code",
   "execution_count": 41,
   "metadata": {},
   "outputs": [
    {
     "data": {
      "text/plain": [
       "{'MinMaxScaler et VotingClassifier': 0.6511639717947486,\n",
       " 'StandardScaler et VotingClassifier': 0.7059071646870434,\n",
       " 'QuantileTransformer et VotingClassifier': 0.7169307223766564,\n",
       " 'RobustScaler et VotingClassifier': 0.7133822388807313,\n",
       " 'Normalizer et VotingClassifier': 0.5237477426055831,\n",
       " 'MaxAbsScaler et VotingClassifier': 0.5186120829689651,\n",
       " 'PowerTransformer et VotingClassifier': 0.7152614954050218}"
      ]
     },
     "execution_count": 41,
     "metadata": {},
     "output_type": "execute_result"
    }
   ],
   "source": [
    "liste_fscore"
   ]
  },
  {
   "cell_type": "markdown",
   "metadata": {},
   "source": [
    "# voting Train house 2 Test house 1 - la nuit"
   ]
  },
  {
   "cell_type": "code",
   "execution_count": 26,
   "metadata": {},
   "outputs": [],
   "source": [
    "X_train = house2_power_blk1[features_col].between_time('22:00', '5:59:59').values\n",
    "X_test = house1_power_blk2[features_col].between_time('22:00', '5:59:59').values\n",
    "\n",
    "y_train = house2_power_blk1['activity'].between_time('22:00', '5:59:59').values\n",
    "y_test = house1_power_blk2['activity'].between_time('22:00', '5:59:59').values"
   ]
  },
  {
   "cell_type": "code",
   "execution_count": 28,
   "metadata": {},
   "outputs": [
    {
     "name": "stdout",
     "output_type": "stream",
     "text": [
      "0\n",
      "1\n",
      "2\n",
      "3\n",
      "4\n",
      "5\n"
     ]
    }
   ],
   "source": [
    "liste_scaler = [MinMaxScaler(), StandardScaler(), QuantileTransformer(), RobustScaler(), MaxAbsScaler(), PowerTransformer()]\n",
    "liste_scaler_name = [\"MinMaxScaler\", \"StandardScaler\", \"QuantileTransformer\", \"RobustScaler\", \"MaxAbsScaler\", \"PowerTransformer\"]\n",
    "\n",
    "clf1 = XGBClassifier()\n",
    "clf2 = HistGradientBoostingClassifier()\n",
    "clf3 = LGBMClassifier()\n",
    "clf4 = CatBoostClassifier(silent=True, task_type=\"GPU\")\n",
    "clf5 = RandomForestClassifier()\n",
    "\n",
    "liste_classifier = [VotingClassifier(estimators=[('XGB', clf1), ('HGB', clf2), ('LGBM', clf3), ('CBC', clf4), ('RFC', clf5)], voting='soft')]\n",
    "liste_classifier_name = [\"VotingClassifier\"]\n",
    "\n",
    "liste_acc = dict()\n",
    "liste_fscore = dict()\n",
    "\n",
    "n=0\n",
    "    \n",
    "for i in range(len(liste_scaler_name)):\n",
    "    for j in range(len(liste_classifier_name)):\n",
    "        print(n)\n",
    "        n+=1\n",
    "        acc, fscore = score_classif(X_train, X_test, y_train, y_test, liste_classifier[j], liste_scaler[i])\n",
    "        \n",
    "        liste_acc[liste_scaler_name[i]+\" et \"+ liste_classifier_name[j]] = acc\n",
    "        liste_fscore[liste_scaler_name[i]+\" et \"+ liste_classifier_name[j]] = fscore"
   ]
  },
  {
   "cell_type": "code",
   "execution_count": 29,
   "metadata": {},
   "outputs": [
    {
     "data": {
      "text/plain": [
       "{'MinMaxScaler et VotingClassifier': 0.7763971725204329,\n",
       " 'StandardScaler et VotingClassifier': 0.8479649878506738,\n",
       " 'QuantileTransformer et VotingClassifier': 0.8454793461453501,\n",
       " 'RobustScaler et VotingClassifier': 0.8487911420366688,\n",
       " 'MaxAbsScaler et VotingClassifier': 0.5299447757897062,\n",
       " 'PowerTransformer et VotingClassifier': 0.8595195493704441}"
      ]
     },
     "execution_count": 29,
     "metadata": {},
     "output_type": "execute_result"
    }
   ],
   "source": [
    "liste_acc"
   ]
  },
  {
   "cell_type": "code",
   "execution_count": 30,
   "metadata": {},
   "outputs": [
    {
     "data": {
      "text/plain": [
       "{'MinMaxScaler et VotingClassifier': 0.4620765804738672,\n",
       " 'StandardScaler et VotingClassifier': 0.5435950607303583,\n",
       " 'QuantileTransformer et VotingClassifier': 0.5074754746065835,\n",
       " 'RobustScaler et VotingClassifier': 0.5506125648396387,\n",
       " 'MaxAbsScaler et VotingClassifier': 0.30865734264595485,\n",
       " 'PowerTransformer et VotingClassifier': 0.5771114614701092}"
      ]
     },
     "execution_count": 30,
     "metadata": {},
     "output_type": "execute_result"
    }
   ],
   "source": [
    "liste_fscore"
   ]
  },
  {
   "cell_type": "markdown",
   "metadata": {},
   "source": [
    "# voting Train house 2 Test house 1 - le jour"
   ]
  },
  {
   "cell_type": "code",
   "execution_count": 31,
   "metadata": {},
   "outputs": [],
   "source": [
    "X_train = house2_power_blk1[features_col].between_time('6:00:00', '21:59:59').values\n",
    "X_test = house1_power_blk2[features_col].between_time('6:00:00', '21:59:59').values\n",
    "\n",
    "y_train = house2_power_blk1['activity'].between_time('6:00:00', '21:59:59').values\n",
    "y_test = house1_power_blk2['activity'].between_time('6:00:00', '21:59:59').values"
   ]
  },
  {
   "cell_type": "code",
   "execution_count": 32,
   "metadata": {},
   "outputs": [
    {
     "name": "stdout",
     "output_type": "stream",
     "text": [
      "0\n",
      "1\n",
      "2\n",
      "3\n",
      "4\n",
      "5\n"
     ]
    }
   ],
   "source": [
    "liste_scaler = [MinMaxScaler(), StandardScaler(), QuantileTransformer(), RobustScaler(), MaxAbsScaler(), PowerTransformer()]\n",
    "liste_scaler_name = [\"MinMaxScaler\", \"StandardScaler\", \"QuantileTransformer\", \"RobustScaler\", \"MaxAbsScaler\", \"PowerTransformer\"]\n",
    "\n",
    "clf1 = XGBClassifier()\n",
    "clf2 = HistGradientBoostingClassifier()\n",
    "clf3 = LGBMClassifier()\n",
    "clf4 = CatBoostClassifier(silent=True, task_type=\"GPU\")\n",
    "clf5 = RandomForestClassifier()\n",
    "\n",
    "liste_classifier = [VotingClassifier(estimators=[('XGB', clf1), ('HGB', clf2), ('LGBM', clf3), ('CBC', clf4), ('RFC', clf5)], voting='soft')]\n",
    "liste_classifier_name = [\"VotingClassifier\"]\n",
    "\n",
    "liste_acc = dict()\n",
    "\n",
    "liste_fscore = dict()\n",
    "\n",
    "n=0\n",
    "    \n",
    "for i in range(len(liste_scaler_name)):\n",
    "    for j in range(len(liste_classifier_name)):\n",
    "        print(n)\n",
    "        n+=1\n",
    "        acc, fscore = score_classif(X_train, X_test, y_train, y_test, liste_classifier[j], liste_scaler[i])\n",
    "        \n",
    "        liste_acc[liste_scaler_name[i]+\" et \"+ liste_classifier_name[j]] = acc\n",
    "        liste_fscore[liste_scaler_name[i]+\" et \"+ liste_classifier_name[j]] = fscore"
   ]
  },
  {
   "cell_type": "code",
   "execution_count": 35,
   "metadata": {},
   "outputs": [
    {
     "data": {
      "text/plain": [
       "{'MinMaxScaler et VotingClassifier': 0.7451496362433863,\n",
       " 'StandardScaler et VotingClassifier': 0.6927515983245149,\n",
       " 'QuantileTransformer et VotingClassifier': 0.7275256283068783,\n",
       " 'RobustScaler et VotingClassifier': 0.727405753968254,\n",
       " 'MaxAbsScaler et VotingClassifier': 0.6397395833333334,\n",
       " 'PowerTransformer et VotingClassifier': 0.726189098324515}"
      ]
     },
     "execution_count": 35,
     "metadata": {},
     "output_type": "execute_result"
    }
   ],
   "source": [
    "liste_acc"
   ]
  },
  {
   "cell_type": "code",
   "execution_count": 36,
   "metadata": {},
   "outputs": [
    {
     "data": {
      "text/plain": [
       "{'MinMaxScaler et VotingClassifier': 0.7636921243699937,\n",
       " 'StandardScaler et VotingClassifier': 0.7714560151262629,\n",
       " 'QuantileTransformer et VotingClassifier': 0.7834539249432791,\n",
       " 'RobustScaler et VotingClassifier': 0.7802066647848728,\n",
       " 'MaxAbsScaler et VotingClassifier': 0.6861547937766947,\n",
       " 'PowerTransformer et VotingClassifier': 0.7821157143742284}"
      ]
     },
     "execution_count": 36,
     "metadata": {},
     "output_type": "execute_result"
    }
   ],
   "source": [
    "liste_fscore"
   ]
  },
  {
   "cell_type": "markdown",
   "metadata": {},
   "source": [
    "# voting Train house 1 Test house 2 - la nuit"
   ]
  },
  {
   "cell_type": "code",
   "execution_count": 37,
   "metadata": {},
   "outputs": [],
   "source": [
    "X_train = house1_power_blk2[features_col].between_time('22:00', '5:59:59').values\n",
    "X_test = house2_power_blk1[features_col].between_time('22:00', '5:59:59').values\n",
    "\n",
    "y_train = house1_power_blk2['activity'].between_time('22:00', '5:59:59').values\n",
    "y_test = house2_power_blk1['activity'].between_time('22:00', '5:59:59').values"
   ]
  },
  {
   "cell_type": "code",
   "execution_count": 38,
   "metadata": {},
   "outputs": [
    {
     "name": "stdout",
     "output_type": "stream",
     "text": [
      "0\n",
      "1\n",
      "2\n",
      "3\n",
      "4\n",
      "5\n"
     ]
    }
   ],
   "source": [
    "liste_scaler = [MinMaxScaler(), StandardScaler(), QuantileTransformer(), RobustScaler(), MaxAbsScaler(), PowerTransformer()]\n",
    "liste_scaler_name = [\"MinMaxScaler\", \"StandardScaler\", \"QuantileTransformer\", \"RobustScaler\", \"MaxAbsScaler\", \"PowerTransformer\"]\n",
    "\n",
    "clf1 = XGBClassifier()\n",
    "clf2 = HistGradientBoostingClassifier()\n",
    "clf3 = LGBMClassifier()\n",
    "clf4 = CatBoostClassifier(silent=True, task_type=\"GPU\")\n",
    "clf5 = RandomForestClassifier()\n",
    "\n",
    "liste_classifier = [VotingClassifier(estimators=[('XGB', clf1), ('HGB', clf2), ('LGBM', clf3), ('CBC', clf4), ('RFC', clf5)], voting='soft')]\n",
    "liste_classifier_name = [\"VotingClassifier\"]\n",
    "\n",
    "liste_acc = dict()\n",
    "\n",
    "liste_fscore = dict()\n",
    "\n",
    "n=0\n",
    "    \n",
    "for i in range(len(liste_scaler_name)):\n",
    "    for j in range(len(liste_classifier_name)):\n",
    "        print(n)\n",
    "        n+=1\n",
    "        acc, fscore = score_classif(X_train, X_test, y_train, y_test, liste_classifier[j], liste_scaler[i])\n",
    "        \n",
    "        liste_acc[liste_scaler_name[i]+\" et \"+ liste_classifier_name[j]] = acc\n",
    "        liste_fscore[liste_scaler_name[i]+\" et \"+ liste_classifier_name[j]] = fscore"
   ]
  },
  {
   "cell_type": "code",
   "execution_count": 41,
   "metadata": {},
   "outputs": [
    {
     "data": {
      "text/plain": [
       "{'MinMaxScaler et VotingClassifier': 0.9185682405449848,\n",
       " 'StandardScaler et VotingClassifier': 0.8645865633074935,\n",
       " 'QuantileTransformer et VotingClassifier': 0.8746570354709889,\n",
       " 'RobustScaler et VotingClassifier': 0.7863195912614517,\n",
       " 'MaxAbsScaler et VotingClassifier': 0.8797304439746301,\n",
       " 'PowerTransformer et VotingClassifier': 0.8795730561428236}"
      ]
     },
     "execution_count": 41,
     "metadata": {},
     "output_type": "execute_result"
    }
   ],
   "source": [
    "liste_acc"
   ]
  },
  {
   "cell_type": "code",
   "execution_count": 42,
   "metadata": {},
   "outputs": [
    {
     "data": {
      "text/plain": [
       "{'MinMaxScaler et VotingClassifier': 0.7815742540554963,\n",
       " 'StandardScaler et VotingClassifier': 0.5546468184063456,\n",
       " 'QuantileTransformer et VotingClassifier': 0.567841030479163,\n",
       " 'RobustScaler et VotingClassifier': 0.21252512636365406,\n",
       " 'MaxAbsScaler et VotingClassifier': 0.5217937175652159,\n",
       " 'PowerTransformer et VotingClassifier': 0.5925568020954977}"
      ]
     },
     "execution_count": 42,
     "metadata": {},
     "output_type": "execute_result"
    }
   ],
   "source": [
    "liste_fscore"
   ]
  },
  {
   "cell_type": "markdown",
   "metadata": {},
   "source": [
    "# voting Train house 1 Test house 2 - le jour"
   ]
  },
  {
   "cell_type": "code",
   "execution_count": 43,
   "metadata": {},
   "outputs": [],
   "source": [
    "X_train = house1_power_blk2[features_col].between_time('6:00:00', '21:59:59').values\n",
    "X_test = house2_power_blk1[features_col].between_time('6:00:00', '21:59:59').values\n",
    "\n",
    "y_train = house1_power_blk2['activity'].between_time('6:00:00', '21:59:59').values\n",
    "y_test = house2_power_blk1['activity'].between_time('6:00:00', '21:59:59').values"
   ]
  },
  {
   "cell_type": "code",
   "execution_count": 44,
   "metadata": {},
   "outputs": [
    {
     "name": "stdout",
     "output_type": "stream",
     "text": [
      "0\n",
      "1\n",
      "2\n",
      "3\n",
      "4\n",
      "5\n"
     ]
    }
   ],
   "source": [
    "liste_scaler = [MinMaxScaler(), StandardScaler(), QuantileTransformer(), RobustScaler(), MaxAbsScaler(), PowerTransformer()]\n",
    "liste_scaler_name = [\"MinMaxScaler\", \"StandardScaler\", \"QuantileTransformer\", \"RobustScaler\", \"MaxAbsScaler\", \"PowerTransformer\"]\n",
    "\n",
    "clf1 = XGBClassifier()\n",
    "clf2 = HistGradientBoostingClassifier()\n",
    "clf3 = LGBMClassifier()\n",
    "clf4 = CatBoostClassifier(silent=True, task_type=\"GPU\")\n",
    "clf5 = RandomForestClassifier()\n",
    "\n",
    "liste_classifier = [VotingClassifier(estimators=[('XGB', clf1), ('HGB', clf2), ('LGBM', clf3), ('CBC', clf4), ('RFC', clf5)], voting='soft')]\n",
    "liste_classifier_name = [\"VotingClassifier\"]\n",
    "\n",
    "liste_acc = dict()\n",
    "\n",
    "liste_fscore = dict()\n",
    "\n",
    "n=0\n",
    "    \n",
    "for i in range(len(liste_scaler_name)):\n",
    "    for j in range(len(liste_classifier_name)):\n",
    "        print(n)\n",
    "        n+=1\n",
    "        acc, fscore = score_classif(X_train, X_test, y_train, y_test, liste_classifier[j], liste_scaler[i])\n",
    "        \n",
    "        liste_acc[liste_scaler_name[i]+\" et \"+ liste_classifier_name[j]] = acc\n",
    "        liste_fscore[liste_scaler_name[i]+\" et \"+ liste_classifier_name[j]] = fscore"
   ]
  },
  {
   "cell_type": "code",
   "execution_count": 45,
   "metadata": {},
   "outputs": [
    {
     "data": {
      "text/plain": [
       "{'MinMaxScaler et VotingClassifier': 0.7712611817325801,\n",
       " 'StandardScaler et VotingClassifier': 0.6233998352165725,\n",
       " 'QuantileTransformer et VotingClassifier': 0.7104625706214689,\n",
       " 'RobustScaler et VotingClassifier': 0.723065266007533,\n",
       " 'MaxAbsScaler et VotingClassifier': 0.7345789194915254,\n",
       " 'PowerTransformer et VotingClassifier': 0.7093888300376647}"
      ]
     },
     "execution_count": 45,
     "metadata": {},
     "output_type": "execute_result"
    }
   ],
   "source": [
    "liste_acc"
   ]
  },
  {
   "cell_type": "code",
   "execution_count": 46,
   "metadata": {},
   "outputs": [
    {
     "data": {
      "text/plain": [
       "{'MinMaxScaler et VotingClassifier': 0.8136049628603329,\n",
       " 'StandardScaler et VotingClassifier': 0.6633497395650044,\n",
       " 'QuantileTransformer et VotingClassifier': 0.7363358496993448,\n",
       " 'RobustScaler et VotingClassifier': 0.7403103494269255,\n",
       " 'MaxAbsScaler et VotingClassifier': 0.82162510054178,\n",
       " 'PowerTransformer et VotingClassifier': 0.7310306479929558}"
      ]
     },
     "execution_count": 46,
     "metadata": {},
     "output_type": "execute_result"
    }
   ],
   "source": [
    "liste_fscore"
   ]
  },
  {
   "cell_type": "code",
   "execution_count": null,
   "metadata": {},
   "outputs": [],
   "source": []
  }
 ],
 "metadata": {
  "interpreter": {
   "hash": "916dbcbb3f70747c44a77c7bcd40155683ae19c65e1c03b4aa3499c5328201f1"
  },
  "kernelspec": {
   "display_name": "Python 3 (ipykernel)",
   "language": "python",
   "name": "python3"
  },
  "language_info": {
   "codemirror_mode": {
    "name": "ipython",
    "version": 3
   },
   "file_extension": ".py",
   "mimetype": "text/x-python",
   "name": "python",
   "nbconvert_exporter": "python",
   "pygments_lexer": "ipython3",
   "version": "3.8.10"
  }
 },
 "nbformat": 4,
 "nbformat_minor": 2
}
