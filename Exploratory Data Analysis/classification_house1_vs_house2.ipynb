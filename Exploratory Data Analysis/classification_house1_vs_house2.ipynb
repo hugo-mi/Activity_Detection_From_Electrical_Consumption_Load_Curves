{
 "cells": [
  {
   "cell_type": "code",
   "execution_count": 1,
   "metadata": {},
   "outputs": [
    {
     "name": "stderr",
     "output_type": "stream",
     "text": [
      "Intel(R) Extension for Scikit-learn* enabled (https://github.com/intel/scikit-learn-intelex)\n"
     ]
    }
   ],
   "source": [
    "from sklearnex import patch_sklearn \n",
    "\n",
    "patch_sklearn()\n",
    "\n",
    "import pandas as pd\n",
    "import matplotlib.pyplot as plt\n",
    "import seaborn as sns\n",
    "import numpy as np\n",
    "\n",
    "from sklearn.preprocessing import MinMaxScaler, StandardScaler"
   ]
  },
  {
   "cell_type": "markdown",
   "metadata": {},
   "source": [
    "# 1. Import et nettoyage des données"
   ]
  },
  {
   "cell_type": "code",
   "execution_count": 2,
   "metadata": {},
   "outputs": [
    {
     "data": {
      "text/html": [
       "<div>\n",
       "<style scoped>\n",
       "    .dataframe tbody tr th:only-of-type {\n",
       "        vertical-align: middle;\n",
       "    }\n",
       "\n",
       "    .dataframe tbody tr th {\n",
       "        vertical-align: top;\n",
       "    }\n",
       "\n",
       "    .dataframe thead th {\n",
       "        text-align: right;\n",
       "    }\n",
       "</style>\n",
       "<table border=\"1\" class=\"dataframe\">\n",
       "  <thead>\n",
       "    <tr style=\"text-align: right;\">\n",
       "      <th></th>\n",
       "      <th>mains</th>\n",
       "      <th>activity</th>\n",
       "      <th>hour</th>\n",
       "    </tr>\n",
       "    <tr>\n",
       "      <th>datetime</th>\n",
       "      <th></th>\n",
       "      <th></th>\n",
       "      <th></th>\n",
       "    </tr>\n",
       "  </thead>\n",
       "  <tbody>\n",
       "    <tr>\n",
       "      <th>2016-03-06 00:00:00</th>\n",
       "      <td>473.0</td>\n",
       "      <td>0</td>\n",
       "      <td>0</td>\n",
       "    </tr>\n",
       "    <tr>\n",
       "      <th>2016-03-06 00:00:01</th>\n",
       "      <td>474.0</td>\n",
       "      <td>0</td>\n",
       "      <td>0</td>\n",
       "    </tr>\n",
       "    <tr>\n",
       "      <th>2016-03-06 00:00:02</th>\n",
       "      <td>476.0</td>\n",
       "      <td>0</td>\n",
       "      <td>0</td>\n",
       "    </tr>\n",
       "    <tr>\n",
       "      <th>2016-03-06 00:00:03</th>\n",
       "      <td>476.0</td>\n",
       "      <td>0</td>\n",
       "      <td>0</td>\n",
       "    </tr>\n",
       "    <tr>\n",
       "      <th>2016-03-06 00:00:04</th>\n",
       "      <td>475.0</td>\n",
       "      <td>0</td>\n",
       "      <td>0</td>\n",
       "    </tr>\n",
       "  </tbody>\n",
       "</table>\n",
       "</div>"
      ],
      "text/plain": [
       "                     mains  activity  hour\n",
       "datetime                                  \n",
       "2016-03-06 00:00:00  473.0         0     0\n",
       "2016-03-06 00:00:01  474.0         0     0\n",
       "2016-03-06 00:00:02  476.0         0     0\n",
       "2016-03-06 00:00:03  476.0         0     0\n",
       "2016-03-06 00:00:04  475.0         0     0"
      ]
     },
     "execution_count": 2,
     "metadata": {},
     "output_type": "execute_result"
    }
   ],
   "source": [
    "house1_power_blk2 = pd.read_csv('data/house1_power_blk2_labels.zip', index_col='datetime').interpolate('linear')\n",
    "house1_power_blk2.index = pd.to_datetime(house1_power_blk2.index)\n",
    "house1_power_blk2 = house1_power_blk2.asfreq('s')\n",
    "#house1_power_blk2 = house1_power_blk2.loc['2016-03-06 00:00:00':'2016-03-13 00:00:00']\n",
    "#house1_power_blk2 = house1_power_blk2.resample('1min').nearest()\n",
    "house1_power_blk2['hour'] = house1_power_blk2.index.hour\n",
    "house1_power_blk2.head()"
   ]
  },
  {
   "cell_type": "code",
   "execution_count": 3,
   "metadata": {},
   "outputs": [
    {
     "data": {
      "text/html": [
       "<div>\n",
       "<style scoped>\n",
       "    .dataframe tbody tr th:only-of-type {\n",
       "        vertical-align: middle;\n",
       "    }\n",
       "\n",
       "    .dataframe tbody tr th {\n",
       "        vertical-align: top;\n",
       "    }\n",
       "\n",
       "    .dataframe thead th {\n",
       "        text-align: right;\n",
       "    }\n",
       "</style>\n",
       "<table border=\"1\" class=\"dataframe\">\n",
       "  <thead>\n",
       "    <tr style=\"text-align: right;\">\n",
       "      <th></th>\n",
       "      <th>mains</th>\n",
       "      <th>activity</th>\n",
       "      <th>hour</th>\n",
       "    </tr>\n",
       "    <tr>\n",
       "      <th>datetime</th>\n",
       "      <th></th>\n",
       "      <th></th>\n",
       "      <th></th>\n",
       "    </tr>\n",
       "  </thead>\n",
       "  <tbody>\n",
       "    <tr>\n",
       "      <th>2017-09-12 23:00:00</th>\n",
       "      <td>103.0</td>\n",
       "      <td>0</td>\n",
       "      <td>23</td>\n",
       "    </tr>\n",
       "    <tr>\n",
       "      <th>2017-09-12 23:00:01</th>\n",
       "      <td>101.0</td>\n",
       "      <td>0</td>\n",
       "      <td>23</td>\n",
       "    </tr>\n",
       "    <tr>\n",
       "      <th>2017-09-12 23:00:02</th>\n",
       "      <td>104.0</td>\n",
       "      <td>0</td>\n",
       "      <td>23</td>\n",
       "    </tr>\n",
       "    <tr>\n",
       "      <th>2017-09-12 23:00:03</th>\n",
       "      <td>104.0</td>\n",
       "      <td>0</td>\n",
       "      <td>23</td>\n",
       "    </tr>\n",
       "    <tr>\n",
       "      <th>2017-09-12 23:00:04</th>\n",
       "      <td>105.0</td>\n",
       "      <td>0</td>\n",
       "      <td>23</td>\n",
       "    </tr>\n",
       "  </tbody>\n",
       "</table>\n",
       "</div>"
      ],
      "text/plain": [
       "                     mains  activity  hour\n",
       "datetime                                  \n",
       "2017-09-12 23:00:00  103.0         0    23\n",
       "2017-09-12 23:00:01  101.0         0    23\n",
       "2017-09-12 23:00:02  104.0         0    23\n",
       "2017-09-12 23:00:03  104.0         0    23\n",
       "2017-09-12 23:00:04  105.0         0    23"
      ]
     },
     "execution_count": 3,
     "metadata": {},
     "output_type": "execute_result"
    }
   ],
   "source": [
    "house2_power_blk1 = pd.read_csv('data/house2_power_blk1_labels.zip', index_col='datetime').interpolate('linear')\n",
    "house2_power_blk1.index = pd.to_datetime(house2_power_blk1.index)\n",
    "house2_power_blk1 = house2_power_blk1.asfreq('s')\n",
    "house2_power_blk1['hour'] = house2_power_blk1.index.hour\n",
    "house2_power_blk1.head()"
   ]
  },
  {
   "cell_type": "code",
   "execution_count": 4,
   "metadata": {},
   "outputs": [],
   "source": [
    "window = '1h'\n",
    "\n",
    "scaler = StandardScaler()\n",
    "\n",
    "# we prepare our features\n",
    "house1_power_blk2['mains_scaled'] = scaler.fit_transform(house1_power_blk2['mains'].values.reshape(-1,1))\n",
    "house1_power_blk2['mean_'+window+'_scaled'] = scaler.fit_transform(house1_power_blk2['mains'].rolling(window).mean().values.reshape(-1,1))\n",
    "house1_power_blk2['std_'+window+'_scaled'] = scaler.fit_transform(house1_power_blk2['mains'].rolling(window).std().values.reshape(-1,1))\n",
    "house1_power_blk2['maxmin_'+window+'_scaled'] = scaler.transform(house1_power_blk2['mains'].rolling(window).max().values.reshape(-1,1) - house1_power_blk2['mains'].rolling(window).min().values.reshape(-1,1))\n",
    "house1_power_blk2['hour_scaled'] = scaler.fit_transform(house1_power_blk2['hour'].values.reshape(-1,1))\n",
    "house1_power_blk2 = house1_power_blk2.fillna(method='bfill')\n",
    "\n",
    "house2_power_blk1['mains_scaled'] = scaler.fit_transform(house2_power_blk1['mains'].values.reshape(-1,1))\n",
    "house2_power_blk1['mean_'+window+'_scaled'] = scaler.fit_transform(house2_power_blk1['mains'].rolling(window).mean().values.reshape(-1,1))\n",
    "house2_power_blk1['std_'+window+'_scaled'] = scaler.fit_transform(house2_power_blk1['mains'].rolling(window).std().values.reshape(-1,1))\n",
    "house2_power_blk1['maxmin_'+window+'_scaled'] = scaler.transform(house2_power_blk1['mains'].rolling(window).max().values.reshape(-1,1) - house2_power_blk1['mains'].rolling(window).min().values.reshape(-1,1))\n",
    "house2_power_blk1['hour_scaled'] = scaler.fit_transform(house2_power_blk1['hour'].values.reshape(-1,1))\n",
    "house2_power_blk1 = house2_power_blk1.fillna(method='bfill')"
   ]
  },
  {
   "cell_type": "code",
   "execution_count": 5,
   "metadata": {},
   "outputs": [],
   "source": [
    "def pick_random_indexes(data, percentage=0.3):\n",
    "    # tirage de jours aléatoires\n",
    "    delta_time = data.index[-2] - data.index[0]\n",
    "    nb_days = int(delta_time.days * percentage)\n",
    "    random_dates = data.index[0] + pd.to_timedelta(np.random.choice(delta_time.days, nb_days, replace=False), unit='day')\n",
    "\n",
    "    data_freq = pd.Timedelta(data.index.freq).seconds if data.index.freq else 1\n",
    "    # définition des indexes test, train\n",
    "    rand_indexes = pd.DatetimeIndex(np.array([pd.date_range(d, periods=24*60*60/data_freq, freq=data.index.freq) for d in random_dates]).ravel())\n",
    "\n",
    "    return rand_indexes"
   ]
  },
  {
   "cell_type": "code",
   "execution_count": 6,
   "metadata": {},
   "outputs": [],
   "source": [
    "features_col = ['mains_scaled', 'hour_scaled', 'std_'+window+'_scaled', 'mean_'+window+'_scaled', 'maxmin_'+window+'_scaled']\n",
    "\n",
    "# train data set = house 1\n",
    "X_train = house1_power_blk2[features_col].values\n",
    "y_train = house1_power_blk2['activity'].values\n",
    "\n",
    "rand_indexes = pick_random_indexes(house2_power_blk1, 0.3)\n",
    "# test data set = house 2\n",
    "X_test = house2_power_blk1.loc[rand_indexes, features_col].values\n",
    "y_test = house2_power_blk1.loc[rand_indexes, 'activity'].values"
   ]
  },
  {
   "cell_type": "markdown",
   "metadata": {},
   "source": [
    "# 2. Algorithmes généraux : house 1 vs house 2"
   ]
  },
  {
   "cell_type": "code",
   "execution_count": 7,
   "metadata": {},
   "outputs": [
    {
     "name": "stdout",
     "output_type": "stream",
     "text": [
      "fb score:0.69\n",
      "score:0.68\n"
     ]
    },
    {
     "data": {
      "image/png": "[encoded data removed]",
      "text/plain": [
       "<Figure size 432x288 with 2 Axes>"
      ]
     },
     "metadata": {
      "needs_background": "light"
     },
     "output_type": "display_data"
    }
   ],
   "source": [
    "from sklearn.neighbors import KNeighborsClassifier\n",
    "from sklearn.metrics import fbeta_score, accuracy_score\n",
    "\n",
    "knn = KNeighborsClassifier(n_neighbors=80, n_jobs=-1)\n",
    "knn.fit(X_train, y_train.ravel())\n",
    "y_pred = knn.predict(X_test)\n",
    "print(f'fb score:{fbeta_score(y_test, y_pred, average=\"macro\", beta=0.5):.2f}')\n",
    "print(f'score:{accuracy_score(y_test, y_pred):.2f}')\n",
    "\n",
    "sns.heatmap(pd.crosstab(y_test, y_pred, normalize=True), annot=True, fmt='.1%', cmap=sns.cm.rocket_r);\n",
    "plt.show();"
   ]
  },
  {
   "cell_type": "code",
   "execution_count": 8,
   "metadata": {},
   "outputs": [
    {
     "name": "stdout",
     "output_type": "stream",
     "text": [
      "fb score:0.74\n",
      "score:0.73\n"
     ]
    },
    {
     "data": {
      "image/png": "[encoded data removed]",
      "text/plain": [
       "<Figure size 432x288 with 2 Axes>"
      ]
     },
     "metadata": {
      "needs_background": "light"
     },
     "output_type": "display_data"
    }
   ],
   "source": [
    "from sklearn.ensemble import RandomForestClassifier\n",
    "\n",
    "rfc = RandomForestClassifier(n_estimators=90, n_jobs=-1, max_samples=0.8, max_depth=12)\n",
    "rfc.fit(X_train, y_train.ravel())\n",
    "y_pred = rfc.predict(X_test)\n",
    "print(f'fb score:{fbeta_score(y_test, y_pred, average=\"macro\", beta=0.5):.2f}')\n",
    "print(f'score:{accuracy_score(y_test, y_pred):.2f}')\n",
    "\n",
    "sns.heatmap(pd.crosstab(y_test, y_pred, normalize=True), annot=True, fmt='.1%', cmap=sns.cm.rocket_r);\n",
    "plt.show();"
   ]
  },
  {
   "cell_type": "markdown",
   "metadata": {},
   "source": [
    "# 3. Algorithmes généraux : house 2 vs house 1"
   ]
  },
  {
   "cell_type": "code",
   "execution_count": 7,
   "metadata": {},
   "outputs": [],
   "source": [
    "# train data set = house 1\n",
    "X_train = house2_power_blk1[features_col].values\n",
    "y_train = house2_power_blk1['activity'].values\n",
    "\n",
    "rand_indexes = pick_random_indexes(house1_power_blk2, 0.3)\n",
    "# test data set = house 2\n",
    "X_test = house1_power_blk2.loc[rand_indexes, features_col].values\n",
    "y_test = house1_power_blk2.loc[rand_indexes, 'activity'].values"
   ]
  },
  {
   "cell_type": "code",
   "execution_count": 8,
   "metadata": {},
   "outputs": [
    {
     "name": "stdout",
     "output_type": "stream",
     "text": [
      "fb score:0.74\n",
      "score:0.73\n"
     ]
    },
    {
     "data": {
      "image/png": "[encoded data removed]",
      "text/plain": [
       "<Figure size 432x288 with 2 Axes>"
      ]
     },
     "metadata": {
      "needs_background": "light"
     },
     "output_type": "display_data"
    }
   ],
   "source": [
    "from sklearn.neighbors import KNeighborsClassifier\n",
    "from sklearn.metrics import fbeta_score, accuracy_score\n",
    "\n",
    "knn = KNeighborsClassifier(n_neighbors=80, n_jobs=-1)\n",
    "knn.fit(X_train, y_train.ravel())\n",
    "y_pred = knn.predict(X_test)\n",
    "print(f'fb score:{fbeta_score(y_test, y_pred, average=\"macro\", beta=0.5):.2f}')\n",
    "print(f'score:{accuracy_score(y_test, y_pred):.2f}')\n",
    "\n",
    "sns.heatmap(pd.crosstab(y_test, y_pred, normalize=True), annot=True, fmt='.1%', cmap=sns.cm.rocket_r);"
   ]
  },
  {
   "cell_type": "code",
   "execution_count": 9,
   "metadata": {},
   "outputs": [
    {
     "name": "stdout",
     "output_type": "stream",
     "text": [
      "fb score:0.77\n",
      "score:0.77\n"
     ]
    },
    {
     "data": {
      "image/png": "[encoded data removed]",
      "text/plain": [
       "<Figure size 432x288 with 2 Axes>"
      ]
     },
     "metadata": {
      "needs_background": "light"
     },
     "output_type": "display_data"
    }
   ],
   "source": [
    "from sklearn.ensemble import RandomForestClassifier\n",
    "\n",
    "rfc = RandomForestClassifier(n_estimators=90, n_jobs=-1, max_samples=0.8, max_depth=12)\n",
    "rfc.fit(X_train, y_train.ravel())\n",
    "y_pred = rfc.predict(X_test)\n",
    "print(f'fb score:{fbeta_score(y_test, y_pred, average=\"macro\", beta=0.5):.2f}')\n",
    "print(f'score:{accuracy_score(y_test, y_pred):.2f}')\n",
    "\n",
    "sns.heatmap(pd.crosstab(y_test, y_pred, normalize=True), annot=True, fmt='.1%', cmap=sns.cm.rocket_r);\n",
    "plt.show();"
   ]
  },
  {
   "cell_type": "code",
   "execution_count": null,
   "metadata": {},
   "outputs": [],
   "source": []
  }
 ],
 "metadata": {
  "interpreter": {
   "hash": "916dbcbb3f70747c44a77c7bcd40155683ae19c65e1c03b4aa3499c5328201f1"
  },
  "kernelspec": {
   "display_name": "Python 3.8.10 64-bit",
   "language": "python",
   "name": "python3"
  },
  "language_info": {
   "codemirror_mode": {
    "name": "ipython",
    "version": 3
   },
   "file_extension": ".py",
   "mimetype": "text/x-python",
   "name": "python",
   "nbconvert_exporter": "python",
   "pygments_lexer": "ipython3",
   "version": "3.8.10"
  },
  "orig_nbformat": 4
 },
 "nbformat": 4,
 "nbformat_minor": 2
}
