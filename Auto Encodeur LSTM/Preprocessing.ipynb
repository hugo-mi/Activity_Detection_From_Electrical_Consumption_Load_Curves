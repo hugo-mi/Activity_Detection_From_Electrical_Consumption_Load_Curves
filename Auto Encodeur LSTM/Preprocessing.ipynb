{
 "cells": [
  {
   "cell_type": "markdown",
   "metadata": {},
   "source": [
    "# Preprocessing"
   ]
  },
  {
   "cell_type": "markdown",
   "metadata": {},
   "source": [
    "#### 1/ Loads the dataset and resample timeseries\n",
    "\n",
    "#### 2/ Construction of the dataset according to peak and off-peak hours or according to activity labels\n",
    "\n",
    "#### 3/ Creation of sequences of length T and according to the overlapping period**\n",
    "\n",
    "#### Return list of prepocessed ``3D-array`` ``[samples, sequence_length, features]`` (i.e sequences from the timeseries) "
   ]
  },
  {
   "cell_type": "code",
   "execution_count": 1,
   "metadata": {},
   "outputs": [],
   "source": [
    "# --- utils libs ---\n",
    "import numpy as np\n",
    "import pandas as pd\n",
    "import datetime\n",
    "from typing import Optional\n",
    "\n",
    "from module import load_dataset, time_in_range, segmentDf, create_sequence"
   ]
  },
  {
   "cell_type": "code",
   "execution_count": 2,
   "metadata": {},
   "outputs": [],
   "source": [
    "def preprocessing(filepath: str, timeframes: list\n",
    "                  ,sequence_length: int, overlap_period: int\n",
    "                  ,resample_period :Optional[str]=None\n",
    "                  ,use_labels :Optional[bool]=False) -> np.array:\n",
    "    \"\"\"\n",
    "    1/ Loads the dataset and resample timeseries\n",
    "    2/ Construction of the dataset according to peak and off-peak hours \n",
    "    or according to activity labels\n",
    "    3/ Creation of sequences of length T and according to the overlapping period\n",
    "    \n",
    "    Args:\n",
    "        - filename: the path to the file to load\n",
    "        - resample_period: (optional) the reasmple period, if None the default period of 1 second will be used\n",
    "        - df: dataframe with a hands column indicating the instantaneous power and the datetime as index\n",
    "        - timeframes: list of tuples indicating the periods of the day ex: timeframes = [(datetime.time(10,0,0), datetime.time(6,0,0)), (datetime.time(12,0,0), datetime.time(13,0,0))\n",
    "        - use_labels: (False by default) use the activities labels\n",
    "        - sequence_length: length of the sequence\n",
    "        - overlap_period: overlap the sequences of timeseries\n",
    "    Returns: \n",
    "        - list of prepocessed 3D-array [samples, sequence_length, features] (i.e sequences from the timeseries) \n",
    "    \"\"\"\n",
    "    # load dataset and resampled timeseries\n",
    "    df_resampled = load_dataset(filepath, resample_period)\n",
    "    \n",
    "    # Construction of the dataset according to peak and off-peak hours \n",
    "    list_df = segmentDf(df_resampled, timeframes = timeframes)\n",
    "    \n",
    "    list_sequence = list()\n",
    "    \n",
    "    # Creation of sequences of length T and according to the overlapping period\n",
    "    for df in list_df:\n",
    "        sequences = create_sequence(df, sequence_length, overlap_period)\n",
    "        list_sequence.append(sequences)\n",
    "    \n",
    "    return list_sequence"
   ]
  },
  {
   "cell_type": "code",
   "execution_count": 3,
   "metadata": {},
   "outputs": [],
   "source": [
    "timeframes = [(datetime.time(10,0,0), datetime.time(6,0,0)), (datetime.time(12,0,0), datetime.time(13,0,0))]\n",
    "sequences = preprocessing(filepath = \"data/house1_power_blk2_labels.csv\" \n",
    "                          ,timeframes = [(datetime.time(10,0,0), datetime.time(6,0,0)), (datetime.time(12,0,0), datetime.time(13,0,0))]\n",
    "                          ,sequence_length = 10, overlap_period = 5, resample_period = \"30min\")"
   ]
  },
  {
   "cell_type": "markdown",
   "metadata": {},
   "source": [
    "### Visualize shape of the sequence"
   ]
  },
  {
   "cell_type": "code",
   "execution_count": 4,
   "metadata": {},
   "outputs": [
    {
     "data": {
      "text/plain": [
       "(7, 10, 1)"
      ]
     },
     "execution_count": 4,
     "metadata": {},
     "output_type": "execute_result"
    }
   ],
   "source": [
    "sequences[1].shape"
   ]
  },
  {
   "cell_type": "markdown",
   "metadata": {},
   "source": [
    "### Visualize the sequence"
   ]
  },
  {
   "cell_type": "code",
   "execution_count": 5,
   "metadata": {},
   "outputs": [
    {
     "data": {
      "text/plain": [
       "array([[[3093.],\n",
       "        [ 981.],\n",
       "        [ 909.],\n",
       "        [ 536.],\n",
       "        [ 547.],\n",
       "        [ 759.],\n",
       "        [ 550.],\n",
       "        [ 670.],\n",
       "        [5549.],\n",
       "        [5312.]],\n",
       "\n",
       "       [[ 759.],\n",
       "        [ 550.],\n",
       "        [ 670.],\n",
       "        [5549.],\n",
       "        [5312.],\n",
       "        [3898.],\n",
       "        [1958.],\n",
       "        [1856.],\n",
       "        [ 915.],\n",
       "        [1329.]],\n",
       "\n",
       "       [[3898.],\n",
       "        [1958.],\n",
       "        [1856.],\n",
       "        [ 915.],\n",
       "        [1329.],\n",
       "        [ 896.],\n",
       "        [1120.],\n",
       "        [3738.],\n",
       "        [1260.],\n",
       "        [1239.]],\n",
       "\n",
       "       [[ 896.],\n",
       "        [1120.],\n",
       "        [3738.],\n",
       "        [1260.],\n",
       "        [1239.],\n",
       "        [1439.],\n",
       "        [1422.],\n",
       "        [ 994.],\n",
       "        [1172.],\n",
       "        [1223.]],\n",
       "\n",
       "       [[1439.],\n",
       "        [1422.],\n",
       "        [ 994.],\n",
       "        [1172.],\n",
       "        [1223.],\n",
       "        [ 846.],\n",
       "        [ 401.],\n",
       "        [1088.],\n",
       "        [ 726.],\n",
       "        [ 480.]],\n",
       "\n",
       "       [[ 846.],\n",
       "        [ 401.],\n",
       "        [1088.],\n",
       "        [ 726.],\n",
       "        [ 480.],\n",
       "        [ 620.],\n",
       "        [ 729.],\n",
       "        [ 588.],\n",
       "        [ 747.],\n",
       "        [ 459.]],\n",
       "\n",
       "       [[ 620.],\n",
       "        [ 729.],\n",
       "        [ 588.],\n",
       "        [ 747.],\n",
       "        [ 459.],\n",
       "        [ 602.],\n",
       "        [ 742.],\n",
       "        [ 634.],\n",
       "        [ 584.],\n",
       "        [2740.]]])"
      ]
     },
     "execution_count": 5,
     "metadata": {},
     "output_type": "execute_result"
    }
   ],
   "source": [
    "sequences[1]"
   ]
  }
 ],
 "metadata": {
  "kernelspec": {
   "display_name": "Python 3",
   "language": "python",
   "name": "python3"
  },
  "language_info": {
   "codemirror_mode": {
    "name": "ipython",
    "version": 3
   },
   "file_extension": ".py",
   "mimetype": "text/x-python",
   "name": "python",
   "nbconvert_exporter": "python",
   "pygments_lexer": "ipython3",
   "version": "3.8.3"
  }
 },
 "nbformat": 4,
 "nbformat_minor": 4
}
