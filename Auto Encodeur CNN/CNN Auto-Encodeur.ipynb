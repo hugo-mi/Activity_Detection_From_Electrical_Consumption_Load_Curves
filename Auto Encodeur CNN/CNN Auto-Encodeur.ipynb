{
 "cells": [
  {
   "cell_type": "markdown",
   "metadata": {},
   "source": [
    "# CNN Auto-Encoder model for anomalies detection"
   ]
  },
  {
   "cell_type": "code",
   "execution_count": 60,
   "metadata": {},
   "outputs": [],
   "source": [
    "# ---- utils libs ----\n",
    "import numpy as np\n",
    "import pandas as pd\n",
    "import datetime\n",
    "from typing import Optional\n",
    "from module import load_dataset, time_in_range, segmentDf, create_sequence, train_test_split_dataset, convertToSequenceParameters\n",
    "from pathlib import Path\n",
    "import pathlib\n",
    "\n",
    "# ---- Data Viz libs ---- \n",
    "from matplotlib import pyplot as plt\n",
    "import plotly.graph_objects as go\n",
    "\n",
    "# ---- ML libs ----\n",
    "from sklearn.preprocessing import StandardScaler\n",
    "\n",
    "# ---- Deep Learning libs ----\n",
    "from tensorflow import keras\n",
    "from tensorflow.keras import layers"
   ]
  },
  {
   "cell_type": "markdown",
   "metadata": {},
   "source": [
    "## Load Dataset"
   ]
  },
  {
   "cell_type": "code",
   "execution_count": 61,
   "metadata": {},
   "outputs": [
    {
     "data": {
      "text/plain": [
       "'c:\\\\Users\\\\Pierrick\\\\OneDrive\\\\Bureau\\\\K\\\\2_MS_TelecomParis\\\\Cours\\\\Projet_Fil_Rouge\\\\Activity_Detection_From_Electrical_Consumption_Load_Curves\\\\Auto Encodeur CNN'"
      ]
     },
     "execution_count": 61,
     "metadata": {},
     "output_type": "execute_result"
    }
   ],
   "source": [
    "os.getcwd()"
   ]
  },
  {
   "cell_type": "code",
   "execution_count": 62,
   "metadata": {},
   "outputs": [
    {
     "data": {
      "text/plain": [
       "WindowsPath('c:/Users/Pierrick/OneDrive/Bureau/K/2_MS_TelecomParis/Cours/Projet_Fil_Rouge/data/house1_power_blk2_labels/house1_power_blk2_labels.csv')"
      ]
     },
     "execution_count": 62,
     "metadata": {},
     "output_type": "execute_result"
    }
   ],
   "source": [
    "path = Path(os.getcwd())\n",
    "\n",
    "# Path('data/house1_power_blk2_labels.csv')\n",
    "path = path.parent.parent.absolute() / 'data' / \"house1_power_blk2_labels\"/ \"house1_power_blk2_labels.csv\"\n",
    "path"
   ]
  },
  {
   "cell_type": "code",
   "execution_count": 63,
   "metadata": {},
   "outputs": [
    {
     "data": {
      "text/html": [
       "<div>\n",
       "<style scoped>\n",
       "    .dataframe tbody tr th:only-of-type {\n",
       "        vertical-align: middle;\n",
       "    }\n",
       "\n",
       "    .dataframe tbody tr th {\n",
       "        vertical-align: top;\n",
       "    }\n",
       "\n",
       "    .dataframe thead th {\n",
       "        text-align: right;\n",
       "    }\n",
       "</style>\n",
       "<table border=\"1\" class=\"dataframe\">\n",
       "  <thead>\n",
       "    <tr style=\"text-align: right;\">\n",
       "      <th></th>\n",
       "      <th>mains</th>\n",
       "    </tr>\n",
       "    <tr>\n",
       "      <th>datetime</th>\n",
       "      <th></th>\n",
       "    </tr>\n",
       "  </thead>\n",
       "  <tbody>\n",
       "    <tr>\n",
       "      <th>2016-03-06 00:00:00</th>\n",
       "      <td>473.0</td>\n",
       "    </tr>\n",
       "    <tr>\n",
       "      <th>2016-03-06 01:00:00</th>\n",
       "      <td>736.0</td>\n",
       "    </tr>\n",
       "    <tr>\n",
       "      <th>2016-03-06 02:00:00</th>\n",
       "      <td>479.0</td>\n",
       "    </tr>\n",
       "    <tr>\n",
       "      <th>2016-03-06 03:00:00</th>\n",
       "      <td>467.0</td>\n",
       "    </tr>\n",
       "    <tr>\n",
       "      <th>2016-03-06 04:00:00</th>\n",
       "      <td>610.0</td>\n",
       "    </tr>\n",
       "    <tr>\n",
       "      <th>...</th>\n",
       "      <td>...</td>\n",
       "    </tr>\n",
       "    <tr>\n",
       "      <th>2016-05-07 18:00:00</th>\n",
       "      <td>1413.0</td>\n",
       "    </tr>\n",
       "    <tr>\n",
       "      <th>2016-05-07 19:00:00</th>\n",
       "      <td>1608.0</td>\n",
       "    </tr>\n",
       "    <tr>\n",
       "      <th>2016-05-07 20:00:00</th>\n",
       "      <td>1116.0</td>\n",
       "    </tr>\n",
       "    <tr>\n",
       "      <th>2016-05-07 21:00:00</th>\n",
       "      <td>2330.0</td>\n",
       "    </tr>\n",
       "    <tr>\n",
       "      <th>2016-05-07 22:00:00</th>\n",
       "      <td>594.0</td>\n",
       "    </tr>\n",
       "  </tbody>\n",
       "</table>\n",
       "<p>1511 rows × 1 columns</p>\n",
       "</div>"
      ],
      "text/plain": [
       "                      mains\n",
       "datetime                   \n",
       "2016-03-06 00:00:00   473.0\n",
       "2016-03-06 01:00:00   736.0\n",
       "2016-03-06 02:00:00   479.0\n",
       "2016-03-06 03:00:00   467.0\n",
       "2016-03-06 04:00:00   610.0\n",
       "...                     ...\n",
       "2016-05-07 18:00:00  1413.0\n",
       "2016-05-07 19:00:00  1608.0\n",
       "2016-05-07 20:00:00  1116.0\n",
       "2016-05-07 21:00:00  2330.0\n",
       "2016-05-07 22:00:00   594.0\n",
       "\n",
       "[1511 rows x 1 columns]"
      ]
     },
     "execution_count": 63,
     "metadata": {},
     "output_type": "execute_result"
    }
   ],
   "source": [
    "dataset_resampled_1H = load_dataset(path, \"60min\")\n",
    "dataset_resampled_1H = dataset_resampled_1H[\"mains\"]\n",
    "df_mains_resampled_1H = pd.DataFrame(dataset_resampled_1H)\n",
    "df_mains_resampled_1H"
   ]
  },
  {
   "cell_type": "markdown",
   "metadata": {},
   "source": [
    "## Visualize Load Curve"
   ]
  },
  {
   "cell_type": "code",
   "execution_count": 64,
   "metadata": {},
   "outputs": [
    {
     "ename": "ValueError",
     "evalue": "Mime type rendering requires nbformat>=4.2.0 but it is not installed",
     "output_type": "error",
     "traceback": [
      "\u001b[1;31m---------------------------------------------------------------------------\u001b[0m",
      "\u001b[1;31mValueError\u001b[0m                                Traceback (most recent call last)",
      "\u001b[1;32m~\\AppData\\Local\\Temp/ipykernel_24428/346070273.py\u001b[0m in \u001b[0;36m<module>\u001b[1;34m\u001b[0m\n\u001b[0;32m      2\u001b[0m \u001b[0mfig\u001b[0m\u001b[1;33m.\u001b[0m\u001b[0madd_trace\u001b[0m\u001b[1;33m(\u001b[0m\u001b[0mgo\u001b[0m\u001b[1;33m.\u001b[0m\u001b[0mScatter\u001b[0m\u001b[1;33m(\u001b[0m\u001b[0mx\u001b[0m\u001b[1;33m=\u001b[0m\u001b[0mdf_mains_resampled_1H\u001b[0m\u001b[1;33m.\u001b[0m\u001b[0mindex\u001b[0m\u001b[1;33m,\u001b[0m \u001b[0my\u001b[0m\u001b[1;33m=\u001b[0m\u001b[0mdf_mains_resampled_1H\u001b[0m\u001b[1;33m[\u001b[0m\u001b[1;34m'mains'\u001b[0m\u001b[1;33m]\u001b[0m\u001b[1;33m,\u001b[0m \u001b[0mname\u001b[0m\u001b[1;33m=\u001b[0m\u001b[1;34m'Load Curve'\u001b[0m\u001b[1;33m)\u001b[0m\u001b[1;33m)\u001b[0m\u001b[1;33m\u001b[0m\u001b[1;33m\u001b[0m\u001b[0m\n\u001b[0;32m      3\u001b[0m \u001b[0mfig\u001b[0m\u001b[1;33m.\u001b[0m\u001b[0mupdate_layout\u001b[0m\u001b[1;33m(\u001b[0m\u001b[0mshowlegend\u001b[0m\u001b[1;33m=\u001b[0m\u001b[1;32mTrue\u001b[0m\u001b[1;33m,\u001b[0m \u001b[0mtitle\u001b[0m\u001b[1;33m=\u001b[0m\u001b[1;34m'house1_power_blk2_labels_60min'\u001b[0m\u001b[1;33m)\u001b[0m\u001b[1;33m\u001b[0m\u001b[1;33m\u001b[0m\u001b[0m\n\u001b[1;32m----> 4\u001b[1;33m \u001b[0mfig\u001b[0m\u001b[1;33m.\u001b[0m\u001b[0mshow\u001b[0m\u001b[1;33m(\u001b[0m\u001b[1;33m)\u001b[0m\u001b[1;33m\u001b[0m\u001b[1;33m\u001b[0m\u001b[0m\n\u001b[0m",
      "\u001b[1;32m~\\anaconda3\\envs\\fil_rouge\\lib\\site-packages\\plotly\\basedatatypes.py\u001b[0m in \u001b[0;36mshow\u001b[1;34m(self, *args, **kwargs)\u001b[0m\n\u001b[0;32m   3398\u001b[0m         \u001b[1;32mimport\u001b[0m \u001b[0mplotly\u001b[0m\u001b[1;33m.\u001b[0m\u001b[0mio\u001b[0m \u001b[1;32mas\u001b[0m \u001b[0mpio\u001b[0m\u001b[1;33m\u001b[0m\u001b[1;33m\u001b[0m\u001b[0m\n\u001b[0;32m   3399\u001b[0m \u001b[1;33m\u001b[0m\u001b[0m\n\u001b[1;32m-> 3400\u001b[1;33m         \u001b[1;32mreturn\u001b[0m \u001b[0mpio\u001b[0m\u001b[1;33m.\u001b[0m\u001b[0mshow\u001b[0m\u001b[1;33m(\u001b[0m\u001b[0mself\u001b[0m\u001b[1;33m,\u001b[0m \u001b[1;33m*\u001b[0m\u001b[0margs\u001b[0m\u001b[1;33m,\u001b[0m \u001b[1;33m**\u001b[0m\u001b[0mkwargs\u001b[0m\u001b[1;33m)\u001b[0m\u001b[1;33m\u001b[0m\u001b[1;33m\u001b[0m\u001b[0m\n\u001b[0m\u001b[0;32m   3401\u001b[0m \u001b[1;33m\u001b[0m\u001b[0m\n\u001b[0;32m   3402\u001b[0m     \u001b[1;32mdef\u001b[0m \u001b[0mto_json\u001b[0m\u001b[1;33m(\u001b[0m\u001b[0mself\u001b[0m\u001b[1;33m,\u001b[0m \u001b[1;33m*\u001b[0m\u001b[0margs\u001b[0m\u001b[1;33m,\u001b[0m \u001b[1;33m**\u001b[0m\u001b[0mkwargs\u001b[0m\u001b[1;33m)\u001b[0m\u001b[1;33m:\u001b[0m\u001b[1;33m\u001b[0m\u001b[1;33m\u001b[0m\u001b[0m\n",
      "\u001b[1;32m~\\anaconda3\\envs\\fil_rouge\\lib\\site-packages\\plotly\\io\\_renderers.py\u001b[0m in \u001b[0;36mshow\u001b[1;34m(fig, renderer, validate, **kwargs)\u001b[0m\n\u001b[0;32m    395\u001b[0m \u001b[1;33m\u001b[0m\u001b[0m\n\u001b[0;32m    396\u001b[0m         \u001b[1;32mif\u001b[0m \u001b[1;32mnot\u001b[0m \u001b[0mnbformat\u001b[0m \u001b[1;32mor\u001b[0m \u001b[0mLooseVersion\u001b[0m\u001b[1;33m(\u001b[0m\u001b[0mnbformat\u001b[0m\u001b[1;33m.\u001b[0m\u001b[0m__version__\u001b[0m\u001b[1;33m)\u001b[0m \u001b[1;33m<\u001b[0m \u001b[0mLooseVersion\u001b[0m\u001b[1;33m(\u001b[0m\u001b[1;34m\"4.2.0\"\u001b[0m\u001b[1;33m)\u001b[0m\u001b[1;33m:\u001b[0m\u001b[1;33m\u001b[0m\u001b[1;33m\u001b[0m\u001b[0m\n\u001b[1;32m--> 397\u001b[1;33m             raise ValueError(\n\u001b[0m\u001b[0;32m    398\u001b[0m                 \u001b[1;34m\"Mime type rendering requires nbformat>=4.2.0 but it is not installed\"\u001b[0m\u001b[1;33m\u001b[0m\u001b[1;33m\u001b[0m\u001b[0m\n\u001b[0;32m    399\u001b[0m             )\n",
      "\u001b[1;31mValueError\u001b[0m: Mime type rendering requires nbformat>=4.2.0 but it is not installed"
     ]
    }
   ],
   "source": [
    "fig = go.Figure()\n",
    "fig.add_trace(go.Scatter(x=df_mains_resampled_1H.index, y=df_mains_resampled_1H['mains'], name='Load Curve'))\n",
    "fig.update_layout(showlegend=True, title='house1_power_blk2_labels_60min')\n",
    "fig.show()"
   ]
  },
  {
   "cell_type": "markdown",
   "metadata": {},
   "source": [
    "## Preprocessing\n",
    "\n",
    "####  1/ Loads the dataset and resample timeseries\n",
    "####  2/ Split a dataframe into train set and test set according to the split rate\n",
    "####  3/ Standardize Data\n",
    "####  4/ Construction of the dataset according to peak and off-peak hours or according to activity labels\n",
    "####  5/ Creation of sequences of length T and according to the overlapping period\n",
    "\n",
    "#### Return preprocessed ``3D-array`` ``[samples, SEQUENCE_LENGTH, features]`` (i.e sequences from the timeseries) , as required for **LSTM** network. We want our network to have memory of **10 days**, so we set ``SEQUENCE_LENGTH=10``."
   ]
  },
  {
   "cell_type": "markdown",
   "metadata": {},
   "source": [
    "#### Define Global Hyperparmètre"
   ]
  },
  {
   "cell_type": "code",
   "execution_count": 65,
   "metadata": {},
   "outputs": [
    {
     "name": "stdout",
     "output_type": "stream",
     "text": [
      "\t\tValeur choisie \t Equivalent sequence\n",
      "Timestep : \t 0:01:30\n",
      "Duration :\t 1:00:00 \t -->  40 \n",
      "Overlap :\t 0.8 \t -->  32\n"
     ]
    }
   ],
   "source": [
    "TIME_STEP = datetime.timedelta(minutes=1, seconds=30) # duration of a step in the resample dataset, originally 1second\n",
    "DURATION_TIME = datetime.timedelta(minutes=60) # duration of a sequence\n",
    "OVERLAP_PERIOD_PERCENT = 0.8 # 0.5 <=> 50% overlapping\n",
    "TIMEFRAMES = [(datetime.time(22,0,0), datetime.time(6,0,0))]\n",
    "\n",
    "SEQUENCE_LENGTH, OVERLAP_PERIOD = convertToSequenceParameters(TIME_STEP, DURATION_TIME, OVERLAP_PERIOD_PERCENT)\n",
    "\n",
    "print(\"\\t\\tValeur choisie \\t Equivalent sequence\\nTimestep : \\t {}\\nDuration :\\t {} \\t -->  {} \\nOverlap :\\t {} \\t -->  {}\".format(TIME_STEP, DURATION_TIME, SEQUENCE_LENGTH, OVERLAP_PERIOD_PERCENT, OVERLAP_PERIOD))"
   ]
  },
  {
   "cell_type": "code",
   "execution_count": 66,
   "metadata": {},
   "outputs": [],
   "source": [
    "def preprocessing(filepath: str, timeframes: list\n",
    "                  ,sequence_length: int, overlap_period: int\n",
    "                  ,resample_period :Optional[str]=None\n",
    "                  ,use_labels :Optional[bool]=False, split_rate :Optional[float]=0.2) -> np.array:\n",
    "    \"\"\"\n",
    "    1/ Loads the dataset and resample timeseries\n",
    "    2/ Split a dataframe into train set and test set according to the split rate\n",
    "    3/ Standardize Data\n",
    "    4/ Construction of the dataset according to peak and off-peak hours \n",
    "    or according to activity labels\n",
    "    5/ Creation of sequences of length T and according to the overlapping period\n",
    "    \n",
    "    Args:\n",
    "        - filename: the path to the file to load\n",
    "        - resample_period: (optional) the reasmple period, if None the default period of 1 second will be used\n",
    "        - df: dataframe with a hands column indicating the instantaneous power and the datetime as index\n",
    "        - timeframes: list of tuples indicating the periods of the day ex: timeframes = [(datetime.time(10,0,0), datetime.time(6,0,0)), (datetime.time(12,0,0), datetime.time(13,0,0))\n",
    "        - use_labels: (False by default) use the activities labels\n",
    "        - sequence_length: length of the sequence\n",
    "        - overlap_period: overlap the sequences of timeseries\n",
    "        - split_rate: Rate of the test set size\n",
    "    Returns: \n",
    "        - list of prepocessed 3D-array [samples, sequence_length, features] (i.e sequences from the timeseries) \n",
    "    \"\"\"\n",
    "    # load dataset and resampled timeseries\n",
    "    df_resampled = load_dataset(filepath, resample_period)\n",
    "    \n",
    "    # split dataframe into train set and test set\n",
    "    train_df, test_df = train_test_split_dataset(df_resampled)\n",
    "    \n",
    "    # Standardize Data\n",
    "    scaler = StandardScaler()\n",
    "    scaler_train = scaler.fit(train_df[['mains']])\n",
    "    scaler_test = scaler.fit(test_df[['mains']])\n",
    "    \n",
    "    train_df['mains'] = scaler_train.transform(train_df[['mains']])\n",
    "    test_df['mains'] = scaler_test.transform(test_df[['mains']])\n",
    "    \n",
    "    # --- TRAIN SEQUENCES ----\n",
    "    # Construction of the dataset according to peak and off-peak hours \n",
    "    list_df_train = segmentDf(train_df, timeframes = timeframes)\n",
    "    \n",
    "    # init 3D-array [samples, sequence_length, features]\n",
    "    first_df_train = list_df_train[0]\n",
    "    list_X_sequence_train, list_y_sequence_train = create_sequence(first_df_train, sequence_length, overlap_period)\n",
    "    list_df_train.pop(0) # delete the first element of the list of train dataframes\n",
    "    \n",
    "    # Creation of sequences of length T and according to the overlapping period\n",
    "    for df_train_ in list_df_train:\n",
    "        X_sequences_train, y_sequences_train = create_sequence(df_train_, sequence_length, overlap_period)\n",
    "        list_X_sequence_train = np.append(list_X_sequence_train, X_sequences_train, axis = 0)\n",
    "        list_y_sequence_train = np.append(list_y_sequence_train, y_sequences_train, axis = 0)\n",
    "        \n",
    "    # ---- TEST SEQUENCES ----\n",
    "    X_sequences_test, y_sequences_test = create_sequence(test_df, sequence_length, overlap_period)\n",
    "    \n",
    "    return train_df, test_df, list_X_sequence_train, list_y_sequence_train, X_sequences_test, y_sequences_test"
   ]
  },
  {
   "cell_type": "code",
   "execution_count": 68,
   "metadata": {},
   "outputs": [
    {
     "name": "stderr",
     "output_type": "stream",
     "text": [
      "C:\\Users\\Pierrick\\AppData\\Local\\Temp/ipykernel_24428/2330807064.py:36: SettingWithCopyWarning:\n",
      "\n",
      "\n",
      "A value is trying to be set on a copy of a slice from a DataFrame.\n",
      "Try using .loc[row_indexer,col_indexer] = value instead\n",
      "\n",
      "See the caveats in the documentation: https://pandas.pydata.org/pandas-docs/stable/user_guide/indexing.html#returning-a-view-versus-a-copy\n",
      "\n",
      "C:\\Users\\Pierrick\\AppData\\Local\\Temp/ipykernel_24428/2330807064.py:37: SettingWithCopyWarning:\n",
      "\n",
      "\n",
      "A value is trying to be set on a copy of a slice from a DataFrame.\n",
      "Try using .loc[row_indexer,col_indexer] = value instead\n",
      "\n",
      "See the caveats in the documentation: https://pandas.pydata.org/pandas-docs/stable/user_guide/indexing.html#returning-a-view-versus-a-copy\n",
      "\n"
     ]
    }
   ],
   "source": [
    "train_df, test_df, X_train, y_train, X_test, y_test = preprocessing(filepath = path\n",
    "                          ,timeframes = TIMEFRAMES\n",
    "                          ,sequence_length = SEQUENCE_LENGTH, overlap_period = OVERLAP_PERIOD, resample_period = TIME_STEP)"
   ]
  },
  {
   "cell_type": "code",
   "execution_count": 69,
   "metadata": {},
   "outputs": [
    {
     "name": "stdout",
     "output_type": "stream",
     "text": [
      "---- train DataFrame shape ----\n"
     ]
    },
    {
     "data": {
      "text/plain": [
       "(48352, 3)"
      ]
     },
     "execution_count": 69,
     "metadata": {},
     "output_type": "execute_result"
    }
   ],
   "source": [
    "print(\"---- train DataFrame shape ----\")\n",
    "train_df.shape"
   ]
  },
  {
   "cell_type": "code",
   "execution_count": 70,
   "metadata": {},
   "outputs": [
    {
     "name": "stdout",
     "output_type": "stream",
     "text": [
      "---- test DataFrame shape ----\n"
     ]
    },
    {
     "data": {
      "text/plain": [
       "(12088, 3)"
      ]
     },
     "execution_count": 70,
     "metadata": {},
     "output_type": "execute_result"
    }
   ],
   "source": [
    "print(\"---- test DataFrame shape ----\")\n",
    "test_df.shape"
   ]
  },
  {
   "cell_type": "markdown",
   "metadata": {},
   "source": [
    "### Verify the shape of the sequence"
   ]
  },
  {
   "cell_type": "code",
   "execution_count": 71,
   "metadata": {},
   "outputs": [
    {
     "name": "stdout",
     "output_type": "stream",
     "text": [
      "---- X_train sequence shape ----\n",
      "(1826, 40, 1)\n",
      "\n",
      "---- y_train sequence shape ----\n",
      "(1826, 40, 2)\n",
      "\n",
      "\n",
      "---- X_test sequence shape ----\n",
      "(1506, 40, 1)\n",
      "\n",
      "---- y_test sequence shape ----\n",
      "(1506, 40, 2)\n"
     ]
    }
   ],
   "source": [
    "print(\"---- X_train sequence shape ----\")\n",
    "print(X_train.shape)\n",
    "\n",
    "print(\"\\n---- y_train sequence shape ----\")\n",
    "print(y_train.shape)\n",
    "\n",
    "print(\"\\n\\n---- X_test sequence shape ----\")\n",
    "print(X_test.shape)\n",
    "\n",
    "print(\"\\n---- y_test sequence shape ----\")\n",
    "print(y_test.shape)"
   ]
  },
  {
   "cell_type": "markdown",
   "metadata": {},
   "source": [
    "### Visualize the sequence"
   ]
  },
  {
   "cell_type": "code",
   "execution_count": 72,
   "metadata": {},
   "outputs": [
    {
     "name": "stdout",
     "output_type": "stream",
     "text": [
      "---- X_train sequence ----\n"
     ]
    },
    {
     "data": {
      "text/plain": [
       "array([[[-0.59421227],\n",
       "        [-0.57840191],\n",
       "        [-0.59263123],\n",
       "        ...,\n",
       "        [-0.76338314],\n",
       "        [-0.62108988],\n",
       "        [-0.12780661]],\n",
       "\n",
       "       [[-0.60527952],\n",
       "        [-0.35231374],\n",
       "        [-0.38235343],\n",
       "        ...,\n",
       "        [-0.79026075],\n",
       "        [-0.78235557],\n",
       "        [-0.76022106]],\n",
       "\n",
       "       [[-0.57682087],\n",
       "        [-0.58156398],\n",
       "        [-0.58156398],\n",
       "        ...,\n",
       "        [-0.1799808 ],\n",
       "        [ 0.01448664],\n",
       "        [-0.19579117]],\n",
       "\n",
       "       ...,\n",
       "\n",
       "       [[-0.44085177],\n",
       "        [-0.43768969],\n",
       "        [-0.41871726],\n",
       "        ...,\n",
       "        [ 4.53150687],\n",
       "        [ 3.02636047],\n",
       "        [ 5.81688924]],\n",
       "\n",
       "       [[-0.64480543],\n",
       "        [-0.64164335],\n",
       "        [-0.64954853],\n",
       "        ...,\n",
       "        [ 2.67378941],\n",
       "        [ 2.67378941],\n",
       "        [-0.24638432]],\n",
       "\n",
       "       [[ 0.32278869],\n",
       "        [ 0.24847999],\n",
       "        [ 3.14177611],\n",
       "        ...,\n",
       "        [ 0.33385594],\n",
       "        [ 0.45717676],\n",
       "        [ 0.44294743]]])"
      ]
     },
     "execution_count": 72,
     "metadata": {},
     "output_type": "execute_result"
    }
   ],
   "source": [
    "print(\"---- X_train sequence ----\")\n",
    "X_train"
   ]
  },
  {
   "cell_type": "code",
   "execution_count": 73,
   "metadata": {},
   "outputs": [
    {
     "name": "stdout",
     "output_type": "stream",
     "text": [
      "---- y_train sequence ----\n"
     ]
    },
    {
     "data": {
      "text/plain": [
       "array([[[Timestamp('2016-03-06 00:00:00'), 0],\n",
       "        [Timestamp('2016-03-06 00:01:30'), 0],\n",
       "        [Timestamp('2016-03-06 00:03:00'), 0],\n",
       "        ...,\n",
       "        [Timestamp('2016-03-06 00:55:30'), 0],\n",
       "        [Timestamp('2016-03-06 00:57:00'), 0],\n",
       "        [Timestamp('2016-03-06 00:58:30'), 0]],\n",
       "\n",
       "       [[Timestamp('2016-03-06 00:12:00'), 0],\n",
       "        [Timestamp('2016-03-06 00:13:30'), 0],\n",
       "        [Timestamp('2016-03-06 00:15:00'), 0],\n",
       "        ...,\n",
       "        [Timestamp('2016-03-06 01:07:30'), 0],\n",
       "        [Timestamp('2016-03-06 01:09:00'), 0],\n",
       "        [Timestamp('2016-03-06 01:10:30'), 0]],\n",
       "\n",
       "       [[Timestamp('2016-03-06 00:24:00'), 0],\n",
       "        [Timestamp('2016-03-06 00:25:30'), 0],\n",
       "        [Timestamp('2016-03-06 00:27:00'), 0],\n",
       "        ...,\n",
       "        [Timestamp('2016-03-06 01:19:30'), 0],\n",
       "        [Timestamp('2016-03-06 01:21:00'), 0],\n",
       "        [Timestamp('2016-03-06 01:22:30'), 0]],\n",
       "\n",
       "       ...,\n",
       "\n",
       "       [[Timestamp('2016-04-25 04:36:00'), 0],\n",
       "        [Timestamp('2016-04-25 04:37:30'), 0],\n",
       "        [Timestamp('2016-04-25 04:39:00'), 0],\n",
       "        ...,\n",
       "        [Timestamp('2016-04-25 05:31:30'), 1],\n",
       "        [Timestamp('2016-04-25 05:33:00'), 1],\n",
       "        [Timestamp('2016-04-25 05:34:30'), 1]],\n",
       "\n",
       "       [[Timestamp('2016-04-25 04:48:00'), 0],\n",
       "        [Timestamp('2016-04-25 04:49:30'), 0],\n",
       "        [Timestamp('2016-04-25 04:51:00'), 0],\n",
       "        ...,\n",
       "        [Timestamp('2016-04-25 05:43:30'), 1],\n",
       "        [Timestamp('2016-04-25 05:45:00'), 1],\n",
       "        [Timestamp('2016-04-25 05:46:30'), 1]],\n",
       "\n",
       "       [[Timestamp('2016-04-25 05:00:00'), 1],\n",
       "        [Timestamp('2016-04-25 05:01:30'), 1],\n",
       "        [Timestamp('2016-04-25 05:03:00'), 1],\n",
       "        ...,\n",
       "        [Timestamp('2016-04-25 05:55:30'), 1],\n",
       "        [Timestamp('2016-04-25 05:57:00'), 1],\n",
       "        [Timestamp('2016-04-25 05:58:30'), 1]]], dtype=object)"
      ]
     },
     "execution_count": 73,
     "metadata": {},
     "output_type": "execute_result"
    }
   ],
   "source": [
    "print(\"---- y_train sequence ----\")\n",
    "y_train"
   ]
  },
  {
   "cell_type": "code",
   "execution_count": 74,
   "metadata": {},
   "outputs": [
    {
     "name": "stdout",
     "output_type": "stream",
     "text": [
      "---- X_test sequence ----\n"
     ]
    },
    {
     "data": {
      "text/plain": [
       "array([[[-0.18472391],\n",
       "        [-0.51041736],\n",
       "        [-0.51357943],\n",
       "        ...,\n",
       "        [-0.33176027],\n",
       "        [-0.18156184],\n",
       "        [ 0.03187804]],\n",
       "\n",
       "       [[-0.39658275],\n",
       "        [-0.15152215],\n",
       "        [-0.39342068],\n",
       "        ...,\n",
       "        [-0.38077239],\n",
       "        [-0.2716809 ],\n",
       "        [-0.28749126]],\n",
       "\n",
       "       [[ 0.01132457],\n",
       "        [-0.1973722 ],\n",
       "        [-0.03136341],\n",
       "        ...,\n",
       "        [-0.18472391],\n",
       "        [-0.02345823],\n",
       "        [-0.18156184]],\n",
       "\n",
       "       ...,\n",
       "\n",
       "       [[ 0.31330247],\n",
       "        [ 0.28800589],\n",
       "        [ 0.44927158],\n",
       "        ...,\n",
       "        [-0.38235343],\n",
       "        [-0.54361911],\n",
       "        [-0.54994326]],\n",
       "\n",
       "       [[-0.35389478],\n",
       "        [-0.3855155 ],\n",
       "        [-0.46614834],\n",
       "        ...,\n",
       "        [-0.15152215],\n",
       "        [-0.35705685],\n",
       "        [-0.37761032]],\n",
       "\n",
       "       [[-0.19104806],\n",
       "        [-0.19421013],\n",
       "        [-0.3855155 ],\n",
       "        ...,\n",
       "        [-0.58314502],\n",
       "        [-0.57682087],\n",
       "        [-0.34757063]]])"
      ]
     },
     "execution_count": 74,
     "metadata": {},
     "output_type": "execute_result"
    }
   ],
   "source": [
    "print(\"---- X_test sequence ----\")\n",
    "X_test"
   ]
  },
  {
   "cell_type": "code",
   "execution_count": 75,
   "metadata": {},
   "outputs": [
    {
     "name": "stdout",
     "output_type": "stream",
     "text": [
      "---- y_test sequence ----\n"
     ]
    },
    {
     "data": {
      "text/plain": [
       "array([[[Timestamp('2016-04-25 08:48:00'), 0],\n",
       "        [Timestamp('2016-04-25 08:49:30'), 0],\n",
       "        [Timestamp('2016-04-25 08:51:00'), 0],\n",
       "        ...,\n",
       "        [Timestamp('2016-04-25 09:43:30'), 0],\n",
       "        [Timestamp('2016-04-25 09:45:00'), 0],\n",
       "        [Timestamp('2016-04-25 09:46:30'), 0]],\n",
       "\n",
       "       [[Timestamp('2016-04-25 09:00:00'), 0],\n",
       "        [Timestamp('2016-04-25 09:01:30'), 0],\n",
       "        [Timestamp('2016-04-25 09:03:00'), 0],\n",
       "        ...,\n",
       "        [Timestamp('2016-04-25 09:55:30'), 0],\n",
       "        [Timestamp('2016-04-25 09:57:00'), 0],\n",
       "        [Timestamp('2016-04-25 09:58:30'), 0]],\n",
       "\n",
       "       [[Timestamp('2016-04-25 09:12:00'), 0],\n",
       "        [Timestamp('2016-04-25 09:13:30'), 0],\n",
       "        [Timestamp('2016-04-25 09:15:00'), 0],\n",
       "        ...,\n",
       "        [Timestamp('2016-04-25 10:07:30'), 0],\n",
       "        [Timestamp('2016-04-25 10:09:00'), 0],\n",
       "        [Timestamp('2016-04-25 10:10:30'), 0]],\n",
       "\n",
       "       ...,\n",
       "\n",
       "       [[Timestamp('2016-05-07 21:24:00'), 1],\n",
       "        [Timestamp('2016-05-07 21:25:30'), 1],\n",
       "        [Timestamp('2016-05-07 21:27:00'), 1],\n",
       "        ...,\n",
       "        [Timestamp('2016-05-07 22:19:30'), 1],\n",
       "        [Timestamp('2016-05-07 22:21:00'), 1],\n",
       "        [Timestamp('2016-05-07 22:22:30'), 1]],\n",
       "\n",
       "       [[Timestamp('2016-05-07 21:36:00'), 1],\n",
       "        [Timestamp('2016-05-07 21:37:30'), 1],\n",
       "        [Timestamp('2016-05-07 21:39:00'), 1],\n",
       "        ...,\n",
       "        [Timestamp('2016-05-07 22:31:30'), 0],\n",
       "        [Timestamp('2016-05-07 22:33:00'), 0],\n",
       "        [Timestamp('2016-05-07 22:34:30'), 0]],\n",
       "\n",
       "       [[Timestamp('2016-05-07 21:48:00'), 1],\n",
       "        [Timestamp('2016-05-07 21:49:30'), 1],\n",
       "        [Timestamp('2016-05-07 21:51:00'), 1],\n",
       "        ...,\n",
       "        [Timestamp('2016-05-07 22:43:30'), 0],\n",
       "        [Timestamp('2016-05-07 22:45:00'), 0],\n",
       "        [Timestamp('2016-05-07 22:46:30'), 0]]], dtype=object)"
      ]
     },
     "execution_count": 75,
     "metadata": {},
     "output_type": "execute_result"
    }
   ],
   "source": [
    "print(\"---- y_test sequence ----\")\n",
    "y_test"
   ]
  },
  {
   "cell_type": "markdown",
   "metadata": {},
   "source": [
    "## Build a model\n",
    "\n",
    "We will build a convolutional reconstruction autoencoder model. The model will take input of shape (``batch_size``, ``sequence_length``, ``num_features``) and return output of the same shape. In this case, ``sequence_length`` is **10** and ``num_features`` is **1**."
   ]
  },
  {
   "cell_type": "code",
   "execution_count": 76,
   "metadata": {},
   "outputs": [
    {
     "data": {
      "text/plain": [
       "(1826, 40, 1)"
      ]
     },
     "execution_count": 76,
     "metadata": {},
     "output_type": "execute_result"
    }
   ],
   "source": [
    "X_train.shape # 3d Array (samples, SEQUENCE_LENGTH, num_features)"
   ]
  },
  {
   "cell_type": "code",
   "execution_count": 77,
   "metadata": {},
   "outputs": [
    {
     "data": {
      "text/plain": [
       "40"
      ]
     },
     "execution_count": 77,
     "metadata": {},
     "output_type": "execute_result"
    }
   ],
   "source": [
    "X_train.shape[1]"
   ]
  },
  {
   "cell_type": "code",
   "execution_count": 78,
   "metadata": {},
   "outputs": [
    {
     "data": {
      "text/plain": [
       "1"
      ]
     },
     "execution_count": 78,
     "metadata": {},
     "output_type": "execute_result"
    }
   ],
   "source": [
    "X_train.shape[2]"
   ]
  },
  {
   "cell_type": "code",
   "execution_count": 79,
   "metadata": {},
   "outputs": [
    {
     "name": "stdout",
     "output_type": "stream",
     "text": [
      "Model: \"sequential\"\n",
      "_________________________________________________________________\n",
      " Layer (type)                Output Shape              Param #   \n",
      "=================================================================\n",
      " conv1d (Conv1D)             (None, 20, 32)            256       \n",
      "                                                                 \n",
      " dropout (Dropout)           (None, 20, 32)            0         \n",
      "                                                                 \n",
      " conv1d_1 (Conv1D)           (None, 10, 16)            3600      \n",
      "                                                                 \n",
      " conv1d_transpose (Conv1DTra  (None, 20, 16)           1808      \n",
      " nspose)                                                         \n",
      "                                                                 \n",
      " dropout_1 (Dropout)         (None, 20, 16)            0         \n",
      "                                                                 \n",
      " conv1d_transpose_1 (Conv1DT  (None, 40, 32)           3616      \n",
      " ranspose)                                                       \n",
      "                                                                 \n",
      " conv1d_transpose_2 (Conv1DT  (None, 40, 1)            129       \n",
      " ranspose)                                                       \n",
      "                                                                 \n",
      "=================================================================\n",
      "Total params: 9,409\n",
      "Trainable params: 9,409\n",
      "Non-trainable params: 0\n",
      "_________________________________________________________________\n"
     ]
    }
   ],
   "source": [
    "model = keras.Sequential(\n",
    "    [\n",
    "        layers.Input(shape=(X_train.shape[1], X_train.shape[2])),\n",
    "        layers.Conv1D(\n",
    "            filters=32, kernel_size=7, padding=\"same\", strides=2, activation=\"relu\"\n",
    "        ),\n",
    "        layers.Dropout(rate=0.2),\n",
    "        layers.Conv1D(\n",
    "            filters=16, kernel_size=7, padding=\"same\", strides=2, activation=\"relu\"\n",
    "        ),\n",
    "        layers.Conv1DTranspose(\n",
    "            filters=16, kernel_size=7, padding=\"same\", strides=2, activation=\"relu\"\n",
    "        ),\n",
    "        layers.Dropout(rate=0.2),\n",
    "        layers.Conv1DTranspose(\n",
    "            filters=32, kernel_size=7, padding=\"same\", strides=2, activation=\"relu\"\n",
    "        ),\n",
    "        layers.Conv1DTranspose(filters=1, kernel_size=4, padding=\"same\"),\n",
    "    ]\n",
    ")\n",
    "model.compile(optimizer=keras.optimizers.Adam(learning_rate=0.001), loss=\"mse\")\n",
    "model.summary()"
   ]
  },
  {
   "cell_type": "markdown",
   "metadata": {},
   "source": [
    "### Train the model\n",
    "\n",
    "Please note that we are using ``X_train`` as both the input and the target since this is a reconstruction model."
   ]
  },
  {
   "cell_type": "code",
   "execution_count": 80,
   "metadata": {},
   "outputs": [
    {
     "name": "stdout",
     "output_type": "stream",
     "text": [
      "Epoch 1/50\n",
      "13/13 [==============================] - 2s 58ms/step - loss: 0.8722 - val_loss: 0.2754\n",
      "Epoch 2/50\n",
      "13/13 [==============================] - 0s 34ms/step - loss: 0.4201 - val_loss: 0.1158\n",
      "Epoch 3/50\n",
      "13/13 [==============================] - 0s 34ms/step - loss: 0.2463 - val_loss: 0.0918\n",
      "Epoch 4/50\n",
      "13/13 [==============================] - 0s 34ms/step - loss: 0.1913 - val_loss: 0.0788\n",
      "Epoch 5/50\n",
      "13/13 [==============================] - 0s 31ms/step - loss: 0.1632 - val_loss: 0.0705\n",
      "Epoch 6/50\n",
      "13/13 [==============================] - 0s 34ms/step - loss: 0.1415 - val_loss: 0.0607\n",
      "Epoch 7/50\n",
      "13/13 [==============================] - 1s 55ms/step - loss: 0.1206 - val_loss: 0.0525\n",
      "Epoch 8/50\n",
      "13/13 [==============================] - 0s 23ms/step - loss: 0.1058 - val_loss: 0.0478\n",
      "Epoch 9/50\n",
      "13/13 [==============================] - 0s 20ms/step - loss: 0.1003 - val_loss: 0.0456\n",
      "Epoch 10/50\n",
      "13/13 [==============================] - 0s 17ms/step - loss: 0.0894 - val_loss: 0.0438\n",
      "Epoch 11/50\n",
      "13/13 [==============================] - 0s 18ms/step - loss: 0.0816 - val_loss: 0.0421\n",
      "Epoch 12/50\n",
      "13/13 [==============================] - 0s 18ms/step - loss: 0.0791 - val_loss: 0.0413\n",
      "Epoch 13/50\n",
      "13/13 [==============================] - 0s 17ms/step - loss: 0.0754 - val_loss: 0.0403\n",
      "Epoch 14/50\n",
      "13/13 [==============================] - 0s 19ms/step - loss: 0.0700 - val_loss: 0.0383\n",
      "Epoch 15/50\n",
      "13/13 [==============================] - 0s 17ms/step - loss: 0.0679 - val_loss: 0.0369\n",
      "Epoch 16/50\n",
      "13/13 [==============================] - 0s 19ms/step - loss: 0.0659 - val_loss: 0.0354\n",
      "Epoch 17/50\n",
      "13/13 [==============================] - 0s 18ms/step - loss: 0.0639 - val_loss: 0.0346\n",
      "Epoch 18/50\n",
      "13/13 [==============================] - 0s 18ms/step - loss: 0.0598 - val_loss: 0.0328\n",
      "Epoch 19/50\n",
      "13/13 [==============================] - 0s 19ms/step - loss: 0.0577 - val_loss: 0.0318\n",
      "Epoch 20/50\n",
      "13/13 [==============================] - 0s 16ms/step - loss: 0.0554 - val_loss: 0.0305\n",
      "Epoch 21/50\n",
      "13/13 [==============================] - 0s 17ms/step - loss: 0.0551 - val_loss: 0.0301\n",
      "Epoch 22/50\n",
      "13/13 [==============================] - 0s 18ms/step - loss: 0.0525 - val_loss: 0.0294\n",
      "Epoch 23/50\n",
      "13/13 [==============================] - 0s 17ms/step - loss: 0.0504 - val_loss: 0.0281\n",
      "Epoch 24/50\n",
      "13/13 [==============================] - 0s 22ms/step - loss: 0.0495 - val_loss: 0.0275\n",
      "Epoch 25/50\n",
      "13/13 [==============================] - 0s 22ms/step - loss: 0.0479 - val_loss: 0.0271\n",
      "Epoch 26/50\n",
      "13/13 [==============================] - 0s 26ms/step - loss: 0.0480 - val_loss: 0.0261\n",
      "Epoch 27/50\n",
      "13/13 [==============================] - 0s 18ms/step - loss: 0.0465 - val_loss: 0.0262\n",
      "Epoch 28/50\n",
      "13/13 [==============================] - 0s 21ms/step - loss: 0.0448 - val_loss: 0.0256\n",
      "Epoch 29/50\n",
      "13/13 [==============================] - 0s 19ms/step - loss: 0.0440 - val_loss: 0.0249\n",
      "Epoch 30/50\n",
      "13/13 [==============================] - 0s 18ms/step - loss: 0.0440 - val_loss: 0.0254\n",
      "Epoch 31/50\n",
      "13/13 [==============================] - 0s 19ms/step - loss: 0.0427 - val_loss: 0.0250\n",
      "Epoch 32/50\n",
      "13/13 [==============================] - 0s 19ms/step - loss: 0.0415 - val_loss: 0.0239\n",
      "Epoch 33/50\n",
      "13/13 [==============================] - 0s 18ms/step - loss: 0.0425 - val_loss: 0.0237\n",
      "Epoch 34/50\n",
      "13/13 [==============================] - 0s 20ms/step - loss: 0.0422 - val_loss: 0.0237\n",
      "Epoch 35/50\n",
      "13/13 [==============================] - 0s 26ms/step - loss: 0.0423 - val_loss: 0.0232\n",
      "Epoch 36/50\n",
      "13/13 [==============================] - 0s 19ms/step - loss: 0.0415 - val_loss: 0.0240\n",
      "Epoch 37/50\n",
      "13/13 [==============================] - 0s 27ms/step - loss: 0.0408 - val_loss: 0.0229\n",
      "Epoch 38/50\n",
      "13/13 [==============================] - 0s 20ms/step - loss: 0.0386 - val_loss: 0.0229\n",
      "Epoch 39/50\n",
      "13/13 [==============================] - 0s 19ms/step - loss: 0.0381 - val_loss: 0.0225\n",
      "Epoch 40/50\n",
      "13/13 [==============================] - 0s 20ms/step - loss: 0.0373 - val_loss: 0.0224\n",
      "Epoch 41/50\n",
      "13/13 [==============================] - 0s 21ms/step - loss: 0.0372 - val_loss: 0.0210\n",
      "Epoch 42/50\n",
      "13/13 [==============================] - 0s 27ms/step - loss: 0.0373 - val_loss: 0.0219\n",
      "Epoch 43/50\n",
      "13/13 [==============================] - 0s 18ms/step - loss: 0.0375 - val_loss: 0.0208\n",
      "Epoch 44/50\n",
      "13/13 [==============================] - 0s 20ms/step - loss: 0.0372 - val_loss: 0.0212\n",
      "Epoch 45/50\n",
      "13/13 [==============================] - 0s 19ms/step - loss: 0.0363 - val_loss: 0.0208\n",
      "Epoch 46/50\n",
      "13/13 [==============================] - 0s 18ms/step - loss: 0.0347 - val_loss: 0.0206\n",
      "Epoch 47/50\n",
      "13/13 [==============================] - 0s 21ms/step - loss: 0.0352 - val_loss: 0.0203\n",
      "Epoch 48/50\n",
      "13/13 [==============================] - 0s 23ms/step - loss: 0.0343 - val_loss: 0.0211\n",
      "Epoch 49/50\n",
      "13/13 [==============================] - 0s 19ms/step - loss: 0.0337 - val_loss: 0.0201\n",
      "Epoch 50/50\n",
      "13/13 [==============================] - 0s 22ms/step - loss: 0.0338 - val_loss: 0.0200\n"
     ]
    }
   ],
   "source": [
    "history = model.fit(\n",
    "    X_train,\n",
    "    X_train,\n",
    "    epochs=50,\n",
    "    batch_size=128,\n",
    "    validation_split=0.1,\n",
    "    callbacks=[\n",
    "        keras.callbacks.EarlyStopping(monitor=\"val_loss\", patience=5, mode=\"min\")\n",
    "    ],\n",
    ")"
   ]
  },
  {
   "cell_type": "markdown",
   "metadata": {},
   "source": [
    "### Evaluation of the model\n",
    "\n",
    "Let's plot training and validation loss to see how the training went."
   ]
  },
  {
   "cell_type": "code",
   "execution_count": 81,
   "metadata": {},
   "outputs": [
    {
     "data": {
      "image/png": "[encoded data removed]",
      "text/plain": [
       "<Figure size 432x288 with 1 Axes>"
      ]
     },
     "metadata": {
      "needs_background": "light"
     },
     "output_type": "display_data"
    }
   ],
   "source": [
    "plt.plot(history.history[\"loss\"], label=\"Training Loss\")\n",
    "plt.plot(history.history[\"val_loss\"], label=\"Validation Loss\")\n",
    "plt.legend()\n",
    "plt.title(\"Training & Validation Loss Evolution\\n\")\n",
    "plt.show()"
   ]
  },
  {
   "cell_type": "markdown",
   "metadata": {},
   "source": [
    "### Detecting anomalies\n",
    "\n",
    "We will detect anomalies by determining how well our model can reconstruct the input data.\n",
    "\n",
    "**1/** Find ``MAE`` loss on training samples.\n",
    "\n",
    "**2/** Find max MAE loss value. This is the worst our model has performed trying to reconstruct a sample. We will make this the ``threshold`` for anomaly detection.\n",
    "\n",
    "**3/** If the reconstruction loss for a sample is greater than this ``threshold`` value then we can infer that the model is seeing a pattern that it isn't familiar with. We will label this sample as an **anomaly.**"
   ]
  },
  {
   "cell_type": "code",
   "execution_count": 82,
   "metadata": {},
   "outputs": [
    {
     "data": {
      "image/png": "[encoded data removed]",
      "text/plain": [
       "<Figure size 432x288 with 1 Axes>"
      ]
     },
     "metadata": {
      "needs_background": "light"
     },
     "output_type": "display_data"
    },
    {
     "name": "stdout",
     "output_type": "stream",
     "text": [
      "Reconstruction error threshold:  0.48459934701977636\n"
     ]
    }
   ],
   "source": [
    "# Get train MAE loss.\n",
    "X_train_pred = model.predict(X_train)\n",
    "train_mae_loss = np.mean(np.abs(X_train_pred - X_train), axis=1)\n",
    "\n",
    "plt.hist(train_mae_loss, bins=50)\n",
    "plt.xlabel(\"Train MAE loss\")\n",
    "plt.ylabel(\"No of samples\")\n",
    "plt.show()\n",
    "\n",
    "# Get reconstruction loss threshold.\n",
    "threshold = np.max(train_mae_loss)\n",
    "print(\"Reconstruction error threshold: \", threshold)"
   ]
  },
  {
   "cell_type": "markdown",
   "metadata": {},
   "source": [
    "### Compare recontruction\n",
    "\n",
    "Just for fun, let's see how our model has recontructed the first sample. This is the **40** timesteps from day 1 of our training dataset."
   ]
  },
  {
   "cell_type": "code",
   "execution_count": 85,
   "metadata": {},
   "outputs": [
    {
     "data": {
      "image/png": "[encoded data removed]",
      "text/plain": [
       "<Figure size 432x288 with 1 Axes>"
      ]
     },
     "metadata": {
      "needs_background": "light"
     },
     "output_type": "display_data"
    }
   ],
   "source": [
    "# Checking how the first sequence is learnt\n",
    "plt.plot(X_train[0])\n",
    "plt.plot(X_train_pred[0])\n",
    "plt.show()"
   ]
  },
  {
   "cell_type": "markdown",
   "metadata": {},
   "source": [
    "### Prepare test data"
   ]
  },
  {
   "cell_type": "code",
   "execution_count": 86,
   "metadata": {},
   "outputs": [
    {
     "data": {
      "image/png": "[encoded data removed]",
      "text/plain": [
       "<Figure size 432x288 with 1 Axes>"
      ]
     },
     "metadata": {
      "needs_background": "light"
     },
     "output_type": "display_data"
    }
   ],
   "source": [
    "df_test_value = test_df[\"mains\"]\n",
    "fig, ax = plt.subplots()\n",
    "df_test_value.plot(legend=False, ax=ax)\n",
    "plt.show()"
   ]
  },
  {
   "cell_type": "code",
   "execution_count": 87,
   "metadata": {},
   "outputs": [
    {
     "name": "stdout",
     "output_type": "stream",
     "text": [
      "Test input shape:  (1506, 40, 1)\n"
     ]
    }
   ],
   "source": [
    "print(\"Test input shape: \", X_test.shape)"
   ]
  },
  {
   "cell_type": "code",
   "execution_count": 88,
   "metadata": {},
   "outputs": [
    {
     "data": {
      "image/png": "[encoded data removed]",
      "text/plain": [
       "<Figure size 432x288 with 1 Axes>"
      ]
     },
     "metadata": {
      "needs_background": "light"
     },
     "output_type": "display_data"
    },
    {
     "name": "stdout",
     "output_type": "stream",
     "text": [
      "Number of anomaly samples: \n",
      "53\n",
      "\n",
      "\n",
      "Indices of anomaly samples: \n",
      "(array([277, 278, 279, 280, 281, 282, 283, 284, 285, 393, 394, 395, 396,\n",
      "       397, 398, 399, 400, 601, 602, 603, 604, 605, 606, 607, 608, 609,\n",
      "       610, 611, 612, 647, 648, 649, 712, 713, 714, 715, 716, 717, 718,\n",
      "       751, 752, 753, 754, 762, 763, 764, 765, 766, 767, 768, 769, 770,\n",
      "       771], dtype=int64),)\n"
     ]
    }
   ],
   "source": [
    "# Get test MAE loss.\n",
    "X_test_pred = model.predict(X_test)\n",
    "test_mae_loss = np.mean(np.abs(X_test_pred - X_test), axis=1)\n",
    "test_mae_loss = test_mae_loss.reshape((-1))\n",
    "\n",
    "plt.hist(test_mae_loss, bins=50)\n",
    "plt.xlabel(\"test MAE loss\")\n",
    "plt.ylabel(\"No of samples\")\n",
    "plt.show()\n",
    "\n",
    "# Detect all the samples which are anomalies.\n",
    "anomalies = test_mae_loss > threshold\n",
    "print(\"Number of anomaly samples: \")\n",
    "print(np.sum(anomalies))\n",
    "\n",
    "print(\"\\n\\nIndices of anomaly samples: \")\n",
    "print( np.where(anomalies))"
   ]
  },
  {
   "cell_type": "markdown",
   "metadata": {},
   "source": [
    "### Plot anomalies\n",
    "\n",
    "We now know the samples of the data which are anomalies. With this, we will find the corresponding timestamps from the original test data.\n",
    "\n",
    "We will be using the following method to do that:\n",
    "\n",
    "Let's say ``SEQUENCE_LENGTH = 3`` and we have **10** training values. Our ``x_train`` will look like this:\n",
    "\n",
    "0, 1, 2\n",
    "\n",
    "1, 2, 3\n",
    "\n",
    "2, 3, 4\n",
    "\n",
    "3, 4, 5\n",
    "\n",
    "4, 5, 6\n",
    "\n",
    "5, 6, 7\n",
    "\n",
    "6, 7, 8\n",
    "\n",
    "7, 8, 9\n",
    "\n",
    "All except the initial and the final _SEQUENCE_LENGTH-1_ data values, will appear in time_steps number of samples. So, if we know that the samples [(3, 4, 5), (4, 5, 6), (5, 6, 7)] are anomalies, we can say that the data point **5** is an anomaly."
   ]
  },
  {
   "cell_type": "code",
   "execution_count": 89,
   "metadata": {},
   "outputs": [],
   "source": [
    "# data i is an anomaly if samples [(i - SEQUENCE_LENGTH + 1) to (i)] are anomalies\n",
    "anomalous_data_indices = []\n",
    "for data_idx in range(SEQUENCE_LENGTH - 1, len(df_test_value) - SEQUENCE_LENGTH + 1):\n",
    "    if np.all(anomalies[data_idx - SEQUENCE_LENGTH + 1 : data_idx]):\n",
    "        anomalous_data_indices.append(data_idx)"
   ]
  },
  {
   "cell_type": "code",
   "execution_count": 90,
   "metadata": {},
   "outputs": [
    {
     "data": {
      "image/png": "[encoded data removed]",
      "text/plain": [
       "<Figure size 432x288 with 1 Axes>"
      ]
     },
     "metadata": {
      "needs_background": "light"
     },
     "output_type": "display_data"
    }
   ],
   "source": [
    "df_subset = df_test_value.iloc[anomalous_data_indices]\n",
    "fig, ax = plt.subplots()\n",
    "df_test_value.plot(legend=False, ax=ax)\n",
    "df_subset.plot(legend=False, ax=ax, color=\"r\")\n",
    "plt.show()"
   ]
  }
 ],
 "metadata": {
  "kernelspec": {
   "display_name": "Python 3",
   "language": "python",
   "name": "python3"
  },
  "language_info": {
   "codemirror_mode": {
    "name": "ipython",
    "version": 3
   },
   "file_extension": ".py",
   "mimetype": "text/x-python",
   "name": "python",
   "nbconvert_exporter": "python",
   "pygments_lexer": "ipython3",
   "version": "3.10.0"
  }
 },
 "nbformat": 4,
 "nbformat_minor": 4
}
