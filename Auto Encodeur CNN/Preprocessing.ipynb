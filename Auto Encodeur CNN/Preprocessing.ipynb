{
 "cells": [
  {
   "cell_type": "markdown",
   "metadata": {},
   "source": [
    "# Preprocessing"
   ]
  },
  {
   "cell_type": "markdown",
   "metadata": {},
   "source": [
    "## Preprocessing\n",
    "\n",
    "####  1/ Loads the dataset and resample timeseries\n",
    "\n",
    "####  2/ Split a dataframe into train set and test set according to the split rate\n",
    "\n",
    "####  3/ Standardize Data (Scaling the data)\n",
    "\n",
    "####  4/ Construction of the dataset according to peak and off-peak hours or according to activity labels\n",
    "\n",
    "####  5/ Creation of sequences of length T and according to the overlapping period\n",
    "\n",
    "#### Return preprocessed ``3D-array`` ``[samples, SEQUENCE_LENGTH, features]`` (i.e sequences from the timeseries) , as required for **LSTM** network. We want our network to have memory of **10 days**, so we set ``SEQUENCE_LENGTH = 10``."
   ]
  },
  {
   "cell_type": "code",
   "execution_count": 1,
   "metadata": {},
   "outputs": [],
   "source": [
    "# ---- utils libs ----\n",
    "import numpy as np\n",
    "import pandas as pd\n",
    "import datetime\n",
    "from typing import Optional\n",
    "\n",
    "# ---- ML libs ----\n",
    "from sklearn.preprocessing import StandardScaler\n",
    "\n",
    "from module import load_dataset, time_in_range, segmentDf, create_sequence, train_test_split_dataset"
   ]
  },
  {
   "cell_type": "code",
   "execution_count": 2,
   "metadata": {},
   "outputs": [],
   "source": [
    "def preprocessing(filepath: str, timeframes: list\n",
    "                  ,sequence_length: int, overlap_period: int\n",
    "                  ,resample_period :Optional[str]=None\n",
    "                  ,use_labels :Optional[bool]=False, split_rate :Optional[float]=0.2) -> np.array:\n",
    "    \"\"\"\n",
    "    1/ Loads the dataset and resample timeseries\n",
    "    2/ Split a dataframe into train set and test set according to the split rate\n",
    "    3/ Standardize Data\n",
    "    4/ Construction of the dataset according to peak and off-peak hours \n",
    "    or according to activity labels\n",
    "    5/ Creation of sequences of length T and according to the overlapping period\n",
    "    \n",
    "    Args:\n",
    "        - filename: the path to the file to load\n",
    "        - resample_period: (optional) the reasmple period, if None the default period of 1 second will be used\n",
    "        - df: dataframe with a hands column indicating the instantaneous power and the datetime as index\n",
    "        - timeframes: list of tuples indicating the periods of the day ex: timeframes = [(datetime.time(10,0,0), datetime.time(6,0,0)), (datetime.time(12,0,0), datetime.time(13,0,0))\n",
    "        - use_labels: (False by default) use the activities labels\n",
    "        - sequence_length: length of the sequence\n",
    "        - overlap_period: overlap the sequences of timeseries\n",
    "        - split_rate: Rate of the test set size\n",
    "    Returns: \n",
    "        - list of prepocessed 3D-array [samples, sequence_length, features] (i.e sequences from the timeseries) \n",
    "    \"\"\"\n",
    "    # load dataset and resampled timeseries\n",
    "    df_resampled = load_dataset(filepath, resample_period)\n",
    "    \n",
    "    # split dataframe into train set and test set\n",
    "    train_df, test_df = train_test_split_dataset(df_resampled)\n",
    "    \n",
    "    # Standardize Data\n",
    "    scaler = StandardScaler()\n",
    "    scaler_train = scaler.fit(train_df[['mains']])\n",
    "    scaler_test = scaler.fit(test_df[['mains']])\n",
    "    \n",
    "    train_df['mains'] = scaler_train.transform(train_df[['mains']])\n",
    "    test_df['mains'] = scaler_test.transform(test_df[['mains']])\n",
    "    \n",
    "    # --- TRAIN SEQUENCES ----\n",
    "    # Construction of the dataset according to peak and off-peak hours \n",
    "    list_df_train = segmentDf(train_df, timeframes = timeframes)\n",
    "    \n",
    "    # init 3D-array [samples, sequence_length, features]\n",
    "    first_df_train = list_df_train[0]\n",
    "    list_X_sequence_train, list_y_sequence_train = create_sequence(first_df_train, sequence_length, overlap_period)\n",
    "    list_df_train.pop(0) # delete the first element of the list of train dataframes\n",
    "    \n",
    "    # Creation of sequences of length T and according to the overlapping period\n",
    "    for df_train_ in list_df_train:\n",
    "        X_sequences_train, y_sequences_train = create_sequence(df_train_, sequence_length, overlap_period)\n",
    "        list_X_sequence_train = np.append(list_X_sequence_train, X_sequences_train, axis = 0)\n",
    "        list_y_sequence_train = np.append(list_y_sequence_train, y_sequences_train, axis = 0)\n",
    "        \n",
    "    # --- TEST SEQUENCES ----\n",
    "    # Construction of the dataset according to peak and off-peak hours \n",
    "    list_df_test = segmentDf(test_df, timeframes = timeframes)\n",
    "    \n",
    "    # init 3D-array [samples, sequence_length, features]\n",
    "    first_df_test = list_df_test[0]\n",
    "    list_X_sequence_test, list_y_sequence_test = create_sequence(first_df_test, sequence_length, overlap_period)\n",
    "    list_df_test.pop(0) # delete the first element of the list of test dataframes\n",
    "    \n",
    "    # Creation of sequences of length T and according to the overlapping period\n",
    "    for df_test_ in list_df_test:\n",
    "        X_sequences_test, y_sequences_test = create_sequence(df_test_, sequence_length, overlap_period)\n",
    "        list_X_sequence_test = np.append(list_X_sequence_test, X_sequences_test, axis = 0)\n",
    "        list_y_sequence_test = np.append(list_y_sequence_test, y_sequences_test, axis = 0)\n",
    "    \n",
    "    return list_X_sequence_train, list_y_sequence_train, list_X_sequence_test, list_y_sequence_test"
   ]
  },
  {
   "cell_type": "code",
   "execution_count": 3,
   "metadata": {},
   "outputs": [
    {
     "name": "stderr",
     "output_type": "stream",
     "text": [
      "<ipython-input-2-77f73239da8f>:36: SettingWithCopyWarning: \n",
      "A value is trying to be set on a copy of a slice from a DataFrame.\n",
      "Try using .loc[row_indexer,col_indexer] = value instead\n",
      "\n",
      "See the caveats in the documentation: https://pandas.pydata.org/pandas-docs/stable/user_guide/indexing.html#returning-a-view-versus-a-copy\n",
      "  train_df['mains'] = scaler_train.transform(train_df[['mains']])\n",
      "<ipython-input-2-77f73239da8f>:37: SettingWithCopyWarning: \n",
      "A value is trying to be set on a copy of a slice from a DataFrame.\n",
      "Try using .loc[row_indexer,col_indexer] = value instead\n",
      "\n",
      "See the caveats in the documentation: https://pandas.pydata.org/pandas-docs/stable/user_guide/indexing.html#returning-a-view-versus-a-copy\n",
      "  test_df['mains'] = scaler_test.transform(test_df[['mains']])\n"
     ]
    }
   ],
   "source": [
    "X_sequence_train, y_sequence_train, X_sequence_test, y_sequence_test = preprocessing(filepath = \"data/house1_power_blk2_labels.csv\" \n",
    "                          ,timeframes = [(datetime.time(10,0,0), datetime.time(6,0,0))\n",
    "                                         , (datetime.time(11,0,0), datetime.time(14,0,0))\n",
    "                                         ,(datetime.time(18,0,0), datetime.time(23,0,0))]\n",
    "                          ,sequence_length = 10, overlap_period = 5, resample_period = \"10min\")"
   ]
  },
  {
   "cell_type": "markdown",
   "metadata": {},
   "source": [
    "### Visualize shape of the sequence"
   ]
  },
  {
   "cell_type": "code",
   "execution_count": 4,
   "metadata": {},
   "outputs": [
    {
     "name": "stdout",
     "output_type": "stream",
     "text": [
      "---- X_train sequence shape ----\n",
      "(1506, 10, 1)\n",
      "\n",
      "---- y_train sequence shape ----\n",
      "(1506,)\n",
      "\n",
      "\n",
      "---- X_test sequence shape ----\n",
      "(380, 10, 1)\n",
      "\n",
      "---- y_test sequence shape ----\n",
      "(380,)\n"
     ]
    }
   ],
   "source": [
    "print(\"---- X_train sequence shape ----\")\n",
    "print(X_sequence_train.shape)\n",
    "\n",
    "print(\"\\n---- y_train sequence shape ----\")\n",
    "print(y_sequence_train.shape)\n",
    "\n",
    "print(\"\\n\\n---- X_test sequence shape ----\")\n",
    "print(X_sequence_test.shape)\n",
    "\n",
    "print(\"\\n---- y_test sequence shape ----\")\n",
    "print(y_sequence_test.shape)"
   ]
  },
  {
   "cell_type": "markdown",
   "metadata": {},
   "source": [
    "### Visualize the sequence"
   ]
  },
  {
   "cell_type": "code",
   "execution_count": 5,
   "metadata": {
    "scrolled": true
   },
   "outputs": [
    {
     "name": "stdout",
     "output_type": "stream",
     "text": [
      "---- X_train sequence ----\n"
     ]
    },
    {
     "data": {
      "text/plain": [
       "array([[[-0.58211285],\n",
       "        [-0.77701554],\n",
       "        [-0.17170798],\n",
       "        ...,\n",
       "        [-0.7484932 ],\n",
       "        [-0.17963086],\n",
       "        [-0.39513302]],\n",
       "\n",
       "       [[-0.5916203 ],\n",
       "        [-0.16536968],\n",
       "        [-0.7484932 ],\n",
       "        ...,\n",
       "        [-0.5726054 ],\n",
       "        [-0.20656863],\n",
       "        [-0.61538892]],\n",
       "\n",
       "       [[-0.77384639],\n",
       "        [-0.39830217],\n",
       "        [-0.5726054 ],\n",
       "        ...,\n",
       "        [-0.17646171],\n",
       "        [-0.5916203 ],\n",
       "        [-0.77701554]],\n",
       "\n",
       "       ...,\n",
       "\n",
       "       [[ 1.18151887],\n",
       "        [ 0.58571876],\n",
       "        [ 0.47796768],\n",
       "        ...,\n",
       "        [ 0.61582568],\n",
       "        [ 0.61741026],\n",
       "        [-0.02434253]],\n",
       "\n",
       "       [[ 0.16580645],\n",
       "        [ 0.29891073],\n",
       "        [ 0.61582568],\n",
       "        ...,\n",
       "        [ 0.47479853],\n",
       "        [-0.41256335],\n",
       "        [-0.40147132]],\n",
       "\n",
       "       [[ 0.30207988],\n",
       "        [ 0.54768897],\n",
       "        [ 0.47479853],\n",
       "        ...,\n",
       "        [-0.1891383 ],\n",
       "        [-0.384041  ],\n",
       "        [-0.37611813]]])"
      ]
     },
     "execution_count": 5,
     "metadata": {},
     "output_type": "execute_result"
    }
   ],
   "source": [
    "print(\"---- X_train sequence ----\")\n",
    "X_sequence_train"
   ]
  },
  {
   "cell_type": "code",
   "execution_count": 6,
   "metadata": {},
   "outputs": [
    {
     "name": "stdout",
     "output_type": "stream",
     "text": [
      "---- y_train sequence ----\n"
     ]
    },
    {
     "data": {
      "text/plain": [
       "array([-0.77384639, -0.37294898, -0.36819525, ...,  0.30207988,\n",
       "       -0.60746604, -0.38879473])"
      ]
     },
     "execution_count": 6,
     "metadata": {},
     "output_type": "execute_result"
    }
   ],
   "source": [
    "print(\"---- y_train sequence ----\")\n",
    "y_sequence_train"
   ]
  },
  {
   "cell_type": "code",
   "execution_count": 7,
   "metadata": {
    "scrolled": true
   },
   "outputs": [
    {
     "name": "stdout",
     "output_type": "stream",
     "text": [
      "---- X_test sequence ----\n"
     ]
    },
    {
     "data": {
      "text/plain": [
       "array([[[-0.15110851],\n",
       "        [-0.11624786],\n",
       "        [ 0.32267935],\n",
       "        ...,\n",
       "        [ 0.21334369],\n",
       "        [-0.10515584],\n",
       "        [-0.11624786]],\n",
       "\n",
       "       [[ 0.33377137],\n",
       "        [ 0.13569952],\n",
       "        [ 0.21334369],\n",
       "        ...,\n",
       "        [-0.38721015],\n",
       "        [-0.16536968],\n",
       "        [-0.56151338]],\n",
       "\n",
       "       [[-0.55517508],\n",
       "        [-0.35234951],\n",
       "        [-0.38721015],\n",
       "        ...,\n",
       "        [ 0.03428674],\n",
       "        [-0.56309795],\n",
       "        [-0.3713644 ]],\n",
       "\n",
       "       ...,\n",
       "\n",
       "       [[ 0.69663899],\n",
       "        [ 1.21637952],\n",
       "        [-0.42999367],\n",
       "        ...,\n",
       "        [ 0.43676873],\n",
       "        [ 0.08657771],\n",
       "        [ 0.39398521]],\n",
       "\n",
       "       [[ 1.3811753 ],\n",
       "        [-0.00374306],\n",
       "        [ 0.43676873],\n",
       "        ...,\n",
       "        [ 0.05805536],\n",
       "        [ 2.3604425 ],\n",
       "        [-0.17804628]],\n",
       "\n",
       "       [[ 0.28940328],\n",
       "        [ 0.23394316],\n",
       "        [ 0.05805536],\n",
       "        ...,\n",
       "        [-0.38879473],\n",
       "        [-0.19706118],\n",
       "        [-0.3903793 ]]])"
      ]
     },
     "execution_count": 7,
     "metadata": {},
     "output_type": "execute_result"
    }
   ],
   "source": [
    "print(\"---- X_test sequence ----\")\n",
    "X_sequence_test"
   ]
  },
  {
   "cell_type": "code",
   "execution_count": 8,
   "metadata": {},
   "outputs": [
    {
     "name": "stdout",
     "output_type": "stream",
     "text": [
      "---- y_test sequence ----\n"
     ]
    },
    {
     "data": {
      "text/plain": [
       "array([-5.55175076e-01, -3.41257482e-01, -5.61513375e-01, -3.71364403e-01,\n",
       "        2.56127207e-01,  4.57368203e-01, -1.25755313e-01,  4.46276180e-01,\n",
       "        1.31303858e+00,  3.06833600e-01,  1.43622398e-01, -7.50489204e-02,\n",
       "       -7.54831498e-01, -4.12563347e-01, -4.17317071e-01, -3.71364403e-01,\n",
       "       -5.64682525e-01, -1.44770210e-01, -5.78943698e-01, -3.77702702e-01,\n",
       "       -6.31234665e-01,  3.04656338e+00,  2.07005389e-01, -1.63785108e-01,\n",
       "       -2.98473963e-01,  8.34085569e-02, -5.63097950e-01,  3.00495301e-01,\n",
       "        1.32530375e-01, -1.14663290e-01,  3.13371499e+00,  2.02251665e-01,\n",
       "        1.16684627e-01,  8.78865093e-01, -4.09394197e-01, -7.51662348e-01,\n",
       "       -2.44598421e-01, -4.33162819e-01, -5.45667628e-01, -5.36160179e-01,\n",
       "       -3.61856954e-01, -7.18386278e-01, -3.91963875e-01, -3.38499763e-02,\n",
       "       -2.66782468e-01,  2.16101407e-02, -1.28924463e-01, -4.36331968e-01,\n",
       "       -1.06740416e-01, -2.92135664e-01,  1.83236768e-01,  3.17925623e-01,\n",
       "        3.21135916e+00,  3.30167992e+00,  1.11930903e-01,  1.11179758e+00,\n",
       "        1.02147682e+00,  6.85546970e-01, -3.68195253e-01, -2.55690444e-01,\n",
       "       -3.88794725e-01, -5.34575604e-01, -3.19073435e-01, -5.67851675e-01,\n",
       "       -2.85797365e-01, -5.61513375e-01, -4.14147922e-01,  1.30945800e-01,\n",
       "        7.12484741e-01, -6.07877474e-02, -6.28065516e-01,  4.20922983e-01,\n",
       "       -4.09394197e-01,  3.14756474e-01,  4.13199710e+00,  3.28900332e+00,\n",
       "        9.07387438e-01,  1.49960697e-01,  4.74798526e-01,  9.53340107e-01,\n",
       "        7.29915064e-01, -2.47767571e-01, -4.80700062e-01, -2.71536192e-01,\n",
       "       -4.53762291e-01, -4.01471323e-01, -4.20486221e-01, -3.77702702e-01,\n",
       "       -2.92135664e-01, -4.79115487e-01,  8.34085569e-02, -2.15848085e-03,\n",
       "       -4.83869212e-01, -8.13872195e-02,  3.16341048e-01, -7.07294255e-01,\n",
       "       -3.53934080e-01, -5.59928801e-01, -5.15560707e-01, -2.23998949e-01,\n",
       "        2.78311254e-01, -1.89138304e-01,  2.49788908e-01, -4.81111492e-02,\n",
       "        5.28674068e-01,  2.63638651e-02, -6.40742114e-01, -3.69779828e-01,\n",
       "       -1.87553729e-01, -5.72605399e-01, -7.05709680e-01, -3.52349506e-01,\n",
       "       -4.06225048e-01, -7.80184694e-01, -1.64196538e-02,  2.62465506e-01,\n",
       "        3.78139465e-01,  7.56852835e-01, -3.85625576e-01, -4.39501118e-01,\n",
       "        1.03732257e+00, -5.02884109e-01, -2.08153201e-01, -5.44083053e-01,\n",
       "        7.41998975e+00,  5.76439301e-03,  2.10174539e-01, -2.11733781e-02,\n",
       "       -2.95304814e-01, -4.36331968e-01, -5.25068156e-01, -3.72948978e-01,\n",
       "       -5.74189974e-01, -5.25068156e-01, -5.86866572e-01, -6.39157539e-01,\n",
       "       -5.97958595e-01,  7.48929961e-01, -5.90035721e-01, -9.88175420e-02,\n",
       "        3.67047441e-01, -8.29306512e-01, -3.86037006e-02,  7.20448758e+00,\n",
       "       -1.65369682e-01,  2.29189436e-01,  7.15653891e-01,  7.07772160e+00,\n",
       "        1.34114950e-01,  4.44691605e-01, -2.92135664e-01, -5.44083053e-01,\n",
       "       -3.33334608e-01, -4.94961235e-01, -4.82284637e-01, -2.85797365e-01,\n",
       "       -4.36331968e-01, -4.52177716e-01, -5.69436249e-01, -5.07637833e-01,\n",
       "        3.49617119e-01, -3.17488861e-01, -4.18901646e-01, -2.49352145e-01,\n",
       "       -8.38813961e-01, -5.61513375e-01,  5.48862110e-02, -1.54277659e-01,\n",
       "        2.60880931e-01, -4.99714959e-01, -1.25755313e-01,  4.44691605e-01,\n",
       "        8.02394073e-02, -8.16629914e-01, -1.70123407e-01, -2.96889389e-01,\n",
       "       -2.52521295e-01,  1.27776650e-01, -2.92135664e-01, -3.54345511e-02,\n",
       "       -3.11150561e-01, -2.00230327e-01,  1.32530375e-01,  2.48879306e+00,\n",
       "       -7.12047979e-01, -3.57103230e-01, -3.39672907e-01, -4.96545810e-01,\n",
       "       -3.71364403e-01, -4.18901646e-01, -4.52177716e-01, -1.98645753e-01,\n",
       "       -1.95888033e-02,  1.30353113e+00, -5.04468684e-01,  2.14928263e-01,\n",
       "       -3.82456426e-01, -3.34919183e-01, -1.28924463e-01, -5.12391558e-01,\n",
       "       -1.01986692e-01, -3.26996309e-01, -2.57275019e-01, -3.20658010e-01,\n",
       "       -5.55175076e-01, -3.28580884e-01,  3.29017647e-01, -3.69779828e-01,\n",
       "       -3.23827160e-01, -1.33678187e-01, -7.12047979e-01, -6.71260465e-02,\n",
       "       -1.16659295e-02, -6.02712320e-01, -2.81043641e-01, -1.09909565e-01,\n",
       "       -6.99371381e-01,  6.43936596e-02, -3.54345511e-02, -4.34747394e-01,\n",
       "       -4.99714959e-01, -2.85797365e-01, -4.39501118e-01, -6.12219768e-01,\n",
       "       -3.72948978e-01, -5.71020824e-01, -6.32819240e-01, -2.69951617e-01,\n",
       "       -6.32819240e-01, -2.96889389e-01, -6.29650091e-01, -6.77187334e-01,\n",
       "       -2.22414374e-01, -3.17488861e-01, -3.95133024e-01,  2.40797975e+00,\n",
       "       -4.98130385e-01, -3.84041001e-01, -1.55862234e-01, -8.32475662e-01,\n",
       "        1.26192076e-01,  1.52718416e-02, -3.12735136e-01, -2.14491500e-01,\n",
       "       -2.54105870e-01, -4.07809623e-01, -4.01471323e-01, -6.29650091e-01,\n",
       "       -5.26652731e-01, -4.34747394e-01, -6.88279357e-01,  3.40109670e-01,\n",
       "        2.02251665e-01, -8.34060236e-01, -4.74361763e-01, -4.85453786e-01,\n",
       "       -8.21383638e-01, -2.46182996e-01, -4.79115487e-01, -3.01643113e-01,\n",
       "       -2.60444169e-01, -2.65197893e-01, -4.36331968e-01,  2.51373483e-01,\n",
       "        1.07177178e-01, -2.43425277e-02, -6.32819240e-01, -4.34747394e-01,\n",
       "       -8.38813961e-01, -3.99886749e-01, -1.97061178e-01, -6.51834138e-01,\n",
       "       -2.76289916e-01, -6.70849035e-01, -5.91620296e-01, -4.68023464e-01,\n",
       "       -2.58859594e-01, -3.98302174e-01, -3.77702702e-01, -3.28580884e-01,\n",
       "       -5.32991030e-01, -3.25411734e-01, -4.22070796e-01,  9.45417233e-01,\n",
       "        9.76697298e-02, -4.29993669e-01,  4.36768731e-01,  5.80553605e-02,\n",
       "       -3.88794725e-01, -1.46354785e-01, -3.39672907e-01,  2.95330146e-02,\n",
       "       -4.22070796e-01,  3.24263922e-01, -1.59031383e-01, -1.35262762e-01,\n",
       "       -7.81769269e-01,  2.46619758e-01, -2.47767571e-01,  2.68803805e-01,\n",
       "        6.03149082e-01,  1.67391020e-01,  3.81308614e-01, -4.61685165e-01,\n",
       "       -2.25583524e-01, -6.88279357e-01, -4.90207511e-01, -3.41257482e-01,\n",
       "       -3.19073435e-01, -5.55175076e-01, -6.09050619e-01, -3.87210151e-01,\n",
       "       -8.46736835e-01, -6.80356483e-01, -5.34575604e-01, -5.56759651e-01,\n",
       "        3.97154362e-01,  6.07902807e-01, -4.14147922e-01, -5.39329329e-01,\n",
       "       -3.85625576e-01,  3.08418175e-01,  3.43278820e-01, -1.33678187e-01,\n",
       "       -3.72948978e-01, -5.99543170e-01,  7.86959756e-01,  6.11071956e-01,\n",
       "       -9.08946681e-02, -7.54831498e-01, -1.55862234e-01,  2.87818702e-01,\n",
       "        1.46791548e-01, -2.58859594e-01, -3.99886749e-01, -9.24792429e-02,\n",
       "        5.41350666e-01,  6.80793246e-01, -6.23723222e-02, -9.24792429e-02,\n",
       "       -2.65197893e-01, -1.09909565e-01, -1.27339888e-01,  1.81652193e-01,\n",
       "       -2.77874491e-01, -6.02712320e-01, -4.85453786e-01,  3.08418175e-01,\n",
       "        1.61052721e-01, -3.55518655e-01,  1.89299295e+00, -6.91220517e-03,\n",
       "        3.29017647e-01, -6.69264460e-01, -5.90035721e-01, -1.74877131e-01,\n",
       "        8.99464565e-01,  4.22096128e-02, -2.11733781e-02, -4.69608039e-01,\n",
       "       -1.11494140e-01,  1.23022926e-01, -1.16247864e-01, -8.13872195e-02,\n",
       "       -6.24896366e-01, -6.70849035e-01, -4.39501118e-01,  3.21094773e-01,\n",
       "       -2.00230327e-01, -1.09909565e-01, -6.78771909e-01,  2.31947155e-02,\n",
       "        1.80067618e-01,  1.68564164e-02, -6.05881469e-01, -4.56931441e-01,\n",
       "        1.38117530e+00,  2.89403277e-01,  3.90404632e-02, -1.11494140e-01])"
      ]
     },
     "execution_count": 8,
     "metadata": {},
     "output_type": "execute_result"
    }
   ],
   "source": [
    "print(\"---- y_test sequence ----\")\n",
    "y_sequence_test"
   ]
  }
 ],
 "metadata": {
  "kernelspec": {
   "display_name": "Python 3",
   "language": "python",
   "name": "python3"
  },
  "language_info": {
   "codemirror_mode": {
    "name": "ipython",
    "version": 3
   },
   "file_extension": ".py",
   "mimetype": "text/x-python",
   "name": "python",
   "nbconvert_exporter": "python",
   "pygments_lexer": "ipython3",
   "version": "3.8.3"
  }
 },
 "nbformat": 4,
 "nbformat_minor": 4
}
