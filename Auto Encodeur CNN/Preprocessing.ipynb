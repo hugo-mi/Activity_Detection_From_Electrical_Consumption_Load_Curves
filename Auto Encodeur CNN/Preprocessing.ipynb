{
 "cells": [
  {
   "cell_type": "markdown",
   "metadata": {},
   "source": [
    "# Preprocessing"
   ]
  },
  {
   "cell_type": "markdown",
   "metadata": {},
   "source": [
    "## Preprocessing\n",
    "\n",
    "####  1/ Loads the dataset and resample timeseries\n",
    "\n",
    "####  2/ Split a dataframe into train set and test set according to the split rate\n",
    "\n",
    "####  3/ Standardize Data (Scaling the data)\n",
    "\n",
    "####  4/ Construction of the dataset according to peak and off-peak hours or according to activity labels\n",
    "\n",
    "####  5/ Creation of sequences of length T and according to the overlapping period\n",
    "\n",
    "#### Return preprocessed ``3D-array`` ``[samples, SEQUENCE_LENGTH, features]`` (i.e sequences from the timeseries) , as required for **LSTM** network. We want our network to have memory of **10 days**, so we set ``SEQUENCE_LENGTH = 10``."
   ]
  },
  {
   "cell_type": "code",
   "execution_count": 1,
   "metadata": {},
   "outputs": [],
   "source": [
    "# ---- utils libs ----\n",
    "import numpy as np\n",
    "import pandas as pd\n",
    "import datetime\n",
    "from typing import Optional\n",
    "\n",
    "# ---- ML libs ----\n",
    "from sklearn.preprocessing import StandardScaler\n",
    "\n",
    "from module import load_dataset, time_in_range, segmentDf, create_sequence, train_test_split_dataset, convertToSequenceParameters"
   ]
  },
  {
   "cell_type": "code",
   "execution_count": 2,
   "metadata": {},
   "outputs": [
    {
     "name": "stdout",
     "output_type": "stream",
     "text": [
      "\t\tValeur choisie \t Equivalent sequence\n",
      "Timestep : \t 0:01:30\n",
      "Duration :\t 1:00:00 \t -->  40 \n",
      "Overlap :\t 0.8 \t -->  32\n"
     ]
    }
   ],
   "source": [
    "TIME_STEP = datetime.timedelta(minutes=1, seconds=30) # duration of a step in the resample dataset, originally 1second\n",
    "DURATION_TIME = datetime.timedelta(minutes=60) # duration of a sequence\n",
    "OVERLAP_PERIOD_PERCENT = 0.8 # 0.5 <=> 50% overlapping\n",
    "TIMEFRAMES = [(datetime.time(22,0,0), datetime.time(6,0,0))]\n",
    "\n",
    "SEQUENCE_LENGTH, OVERLAP_PERIOD = convertToSequenceParameters(TIME_STEP, DURATION_TIME, OVERLAP_PERIOD_PERCENT)\n",
    "\n",
    "print(\"\\t\\tValeur choisie \\t Equivalent sequence\\nTimestep : \\t {}\\nDuration :\\t {} \\t -->  {} \\nOverlap :\\t {} \\t -->  {}\".format(TIME_STEP, DURATION_TIME, SEQUENCE_LENGTH, OVERLAP_PERIOD_PERCENT, OVERLAP_PERIOD))"
   ]
  },
  {
   "cell_type": "code",
   "execution_count": 3,
   "metadata": {},
   "outputs": [],
   "source": [
    "def preprocessing(filepath: str, timeframes: list\n",
    "                  ,sequence_length: int, overlap_period: int\n",
    "                  ,resample_period :Optional[str]=None\n",
    "                  ,use_labels :Optional[bool]=False, split_rate :Optional[float]=0.2) -> np.array:\n",
    "    \"\"\"\n",
    "    1/ Loads the dataset and resample timeseries\n",
    "    2/ Split a dataframe into train set and test set according to the split rate\n",
    "    3/ Standardize Data\n",
    "    4/ Construction of the dataset according to peak and off-peak hours \n",
    "    or according to activity labels\n",
    "    5/ Creation of sequences of length T and according to the overlapping period\n",
    "    \n",
    "    Args:\n",
    "        - filename: the path to the file to load\n",
    "        - resample_period: (optional) the reasmple period, if None the default period of 1 second will be used\n",
    "        - df: dataframe with a hands column indicating the instantaneous power and the datetime as index\n",
    "        - timeframes: list of tuples indicating the periods of the day ex: timeframes = [(datetime.time(10,0,0), datetime.time(6,0,0)), (datetime.time(12,0,0), datetime.time(13,0,0))\n",
    "        - use_labels: (False by default) use the activities labels\n",
    "        - sequence_length: length of the sequence\n",
    "        - overlap_period: overlap the sequences of timeseries\n",
    "        - split_rate: Rate of the test set size\n",
    "    Returns: \n",
    "        - list of prepocessed 3D-array [samples, sequence_length, features] (i.e sequences from the timeseries) \n",
    "    \"\"\"\n",
    "    # load dataset and resampled timeseries\n",
    "    df_resampled = load_dataset(filepath, resample_period)\n",
    "    \n",
    "    # split dataframe into train set and test set\n",
    "    train_df, test_df = train_test_split_dataset(df_resampled)\n",
    "    \n",
    "    # Standardize Data\n",
    "    scaler = StandardScaler()\n",
    "    scaler_train = scaler.fit(train_df[['mains']])\n",
    "    scaler_test = scaler.fit(test_df[['mains']])\n",
    "    \n",
    "    train_df['mains'] = scaler_train.transform(train_df[['mains']])\n",
    "    test_df['mains'] = scaler_test.transform(test_df[['mains']])\n",
    "    \n",
    "    # --- TRAIN SEQUENCES ----\n",
    "    # Construction of the dataset according to peak and off-peak hours \n",
    "    list_df_train = segmentDf(train_df, timeframes = timeframes)\n",
    "    \n",
    "    # init 3D-array [samples, sequence_length, features]\n",
    "    first_df_train = list_df_train[0]\n",
    "    list_X_sequence_train, list_y_sequence_train = create_sequence(first_df_train, sequence_length, overlap_period)\n",
    "    list_df_train.pop(0) # delete the first element of the list of train dataframes\n",
    "    \n",
    "    # Creation of sequences of length T and according to the overlapping period\n",
    "    for df_train_ in list_df_train:\n",
    "        X_sequences_train, y_sequences_train = create_sequence(df_train_, sequence_length, overlap_period)\n",
    "        list_X_sequence_train = np.append(list_X_sequence_train, X_sequences_train, axis = 0)\n",
    "        list_y_sequence_train = np.append(list_y_sequence_train, y_sequences_train, axis = 0)\n",
    "        \n",
    "    # ---- TEST SEQUENCES ----\n",
    "    X_sequences_test, y_sequences_test = create_sequence(test_df, sequence_length, overlap_period)\n",
    "    \n",
    "    return list_X_sequence_train, list_y_sequence_train, X_sequences_test, y_sequences_test"
   ]
  },
  {
   "cell_type": "code",
   "execution_count": 4,
   "metadata": {},
   "outputs": [
    {
     "name": "stderr",
     "output_type": "stream",
     "text": [
      "<ipython-input-3-cf0ecf324b93>:36: SettingWithCopyWarning: \n",
      "A value is trying to be set on a copy of a slice from a DataFrame.\n",
      "Try using .loc[row_indexer,col_indexer] = value instead\n",
      "\n",
      "See the caveats in the documentation: https://pandas.pydata.org/pandas-docs/stable/user_guide/indexing.html#returning-a-view-versus-a-copy\n",
      "  train_df['mains'] = scaler_train.transform(train_df[['mains']])\n",
      "<ipython-input-3-cf0ecf324b93>:37: SettingWithCopyWarning: \n",
      "A value is trying to be set on a copy of a slice from a DataFrame.\n",
      "Try using .loc[row_indexer,col_indexer] = value instead\n",
      "\n",
      "See the caveats in the documentation: https://pandas.pydata.org/pandas-docs/stable/user_guide/indexing.html#returning-a-view-versus-a-copy\n",
      "  test_df['mains'] = scaler_test.transform(test_df[['mains']])\n"
     ]
    }
   ],
   "source": [
    "X_sequence_train, y_sequence_train, X_sequence_test, y_sequence_test = preprocessing(filepath = \"data/house1_power_blk2_labels.csv\" \n",
    "                          ,timeframes = TIMEFRAMES\n",
    "                          ,sequence_length = SEQUENCE_LENGTH, overlap_period = OVERLAP_PERIOD, resample_period = TIME_STEP)"
   ]
  },
  {
   "cell_type": "markdown",
   "metadata": {},
   "source": [
    "### Visualize shape of the sequence"
   ]
  },
  {
   "cell_type": "code",
   "execution_count": 5,
   "metadata": {},
   "outputs": [
    {
     "name": "stdout",
     "output_type": "stream",
     "text": [
      "---- X_train sequence shape ----\n",
      "(1826, 40, 1)\n",
      "\n",
      "---- y_train sequence shape ----\n",
      "(1826, 40, 2)\n",
      "\n",
      "\n",
      "---- X_test sequence shape ----\n",
      "(1506, 40, 1)\n",
      "\n",
      "---- y_test sequence shape ----\n",
      "(1506, 40, 2)\n"
     ]
    }
   ],
   "source": [
    "print(\"---- X_train sequence shape ----\")\n",
    "print(X_sequence_train.shape)\n",
    "\n",
    "print(\"\\n---- y_train sequence shape ----\")\n",
    "print(y_sequence_train.shape)\n",
    "\n",
    "print(\"\\n\\n---- X_test sequence shape ----\")\n",
    "print(X_sequence_test.shape)\n",
    "\n",
    "print(\"\\n---- y_test sequence shape ----\")\n",
    "print(y_sequence_test.shape)"
   ]
  },
  {
   "cell_type": "markdown",
   "metadata": {},
   "source": [
    "### Visualize the sequence"
   ]
  },
  {
   "cell_type": "code",
   "execution_count": 6,
   "metadata": {
    "scrolled": true
   },
   "outputs": [
    {
     "name": "stdout",
     "output_type": "stream",
     "text": [
      "---- X_train sequence ----\n"
     ]
    },
    {
     "data": {
      "text/plain": [
       "array([[[-0.59421227],\n",
       "        [-0.57840191],\n",
       "        [-0.59263123],\n",
       "        ...,\n",
       "        [-0.76338314],\n",
       "        [-0.62108988],\n",
       "        [-0.12780661]],\n",
       "\n",
       "       [[-0.60527952],\n",
       "        [-0.35231374],\n",
       "        [-0.38235343],\n",
       "        ...,\n",
       "        [-0.79026075],\n",
       "        [-0.78235557],\n",
       "        [-0.76022106]],\n",
       "\n",
       "       [[-0.57682087],\n",
       "        [-0.58156398],\n",
       "        [-0.58156398],\n",
       "        ...,\n",
       "        [-0.1799808 ],\n",
       "        [ 0.01448664],\n",
       "        [-0.19579117]],\n",
       "\n",
       "       ...,\n",
       "\n",
       "       [[-0.44085177],\n",
       "        [-0.43768969],\n",
       "        [-0.41871726],\n",
       "        ...,\n",
       "        [ 4.53150687],\n",
       "        [ 3.02636047],\n",
       "        [ 5.81688924]],\n",
       "\n",
       "       [[-0.64480543],\n",
       "        [-0.64164335],\n",
       "        [-0.64954853],\n",
       "        ...,\n",
       "        [ 2.67378941],\n",
       "        [ 2.67378941],\n",
       "        [-0.24638432]],\n",
       "\n",
       "       [[ 0.32278869],\n",
       "        [ 0.24847999],\n",
       "        [ 3.14177611],\n",
       "        ...,\n",
       "        [ 0.33385594],\n",
       "        [ 0.45717676],\n",
       "        [ 0.44294743]]])"
      ]
     },
     "execution_count": 6,
     "metadata": {},
     "output_type": "execute_result"
    }
   ],
   "source": [
    "print(\"---- X_train sequence ----\")\n",
    "X_sequence_train"
   ]
  },
  {
   "cell_type": "code",
   "execution_count": 7,
   "metadata": {},
   "outputs": [
    {
     "name": "stdout",
     "output_type": "stream",
     "text": [
      "---- y_train sequence ----\n"
     ]
    },
    {
     "data": {
      "text/plain": [
       "array([[[Timestamp('2016-03-06 00:00:00'), 0],\n",
       "        [Timestamp('2016-03-06 00:01:30'), 0],\n",
       "        [Timestamp('2016-03-06 00:03:00'), 0],\n",
       "        ...,\n",
       "        [Timestamp('2016-03-06 00:55:30'), 0],\n",
       "        [Timestamp('2016-03-06 00:57:00'), 0],\n",
       "        [Timestamp('2016-03-06 00:58:30'), 0]],\n",
       "\n",
       "       [[Timestamp('2016-03-06 00:12:00'), 0],\n",
       "        [Timestamp('2016-03-06 00:13:30'), 0],\n",
       "        [Timestamp('2016-03-06 00:15:00'), 0],\n",
       "        ...,\n",
       "        [Timestamp('2016-03-06 01:07:30'), 0],\n",
       "        [Timestamp('2016-03-06 01:09:00'), 0],\n",
       "        [Timestamp('2016-03-06 01:10:30'), 0]],\n",
       "\n",
       "       [[Timestamp('2016-03-06 00:24:00'), 0],\n",
       "        [Timestamp('2016-03-06 00:25:30'), 0],\n",
       "        [Timestamp('2016-03-06 00:27:00'), 0],\n",
       "        ...,\n",
       "        [Timestamp('2016-03-06 01:19:30'), 0],\n",
       "        [Timestamp('2016-03-06 01:21:00'), 0],\n",
       "        [Timestamp('2016-03-06 01:22:30'), 0]],\n",
       "\n",
       "       ...,\n",
       "\n",
       "       [[Timestamp('2016-04-25 04:36:00'), 0],\n",
       "        [Timestamp('2016-04-25 04:37:30'), 0],\n",
       "        [Timestamp('2016-04-25 04:39:00'), 0],\n",
       "        ...,\n",
       "        [Timestamp('2016-04-25 05:31:30'), 1],\n",
       "        [Timestamp('2016-04-25 05:33:00'), 1],\n",
       "        [Timestamp('2016-04-25 05:34:30'), 1]],\n",
       "\n",
       "       [[Timestamp('2016-04-25 04:48:00'), 0],\n",
       "        [Timestamp('2016-04-25 04:49:30'), 0],\n",
       "        [Timestamp('2016-04-25 04:51:00'), 0],\n",
       "        ...,\n",
       "        [Timestamp('2016-04-25 05:43:30'), 1],\n",
       "        [Timestamp('2016-04-25 05:45:00'), 1],\n",
       "        [Timestamp('2016-04-25 05:46:30'), 1]],\n",
       "\n",
       "       [[Timestamp('2016-04-25 05:00:00'), 1],\n",
       "        [Timestamp('2016-04-25 05:01:30'), 1],\n",
       "        [Timestamp('2016-04-25 05:03:00'), 1],\n",
       "        ...,\n",
       "        [Timestamp('2016-04-25 05:55:30'), 1],\n",
       "        [Timestamp('2016-04-25 05:57:00'), 1],\n",
       "        [Timestamp('2016-04-25 05:58:30'), 1]]], dtype=object)"
      ]
     },
     "execution_count": 7,
     "metadata": {},
     "output_type": "execute_result"
    }
   ],
   "source": [
    "print(\"---- y_train sequence ----\")\n",
    "y_sequence_train"
   ]
  },
  {
   "cell_type": "code",
   "execution_count": 8,
   "metadata": {
    "scrolled": true
   },
   "outputs": [
    {
     "name": "stdout",
     "output_type": "stream",
     "text": [
      "---- X_test sequence ----\n"
     ]
    },
    {
     "data": {
      "text/plain": [
       "array([[[-0.18472391],\n",
       "        [-0.51041736],\n",
       "        [-0.51357943],\n",
       "        ...,\n",
       "        [-0.33176027],\n",
       "        [-0.18156184],\n",
       "        [ 0.03187804]],\n",
       "\n",
       "       [[-0.39658275],\n",
       "        [-0.15152215],\n",
       "        [-0.39342068],\n",
       "        ...,\n",
       "        [-0.38077239],\n",
       "        [-0.2716809 ],\n",
       "        [-0.28749126]],\n",
       "\n",
       "       [[ 0.01132457],\n",
       "        [-0.1973722 ],\n",
       "        [-0.03136341],\n",
       "        ...,\n",
       "        [-0.18472391],\n",
       "        [-0.02345823],\n",
       "        [-0.18156184]],\n",
       "\n",
       "       ...,\n",
       "\n",
       "       [[ 0.31330247],\n",
       "        [ 0.28800589],\n",
       "        [ 0.44927158],\n",
       "        ...,\n",
       "        [-0.38235343],\n",
       "        [-0.54361911],\n",
       "        [-0.54994326]],\n",
       "\n",
       "       [[-0.35389478],\n",
       "        [-0.3855155 ],\n",
       "        [-0.46614834],\n",
       "        ...,\n",
       "        [-0.15152215],\n",
       "        [-0.35705685],\n",
       "        [-0.37761032]],\n",
       "\n",
       "       [[-0.19104806],\n",
       "        [-0.19421013],\n",
       "        [-0.3855155 ],\n",
       "        ...,\n",
       "        [-0.58314502],\n",
       "        [-0.57682087],\n",
       "        [-0.34757063]]])"
      ]
     },
     "execution_count": 8,
     "metadata": {},
     "output_type": "execute_result"
    }
   ],
   "source": [
    "print(\"---- X_test sequence ----\")\n",
    "X_sequence_test"
   ]
  },
  {
   "cell_type": "code",
   "execution_count": 9,
   "metadata": {},
   "outputs": [
    {
     "name": "stdout",
     "output_type": "stream",
     "text": [
      "---- y_test sequence ----\n"
     ]
    },
    {
     "data": {
      "text/plain": [
       "array([[[Timestamp('2016-04-25 08:48:00'), 0],\n",
       "        [Timestamp('2016-04-25 08:49:30'), 0],\n",
       "        [Timestamp('2016-04-25 08:51:00'), 0],\n",
       "        ...,\n",
       "        [Timestamp('2016-04-25 09:43:30'), 0],\n",
       "        [Timestamp('2016-04-25 09:45:00'), 0],\n",
       "        [Timestamp('2016-04-25 09:46:30'), 0]],\n",
       "\n",
       "       [[Timestamp('2016-04-25 09:00:00'), 0],\n",
       "        [Timestamp('2016-04-25 09:01:30'), 0],\n",
       "        [Timestamp('2016-04-25 09:03:00'), 0],\n",
       "        ...,\n",
       "        [Timestamp('2016-04-25 09:55:30'), 0],\n",
       "        [Timestamp('2016-04-25 09:57:00'), 0],\n",
       "        [Timestamp('2016-04-25 09:58:30'), 0]],\n",
       "\n",
       "       [[Timestamp('2016-04-25 09:12:00'), 0],\n",
       "        [Timestamp('2016-04-25 09:13:30'), 0],\n",
       "        [Timestamp('2016-04-25 09:15:00'), 0],\n",
       "        ...,\n",
       "        [Timestamp('2016-04-25 10:07:30'), 0],\n",
       "        [Timestamp('2016-04-25 10:09:00'), 0],\n",
       "        [Timestamp('2016-04-25 10:10:30'), 0]],\n",
       "\n",
       "       ...,\n",
       "\n",
       "       [[Timestamp('2016-05-07 21:24:00'), 1],\n",
       "        [Timestamp('2016-05-07 21:25:30'), 1],\n",
       "        [Timestamp('2016-05-07 21:27:00'), 1],\n",
       "        ...,\n",
       "        [Timestamp('2016-05-07 22:19:30'), 1],\n",
       "        [Timestamp('2016-05-07 22:21:00'), 1],\n",
       "        [Timestamp('2016-05-07 22:22:30'), 1]],\n",
       "\n",
       "       [[Timestamp('2016-05-07 21:36:00'), 1],\n",
       "        [Timestamp('2016-05-07 21:37:30'), 1],\n",
       "        [Timestamp('2016-05-07 21:39:00'), 1],\n",
       "        ...,\n",
       "        [Timestamp('2016-05-07 22:31:30'), 0],\n",
       "        [Timestamp('2016-05-07 22:33:00'), 0],\n",
       "        [Timestamp('2016-05-07 22:34:30'), 0]],\n",
       "\n",
       "       [[Timestamp('2016-05-07 21:48:00'), 1],\n",
       "        [Timestamp('2016-05-07 21:49:30'), 1],\n",
       "        [Timestamp('2016-05-07 21:51:00'), 1],\n",
       "        ...,\n",
       "        [Timestamp('2016-05-07 22:43:30'), 0],\n",
       "        [Timestamp('2016-05-07 22:45:00'), 0],\n",
       "        [Timestamp('2016-05-07 22:46:30'), 0]]], dtype=object)"
      ]
     },
     "execution_count": 9,
     "metadata": {},
     "output_type": "execute_result"
    }
   ],
   "source": [
    "print(\"---- y_test sequence ----\")\n",
    "y_sequence_test"
   ]
  }
 ],
 "metadata": {
  "kernelspec": {
   "display_name": "Python 3",
   "language": "python",
   "name": "python3"
  },
  "language_info": {
   "codemirror_mode": {
    "name": "ipython",
    "version": 3
   },
   "file_extension": ".py",
   "mimetype": "text/x-python",
   "name": "python",
   "nbconvert_exporter": "python",
   "pygments_lexer": "ipython3",
   "version": "3.8.3"
  }
 },
 "nbformat": 4,
 "nbformat_minor": 4
}
