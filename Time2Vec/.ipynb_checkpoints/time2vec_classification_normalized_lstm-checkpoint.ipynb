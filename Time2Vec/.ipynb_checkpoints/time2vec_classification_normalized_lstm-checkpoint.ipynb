{
 "cells": [
  {
   "cell_type": "code",
   "execution_count": 1,
   "metadata": {},
   "outputs": [],
   "source": [
    "import numpy as np\n",
    "import pandas as pd   \n",
    "import matplotlib.pyplot as plt\n",
    "import pickle\n",
    "\n",
    "from sklearn.metrics import mean_absolute_error, accuracy_score\n",
    "from sklearn.preprocessing import MinMaxScaler\n",
    "\n",
    "import sys\n",
    "sys.path.insert(0,'..')\n",
    "import module as mod\n",
    "\n",
    "from keras.layers import Dropout, Layer, LSTM, Dense, Input\n",
    "from keras.models import Model\n",
    "from keras.callbacks import EarlyStopping\n",
    "from keras import backend as K\n",
    "\n",
    "#from kerashypetune import KerasGridSearch"
   ]
  },
  {
   "cell_type": "markdown",
   "metadata": {},
   "source": [
    "This notebook is an adaptation of the following Git repository : https://github.com/cerlymarco/MEDIUM_NoteBook/tree/master/Time2Vec"
   ]
  },
  {
   "cell_type": "markdown",
   "metadata": {},
   "source": [
    "# 0. Load and prepare our dataset\n",
    "First we'll load our datasets"
   ]
  },
  {
   "cell_type": "code",
   "execution_count": 2,
   "metadata": {},
   "outputs": [
    {
     "data": {
      "text/html": [
       "<div>\n",
       "<style scoped>\n",
       "    .dataframe tbody tr th:only-of-type {\n",
       "        vertical-align: middle;\n",
       "    }\n",
       "\n",
       "    .dataframe tbody tr th {\n",
       "        vertical-align: top;\n",
       "    }\n",
       "\n",
       "    .dataframe thead th {\n",
       "        text-align: right;\n",
       "    }\n",
       "</style>\n",
       "<table border=\"1\" class=\"dataframe\">\n",
       "  <thead>\n",
       "    <tr style=\"text-align: right;\">\n",
       "      <th></th>\n",
       "      <th>mains</th>\n",
       "      <th>activity</th>\n",
       "      <th>hour</th>\n",
       "    </tr>\n",
       "    <tr>\n",
       "      <th>datetime</th>\n",
       "      <th></th>\n",
       "      <th></th>\n",
       "      <th></th>\n",
       "    </tr>\n",
       "  </thead>\n",
       "  <tbody>\n",
       "    <tr>\n",
       "      <th>2016-03-06 00:00:00</th>\n",
       "      <td>476.516667</td>\n",
       "      <td>0</td>\n",
       "      <td>0.000000</td>\n",
       "    </tr>\n",
       "    <tr>\n",
       "      <th>2016-03-06 00:01:00</th>\n",
       "      <td>477.733333</td>\n",
       "      <td>0</td>\n",
       "      <td>0.016667</td>\n",
       "    </tr>\n",
       "    <tr>\n",
       "      <th>2016-03-06 00:02:00</th>\n",
       "      <td>477.600000</td>\n",
       "      <td>0</td>\n",
       "      <td>0.033333</td>\n",
       "    </tr>\n",
       "    <tr>\n",
       "      <th>2016-03-06 00:03:00</th>\n",
       "      <td>477.716667</td>\n",
       "      <td>0</td>\n",
       "      <td>0.050000</td>\n",
       "    </tr>\n",
       "    <tr>\n",
       "      <th>2016-03-06 00:04:00</th>\n",
       "      <td>476.550000</td>\n",
       "      <td>0</td>\n",
       "      <td>0.066667</td>\n",
       "    </tr>\n",
       "  </tbody>\n",
       "</table>\n",
       "</div>"
      ],
      "text/plain": [
       "                          mains  activity      hour\n",
       "datetime                                           \n",
       "2016-03-06 00:00:00  476.516667         0  0.000000\n",
       "2016-03-06 00:01:00  477.733333         0  0.016667\n",
       "2016-03-06 00:02:00  477.600000         0  0.033333\n",
       "2016-03-06 00:03:00  477.716667         0  0.050000\n",
       "2016-03-06 00:04:00  476.550000         0  0.066667"
      ]
     },
     "execution_count": 2,
     "metadata": {},
     "output_type": "execute_result"
    }
   ],
   "source": [
    "### READ DATA ###\n",
    "\n",
    "house1_power_blk2 = mod.load_dataset('house1_power_blk2_labels.zip').resample('1min').mean()\n",
    "house1_power_blk2['activity'] = (house1_power_blk2['activity'] > 0.5).astype(int)\n",
    "house2_power_blk1 = mod.load_dataset('house2_power_blk1_labels.zip').resample('1min').mean()\n",
    "house2_power_blk1['activity'] = (house2_power_blk1['activity'] > 0.5).astype(int)\n",
    "house1_power_blk2.head()"
   ]
  },
  {
   "cell_type": "markdown",
   "metadata": {},
   "source": [
    "We'll normalize each dataset with a ```MinMaxScaler``` fitted on 70% of each dataset which we'll use a train set. After a few tests, normalizing the electrical power data is necessary to get better results for our final classification, more specifically to use one house as a training dataset and another as a testing dataset."
   ]
  },
  {
   "cell_type": "code",
   "execution_count": 3,
   "metadata": {},
   "outputs": [
    {
     "data": {
      "text/html": [
       "<div>\n",
       "<style scoped>\n",
       "    .dataframe tbody tr th:only-of-type {\n",
       "        vertical-align: middle;\n",
       "    }\n",
       "\n",
       "    .dataframe tbody tr th {\n",
       "        vertical-align: top;\n",
       "    }\n",
       "\n",
       "    .dataframe thead th {\n",
       "        text-align: right;\n",
       "    }\n",
       "</style>\n",
       "<table border=\"1\" class=\"dataframe\">\n",
       "  <thead>\n",
       "    <tr style=\"text-align: right;\">\n",
       "      <th></th>\n",
       "      <th>mains</th>\n",
       "      <th>activity</th>\n",
       "      <th>hour</th>\n",
       "    </tr>\n",
       "    <tr>\n",
       "      <th>datetime</th>\n",
       "      <th></th>\n",
       "      <th></th>\n",
       "      <th></th>\n",
       "    </tr>\n",
       "  </thead>\n",
       "  <tbody>\n",
       "    <tr>\n",
       "      <th>2016-03-06 00:00:00</th>\n",
       "      <td>0.025055</td>\n",
       "      <td>0</td>\n",
       "      <td>0.000000</td>\n",
       "    </tr>\n",
       "    <tr>\n",
       "      <th>2016-03-06 00:01:00</th>\n",
       "      <td>0.025182</td>\n",
       "      <td>0</td>\n",
       "      <td>0.016667</td>\n",
       "    </tr>\n",
       "    <tr>\n",
       "      <th>2016-03-06 00:02:00</th>\n",
       "      <td>0.025168</td>\n",
       "      <td>0</td>\n",
       "      <td>0.033333</td>\n",
       "    </tr>\n",
       "    <tr>\n",
       "      <th>2016-03-06 00:03:00</th>\n",
       "      <td>0.025181</td>\n",
       "      <td>0</td>\n",
       "      <td>0.050000</td>\n",
       "    </tr>\n",
       "    <tr>\n",
       "      <th>2016-03-06 00:04:00</th>\n",
       "      <td>0.025059</td>\n",
       "      <td>0</td>\n",
       "      <td>0.066667</td>\n",
       "    </tr>\n",
       "  </tbody>\n",
       "</table>\n",
       "</div>"
      ],
      "text/plain": [
       "                        mains  activity      hour\n",
       "datetime                                         \n",
       "2016-03-06 00:00:00  0.025055         0  0.000000\n",
       "2016-03-06 00:01:00  0.025182         0  0.016667\n",
       "2016-03-06 00:02:00  0.025168         0  0.033333\n",
       "2016-03-06 00:03:00  0.025181         0  0.050000\n",
       "2016-03-06 00:04:00  0.025059         0  0.066667"
      ]
     },
     "execution_count": 3,
     "metadata": {},
     "output_type": "execute_result"
    }
   ],
   "source": [
    "### SCALE THE DATASETS ###\n",
    "# scale the dataset\n",
    "scaler = MinMaxScaler()\n",
    "train_dim_h1 = int(0.7*len(house2_power_blk1))\n",
    "train_dim_h2 = int(0.7*len(house2_power_blk1))\n",
    "\n",
    "scaler.fit(house1_power_blk2['mains'].iloc[:train_dim_h1].values.reshape(-1, 1))\n",
    "house1_power_blk2['mains'] = scaler.transform(house1_power_blk2['mains'].values.reshape(-1, 1))\n",
    "\n",
    "scaler.fit(house2_power_blk1['mains'].iloc[:train_dim_h2].values.reshape(-1, 1))\n",
    "house2_power_blk1['mains'] = scaler.transform(house2_power_blk1['mains'].values.reshape(-1, 1))\n",
    "\n",
    "house1_power_blk2.head()"
   ]
  },
  {
   "cell_type": "code",
   "execution_count": 4,
   "metadata": {},
   "outputs": [],
   "source": [
    "### CREATE GENERATOR FOR LSTM AND T2V ###\n",
    "\n",
    "sequence_length = 60\n",
    "\n",
    "def gen_sequence(id_df, seq_length, seq_cols):\n",
    "    \n",
    "    data_matrix = id_df[seq_cols].values\n",
    "    num_elements = data_matrix.shape[0]\n",
    "\n",
    "    for start, stop in zip(range(0, num_elements-seq_length), range(seq_length, num_elements)):\n",
    "        yield data_matrix[start:stop, :]\n",
    "\n",
    "def gen_labels(id_df, seq_length, label):\n",
    "    \n",
    "    data_matrix = id_df[label].values\n",
    "    num_elements = data_matrix.shape[0]\n",
    "    \n",
    "    return data_matrix[seq_length:num_elements, :]"
   ]
  },
  {
   "cell_type": "markdown",
   "metadata": {},
   "source": [
    "# 1. Train our embeddings"
   ]
  },
  {
   "cell_type": "markdown",
   "metadata": {},
   "source": [
    "Next we need to prepare the data in batches for Keras."
   ]
  },
  {
   "cell_type": "code",
   "execution_count": 5,
   "metadata": {},
   "outputs": [],
   "source": [
    "### HOUSE 1 ###\n",
    "X_h1, Y_h1 = [], []\n",
    "for sequence in gen_sequence(house1_power_blk2, sequence_length, ['mains']):\n",
    "    X_h1.append(sequence)\n",
    "    \n",
    "for sequence in gen_labels(house1_power_blk2, sequence_length, ['mains']):\n",
    "    Y_h1.append(sequence)\n",
    "    \n",
    "X_h1 = np.asarray(X_h1)\n",
    "Y_h1 = np.asarray(Y_h1)"
   ]
  },
  {
   "cell_type": "code",
   "execution_count": 6,
   "metadata": {},
   "outputs": [],
   "source": [
    "### HOUSE 2 ###\n",
    "\n",
    "# prepare the batches\n",
    "X_h2, Y_h2 = [], []\n",
    "for sequence in gen_sequence(house2_power_blk1, sequence_length, ['mains']):\n",
    "    X_h2.append(sequence)\n",
    "    \n",
    "for sequence in gen_labels(house2_power_blk1, sequence_length, ['mains']):\n",
    "    Y_h2.append(sequence)\n",
    "    \n",
    "X_h2 = np.asarray(X_h2)\n",
    "Y_h2 = np.asarray(Y_h2)"
   ]
  },
  {
   "cell_type": "code",
   "execution_count": 7,
   "metadata": {},
   "outputs": [
    {
     "name": "stdout",
     "output_type": "stream",
     "text": [
      "(59513, 60, 1) (59513, 1)\n",
      "(31087, 60, 1) (31087, 1)\n"
     ]
    }
   ],
   "source": [
    "### TRAIN TEST SPLIT HOUSE 1 ###\n",
    "X_train_h1, X_test_h1 = X_h1[:train_dim_h1], X_h1[train_dim_h1:]\n",
    "y_train_h1, y_test_h1 = Y_h1[:train_dim_h1], Y_h1[train_dim_h1:]\n",
    "\n",
    "print(X_train_h1.shape, y_train_h1.shape)\n",
    "print(X_test_h1.shape, y_test_h1.shape)"
   ]
  },
  {
   "cell_type": "code",
   "execution_count": 8,
   "metadata": {},
   "outputs": [
    {
     "name": "stdout",
     "output_type": "stream",
     "text": [
      "(59513, 60, 1) (59513, 1)\n",
      "(25447, 60, 1) (25447, 1)\n"
     ]
    }
   ],
   "source": [
    "### TRAIN TEST SPLIT HOUSE 2 ###\n",
    "\n",
    "X_train_h2, X_test_h2 = X_h2[:train_dim_h2], X_h2[train_dim_h2:]\n",
    "y_train_h2, y_test_h2 = Y_h2[:train_dim_h2], Y_h2[train_dim_h2:]\n",
    "\n",
    "print(X_train_h2.shape, y_train_h2.shape)\n",
    "print(X_test_h2.shape, y_test_h2.shape)"
   ]
  },
  {
   "cell_type": "code",
   "execution_count": 9,
   "metadata": {},
   "outputs": [],
   "source": [
    "### DEFINE T2V LAYER ###\n",
    "\n",
    "class T2V(Layer):\n",
    "    \n",
    "    def __init__(self, output_dim=None, **kwargs):\n",
    "        self.output_dim = output_dim\n",
    "        super(T2V, self).__init__(**kwargs)\n",
    "        \n",
    "    def build(self, input_shape):\n",
    "\n",
    "        self.W = self.add_weight(name='W',\n",
    "                                shape=(input_shape[-1], self.output_dim),\n",
    "                                initializer='uniform',\n",
    "                                trainable=True)\n",
    "\n",
    "        self.P = self.add_weight(name='P',\n",
    "                                shape=(input_shape[1], self.output_dim),\n",
    "                                initializer='uniform',\n",
    "                                trainable=True)\n",
    "\n",
    "        self.w = self.add_weight(name='w',\n",
    "                                shape=(input_shape[1], 1),\n",
    "                                initializer='uniform',\n",
    "                                trainable=True)\n",
    "\n",
    "        self.p = self.add_weight(name='p',\n",
    "                                shape=(input_shape[1], 1),\n",
    "                                initializer='uniform',\n",
    "                                trainable=True)\n",
    "\n",
    "        super(T2V, self).build(input_shape)\n",
    "        \n",
    "    def call(self, x):\n",
    "        \n",
    "        original = self.w * x + self.p\n",
    "        sin_trans = K.sin(K.dot(x, self.W) + self.P)\n",
    "        \n",
    "        return K.concatenate([sin_trans, original], -1)"
   ]
  },
  {
   "cell_type": "code",
   "execution_count": 10,
   "metadata": {},
   "outputs": [],
   "source": [
    "### DEFINE MODEL STRUCTURES ###\n",
    "\n",
    "# def set_seed(seed):\n",
    "    \n",
    "#     tf.random.set_seed(seed)\n",
    "#     os.environ['PYTHONHASHSEED'] = str(seed)\n",
    "#     np.random.seed(seed)\n",
    "#     random.seed(seed)\n",
    "\n",
    "def T2V_NN(param, dim):\n",
    "    \n",
    "    # set_seed(33)\n",
    "    \n",
    "    inp = Input(shape=(dim,1))\n",
    "    #x = Dropout(0.2)(inp)\n",
    "    x = T2V(param['t2v_dim'])(inp)\n",
    "    x = Dropout(0.2)(x)\n",
    "    x = LSTM(param['unit'], activation=param['act'], return_sequences=False)(x)\n",
    "    x = Dense(1)(x)\n",
    "    \n",
    "    m = Model(inp, x)\n",
    "    m.compile(loss='mse', optimizer='adam') #Adam(learning_rate=param['lr'])\n",
    "    \n",
    "    return m"
   ]
  },
  {
   "cell_type": "code",
   "execution_count": 14,
   "metadata": {},
   "outputs": [
    {
     "name": "stdout",
     "output_type": "stream",
     "text": [
      "WARNING:tensorflow:Layer lstm_2 will not use cuDNN kernels since it doesn't meet the criteria. It will use a generic GPU kernel as fallback when running on GPU.\n",
      "Model: \"model_2\"\n",
      "_________________________________________________________________\n",
      " Layer (type)                Output Shape              Param #   \n",
      "=================================================================\n",
      " input_3 (InputLayer)        [(None, 60, 1)]           0         \n",
      "                                                                 \n",
      " t2v_2 (T2V)                 (None, 60, 129)           7928      \n",
      "                                                                 \n",
      " dropout_2 (Dropout)         (None, 60, 129)           0         \n",
      "                                                                 \n",
      " lstm_2 (LSTM)               (None, 32)                20736     \n",
      "                                                                 \n",
      " dense_2 (Dense)             (None, 1)                 33        \n",
      "                                                                 \n",
      "=================================================================\n",
      "Total params: 28,697\n",
      "Trainable params: 28,697\n",
      "Non-trainable params: 0\n",
      "_________________________________________________________________\n"
     ]
    }
   ],
   "source": [
    "### DEFINE PARAM GRID FOR HYPERPARM OPTIMIZATION ###\n",
    "\n",
    "early_stop = EarlyStopping(patience=3, verbose=0, min_delta=0.0001, monitor='loss', mode='auto', restore_best_weights=True)\n",
    "\n",
    "best_params = {'unit': 32, 't2v_dim': 128, 'lr': 0.001, 'act': 'relu', 'epochs': 20, 'batch_size': 1024}\n",
    "kgs_t2v = T2V_NN(param=best_params, dim=sequence_length)\n",
    "kgs_t2v.summary();"
   ]
  },
  {
   "cell_type": "code",
   "execution_count": 72,
   "metadata": {},
   "outputs": [
    {
     "name": "stdout",
     "output_type": "stream",
     "text": [
      "Epoch 1/20\n",
      "59/59 [==============================] - 4s 59ms/step - loss: 0.2698\n",
      "Epoch 2/20\n",
      "59/59 [==============================] - 3s 58ms/step - loss: 0.2158\n",
      "Epoch 3/20\n",
      "59/59 [==============================] - 3s 59ms/step - loss: 0.1507\n",
      "Epoch 4/20\n",
      "59/59 [==============================] - 4s 64ms/step - loss: 0.1228\n",
      "Epoch 5/20\n",
      "59/59 [==============================] - 4s 61ms/step - loss: 0.1208\n",
      "Epoch 6/20\n",
      "59/59 [==============================] - 4s 61ms/step - loss: 0.1196\n",
      "Epoch 7/20\n",
      "59/59 [==============================] - 4s 60ms/step - loss: 0.1191\n",
      "Epoch 8/20\n",
      "59/59 [==============================] - 3s 59ms/step - loss: 0.1189\n",
      "Epoch 9/20\n",
      "59/59 [==============================] - 3s 59ms/step - loss: 0.1181\n",
      "Epoch 10/20\n",
      "59/59 [==============================] - 4s 60ms/step - loss: 0.1180\n",
      "Epoch 11/20\n",
      "59/59 [==============================] - 3s 59ms/step - loss: 0.1178\n",
      "Epoch 12/20\n",
      "59/59 [==============================] - 3s 59ms/step - loss: 0.1180\n",
      "Epoch 13/20\n",
      "59/59 [==============================] - 3s 59ms/step - loss: 0.1167\n",
      "Epoch 14/20\n",
      "59/59 [==============================] - 4s 60ms/step - loss: 0.1160\n",
      "Epoch 15/20\n",
      "59/59 [==============================] - 4s 60ms/step - loss: 0.1162\n",
      "Epoch 16/20\n",
      "59/59 [==============================] - 4s 62ms/step - loss: 0.1154\n",
      "Epoch 17/20\n",
      "59/59 [==============================] - 4s 62ms/step - loss: 0.1151\n",
      "Epoch 18/20\n",
      "59/59 [==============================] - 4s 61ms/step - loss: 0.1152\n",
      "Epoch 19/20\n",
      "59/59 [==============================] - 4s 61ms/step - loss: 0.1148\n",
      "Epoch 20/20\n",
      "59/59 [==============================] - 4s 61ms/step - loss: 0.1145\n"
     ]
    }
   ],
   "source": [
    "### TRAIN MODEL ON HOUSE 1 ###\n",
    "kgs_t2v.fit(X_train_h1, y_train_h1, epochs=best_params['epochs'], batch_size=best_params['batch_size'], callbacks=[early_stop]);"
   ]
  },
  {
   "cell_type": "code",
   "execution_count": 91,
   "metadata": {},
   "outputs": [
    {
     "data": {
      "text/plain": [
       "0.8385462428292341"
      ]
     },
     "execution_count": 91,
     "metadata": {},
     "output_type": "execute_result"
    }
   ],
   "source": [
    "### MSE ON HOUSE 1 ###\n",
    "y_pred_h1 = kgs_t2v.predict(X_test_h1)\n",
    "mean_absolute_error(y_test_h1.ravel(), y_pred_h1.ravel())"
   ]
  },
  {
   "cell_type": "code",
   "execution_count": 92,
   "metadata": {},
   "outputs": [
    {
     "data": {
      "text/plain": [
       "0.4722016191950244"
      ]
     },
     "execution_count": 92,
     "metadata": {},
     "output_type": "execute_result"
    }
   ],
   "source": [
    "### MSE ON HOUSE 2 ###\n",
    "y_pred_h2 = kgs_t2v.predict(X_test_h2)\n",
    "mean_absolute_error(y_test_h2.ravel(), y_pred_h2.ravel())"
   ]
  },
  {
   "cell_type": "code",
   "execution_count": 73,
   "metadata": {},
   "outputs": [],
   "source": [
    "### SAVE/LOAD THE T2V LAYER ###\n",
    "t2v_weights = kgs_t2v.layers[1].get_weights()\n",
    "#pickle.dump(t2v_weights, open('t2v_weights_norm_lstm_house1.pkl', 'wb'))\n",
    "#t2v_weights = pickle.load(open('t2v_weights_norm_lstm_house1.pkl', 'rb'))\n",
    "#kgs_t2v.layers[1].set_weights(t2v_weights)\n",
    "\n",
    "# to disable fine-tuning\n",
    "#kgs_t2v.layers[1].trainable = False"
   ]
  },
  {
   "cell_type": "code",
   "execution_count": 15,
   "metadata": {},
   "outputs": [
    {
     "name": "stdout",
     "output_type": "stream",
     "text": [
      "Epoch 1/20\n",
      "59/59 [==============================] - 1s 7ms/step - loss: 0.0047\n",
      "Epoch 2/20\n",
      "59/59 [==============================] - 0s 7ms/step - loss: 0.0043\n",
      "Epoch 3/20\n",
      "59/59 [==============================] - 0s 7ms/step - loss: 0.0042\n",
      "Epoch 4/20\n",
      "59/59 [==============================] - 0s 7ms/step - loss: 0.0042\n",
      "Epoch 5/20\n",
      "59/59 [==============================] - 0s 7ms/step - loss: 0.0041\n",
      "Epoch 6/20\n",
      "59/59 [==============================] - 0s 7ms/step - loss: 0.0041\n",
      "Epoch 7/20\n",
      "59/59 [==============================] - 0s 7ms/step - loss: 0.0041\n"
     ]
    }
   ],
   "source": [
    "### TRAIN MODEL ON HOUSE 2 ###\n",
    "kgs_t2v.fit(X_train_h2, y_train_h2, epochs=best_params['epochs'], batch_size=best_params['batch_size'], callbacks=[early_stop]);\n",
    "\n",
    "# save the weights\n",
    "t2v_weights = kgs_t2v.layers[1].get_weights()\n",
    "#pickle.dump(t2v_weights, open('t2v_weights_norm_house2.pkl', 'wb'))"
   ]
  },
  {
   "cell_type": "code",
   "execution_count": 16,
   "metadata": {},
   "outputs": [
    {
     "data": {
      "image/png": "[encoded data removed]",
      "text/plain": [
       "<Figure size 576x360 with 1 Axes>"
      ]
     },
     "metadata": {
      "needs_background": "light"
     },
     "output_type": "display_data"
    }
   ],
   "source": [
    "### VISUALIZE TEST PREDICTIONS ON HOUSE 1 ###\n",
    "\n",
    "plt.figure(figsize=(8,5))\n",
    "\n",
    "plt.plot(y_pred_h1.ravel()[:24*60], label='prediction')\n",
    "plt.plot(y_test_h1.ravel()[:24*60], label='true')\n",
    "plt.title('T2V');\n",
    "plt.legend();"
   ]
  },
  {
   "cell_type": "code",
   "execution_count": 17,
   "metadata": {},
   "outputs": [
    {
     "data": {
      "image/png": "[encoded data removed]",
      "text/plain": [
       "<Figure size 576x360 with 1 Axes>"
      ]
     },
     "metadata": {
      "needs_background": "light"
     },
     "output_type": "display_data"
    }
   ],
   "source": [
    "### VISUALIZE TEST PREDICTIONS ON HOUSE 2 ###\n",
    "\n",
    "plt.figure(figsize=(8,5))\n",
    "\n",
    "plt.plot(y_pred_h2.ravel()[:24*60], label='prediction')\n",
    "plt.plot(y_test_h2.ravel()[:24*60], label='true')\n",
    "plt.title('T2V');\n",
    "plt.legend();"
   ]
  },
  {
   "cell_type": "markdown",
   "metadata": {},
   "source": [
    "Now that our Time2Vec model is trained, we can use its embedding as a first layer of neural network for a binary classification task."
   ]
  },
  {
   "cell_type": "markdown",
   "metadata": {},
   "source": [
    "# 2. Using our embeddings for classification"
   ]
  },
  {
   "cell_type": "code",
   "execution_count": 5,
   "metadata": {},
   "outputs": [],
   "source": [
    "X_h2, Y_h2 = [], []\n",
    "for sequence in gen_sequence(house2_power_blk1, sequence_length, ['mains']):\n",
    "    X_h2.append(sequence)\n",
    "    \n",
    "for sequence in gen_labels(house2_power_blk1, sequence_length, ['activity']):\n",
    "    Y_h2.append(sequence)\n",
    "    \n",
    "X_h2 = np.asarray(X_h2)\n",
    "Y_h2 = np.asarray(Y_h2)"
   ]
  },
  {
   "cell_type": "code",
   "execution_count": 6,
   "metadata": {},
   "outputs": [
    {
     "name": "stdout",
     "output_type": "stream",
     "text": [
      "(59513, 60, 1) (59513, 1)\n",
      "(25447, 60, 1) (25447, 1)\n"
     ]
    }
   ],
   "source": [
    "### TRAIN TEST SPLIT ###\n",
    "\n",
    "train_dim_h2 = int(0.7*len(house2_power_blk1))\n",
    "X_train_h2, X_test_h2 = X_h2[:train_dim_h2], X_h2[train_dim_h2:]\n",
    "y_train_h2, y_test_h2 = Y_h2[:train_dim_h2], Y_h2[train_dim_h2:]\n",
    "\n",
    "print(X_train_h2.shape, y_train_h2.shape)\n",
    "print(X_test_h2.shape, y_test_h2.shape)"
   ]
  },
  {
   "cell_type": "code",
   "execution_count": 7,
   "metadata": {},
   "outputs": [],
   "source": [
    "X_h1, Y_h1 = [], []\n",
    "for sequence in gen_sequence(house1_power_blk2, sequence_length, ['mains']):\n",
    "    X_h1.append(sequence)\n",
    "    \n",
    "for sequence in gen_labels(house1_power_blk2, sequence_length, ['activity']):\n",
    "    Y_h1.append(sequence)\n",
    "    \n",
    "X_h1 = np.asarray(X_h1)\n",
    "Y_h1 = np.asarray(Y_h1)"
   ]
  },
  {
   "cell_type": "code",
   "execution_count": 8,
   "metadata": {},
   "outputs": [
    {
     "name": "stdout",
     "output_type": "stream",
     "text": [
      "(63461, 60, 1) (63461, 1)\n",
      "(27139, 60, 1) (27139, 1)\n"
     ]
    }
   ],
   "source": [
    "### TRAIN TEST SPLIT ###\n",
    "\n",
    "train_dim_h1 = int(0.7*len(house1_power_blk2))\n",
    "X_train_h1, X_test_h1 = X_h1[:train_dim_h1], X_h1[train_dim_h1:]\n",
    "y_train_h1, y_test_h1 = Y_h1[:train_dim_h1], Y_h1[train_dim_h1:]\n",
    "\n",
    "print(X_train_h1.shape, y_train_h1.shape)\n",
    "print(X_test_h1.shape, y_test_h1.shape)"
   ]
  },
  {
   "cell_type": "code",
   "execution_count": 9,
   "metadata": {},
   "outputs": [],
   "source": [
    "### RE-DEFINE T2V LAYER ###\n",
    "\n",
    "class T2V(Layer):\n",
    "    \n",
    "    def __init__(self, output_dim=None, **kwargs):\n",
    "        self.output_dim = output_dim\n",
    "        super(T2V, self).__init__(**kwargs)\n",
    "        \n",
    "    def build(self, input_shape):\n",
    "\n",
    "        self.W = self.add_weight(name='W',\n",
    "                                shape=(input_shape[-1], self.output_dim),\n",
    "                                initializer='uniform',\n",
    "                                trainable=True)\n",
    "\n",
    "        self.P = self.add_weight(name='P',\n",
    "                                shape=(input_shape[1], self.output_dim),\n",
    "                                initializer='uniform',\n",
    "                                trainable=True)\n",
    "\n",
    "        self.w = self.add_weight(name='w',\n",
    "                                shape=(input_shape[1], 1),\n",
    "                                initializer='uniform',\n",
    "                                trainable=True)\n",
    "\n",
    "        self.p = self.add_weight(name='p',\n",
    "                                shape=(input_shape[1], 1),\n",
    "                                initializer='uniform',\n",
    "                                trainable=True)\n",
    "\n",
    "        super(T2V, self).build(input_shape)\n",
    "        \n",
    "    def call(self, x):\n",
    "        \n",
    "        original = self.w * x + self.p\n",
    "        sin_trans = K.sin(K.dot(x, self.W) + self.P)\n",
    "        \n",
    "        return K.concatenate([sin_trans, original], -1)"
   ]
  },
  {
   "cell_type": "code",
   "execution_count": 12,
   "metadata": {},
   "outputs": [],
   "source": [
    "### DEFINE CLASSIFICATION MODEL STRUCTURES ###\n",
    "\n",
    "def T2V_NN_C(param, dim):\n",
    "    \n",
    "    # set_seed(33)\n",
    "    \n",
    "    inp = Input(shape=(dim,1))\n",
    "    #x = Dropout(0.2)(inp)\n",
    "    x = T2V(param['t2v_dim'])(inp)\n",
    "    x = Dropout(0.2)(x)\n",
    "    x = LSTM(param['unit'], activation=param['act'], return_sequences=False)(x)\n",
    "    # we want to make a classification with 2 classes\n",
    "    x = Dense(1, activation='sigmoid')(x)\n",
    "    \n",
    "    m = Model(inp, x)\n",
    "    m.compile(loss='bce', optimizer='adam') #Adam(learning_rate=param['lr'])\n",
    "    \n",
    "    return m"
   ]
  },
  {
   "cell_type": "code",
   "execution_count": 13,
   "metadata": {},
   "outputs": [
    {
     "name": "stdout",
     "output_type": "stream",
     "text": [
      "WARNING:tensorflow:Layer lstm_1 will not use cuDNN kernels since it doesn't meet the criteria. It will use a generic GPU kernel as fallback when running on GPU.\n",
      "Model: \"model_1\"\n",
      "_________________________________________________________________\n",
      " Layer (type)                Output Shape              Param #   \n",
      "=================================================================\n",
      " input_2 (InputLayer)        [(None, 60, 1)]           0         \n",
      "                                                                 \n",
      " t2v_1 (T2V)                 (None, 60, 129)           7928      \n",
      "                                                                 \n",
      " dropout_1 (Dropout)         (None, 60, 129)           0         \n",
      "                                                                 \n",
      " lstm_1 (LSTM)               (None, 32)                20736     \n",
      "                                                                 \n",
      " dense_1 (Dense)             (None, 1)                 33        \n",
      "                                                                 \n",
      "=================================================================\n",
      "Total params: 28,697\n",
      "Trainable params: 28,697\n",
      "Non-trainable params: 0\n",
      "_________________________________________________________________\n"
     ]
    }
   ],
   "source": [
    "### LOAD OUR WEIGHTS ###\n",
    "t2v_weights = pickle.load(open('t2v_weights_norm_lstm_house2.pkl', 'rb'))\n",
    "\n",
    "\n",
    "early_stop = EarlyStopping(patience=5, verbose=0, min_delta=0.0001, monitor='loss', mode='auto', restore_best_weights=True)\n",
    "best_params = {'unit': 32, 't2v_dim': 128, 'epochs': 12, 'act': 'relu', 'batch_size': 1024}\n",
    "kgs_t2v_c = T2V_NN_C(param=best_params, dim=sequence_length)\n",
    "\n",
    "kgs_t2v_c.layers[1].set_weights(t2v_weights)\n",
    "\n",
    "# to ensable fine-tuning\n",
    "kgs_t2v_c.layers[1].trainable = True\n",
    "\n",
    "kgs_t2v_c.summary();"
   ]
  },
  {
   "cell_type": "markdown",
   "metadata": {},
   "source": [
    "Let's train our model on house 1."
   ]
  },
  {
   "cell_type": "code",
   "execution_count": 39,
   "metadata": {},
   "outputs": [
    {
     "name": "stdout",
     "output_type": "stream",
     "text": [
      "Epoch 1/12\n",
      "62/62 [==============================] - 6s 74ms/step - loss: 0.6263\n",
      "Epoch 2/12\n",
      "62/62 [==============================] - 4s 63ms/step - loss: 0.4941\n",
      "Epoch 3/12\n",
      "62/62 [==============================] - 3s 56ms/step - loss: 0.4901\n",
      "Epoch 4/12\n",
      "62/62 [==============================] - 3s 56ms/step - loss: 0.4865\n",
      "Epoch 5/12\n",
      "62/62 [==============================] - 3s 56ms/step - loss: 0.4728\n",
      "Epoch 6/12\n",
      "62/62 [==============================] - 3s 55ms/step - loss: 0.4518\n",
      "Epoch 7/12\n",
      "62/62 [==============================] - 3s 56ms/step - loss: 0.4446\n",
      "Epoch 8/12\n",
      "62/62 [==============================] - 3s 55ms/step - loss: 0.4395\n",
      "Epoch 9/12\n",
      "62/62 [==============================] - 3s 55ms/step - loss: 0.4366\n",
      "Epoch 10/12\n",
      "62/62 [==============================] - 3s 56ms/step - loss: 0.4331\n",
      "Epoch 11/12\n",
      "62/62 [==============================] - 3s 55ms/step - loss: 0.4295\n",
      "Epoch 12/12\n",
      "62/62 [==============================] - 3s 56ms/step - loss: 0.4251\n"
     ]
    }
   ],
   "source": [
    "kgs_t2v_c.fit(X_train_h1, y_train_h1, epochs=best_params['epochs'], batch_size=best_params['batch_size'], callbacks=[early_stop]);"
   ]
  },
  {
   "cell_type": "markdown",
   "metadata": {},
   "source": [
    "We can now make predictions and have a look at the performances. Let's have a look at the score on the test dataset from house 1."
   ]
  },
  {
   "cell_type": "code",
   "execution_count": 40,
   "metadata": {},
   "outputs": [
    {
     "name": "stdout",
     "output_type": "stream",
     "text": [
      "Score f_beta : 75.734%\n",
      "Score accuracy : 75.998%\n"
     ]
    },
    {
     "data": {
      "image/png": "[encoded data removed]",
      "text/plain": [
       "<Figure size 432x288 with 2 Axes>"
      ]
     },
     "metadata": {
      "needs_background": "light"
     },
     "output_type": "display_data"
    }
   ],
   "source": [
    "y_pred_h1 = kgs_t2v_c.predict(X_test_h1)\n",
    "mod.plot_confusion_matrix(y_test_h1.ravel(), (y_pred_h1.ravel()>0.5).astype(int));"
   ]
  },
  {
   "cell_type": "markdown",
   "metadata": {},
   "source": [
    "Now let's have a look at the score on the test dataset from house 2."
   ]
  },
  {
   "cell_type": "code",
   "execution_count": 42,
   "metadata": {},
   "outputs": [
    {
     "name": "stdout",
     "output_type": "stream",
     "text": [
      "Score f_beta : 65.500%\n",
      "Score accuracy : 67.328%\n"
     ]
    },
    {
     "data": {
      "image/png": "[encoded data removed]",
      "text/plain": [
       "<Figure size 432x288 with 2 Axes>"
      ]
     },
     "metadata": {
      "needs_background": "light"
     },
     "output_type": "display_data"
    }
   ],
   "source": [
    "y_pred_h2 = kgs_t2v_c.predict(X_test_h2)\n",
    "mod.plot_confusion_matrix(y_test_h2.ravel(), (y_pred_h2.ravel()>0.5).astype(int));"
   ]
  },
  {
   "cell_type": "markdown",
   "metadata": {},
   "source": [
    "Now let's train our model on house 2."
   ]
  },
  {
   "cell_type": "code",
   "execution_count": 44,
   "metadata": {},
   "outputs": [
    {
     "name": "stdout",
     "output_type": "stream",
     "text": [
      "Epoch 1/12\n",
      "59/59 [==============================] - 6s 70ms/step - loss: 0.6630\n",
      "Epoch 2/12\n",
      "59/59 [==============================] - 4s 59ms/step - loss: 0.4491\n",
      "Epoch 3/12\n",
      "59/59 [==============================] - 3s 59ms/step - loss: 0.4096\n",
      "Epoch 4/12\n",
      "59/59 [==============================] - 3s 59ms/step - loss: 0.3973\n",
      "Epoch 5/12\n",
      "59/59 [==============================] - 3s 59ms/step - loss: 0.3918\n",
      "Epoch 6/12\n",
      "59/59 [==============================] - 4s 59ms/step - loss: 0.3902\n",
      "Epoch 7/12\n",
      "59/59 [==============================] - 4s 60ms/step - loss: 0.3899\n",
      "Epoch 8/12\n",
      "59/59 [==============================] - 3s 59ms/step - loss: 0.3869\n",
      "Epoch 9/12\n",
      "59/59 [==============================] - 3s 59ms/step - loss: 0.3855\n",
      "Epoch 10/12\n",
      "59/59 [==============================] - 3s 58ms/step - loss: 0.3854\n",
      "Epoch 11/12\n",
      "59/59 [==============================] - 3s 59ms/step - loss: 0.3839\n",
      "Epoch 12/12\n",
      "59/59 [==============================] - 3s 59ms/step - loss: 0.3834\n"
     ]
    }
   ],
   "source": [
    "kgs_t2v_c.fit(X_train_h2, y_train_h2, epochs=best_params['epochs'], batch_size=best_params['batch_size'], callbacks=[early_stop]);"
   ]
  },
  {
   "cell_type": "markdown",
   "metadata": {},
   "source": [
    "Let's have a look at the score on the test dataset from house 1."
   ]
  },
  {
   "cell_type": "code",
   "execution_count": 45,
   "metadata": {},
   "outputs": [
    {
     "name": "stdout",
     "output_type": "stream",
     "text": [
      "Score f_beta : 32.127%\n",
      "Score accuracy : 45.875%\n"
     ]
    },
    {
     "data": {
      "image/png": "[encoded data removed]",
      "text/plain": [
       "<Figure size 432x288 with 2 Axes>"
      ]
     },
     "metadata": {
      "needs_background": "light"
     },
     "output_type": "display_data"
    }
   ],
   "source": [
    "y_pred_h1 = kgs_t2v_c.predict(X_test_h1)\n",
    "mod.plot_confusion_matrix(y_test_h1.ravel(), (y_pred_h1.ravel()>0.5).astype(int));"
   ]
  },
  {
   "cell_type": "markdown",
   "metadata": {},
   "source": [
    "Now let's have a look at the score on the test dataset from house 2."
   ]
  },
  {
   "cell_type": "code",
   "execution_count": 46,
   "metadata": {},
   "outputs": [
    {
     "name": "stdout",
     "output_type": "stream",
     "text": [
      "Score f_beta : 82.397%\n",
      "Score accuracy : 82.682%\n"
     ]
    },
    {
     "data": {
      "image/png": "[encoded data removed]",
      "text/plain": [
       "<Figure size 432x288 with 2 Axes>"
      ]
     },
     "metadata": {
      "needs_background": "light"
     },
     "output_type": "display_data"
    }
   ],
   "source": [
    "y_pred_h2 = kgs_t2v_c.predict(X_test_h2)\n",
    "mod.plot_confusion_matrix(y_test_h2.ravel(), (y_pred_h2.ravel()>0.5).astype(int));"
   ]
  },
  {
   "cell_type": "markdown",
   "metadata": {},
   "source": [
    "Finally we can try to plot our predictions."
   ]
  },
  {
   "cell_type": "code",
   "execution_count": 74,
   "metadata": {},
   "outputs": [
    {
     "data": {
      "image/png": "[encoded data removed]",
      "text/plain": [
       "<Figure size 720x432 with 2 Axes>"
      ]
     },
     "metadata": {
      "needs_background": "light"
     },
     "output_type": "display_data"
    }
   ],
   "source": [
    "### VISUALIZE TEST PREDICTIONS ON HOUSE 2 ###\n",
    "\n",
    "fig, ax = plt.subplots(1,1 , figsize=(10,6))\n",
    "axs = ax.twinx()\n",
    "\n",
    "ax.plot(X_test_h2[:5000,0], label='mains', alpha=0.5)\n",
    "axs.plot(y_pred_h2[:5000,0]>0.5, label='prediction', color='red', alpha=0.5)\n",
    "axs.plot(y_test_h2[:5000,0], label='true', color='orange', alpha=0.5)\n",
    "plt.title('T2V');\n",
    "ax.legend(loc='upper right');\n",
    "axs.legend(loc='upper left');"
   ]
  },
  {
   "cell_type": "code",
   "execution_count": 75,
   "metadata": {},
   "outputs": [
    {
     "data": {
      "image/png": "[encoded data removed]",
      "text/plain": [
       "<Figure size 720x432 with 2 Axes>"
      ]
     },
     "metadata": {
      "needs_background": "light"
     },
     "output_type": "display_data"
    }
   ],
   "source": [
    "### VISUALIZE TEST PREDICTIONS ON HOUSE 1 ###\n",
    "\n",
    "fig, ax = plt.subplots(1,1 , figsize=(10,6))\n",
    "axs = ax.twinx()\n",
    "\n",
    "ax.plot(X_test_h1[:5000,0], label='mains', alpha=0.5)\n",
    "axs.plot((y_pred_h1[:5000,0]>0.5), label='prediction', color='red', alpha=0.5)\n",
    "axs.plot(y_test_h1[:5000,0], label='true', color='orange', alpha=0.5)\n",
    "plt.title('T2V');\n",
    "ax.legend(loc='upper right');\n",
    "axs.legend(loc='upper left');"
   ]
  },
  {
   "cell_type": "markdown",
   "metadata": {},
   "source": [
    "Looking at the plots, it looks like our model sucessfully identifies the period of times with a lot of variation on the load curve."
   ]
  },
  {
   "cell_type": "code",
   "execution_count": 34,
   "metadata": {},
   "outputs": [
    {
     "name": "stderr",
     "output_type": "stream",
     "text": [
      "/home/pierre/.local/lib/python3.8/site-packages/pandas/core/indexing.py:1732: SettingWithCopyWarning: \n",
      "A value is trying to be set on a copy of a slice from a DataFrame\n",
      "\n",
      "See the caveats in the documentation: https://pandas.pydata.org/pandas-docs/stable/user_guide/indexing.html#returning-a-view-versus-a-copy\n",
      "  self._setitem_single_block(indexer, value, name)\n"
     ]
    },
    {
     "data": {
      "text/html": [
       "<div>\n",
       "<style scoped>\n",
       "    .dataframe tbody tr th:only-of-type {\n",
       "        vertical-align: middle;\n",
       "    }\n",
       "\n",
       "    .dataframe tbody tr th {\n",
       "        vertical-align: top;\n",
       "    }\n",
       "\n",
       "    .dataframe thead th {\n",
       "        text-align: right;\n",
       "    }\n",
       "</style>\n",
       "<table border=\"1\" class=\"dataframe\">\n",
       "  <thead>\n",
       "    <tr style=\"text-align: right;\">\n",
       "      <th></th>\n",
       "      <th>mains</th>\n",
       "      <th>activity</th>\n",
       "      <th>hour</th>\n",
       "      <th>activity_pred</th>\n",
       "    </tr>\n",
       "    <tr>\n",
       "      <th>datetime</th>\n",
       "      <th></th>\n",
       "      <th></th>\n",
       "      <th></th>\n",
       "      <th></th>\n",
       "    </tr>\n",
       "  </thead>\n",
       "  <tbody>\n",
       "    <tr>\n",
       "      <th>2016-04-19 01:41:00</th>\n",
       "      <td>0.038257</td>\n",
       "      <td>0</td>\n",
       "      <td>1.683333</td>\n",
       "      <td>0.0</td>\n",
       "    </tr>\n",
       "    <tr>\n",
       "      <th>2016-04-19 01:42:00</th>\n",
       "      <td>0.036625</td>\n",
       "      <td>0</td>\n",
       "      <td>1.700000</td>\n",
       "      <td>0.0</td>\n",
       "    </tr>\n",
       "    <tr>\n",
       "      <th>2016-04-19 01:43:00</th>\n",
       "      <td>0.037153</td>\n",
       "      <td>0</td>\n",
       "      <td>1.716667</td>\n",
       "      <td>0.0</td>\n",
       "    </tr>\n",
       "    <tr>\n",
       "      <th>2016-04-19 01:44:00</th>\n",
       "      <td>0.038520</td>\n",
       "      <td>0</td>\n",
       "      <td>1.733333</td>\n",
       "      <td>0.0</td>\n",
       "    </tr>\n",
       "    <tr>\n",
       "      <th>2016-04-19 01:45:00</th>\n",
       "      <td>0.045619</td>\n",
       "      <td>0</td>\n",
       "      <td>1.750000</td>\n",
       "      <td>0.0</td>\n",
       "    </tr>\n",
       "  </tbody>\n",
       "</table>\n",
       "</div>"
      ],
      "text/plain": [
       "                        mains  activity      hour  activity_pred\n",
       "datetime                                                        \n",
       "2016-04-19 01:41:00  0.038257         0  1.683333            0.0\n",
       "2016-04-19 01:42:00  0.036625         0  1.700000            0.0\n",
       "2016-04-19 01:43:00  0.037153         0  1.716667            0.0\n",
       "2016-04-19 01:44:00  0.038520         0  1.733333            0.0\n",
       "2016-04-19 01:45:00  0.045619         0  1.750000            0.0"
      ]
     },
     "execution_count": 34,
     "metadata": {},
     "output_type": "execute_result"
    }
   ],
   "source": [
    "house1_power_blk2_res = house1_power_blk2.copy()\n",
    "house1_power_blk2_res['activity_pred'] = np.nan\n",
    "house1_power_blk2_res['activity_pred'].iloc[train_dim_h1:-60] = (y_pred_h1[:, 0].reshape(-1) > 0.5).astype(int)\n",
    "house1_power_blk2_res.iloc[train_dim_h1:-60].head()"
   ]
  },
  {
   "cell_type": "code",
   "execution_count": 35,
   "metadata": {},
   "outputs": [
    {
     "data": {
      "image/png": "[encoded data removed]",
      "text/plain": [
       "<Figure size 1440x720 with 1 Axes>"
      ]
     },
     "metadata": {
      "needs_background": "light"
     },
     "output_type": "display_data"
    }
   ],
   "source": [
    "pd.DataFrame(house1_power_blk2_res.loc[house1_power_blk2_res['activity_pred'] > 0, 'hour'].astype(int).value_counts()).reset_index(drop=False).sort_values(by='index').plot.bar(x='index', y='hour', figsize=(20,10), legend='Histogramme activité=f(heure)', title='Histogram of predicted activity per hour');"
   ]
  },
  {
   "cell_type": "code",
   "execution_count": 36,
   "metadata": {},
   "outputs": [
    {
     "name": "stderr",
     "output_type": "stream",
     "text": [
      "/home/pierre/.local/lib/python3.8/site-packages/pandas/core/indexing.py:1732: SettingWithCopyWarning: \n",
      "A value is trying to be set on a copy of a slice from a DataFrame\n",
      "\n",
      "See the caveats in the documentation: https://pandas.pydata.org/pandas-docs/stable/user_guide/indexing.html#returning-a-view-versus-a-copy\n",
      "  self._setitem_single_block(indexer, value, name)\n"
     ]
    },
    {
     "data": {
      "text/html": [
       "<div>\n",
       "<style scoped>\n",
       "    .dataframe tbody tr th:only-of-type {\n",
       "        vertical-align: middle;\n",
       "    }\n",
       "\n",
       "    .dataframe tbody tr th {\n",
       "        vertical-align: top;\n",
       "    }\n",
       "\n",
       "    .dataframe thead th {\n",
       "        text-align: right;\n",
       "    }\n",
       "</style>\n",
       "<table border=\"1\" class=\"dataframe\">\n",
       "  <thead>\n",
       "    <tr style=\"text-align: right;\">\n",
       "      <th></th>\n",
       "      <th>mains</th>\n",
       "      <th>activity</th>\n",
       "      <th>hour</th>\n",
       "      <th>activity_pred</th>\n",
       "    </tr>\n",
       "    <tr>\n",
       "      <th>datetime</th>\n",
       "      <th></th>\n",
       "      <th></th>\n",
       "      <th></th>\n",
       "      <th></th>\n",
       "    </tr>\n",
       "  </thead>\n",
       "  <tbody>\n",
       "    <tr>\n",
       "      <th>2017-10-24 06:53:00</th>\n",
       "      <td>0.079947</td>\n",
       "      <td>1</td>\n",
       "      <td>6.883333</td>\n",
       "      <td>0.0</td>\n",
       "    </tr>\n",
       "    <tr>\n",
       "      <th>2017-10-24 06:54:00</th>\n",
       "      <td>0.099201</td>\n",
       "      <td>1</td>\n",
       "      <td>6.900000</td>\n",
       "      <td>0.0</td>\n",
       "    </tr>\n",
       "    <tr>\n",
       "      <th>2017-10-24 06:55:00</th>\n",
       "      <td>0.074445</td>\n",
       "      <td>1</td>\n",
       "      <td>6.916667</td>\n",
       "      <td>0.0</td>\n",
       "    </tr>\n",
       "    <tr>\n",
       "      <th>2017-10-24 06:56:00</th>\n",
       "      <td>0.076376</td>\n",
       "      <td>1</td>\n",
       "      <td>6.933333</td>\n",
       "      <td>0.0</td>\n",
       "    </tr>\n",
       "    <tr>\n",
       "      <th>2017-10-24 06:57:00</th>\n",
       "      <td>0.075961</td>\n",
       "      <td>1</td>\n",
       "      <td>6.950000</td>\n",
       "      <td>0.0</td>\n",
       "    </tr>\n",
       "  </tbody>\n",
       "</table>\n",
       "</div>"
      ],
      "text/plain": [
       "                        mains  activity      hour  activity_pred\n",
       "datetime                                                        \n",
       "2017-10-24 06:53:00  0.079947         1  6.883333            0.0\n",
       "2017-10-24 06:54:00  0.099201         1  6.900000            0.0\n",
       "2017-10-24 06:55:00  0.074445         1  6.916667            0.0\n",
       "2017-10-24 06:56:00  0.076376         1  6.933333            0.0\n",
       "2017-10-24 06:57:00  0.075961         1  6.950000            0.0"
      ]
     },
     "execution_count": 36,
     "metadata": {},
     "output_type": "execute_result"
    }
   ],
   "source": [
    "house2_power_blk1_res = house2_power_blk1.copy()\n",
    "house2_power_blk1_res['activity_pred'] = np.nan\n",
    "house2_power_blk1_res['activity_pred'].iloc[train_dim_h2:-60] = (y_pred_h2[:, 0].reshape(-1) > 0.5).astype(int)\n",
    "house2_power_blk1_res.iloc[train_dim_h2:-60].head()"
   ]
  },
  {
   "cell_type": "code",
   "execution_count": 37,
   "metadata": {},
   "outputs": [
    {
     "data": {
      "image/png": "[encoded data removed]",
      "text/plain": [
       "<Figure size 1440x720 with 1 Axes>"
      ]
     },
     "metadata": {
      "needs_background": "light"
     },
     "output_type": "display_data"
    }
   ],
   "source": [
    "pd.DataFrame(house2_power_blk1_res.loc[house2_power_blk1_res['activity_pred'] > 0, 'hour'].astype(int).value_counts()).reset_index(drop=False).sort_values(by='index').plot.bar(x='index', y='hour', figsize=(20,10), legend='Histogramme activité=f(heure)', title='Histogram of predicted activity per hour');"
   ]
  }
 ],
 "metadata": {
  "kernelspec": {
   "display_name": "Python 3 (ipykernel)",
   "language": "python",
   "name": "python3"
  },
  "language_info": {
   "codemirror_mode": {
    "name": "ipython",
    "version": 3
   },
   "file_extension": ".py",
   "mimetype": "text/x-python",
   "name": "python",
   "nbconvert_exporter": "python",
   "pygments_lexer": "ipython3",
   "version": "3.8.10"
  }
 },
 "nbformat": 4,
 "nbformat_minor": 2
}
