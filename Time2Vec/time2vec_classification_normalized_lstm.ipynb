{
 "cells": [
  {
   "cell_type": "code",
   "execution_count": 1,
   "metadata": {},
   "outputs": [],
   "source": [
    "import numpy as np\n",
    "import pandas as pd   \n",
    "import datetime\n",
    "import matplotlib.pyplot as plt\n",
    "import pickle\n",
    "\n",
    "from sklearn.metrics import mean_absolute_error, accuracy_score\n",
    "from sklearn.preprocessing import MinMaxScaler\n",
    "\n",
    "import sys\n",
    "sys.path.insert(0,'..')\n",
    "import module as mod\n",
    "\n",
    "from keras.layers import Dropout, Layer, LSTM, Dense, Input\n",
    "from keras.models import Model\n",
    "from keras.callbacks import EarlyStopping\n",
    "from keras import backend as K\n",
    "\n",
    "#from kerashypetune import KerasGridSearch"
   ]
  },
  {
   "cell_type": "markdown",
   "metadata": {},
   "source": [
    "This notebook is an adaptation of the following Git repository : https://github.com/cerlymarco/MEDIUM_NoteBook/tree/master/Time2Vec"
   ]
  },
  {
   "cell_type": "markdown",
   "metadata": {},
   "source": [
    "# 0. Load and prepare our dataset\n",
    "First we declare our global variables"
   ]
  },
  {
   "cell_type": "code",
   "execution_count": 2,
   "metadata": {},
   "outputs": [],
   "source": [
    "### DEFINE GLOBAL VARIABLES ###\n",
    "TIME_STEP = datetime.timedelta(minutes=1, seconds=30) # duration of a step in the resample dataset, originally 1 second\n",
    "DURATION_TIME = datetime.timedelta(minutes=60) # duration of a sequence\n",
    "OVERLAP_PERIOD_PERCENT = 0.8 # 0.5 <=> 50% overlapping\n",
    "\n",
    "SEQUENCE_LENGTH, OVERLAP_PERIOD = mod.convertToSequenceParameters(TIME_STEP, DURATION_TIME, OVERLAP_PERIOD_PERCENT)"
   ]
  },
  {
   "cell_type": "markdown",
   "metadata": {},
   "source": [
    "Then we load our datasets"
   ]
  },
  {
   "cell_type": "code",
   "execution_count": 3,
   "metadata": {},
   "outputs": [
    {
     "data": {
      "text/html": [
       "<div>\n",
       "<style scoped>\n",
       "    .dataframe tbody tr th:only-of-type {\n",
       "        vertical-align: middle;\n",
       "    }\n",
       "\n",
       "    .dataframe tbody tr th {\n",
       "        vertical-align: top;\n",
       "    }\n",
       "\n",
       "    .dataframe thead th {\n",
       "        text-align: right;\n",
       "    }\n",
       "</style>\n",
       "<table border=\"1\" class=\"dataframe\">\n",
       "  <thead>\n",
       "    <tr style=\"text-align: right;\">\n",
       "      <th></th>\n",
       "      <th>mains</th>\n",
       "      <th>activity</th>\n",
       "      <th>hour</th>\n",
       "    </tr>\n",
       "    <tr>\n",
       "      <th>datetime</th>\n",
       "      <th></th>\n",
       "      <th></th>\n",
       "      <th></th>\n",
       "    </tr>\n",
       "  </thead>\n",
       "  <tbody>\n",
       "    <tr>\n",
       "      <th>2016-03-06 00:00:00</th>\n",
       "      <td>473.0</td>\n",
       "      <td>0</td>\n",
       "      <td>0.000000</td>\n",
       "    </tr>\n",
       "    <tr>\n",
       "      <th>2016-03-06 00:01:30</th>\n",
       "      <td>483.0</td>\n",
       "      <td>0</td>\n",
       "      <td>0.016667</td>\n",
       "    </tr>\n",
       "    <tr>\n",
       "      <th>2016-03-06 00:03:00</th>\n",
       "      <td>474.0</td>\n",
       "      <td>0</td>\n",
       "      <td>0.050000</td>\n",
       "    </tr>\n",
       "    <tr>\n",
       "      <th>2016-03-06 00:04:30</th>\n",
       "      <td>483.0</td>\n",
       "      <td>0</td>\n",
       "      <td>0.066667</td>\n",
       "    </tr>\n",
       "    <tr>\n",
       "      <th>2016-03-06 00:06:00</th>\n",
       "      <td>477.0</td>\n",
       "      <td>0</td>\n",
       "      <td>0.100000</td>\n",
       "    </tr>\n",
       "  </tbody>\n",
       "</table>\n",
       "</div>"
      ],
      "text/plain": [
       "                     mains  activity      hour\n",
       "datetime                                      \n",
       "2016-03-06 00:00:00  473.0         0  0.000000\n",
       "2016-03-06 00:01:30  483.0         0  0.016667\n",
       "2016-03-06 00:03:00  474.0         0  0.050000\n",
       "2016-03-06 00:04:30  483.0         0  0.066667\n",
       "2016-03-06 00:06:00  477.0         0  0.100000"
      ]
     },
     "execution_count": 3,
     "metadata": {},
     "output_type": "execute_result"
    }
   ],
   "source": [
    "### READ DATA ###\n",
    "\n",
    "house1_power_blk2 = mod.load_dataset('house1_power_blk2_labels.zip', resample_period=TIME_STEP)\n",
    "#house1_power_blk2['activity'] = (house1_power_blk2['activity'] > 0.5).astype(int)\n",
    "house2_power_blk1 = mod.load_dataset('house2_power_blk1_labels.zip', resample_period=TIME_STEP)\n",
    "#house2_power_blk1['activity'] = (house2_power_blk1['activity'] > 0.5).astype(int)\n",
    "house1_power_blk2.head()"
   ]
  },
  {
   "cell_type": "markdown",
   "metadata": {},
   "source": [
    "We'll normalize each dataset with a ```MinMaxScaler``` fitted on 70% of each dataset which we'll use a train set. After a few tests, normalizing the electrical power data is necessary to get better results for our final classification, more specifically to use one house as a training dataset and another as a testing dataset."
   ]
  },
  {
   "cell_type": "code",
   "execution_count": 4,
   "metadata": {},
   "outputs": [
    {
     "data": {
      "text/html": [
       "<div>\n",
       "<style scoped>\n",
       "    .dataframe tbody tr th:only-of-type {\n",
       "        vertical-align: middle;\n",
       "    }\n",
       "\n",
       "    .dataframe tbody tr th {\n",
       "        vertical-align: top;\n",
       "    }\n",
       "\n",
       "    .dataframe thead th {\n",
       "        text-align: right;\n",
       "    }\n",
       "</style>\n",
       "<table border=\"1\" class=\"dataframe\">\n",
       "  <thead>\n",
       "    <tr style=\"text-align: right;\">\n",
       "      <th></th>\n",
       "      <th>mains</th>\n",
       "      <th>activity</th>\n",
       "      <th>hour</th>\n",
       "    </tr>\n",
       "    <tr>\n",
       "      <th>datetime</th>\n",
       "      <th></th>\n",
       "      <th></th>\n",
       "      <th></th>\n",
       "    </tr>\n",
       "  </thead>\n",
       "  <tbody>\n",
       "    <tr>\n",
       "      <th>2016-03-06 00:00:00</th>\n",
       "      <td>0.017080</td>\n",
       "      <td>0</td>\n",
       "      <td>0.000000</td>\n",
       "    </tr>\n",
       "    <tr>\n",
       "      <th>2016-03-06 00:01:30</th>\n",
       "      <td>0.018168</td>\n",
       "      <td>0</td>\n",
       "      <td>0.016667</td>\n",
       "    </tr>\n",
       "    <tr>\n",
       "      <th>2016-03-06 00:03:00</th>\n",
       "      <td>0.017189</td>\n",
       "      <td>0</td>\n",
       "      <td>0.050000</td>\n",
       "    </tr>\n",
       "    <tr>\n",
       "      <th>2016-03-06 00:04:30</th>\n",
       "      <td>0.018168</td>\n",
       "      <td>0</td>\n",
       "      <td>0.066667</td>\n",
       "    </tr>\n",
       "    <tr>\n",
       "      <th>2016-03-06 00:06:00</th>\n",
       "      <td>0.017515</td>\n",
       "      <td>0</td>\n",
       "      <td>0.100000</td>\n",
       "    </tr>\n",
       "  </tbody>\n",
       "</table>\n",
       "</div>"
      ],
      "text/plain": [
       "                        mains  activity      hour\n",
       "datetime                                         \n",
       "2016-03-06 00:00:00  0.017080         0  0.000000\n",
       "2016-03-06 00:01:30  0.018168         0  0.016667\n",
       "2016-03-06 00:03:00  0.017189         0  0.050000\n",
       "2016-03-06 00:04:30  0.018168         0  0.066667\n",
       "2016-03-06 00:06:00  0.017515         0  0.100000"
      ]
     },
     "execution_count": 4,
     "metadata": {},
     "output_type": "execute_result"
    }
   ],
   "source": [
    "### SCALE THE DATASETS ###\n",
    "\n",
    "step = SEQUENCE_LENGTH - OVERLAP_PERIOD\n",
    "\n",
    "# scale the dataset\n",
    "scaler = MinMaxScaler()\n",
    "train_dim_h1 = int(0.7*len(house1_power_blk2) / step)\n",
    "train_dim_h2 = int(0.7*len(house2_power_blk1) / step)\n",
    "\n",
    "scaler.fit(house1_power_blk2['mains'].iloc[:train_dim_h1].values.reshape(-1, 1))\n",
    "house1_power_blk2['mains'] = scaler.transform(house1_power_blk2['mains'].values.reshape(-1, 1))\n",
    "#house1_power_blk2['off_peak'] = ((house1_power_blk2['hour'] > 6) & (house1_power_blk2['hour'] < 23)).astype(int)\n",
    "\n",
    "scaler.fit(house2_power_blk1['mains'].iloc[:train_dim_h2].values.reshape(-1, 1))\n",
    "house2_power_blk1['mains'] = scaler.transform(house2_power_blk1['mains'].values.reshape(-1, 1))\n",
    "#house2_power_blk1['off_peak'] = ((house2_power_blk1['hour'] > 6) & (house2_power_blk1['hour'] < 23)).astype(int)\n",
    "\n",
    "house1_power_blk2.head()"
   ]
  },
  {
   "cell_type": "code",
   "execution_count": 5,
   "metadata": {},
   "outputs": [],
   "source": [
    "### CREATE GENERATOR FOR LSTM AND T2V ###\n",
    "\n",
    "# we define a function to generate our sequences\n",
    "def gen_sequence(id_df, seq_length, overlap_period, seq_cols):\n",
    "    \n",
    "    data_matrix = id_df[seq_cols].values\n",
    "    num_elements = data_matrix.shape[0]\n",
    "    step = seq_length - overlap_period\n",
    "\n",
    "    for start, stop in zip(range(0, num_elements-seq_length, step), range(seq_length, num_elements, step)):\n",
    "        yield data_matrix[start:stop, :]\n",
    "\n",
    "# this function is usefull in the case that we only predict 1 data point for each sequence\n",
    "def gen_labels(id_df, seq_length, overlap_period, label):\n",
    "    \n",
    "    data_matrix = id_df[label].values\n",
    "    num_elements = data_matrix.shape[0]\n",
    "    step = seq_length - overlap_period\n",
    "    \n",
    "    return data_matrix[seq_length:num_elements:step, :]\n",
    "\n",
    "# we define a utility function to unfold our sequences\n",
    "def unfold_sequence(y_seq, seq_length, overlap_period):\n",
    "    step = seq_length - overlap_period\n",
    "    y_unfolded = np.zeros((y_seq.shape[0]*step, ))\n",
    "    y_weight = np.zeros((y_seq.shape[0]*step, ))\n",
    "\n",
    "    for i in range(seq_length):\n",
    "        y_unfolded[i::step] += y_seq[:-int(i/step) if int(i/step) > 0 else None,i,0]\n",
    "        y_weight[i::step] += 1\n",
    "\n",
    "    return y_unfolded/y_weight"
   ]
  },
  {
   "cell_type": "markdown",
   "metadata": {},
   "source": [
    "# 1. Train our embeddings"
   ]
  },
  {
   "cell_type": "markdown",
   "metadata": {},
   "source": [
    "Next we need to prepare the data in batches for Keras."
   ]
  },
  {
   "cell_type": "code",
   "execution_count": 6,
   "metadata": {},
   "outputs": [],
   "source": [
    "### HOUSE 1 ###\n",
    "X_h1, Y_h1 = [], []\n",
    "for sequence in gen_sequence(house1_power_blk2, SEQUENCE_LENGTH, OVERLAP_PERIOD, ['mains']):\n",
    "    X_h1.append(sequence)\n",
    "    \n",
    "    # gen_labels\n",
    "for sequence in gen_sequence(house1_power_blk2, SEQUENCE_LENGTH, OVERLAP_PERIOD, ['mains']):\n",
    "    Y_h1.append(sequence)\n",
    "    \n",
    "X_h1 = np.asarray(X_h1)\n",
    "Y_h1 = np.asarray(Y_h1)"
   ]
  },
  {
   "cell_type": "code",
   "execution_count": 7,
   "metadata": {},
   "outputs": [],
   "source": [
    "### HOUSE 2 ###\n",
    "\n",
    "# prepare the batches\n",
    "X_h2, Y_h2 = [], []\n",
    "for sequence in gen_sequence(house2_power_blk1, SEQUENCE_LENGTH, OVERLAP_PERIOD, ['mains']):\n",
    "    X_h2.append(sequence)\n",
    "    \n",
    "for sequence in gen_sequence(house2_power_blk1, SEQUENCE_LENGTH, OVERLAP_PERIOD, ['mains']):\n",
    "    Y_h2.append(sequence)\n",
    "    \n",
    "X_h2 = np.asarray(X_h2)\n",
    "Y_h2 = np.asarray(Y_h2)"
   ]
  },
  {
   "cell_type": "code",
   "execution_count": 8,
   "metadata": {},
   "outputs": [
    {
     "name": "stdout",
     "output_type": "stream",
     "text": [
      "(5288, 40, 1) (5288, 40, 1)\n",
      "(2262, 40, 1) (2262, 40, 1)\n"
     ]
    }
   ],
   "source": [
    "### TRAIN TEST SPLIT HOUSE 1 ###\n",
    "X_train_h1, X_test_h1 = X_h1[:train_dim_h1], X_h1[train_dim_h1:]\n",
    "y_train_h1, y_test_h1 = Y_h1[:train_dim_h1], Y_h1[train_dim_h1:]\n",
    "\n",
    "print(X_train_h1.shape, y_train_h1.shape)\n",
    "print(X_test_h1.shape, y_test_h1.shape)"
   ]
  },
  {
   "cell_type": "code",
   "execution_count": 9,
   "metadata": {},
   "outputs": [
    {
     "name": "stdout",
     "output_type": "stream",
     "text": [
      "(4959, 40, 1) (4959, 40, 1)\n",
      "(2121, 40, 1) (2121, 40, 1)\n"
     ]
    }
   ],
   "source": [
    "### TRAIN TEST SPLIT HOUSE 2 ###\n",
    "\n",
    "X_train_h2, X_test_h2 = X_h2[:train_dim_h2], X_h2[train_dim_h2:]\n",
    "y_train_h2, y_test_h2 = Y_h2[:train_dim_h2], Y_h2[train_dim_h2:]\n",
    "\n",
    "print(X_train_h2.shape, y_train_h2.shape)\n",
    "print(X_test_h2.shape, y_test_h2.shape)"
   ]
  },
  {
   "cell_type": "code",
   "execution_count": 10,
   "metadata": {},
   "outputs": [],
   "source": [
    "### DEFINE T2V LAYER ###\n",
    "\n",
    "class T2V(Layer):\n",
    "    \n",
    "    def __init__(self, output_dim=None, **kwargs):\n",
    "        self.output_dim = output_dim\n",
    "        super(T2V, self).__init__(**kwargs)\n",
    "        \n",
    "    def build(self, input_shape):\n",
    "\n",
    "        self.W = self.add_weight(name='W',\n",
    "                                shape=(input_shape[-1], self.output_dim),\n",
    "                                initializer='uniform',\n",
    "                                trainable=True)\n",
    "\n",
    "        self.P = self.add_weight(name='P',\n",
    "                                shape=(input_shape[1], self.output_dim),\n",
    "                                initializer='uniform',\n",
    "                                trainable=True)\n",
    "\n",
    "        self.w = self.add_weight(name='w',\n",
    "                                shape=(input_shape[1], 1),\n",
    "                                initializer='uniform',\n",
    "                                trainable=True)\n",
    "\n",
    "        self.p = self.add_weight(name='p',\n",
    "                                shape=(input_shape[1], 1),\n",
    "                                initializer='uniform',\n",
    "                                trainable=True)\n",
    "\n",
    "        super(T2V, self).build(input_shape)\n",
    "        \n",
    "    def call(self, x):\n",
    "        \n",
    "        original = self.w * x + self.p\n",
    "        sin_trans = K.sin(K.dot(x, self.W) + self.P)\n",
    "        \n",
    "        return K.concatenate([sin_trans, original], -1)"
   ]
  },
  {
   "cell_type": "code",
   "execution_count": 11,
   "metadata": {},
   "outputs": [],
   "source": [
    "### DEFINE MODEL STRUCTURES ###\n",
    "\n",
    "# def set_seed(seed):\n",
    "    \n",
    "#     tf.random.set_seed(seed)\n",
    "#     os.environ['PYTHONHASHSEED'] = str(seed)\n",
    "#     np.random.seed(seed)\n",
    "#     random.seed(seed)\n",
    "\n",
    "def T2V_NN(param, dim):\n",
    "    \n",
    "    # set_seed(33)\n",
    "    \n",
    "    inp = Input(shape=(dim,1))\n",
    "    #x = Dropout(0.2)(inp)\n",
    "    x = T2V(param['t2v_dim'])(inp)\n",
    "    x = Dropout(0.2)(x)\n",
    "    # return_sequences=False : ne retourne que le dernier état\n",
    "    x = LSTM(param['unit'], activation=param['act'], return_sequences=True)(x)\n",
    "    x = Dense(1)(x)\n",
    "    \n",
    "    m = Model(inp, x)\n",
    "    m.compile(loss='mse', optimizer='adam') #Adam(learning_rate=param['lr'])\n",
    "    \n",
    "    return m"
   ]
  },
  {
   "cell_type": "code",
   "execution_count": 12,
   "metadata": {},
   "outputs": [
    {
     "name": "stdout",
     "output_type": "stream",
     "text": [
      "WARNING:tensorflow:Layer lstm will not use cuDNN kernels since it doesn't meet the criteria. It will use a generic GPU kernel as fallback when running on GPU.\n",
      "Model: \"model\"\n",
      "_________________________________________________________________\n",
      " Layer (type)                Output Shape              Param #   \n",
      "=================================================================\n",
      " input_1 (InputLayer)        [(None, 40, 1)]           0         \n",
      "                                                                 \n",
      " t2v (T2V)                   (None, 40, 129)           5328      \n",
      "                                                                 \n",
      " dropout (Dropout)           (None, 40, 129)           0         \n",
      "                                                                 \n"
     ]
    },
    {
     "name": "stderr",
     "output_type": "stream",
     "text": [
      "2022-05-23 11:32:06.492701: I tensorflow/stream_executor/cuda/cuda_gpu_executor.cc:936] successful NUMA node read from SysFS had negative value (-1), but there must be at least one NUMA node, so returning NUMA node zero\n",
      "2022-05-23 11:32:06.501084: I tensorflow/stream_executor/cuda/cuda_gpu_executor.cc:936] successful NUMA node read from SysFS had negative value (-1), but there must be at least one NUMA node, so returning NUMA node zero\n",
      "2022-05-23 11:32:06.501342: I tensorflow/stream_executor/cuda/cuda_gpu_executor.cc:936] successful NUMA node read from SysFS had negative value (-1), but there must be at least one NUMA node, so returning NUMA node zero\n",
      "2022-05-23 11:32:06.501870: I tensorflow/core/platform/cpu_feature_guard.cc:151] This TensorFlow binary is optimized with oneAPI Deep Neural Network Library (oneDNN) to use the following CPU instructions in performance-critical operations:  AVX2 FMA\n",
      "To enable them in other operations, rebuild TensorFlow with the appropriate compiler flags.\n",
      "2022-05-23 11:32:06.502505: I tensorflow/stream_executor/cuda/cuda_gpu_executor.cc:936] successful NUMA node read from SysFS had negative value (-1), but there must be at least one NUMA node, so returning NUMA node zero\n",
      "2022-05-23 11:32:06.502726: I tensorflow/stream_executor/cuda/cuda_gpu_executor.cc:936] successful NUMA node read from SysFS had negative value (-1), but there must be at least one NUMA node, so returning NUMA node zero\n",
      "2022-05-23 11:32:06.502914: I tensorflow/stream_executor/cuda/cuda_gpu_executor.cc:936] successful NUMA node read from SysFS had negative value (-1), but there must be at least one NUMA node, so returning NUMA node zero\n",
      "2022-05-23 11:32:07.108149: I tensorflow/stream_executor/cuda/cuda_gpu_executor.cc:936] successful NUMA node read from SysFS had negative value (-1), but there must be at least one NUMA node, so returning NUMA node zero\n",
      "2022-05-23 11:32:07.108448: I tensorflow/stream_executor/cuda/cuda_gpu_executor.cc:936] successful NUMA node read from SysFS had negative value (-1), but there must be at least one NUMA node, so returning NUMA node zero\n",
      "2022-05-23 11:32:07.108673: I tensorflow/stream_executor/cuda/cuda_gpu_executor.cc:936] successful NUMA node read from SysFS had negative value (-1), but there must be at least one NUMA node, so returning NUMA node zero\n",
      "2022-05-23 11:32:07.108853: I tensorflow/core/common_runtime/gpu/gpu_device.cc:1525] Created device /job:localhost/replica:0/task:0/device:GPU:0 with 4630 MB memory:  -> device: 0, name: NVIDIA GeForce RTX 2060, pci bus id: 0000:01:00.0, compute capability: 7.5\n"
     ]
    },
    {
     "name": "stdout",
     "output_type": "stream",
     "text": [
      " lstm (LSTM)                 (None, 40, 32)            20736     \n",
      "                                                                 \n",
      " dense (Dense)               (None, 40, 1)             33        \n",
      "                                                                 \n",
      "=================================================================\n",
      "Total params: 26,097\n",
      "Trainable params: 26,097\n",
      "Non-trainable params: 0\n",
      "_________________________________________________________________\n"
     ]
    }
   ],
   "source": [
    "### DEFINE PARAM GRID FOR HYPERPARM OPTIMIZATION ###\n",
    "\n",
    "early_stop = EarlyStopping(patience=3, verbose=0, min_delta=0.0001, monitor='loss', mode='auto', restore_best_weights=True)\n",
    "\n",
    "best_params = {'unit': 32, 't2v_dim': 128, 'lr': 0.001, 'act': 'relu', 'epochs': 20, 'batch_size': 1024}\n",
    "kgs_t2v = T2V_NN(param=best_params, dim=SEQUENCE_LENGTH)\n",
    "kgs_t2v.summary();"
   ]
  },
  {
   "cell_type": "code",
   "execution_count": 13,
   "metadata": {},
   "outputs": [
    {
     "name": "stdout",
     "output_type": "stream",
     "text": [
      "Epoch 1/20\n",
      "6/6 [==============================] - 3s 58ms/step - loss: 0.0182\n",
      "Epoch 2/20\n",
      "6/6 [==============================] - 0s 66ms/step - loss: 0.0106\n",
      "Epoch 3/20\n",
      "6/6 [==============================] - 0s 63ms/step - loss: 0.0096\n",
      "Epoch 4/20\n",
      "6/6 [==============================] - 0s 56ms/step - loss: 0.0078\n",
      "Epoch 5/20\n",
      "6/6 [==============================] - 0s 56ms/step - loss: 0.0063\n",
      "Epoch 6/20\n",
      "6/6 [==============================] - 0s 61ms/step - loss: 0.0046\n",
      "Epoch 7/20\n",
      "6/6 [==============================] - 0s 36ms/step - loss: 0.0031\n",
      "Epoch 8/20\n",
      "6/6 [==============================] - 0s 37ms/step - loss: 0.0023\n",
      "Epoch 9/20\n",
      "6/6 [==============================] - 0s 36ms/step - loss: 0.0022\n",
      "Epoch 10/20\n",
      "6/6 [==============================] - 0s 38ms/step - loss: 0.0019\n",
      "Epoch 11/20\n",
      "6/6 [==============================] - 0s 38ms/step - loss: 0.0017\n",
      "Epoch 12/20\n",
      "6/6 [==============================] - 0s 40ms/step - loss: 0.0016\n",
      "Epoch 13/20\n",
      "6/6 [==============================] - 0s 35ms/step - loss: 0.0014\n",
      "Epoch 14/20\n",
      "6/6 [==============================] - 0s 36ms/step - loss: 0.0013\n",
      "Epoch 15/20\n",
      "6/6 [==============================] - 0s 36ms/step - loss: 0.0012\n",
      "Epoch 16/20\n",
      "6/6 [==============================] - 0s 39ms/step - loss: 0.0010\n",
      "Epoch 17/20\n",
      "6/6 [==============================] - 0s 34ms/step - loss: 9.3121e-04\n",
      "Epoch 18/20\n",
      "6/6 [==============================] - 0s 36ms/step - loss: 8.4815e-04\n",
      "Epoch 19/20\n",
      "6/6 [==============================] - 0s 37ms/step - loss: 7.6390e-04\n",
      "Epoch 20/20\n",
      "6/6 [==============================] - 0s 35ms/step - loss: 6.8556e-04\n"
     ]
    }
   ],
   "source": [
    "### TRAIN MODEL ON HOUSE 1 ###\n",
    "kgs_t2v.fit(X_train_h1, y_train_h1, epochs=best_params['epochs'], batch_size=best_params['batch_size'], callbacks=[early_stop]);"
   ]
  },
  {
   "cell_type": "code",
   "execution_count": 14,
   "metadata": {},
   "outputs": [
    {
     "data": {
      "text/plain": [
       "0.00850532160256912"
      ]
     },
     "execution_count": 14,
     "metadata": {},
     "output_type": "execute_result"
    }
   ],
   "source": [
    "### MSE ON HOUSE 1 ###\n",
    "y_pred_h1 = kgs_t2v.predict(X_test_h1)\n",
    "mean_absolute_error(y_test_h1.ravel(), y_pred_h1.ravel())"
   ]
  },
  {
   "cell_type": "code",
   "execution_count": 15,
   "metadata": {},
   "outputs": [
    {
     "data": {
      "text/plain": [
       "0.009035732438380068"
      ]
     },
     "execution_count": 15,
     "metadata": {},
     "output_type": "execute_result"
    }
   ],
   "source": [
    "### MSE ON HOUSE 2 ###\n",
    "y_pred_h2 = kgs_t2v.predict(X_test_h2)\n",
    "mean_absolute_error(y_test_h2.ravel(), y_pred_h2.ravel())"
   ]
  },
  {
   "cell_type": "code",
   "execution_count": 16,
   "metadata": {},
   "outputs": [],
   "source": [
    "### SAVE/LOAD THE T2V LAYER ###\n",
    "t2v_weights = kgs_t2v.layers[1].get_weights()\n",
    "#pickle.dump(t2v_weights, open('t2v_weights_norm_lstm_house1_1m30.pkl', 'wb'))\n",
    "#t2v_weights = pickle.load(open('t2v_weights_norm_lstm_house1.pkl', 'rb'))\n",
    "#kgs_t2v.layers[1].set_weights(t2v_weights)\n",
    "\n",
    "# to disable fine-tuning\n",
    "#kgs_t2v.layers[1].trainable = False"
   ]
  },
  {
   "cell_type": "code",
   "execution_count": 17,
   "metadata": {},
   "outputs": [
    {
     "name": "stdout",
     "output_type": "stream",
     "text": [
      "Epoch 1/20\n",
      "5/5 [==============================] - 0s 37ms/step - loss: 8.0639e-04\n",
      "Epoch 2/20\n",
      "5/5 [==============================] - 0s 37ms/step - loss: 6.7552e-04\n",
      "Epoch 3/20\n",
      "5/5 [==============================] - 0s 38ms/step - loss: 5.7262e-04\n",
      "Epoch 4/20\n",
      "5/5 [==============================] - 0s 35ms/step - loss: 5.0052e-04\n",
      "Epoch 5/20\n",
      "5/5 [==============================] - 0s 38ms/step - loss: 4.4510e-04\n",
      "Epoch 6/20\n",
      "5/5 [==============================] - 0s 35ms/step - loss: 3.9891e-04\n",
      "Epoch 7/20\n",
      "5/5 [==============================] - 0s 37ms/step - loss: 3.6313e-04\n",
      "Epoch 8/20\n",
      "5/5 [==============================] - 0s 34ms/step - loss: 3.3570e-04\n",
      "Epoch 9/20\n",
      "5/5 [==============================] - 0s 36ms/step - loss: 3.1660e-04\n",
      "Epoch 10/20\n",
      "5/5 [==============================] - 0s 34ms/step - loss: 3.0939e-04\n",
      "Epoch 11/20\n",
      "5/5 [==============================] - 0s 39ms/step - loss: 2.8795e-04\n"
     ]
    }
   ],
   "source": [
    "### TRAIN MODEL ON HOUSE 2 ###\n",
    "kgs_t2v.fit(X_train_h2, y_train_h2, epochs=best_params['epochs'], batch_size=best_params['batch_size'], callbacks=[early_stop]);\n",
    "\n",
    "# save the weights\n",
    "t2v_weights = kgs_t2v.layers[1].get_weights()\n",
    "#pickle.dump(t2v_weights, open('t2v_weights_norm_house2.pkl', 'wb'))"
   ]
  },
  {
   "cell_type": "code",
   "execution_count": 18,
   "metadata": {},
   "outputs": [
    {
     "data": {
      "image/png": "[encoded data removed]",
      "text/plain": [
       "<Figure size 576x360 with 1 Axes>"
      ]
     },
     "metadata": {
      "needs_background": "light"
     },
     "output_type": "display_data"
    }
   ],
   "source": [
    "### VISUALIZE TEST PREDICTIONS ON HOUSE 1 ###\n",
    "\n",
    "plt.figure(figsize=(8,5))\n",
    "\n",
    "y_pred_unfolded_h1 = unfold_sequence(y_pred_h1, SEQUENCE_LENGTH, OVERLAP_PERIOD)\n",
    "y_test_unfolded_h1 = unfold_sequence(y_test_h1, SEQUENCE_LENGTH, OVERLAP_PERIOD)\n",
    "\n",
    "plt.plot(y_pred_unfolded_h1[:24*60], label='prediction')\n",
    "plt.plot(y_test_unfolded_h1[:24*60], label='true')\n",
    "plt.title('T2V');\n",
    "plt.legend();"
   ]
  },
  {
   "cell_type": "code",
   "execution_count": 19,
   "metadata": {},
   "outputs": [
    {
     "data": {
      "image/png": "[encoded data removed]",
      "text/plain": [
       "<Figure size 576x360 with 1 Axes>"
      ]
     },
     "metadata": {
      "needs_background": "light"
     },
     "output_type": "display_data"
    }
   ],
   "source": [
    "### VISUALIZE TEST PREDICTIONS ON HOUSE 2 ###\n",
    "\n",
    "plt.figure(figsize=(8,5))\n",
    "\n",
    "y_pred_unfolded_h2 = unfold_sequence(y_pred_h2, SEQUENCE_LENGTH, OVERLAP_PERIOD)\n",
    "y_test_unfolded_h2 = unfold_sequence(y_test_h2, SEQUENCE_LENGTH, OVERLAP_PERIOD)\n",
    "\n",
    "plt.plot(y_pred_unfolded_h2[:24*60], label='prediction')\n",
    "plt.plot(y_test_unfolded_h2[:24*60], label='true')\n",
    "plt.title('T2V');\n",
    "plt.legend();"
   ]
  },
  {
   "cell_type": "markdown",
   "metadata": {},
   "source": [
    "Now that our Time2Vec model is trained, we can use its embedding as a first layer of neural network for a binary classification task."
   ]
  },
  {
   "cell_type": "markdown",
   "metadata": {},
   "source": [
    "# 2. Using our embeddings for classification"
   ]
  },
  {
   "cell_type": "code",
   "execution_count": 20,
   "metadata": {},
   "outputs": [],
   "source": [
    "X_h2, Y_h2 = [], []\n",
    "for sequence in gen_sequence(house2_power_blk1, SEQUENCE_LENGTH, OVERLAP_PERIOD, ['mains']):\n",
    "    X_h2.append(sequence)\n",
    "\n",
    "# gen_labels\n",
    "for sequence in gen_sequence(house2_power_blk1, SEQUENCE_LENGTH, OVERLAP_PERIOD, ['activity']):\n",
    "    Y_h2.append(sequence)\n",
    "    \n",
    "X_h2 = np.asarray(X_h2)\n",
    "Y_h2 = np.asarray(Y_h2)"
   ]
  },
  {
   "cell_type": "code",
   "execution_count": 21,
   "metadata": {},
   "outputs": [
    {
     "name": "stdout",
     "output_type": "stream",
     "text": [
      "(4959, 40, 1) (4959, 40, 1)\n",
      "(2121, 40, 1) (2121, 40, 1)\n"
     ]
    }
   ],
   "source": [
    "### TRAIN TEST SPLIT ###\n",
    "step = SEQUENCE_LENGTH - OVERLAP_PERIOD\n",
    "train_dim_h2 = int(0.7*len(house2_power_blk1) / step)\n",
    "X_train_h2, X_test_h2 = X_h2[:train_dim_h2], X_h2[train_dim_h2:]\n",
    "y_train_h2, y_test_h2 = Y_h2[:train_dim_h2], Y_h2[train_dim_h2:]\n",
    "\n",
    "print(X_train_h2.shape, y_train_h2.shape)\n",
    "print(X_test_h2.shape, y_test_h2.shape)"
   ]
  },
  {
   "cell_type": "code",
   "execution_count": 22,
   "metadata": {},
   "outputs": [],
   "source": [
    "X_h1, Y_h1 = [], []\n",
    "for sequence in gen_sequence(house1_power_blk2, SEQUENCE_LENGTH, OVERLAP_PERIOD, ['mains']):\n",
    "    X_h1.append(sequence)\n",
    "\n",
    "# gen_labels\n",
    "for sequence in gen_sequence(house1_power_blk2, SEQUENCE_LENGTH, OVERLAP_PERIOD, ['activity']):\n",
    "    Y_h1.append(sequence)\n",
    "    \n",
    "X_h1 = np.asarray(X_h1)\n",
    "Y_h1 = np.asarray(Y_h1)"
   ]
  },
  {
   "cell_type": "code",
   "execution_count": 23,
   "metadata": {},
   "outputs": [
    {
     "name": "stdout",
     "output_type": "stream",
     "text": [
      "(5288, 40, 1) (5288, 40, 1)\n",
      "(2262, 40, 1) (2262, 40, 1)\n"
     ]
    }
   ],
   "source": [
    "### TRAIN TEST SPLIT ###\n",
    "step = SEQUENCE_LENGTH - OVERLAP_PERIOD\n",
    "train_dim_h1 = int(0.7*len(house1_power_blk2) / step)\n",
    "X_train_h1, X_test_h1 = X_h1[:train_dim_h1], X_h1[train_dim_h1:]\n",
    "y_train_h1, y_test_h1 = Y_h1[:train_dim_h1], Y_h1[train_dim_h1:]\n",
    "\n",
    "print(X_train_h1.shape, y_train_h1.shape)\n",
    "print(X_test_h1.shape, y_test_h1.shape)"
   ]
  },
  {
   "cell_type": "code",
   "execution_count": 24,
   "metadata": {},
   "outputs": [],
   "source": [
    "### RE-DEFINE T2V LAYER ###\n",
    "\n",
    "class T2V(Layer):\n",
    "    \n",
    "    def __init__(self, output_dim=None, **kwargs):\n",
    "        self.output_dim = output_dim\n",
    "        super(T2V, self).__init__(**kwargs)\n",
    "        \n",
    "    def build(self, input_shape):\n",
    "\n",
    "        self.W = self.add_weight(name='W',\n",
    "                                shape=(input_shape[-1], self.output_dim),\n",
    "                                initializer='uniform',\n",
    "                                trainable=True)\n",
    "\n",
    "        self.P = self.add_weight(name='P',\n",
    "                                shape=(input_shape[1], self.output_dim),\n",
    "                                initializer='uniform',\n",
    "                                trainable=True)\n",
    "\n",
    "        self.w = self.add_weight(name='w',\n",
    "                                shape=(input_shape[1], 1),\n",
    "                                initializer='uniform',\n",
    "                                trainable=True)\n",
    "\n",
    "        self.p = self.add_weight(name='p',\n",
    "                                shape=(input_shape[1], 1),\n",
    "                                initializer='uniform',\n",
    "                                trainable=True)\n",
    "\n",
    "        super(T2V, self).build(input_shape)\n",
    "        \n",
    "    def call(self, x):\n",
    "        \n",
    "        original = self.w * x + self.p\n",
    "        sin_trans = K.sin(K.dot(x, self.W) + self.P)\n",
    "        \n",
    "        return K.concatenate([sin_trans, original], -1)"
   ]
  },
  {
   "cell_type": "code",
   "execution_count": 25,
   "metadata": {},
   "outputs": [],
   "source": [
    "### DEFINE CLASSIFICATION MODEL STRUCTURES ###\n",
    "\n",
    "def T2V_NN_C(param, dim):\n",
    "    \n",
    "    # set_seed(33)\n",
    "    \n",
    "    inp = Input(shape=(dim,1))\n",
    "    #x = Dropout(0.2)(inp)\n",
    "    x = T2V(param['t2v_dim'])(inp)\n",
    "    x = Dropout(0.2)(x)\n",
    "    x = LSTM(param['unit'], activation=param['act'], return_sequences=True)(x)\n",
    "    # we want to make a classification with 2 classes\n",
    "    x = Dense(1, activation='sigmoid')(x)\n",
    "    \n",
    "    m = Model(inp, x)\n",
    "    m.compile(loss='bce', optimizer='adam') #Adam(learning_rate=param['lr'])\n",
    "    \n",
    "    return m"
   ]
  },
  {
   "cell_type": "code",
   "execution_count": 26,
   "metadata": {},
   "outputs": [
    {
     "name": "stdout",
     "output_type": "stream",
     "text": [
      "WARNING:tensorflow:Layer lstm_1 will not use cuDNN kernels since it doesn't meet the criteria. It will use a generic GPU kernel as fallback when running on GPU.\n",
      "Model: \"model_1\"\n",
      "_________________________________________________________________\n",
      " Layer (type)                Output Shape              Param #   \n",
      "=================================================================\n",
      " input_2 (InputLayer)        [(None, 40, 1)]           0         \n",
      "                                                                 \n",
      " t2v_1 (T2V)                 (None, 40, 129)           5328      \n",
      "                                                                 \n",
      " dropout_1 (Dropout)         (None, 40, 129)           0         \n",
      "                                                                 \n",
      " lstm_1 (LSTM)               (None, 40, 32)            20736     \n",
      "                                                                 \n",
      " dense_1 (Dense)             (None, 40, 1)             33        \n",
      "                                                                 \n",
      "=================================================================\n",
      "Total params: 26,097\n",
      "Trainable params: 26,097\n",
      "Non-trainable params: 0\n",
      "_________________________________________________________________\n"
     ]
    }
   ],
   "source": [
    "### LOAD OUR WEIGHTS ###\n",
    "#t2v_weights = pickle.load(open('t2v_weights_norm_lstm_house2.pkl', 'rb'))\n",
    "t2v_weights = kgs_t2v.layers[1].get_weights()\n",
    "\n",
    "early_stop = EarlyStopping(patience=5, verbose=0, min_delta=0.0001, monitor='loss', mode='auto', restore_best_weights=True)\n",
    "best_params = {'unit': 32, 't2v_dim': 128, 'epochs': 12, 'act': 'relu', 'batch_size': 1024}\n",
    "kgs_t2v_c = T2V_NN_C(param=best_params, dim=SEQUENCE_LENGTH)\n",
    "\n",
    "kgs_t2v_c.layers[1].set_weights(t2v_weights)\n",
    "\n",
    "# to ensable fine-tuning\n",
    "kgs_t2v_c.layers[1].trainable = True\n",
    "\n",
    "kgs_t2v_c.summary();"
   ]
  },
  {
   "cell_type": "markdown",
   "metadata": {},
   "source": [
    "Let's train our model on house 1."
   ]
  },
  {
   "cell_type": "code",
   "execution_count": 27,
   "metadata": {},
   "outputs": [
    {
     "name": "stdout",
     "output_type": "stream",
     "text": [
      "Epoch 1/12\n",
      "6/6 [==============================] - 1s 40ms/step - loss: 0.6902\n",
      "Epoch 2/12\n",
      "6/6 [==============================] - 0s 37ms/step - loss: 0.6840\n",
      "Epoch 3/12\n",
      "6/6 [==============================] - 0s 35ms/step - loss: 0.6745\n",
      "Epoch 4/12\n",
      "6/6 [==============================] - 0s 38ms/step - loss: 0.6579\n",
      "Epoch 5/12\n",
      "6/6 [==============================] - 0s 35ms/step - loss: 0.6296\n",
      "Epoch 6/12\n",
      "6/6 [==============================] - 0s 35ms/step - loss: 0.5986\n",
      "Epoch 7/12\n",
      "6/6 [==============================] - 0s 40ms/step - loss: 0.5637\n",
      "Epoch 8/12\n",
      "6/6 [==============================] - 0s 36ms/step - loss: 0.5558\n",
      "Epoch 9/12\n",
      "6/6 [==============================] - 0s 35ms/step - loss: 0.5496\n",
      "Epoch 10/12\n",
      "6/6 [==============================] - 0s 35ms/step - loss: 0.5443\n",
      "Epoch 11/12\n",
      "6/6 [==============================] - 0s 35ms/step - loss: 0.5389\n",
      "Epoch 12/12\n",
      "6/6 [==============================] - 0s 34ms/step - loss: 0.5377\n"
     ]
    }
   ],
   "source": [
    "kgs_t2v_c.fit(X_train_h1, y_train_h1, epochs=best_params['epochs'], batch_size=best_params['batch_size'], callbacks=[early_stop]);"
   ]
  },
  {
   "cell_type": "markdown",
   "metadata": {},
   "source": [
    "We can now make predictions and have a look at the performances. Let's have a look at the score on the test dataset from house 1."
   ]
  },
  {
   "cell_type": "code",
   "execution_count": 28,
   "metadata": {},
   "outputs": [
    {
     "name": "stdout",
     "output_type": "stream",
     "text": [
      "Score f_beta : 75.027%\n",
      "Score accuracy : 75.077%\n"
     ]
    },
    {
     "data": {
      "image/png": "[encoded data removed]",
      "text/plain": [
       "<Figure size 432x288 with 2 Axes>"
      ]
     },
     "metadata": {
      "needs_background": "light"
     },
     "output_type": "display_data"
    }
   ],
   "source": [
    "y_pred_h1 = kgs_t2v_c.predict(X_test_h1)\n",
    "y_pred_unfolded_h1 = unfold_sequence(y_pred_h1, SEQUENCE_LENGTH, OVERLAP_PERIOD)\n",
    "y_test_unfolded_h1 = unfold_sequence(y_test_h1, SEQUENCE_LENGTH, OVERLAP_PERIOD)\n",
    "\n",
    "mod.plot_confusion_matrix(y_test_unfolded_h1, (y_pred_unfolded_h1>0.5).astype(int));"
   ]
  },
  {
   "cell_type": "markdown",
   "metadata": {},
   "source": [
    "Now let's have a look at the score on the test dataset from house 2."
   ]
  },
  {
   "cell_type": "code",
   "execution_count": 29,
   "metadata": {},
   "outputs": [
    {
     "name": "stdout",
     "output_type": "stream",
     "text": [
      "Score f_beta : 78.896%\n",
      "Score accuracy : 77.858%\n"
     ]
    },
    {
     "data": {
      "image/png": "[encoded data removed]",
      "text/plain": [
       "<Figure size 432x288 with 2 Axes>"
      ]
     },
     "metadata": {
      "needs_background": "light"
     },
     "output_type": "display_data"
    }
   ],
   "source": [
    "y_pred_h2 = kgs_t2v_c.predict(X_test_h2)\n",
    "y_pred_unfolded_h2 = unfold_sequence(y_pred_h2, SEQUENCE_LENGTH, OVERLAP_PERIOD)\n",
    "y_test_unfolded_h2 = unfold_sequence(y_test_h2, SEQUENCE_LENGTH, OVERLAP_PERIOD)\n",
    "\n",
    "mod.plot_confusion_matrix(y_test_unfolded_h2, (y_pred_unfolded_h2>0.5).astype(int));"
   ]
  },
  {
   "cell_type": "markdown",
   "metadata": {},
   "source": [
    "Now let's train our model on house 2."
   ]
  },
  {
   "cell_type": "code",
   "execution_count": 30,
   "metadata": {},
   "outputs": [
    {
     "name": "stdout",
     "output_type": "stream",
     "text": [
      "Epoch 1/12\n",
      "5/5 [==============================] - 0s 44ms/step - loss: 0.5458\n",
      "Epoch 2/12\n",
      "5/5 [==============================] - 0s 35ms/step - loss: 0.5229\n",
      "Epoch 3/12\n",
      "5/5 [==============================] - 0s 37ms/step - loss: 0.5090\n",
      "Epoch 4/12\n",
      "5/5 [==============================] - 0s 38ms/step - loss: 0.4927\n",
      "Epoch 5/12\n",
      "5/5 [==============================] - 0s 37ms/step - loss: 0.4778\n",
      "Epoch 6/12\n",
      "5/5 [==============================] - 0s 38ms/step - loss: 0.4687\n",
      "Epoch 7/12\n",
      "5/5 [==============================] - 0s 50ms/step - loss: 0.4588\n",
      "Epoch 8/12\n",
      "5/5 [==============================] - 0s 39ms/step - loss: 0.4505\n",
      "Epoch 9/12\n",
      "5/5 [==============================] - 0s 34ms/step - loss: 0.4447\n",
      "Epoch 10/12\n",
      "5/5 [==============================] - 0s 36ms/step - loss: 0.4436\n",
      "Epoch 11/12\n",
      "5/5 [==============================] - 0s 35ms/step - loss: 0.4346\n",
      "Epoch 12/12\n",
      "5/5 [==============================] - 0s 35ms/step - loss: 0.4309\n"
     ]
    }
   ],
   "source": [
    "kgs_t2v_c.fit(X_train_h2, y_train_h2, epochs=best_params['epochs'], batch_size=best_params['batch_size'], callbacks=[early_stop]);"
   ]
  },
  {
   "cell_type": "markdown",
   "metadata": {},
   "source": [
    "Let's have a look at the score on the test dataset from house 1."
   ]
  },
  {
   "cell_type": "code",
   "execution_count": 31,
   "metadata": {},
   "outputs": [
    {
     "name": "stdout",
     "output_type": "stream",
     "text": [
      "Score f_beta : 74.322%\n",
      "Score accuracy : 73.160%\n"
     ]
    },
    {
     "data": {
      "image/png": "[encoded data removed]",
      "text/plain": [
       "<Figure size 432x288 with 2 Axes>"
      ]
     },
     "metadata": {
      "needs_background": "light"
     },
     "output_type": "display_data"
    }
   ],
   "source": [
    "y_pred_h1 = kgs_t2v_c.predict(X_test_h1)\n",
    "y_pred_unfolded_h1 = unfold_sequence(y_pred_h1, SEQUENCE_LENGTH, OVERLAP_PERIOD)\n",
    "y_test_unfolded_h1 = unfold_sequence(y_test_h1, SEQUENCE_LENGTH, OVERLAP_PERIOD)\n",
    "\n",
    "mod.plot_confusion_matrix(y_test_unfolded_h1, (y_pred_unfolded_h1>0.5).astype(int));"
   ]
  },
  {
   "cell_type": "markdown",
   "metadata": {},
   "source": [
    "Now let's have a look at the score on the test dataset from house 2."
   ]
  },
  {
   "cell_type": "markdown",
   "metadata": {},
   "source": [
    "Finally we can try to plot our predictions."
   ]
  },
  {
   "cell_type": "code",
   "execution_count": 34,
   "metadata": {},
   "outputs": [
    {
     "data": {
      "image/png": "[encoded data removed]",
      "text/plain": [
       "<Figure size 720x432 with 2 Axes>"
      ]
     },
     "metadata": {
      "needs_background": "light"
     },
     "output_type": "display_data"
    }
   ],
   "source": [
    "### VISUALIZE TEST PREDICTIONS ON HOUSE 2 ###\n",
    "X_test_unfolded_h2 = unfold_sequence(X_test_h2, SEQUENCE_LENGTH, OVERLAP_PERIOD)\n",
    "\n",
    "fig, ax = plt.subplots(1,1 , figsize=(10,6))\n",
    "axs = ax.twinx()\n",
    "\n",
    "ax.plot(X_test_unfolded_h2[:5000], label='mains', alpha=0.5)\n",
    "axs.plot(y_pred_unfolded_h2[:5000]>0.5, label='prediction', color='red', alpha=0.5)\n",
    "axs.plot(y_test_unfolded_h2[:5000], label='true', color='orange', alpha=0.5)\n",
    "plt.title('T2V');\n",
    "ax.legend(loc='upper right');\n",
    "axs.legend(loc='upper left');"
   ]
  },
  {
   "cell_type": "code",
   "execution_count": 35,
   "metadata": {},
   "outputs": [
    {
     "data": {
      "image/png": "[encoded data removed]",
      "text/plain": [
       "<Figure size 720x432 with 2 Axes>"
      ]
     },
     "metadata": {
      "needs_background": "light"
     },
     "output_type": "display_data"
    }
   ],
   "source": [
    "### VISUALIZE TEST PREDICTIONS ON HOUSE 1 ###\n",
    "X_test_unfolded_h1 = unfold_sequence(X_test_h1, SEQUENCE_LENGTH, OVERLAP_PERIOD)\n",
    "\n",
    "fig, ax = plt.subplots(1,1 , figsize=(10,6))\n",
    "axs = ax.twinx()\n",
    "\n",
    "ax.plot(X_test_unfolded_h1[:5000], label='mains', alpha=0.5)\n",
    "axs.plot(y_pred_unfolded_h1[:5000]>0.5, label='prediction', color='red', alpha=0.5)\n",
    "axs.plot(y_test_unfolded_h1[:5000], label='true', color='orange', alpha=0.5)\n",
    "plt.title('T2V');\n",
    "ax.legend(loc='upper right');\n",
    "axs.legend(loc='upper left');"
   ]
  },
  {
   "cell_type": "markdown",
   "metadata": {},
   "source": [
    "Looking at the plots, it looks like our model sucessfully identifies the period of times with a lot of variation on the load curve."
   ]
  },
  {
   "cell_type": "code",
   "execution_count": 96,
   "metadata": {},
   "outputs": [
    {
     "data": {
      "text/html": [
       "<div>\n",
       "<style scoped>\n",
       "    .dataframe tbody tr th:only-of-type {\n",
       "        vertical-align: middle;\n",
       "    }\n",
       "\n",
       "    .dataframe tbody tr th {\n",
       "        vertical-align: top;\n",
       "    }\n",
       "\n",
       "    .dataframe thead th {\n",
       "        text-align: right;\n",
       "    }\n",
       "</style>\n",
       "<table border=\"1\" class=\"dataframe\">\n",
       "  <thead>\n",
       "    <tr style=\"text-align: right;\">\n",
       "      <th></th>\n",
       "      <th>mains</th>\n",
       "      <th>activity</th>\n",
       "      <th>hour</th>\n",
       "      <th>activity_pred</th>\n",
       "    </tr>\n",
       "    <tr>\n",
       "      <th>datetime</th>\n",
       "      <th></th>\n",
       "      <th></th>\n",
       "      <th></th>\n",
       "      <th></th>\n",
       "    </tr>\n",
       "  </thead>\n",
       "  <tbody>\n",
       "    <tr>\n",
       "      <th>2016-04-19 01:42:00</th>\n",
       "      <td>0.027089</td>\n",
       "      <td>0</td>\n",
       "      <td>1.700000</td>\n",
       "      <td>0.0</td>\n",
       "    </tr>\n",
       "    <tr>\n",
       "      <th>2016-04-19 01:43:30</th>\n",
       "      <td>0.013490</td>\n",
       "      <td>0</td>\n",
       "      <td>1.716667</td>\n",
       "      <td>0.0</td>\n",
       "    </tr>\n",
       "    <tr>\n",
       "      <th>2016-04-19 01:45:00</th>\n",
       "      <td>0.038512</td>\n",
       "      <td>0</td>\n",
       "      <td>1.750000</td>\n",
       "      <td>0.0</td>\n",
       "    </tr>\n",
       "    <tr>\n",
       "      <th>2016-04-19 01:46:30</th>\n",
       "      <td>0.042537</td>\n",
       "      <td>0</td>\n",
       "      <td>1.766667</td>\n",
       "      <td>0.0</td>\n",
       "    </tr>\n",
       "    <tr>\n",
       "      <th>2016-04-19 01:48:00</th>\n",
       "      <td>0.038294</td>\n",
       "      <td>0</td>\n",
       "      <td>1.800000</td>\n",
       "      <td>0.0</td>\n",
       "    </tr>\n",
       "  </tbody>\n",
       "</table>\n",
       "</div>"
      ],
      "text/plain": [
       "                        mains  activity      hour  activity_pred\n",
       "datetime                                                        \n",
       "2016-04-19 01:42:00  0.027089         0  1.700000            0.0\n",
       "2016-04-19 01:43:30  0.013490         0  1.716667            0.0\n",
       "2016-04-19 01:45:00  0.038512         0  1.750000            0.0\n",
       "2016-04-19 01:46:30  0.042537         0  1.766667            0.0\n",
       "2016-04-19 01:48:00  0.038294         0  1.800000            0.0"
      ]
     },
     "execution_count": 96,
     "metadata": {},
     "output_type": "execute_result"
    }
   ],
   "source": [
    "y_pred_unfolded_h1 = unfold_sequence(y_pred_h1, SEQUENCE_LENGTH, OVERLAP_PERIOD)\n",
    "y_test_unfolded_h1 = unfold_sequence(y_test_h1, SEQUENCE_LENGTH, OVERLAP_PERIOD)\n",
    "\n",
    "train_dim_h1_tot = int(0.7*len(house1_power_blk2))\n",
    "step = SEQUENCE_LENGTH - OVERLAP_PERIOD\n",
    "house1_power_blk2_res = house1_power_blk2.copy()\n",
    "house1_power_blk2_res['activity_pred'] = np.nan\n",
    "#house1_power_blk2_res['activity_pred'].iloc[train_dim_h1_tot:-SEQUENCE_LENGTH:step] = (y_pred_h1[:, 0].reshape(-1) > 0.5).astype(int)\n",
    "#house1_power_blk2_res.iloc[train_dim_h1_tot:-SEQUENCE_LENGTH:step].head()\n",
    "house1_power_blk2_res['activity_pred'].iloc[train_dim_h1_tot:-36] = (y_pred_unfolded_h1 > 0.5).astype(int)\n",
    "house1_power_blk2_res.iloc[train_dim_h1_tot:-36].head()"
   ]
  },
  {
   "cell_type": "code",
   "execution_count": 97,
   "metadata": {},
   "outputs": [
    {
     "data": {
      "image/png": "[encoded data removed]",
      "text/plain": [
       "<Figure size 864x432 with 1 Axes>"
      ]
     },
     "metadata": {
      "needs_background": "light"
     },
     "output_type": "display_data"
    }
   ],
   "source": [
    "fig, ax = plt.subplots()\n",
    "\n",
    "mod.plot_activity_hist(house1_power_blk2_res['activity_pred'] , figsize=(12, 6), alpha=0.5, label='predictions', ax=ax) \n",
    "mod.plot_activity_hist(house1_power_blk2_res['activity'], figsize=(12, 6), alpha=0.5, label='truth', color='tab:orange', ax=ax)"
   ]
  },
  {
   "cell_type": "code",
   "execution_count": 99,
   "metadata": {},
   "outputs": [
    {
     "data": {
      "text/html": [
       "<div>\n",
       "<style scoped>\n",
       "    .dataframe tbody tr th:only-of-type {\n",
       "        vertical-align: middle;\n",
       "    }\n",
       "\n",
       "    .dataframe tbody tr th {\n",
       "        vertical-align: top;\n",
       "    }\n",
       "\n",
       "    .dataframe thead th {\n",
       "        text-align: right;\n",
       "    }\n",
       "</style>\n",
       "<table border=\"1\" class=\"dataframe\">\n",
       "  <thead>\n",
       "    <tr style=\"text-align: right;\">\n",
       "      <th></th>\n",
       "      <th>mains</th>\n",
       "      <th>activity</th>\n",
       "      <th>hour</th>\n",
       "      <th>activity_pred</th>\n",
       "    </tr>\n",
       "    <tr>\n",
       "      <th>datetime</th>\n",
       "      <th></th>\n",
       "      <th></th>\n",
       "      <th></th>\n",
       "      <th></th>\n",
       "    </tr>\n",
       "  </thead>\n",
       "  <tbody>\n",
       "    <tr>\n",
       "      <th>2017-10-24 06:54:00</th>\n",
       "      <td>0.147141</td>\n",
       "      <td>1</td>\n",
       "      <td>6.900000</td>\n",
       "      <td>1.0</td>\n",
       "    </tr>\n",
       "    <tr>\n",
       "      <th>2017-10-24 06:55:30</th>\n",
       "      <td>0.095921</td>\n",
       "      <td>1</td>\n",
       "      <td>6.916667</td>\n",
       "      <td>1.0</td>\n",
       "    </tr>\n",
       "    <tr>\n",
       "      <th>2017-10-24 06:57:00</th>\n",
       "      <td>0.100950</td>\n",
       "      <td>1</td>\n",
       "      <td>6.950000</td>\n",
       "      <td>1.0</td>\n",
       "    </tr>\n",
       "    <tr>\n",
       "      <th>2017-10-24 06:58:30</th>\n",
       "      <td>0.059415</td>\n",
       "      <td>1</td>\n",
       "      <td>6.966667</td>\n",
       "      <td>1.0</td>\n",
       "    </tr>\n",
       "    <tr>\n",
       "      <th>2017-10-24 07:00:00</th>\n",
       "      <td>0.043770</td>\n",
       "      <td>1</td>\n",
       "      <td>7.000000</td>\n",
       "      <td>1.0</td>\n",
       "    </tr>\n",
       "  </tbody>\n",
       "</table>\n",
       "</div>"
      ],
      "text/plain": [
       "                        mains  activity      hour  activity_pred\n",
       "datetime                                                        \n",
       "2017-10-24 06:54:00  0.147141         1  6.900000            1.0\n",
       "2017-10-24 06:55:30  0.095921         1  6.916667            1.0\n",
       "2017-10-24 06:57:00  0.100950         1  6.950000            1.0\n",
       "2017-10-24 06:58:30  0.059415         1  6.966667            1.0\n",
       "2017-10-24 07:00:00  0.043770         1  7.000000            1.0"
      ]
     },
     "execution_count": 99,
     "metadata": {},
     "output_type": "execute_result"
    }
   ],
   "source": [
    "y_pred_unfolded_h2 = unfold_sequence(y_pred_h2, SEQUENCE_LENGTH, OVERLAP_PERIOD)\n",
    "y_test_unfolded_h2 = unfold_sequence(y_test_h2, SEQUENCE_LENGTH, OVERLAP_PERIOD)\n",
    "\n",
    "train_dim_h2_tot = int(0.7*len(house2_power_blk1))\n",
    "step = SEQUENCE_LENGTH - OVERLAP_PERIOD\n",
    "house2_power_blk1_res = house2_power_blk1.copy()\n",
    "house2_power_blk1_res['activity_pred'] = np.nan\n",
    "# house2_power_blk1_res['activity_pred'].iloc[train_dim_h2_tot:-SEQUENCE_LENGTH:step] = (y_pred_h2[:, 0].reshape(-1) > 0.5).astype(int)\n",
    "# house2_power_blk1_res.iloc[train_dim_h2_tot:-SEQUENCE_LENGTH:step].head()\n",
    "house2_power_blk1_res['activity_pred'].iloc[train_dim_h2_tot:-36] = (y_pred_unfolded_h2 > 0.5).astype(int)\n",
    "house2_power_blk1_res.iloc[train_dim_h2_tot:-36].head()"
   ]
  },
  {
   "cell_type": "code",
   "execution_count": 100,
   "metadata": {},
   "outputs": [
    {
     "data": {
      "image/png": "[encoded data removed]",
      "text/plain": [
       "<Figure size 864x432 with 1 Axes>"
      ]
     },
     "metadata": {
      "needs_background": "light"
     },
     "output_type": "display_data"
    }
   ],
   "source": [
    "fig, ax = plt.subplots()\n",
    "\n",
    "mod.plot_activity_hist(house2_power_blk1_res['activity_pred'] , figsize=(12, 6), alpha=0.5, label='predictions', ax=ax) \n",
    "mod.plot_activity_hist(house2_power_blk1_res['activity'], figsize=(12, 6), alpha=0.5, label='truth', color='tab:orange', ax=ax)"
   ]
  },
  {
   "cell_type": "markdown",
   "metadata": {},
   "source": [
    "Let's have a look at the output of our network T2V + LSTM. We'll performe a PCA to get the 2 main axis and project the resulats onto a 2D plane."
   ]
  },
  {
   "cell_type": "code",
   "execution_count": 113,
   "metadata": {},
   "outputs": [],
   "source": [
    "def T2V_NN_Partial(param, dim):\n",
    "    \n",
    "    # set_seed(33)\n",
    "    \n",
    "    inp = Input(shape=(dim,1))\n",
    "    #x = Dropout(0.2)(inp)\n",
    "    x = T2V(param['t2v_dim'])(inp)\n",
    "    x = LSTM(param['unit'], activation=param['act'], return_sequences=True)(x)\n",
    "\n",
    "    m = Model(inp, x)\n",
    "    m.compile(loss='bce', optimizer='adam') #Adam(learning_rate=param['lr'])\n",
    "    \n",
    "    return m"
   ]
  },
  {
   "cell_type": "code",
   "execution_count": 116,
   "metadata": {},
   "outputs": [
    {
     "name": "stdout",
     "output_type": "stream",
     "text": [
      "WARNING:tensorflow:Layer lstm_10 will not use cuDNN kernels since it doesn't meet the criteria. It will use a generic GPU kernel as fallback when running on GPU.\n"
     ]
    }
   ],
   "source": [
    "kgs_t2v_part = T2V_NN_Partial(param=best_params, dim=SEQUENCE_LENGTH)\n",
    "\n",
    "t2v_weights = kgs_t2v_c.layers[1].get_weights()\n",
    "lstm_weights = kgs_t2v_c.layers[3].get_weights()\n",
    "\n",
    "kgs_t2v_part.layers[1].set_weights(t2v_weights)\n",
    "kgs_t2v_part.layers[2].set_weights(lstm_weights)\n",
    "\n",
    "# to disable fine-tuning\n",
    "kgs_t2v_part.layers[1].trainable = False\n",
    "kgs_t2v_part.layers[2].trainable = False\n",
    "\n",
    "t2v_lstm_out = kgs_t2v_part.predict(X_test_h1)"
   ]
  },
  {
   "cell_type": "code",
   "execution_count": 117,
   "metadata": {},
   "outputs": [
    {
     "data": {
      "image/png": "[encoded data removed]",
      "text/plain": [
       "<Figure size 432x288 with 1 Axes>"
      ]
     },
     "metadata": {
      "needs_background": "light"
     },
     "output_type": "display_data"
    }
   ],
   "source": [
    "for i in range(SEQUENCE_LENGTH):\n",
    "    #vect_norms = np.sqrt(np.sum(t2v_lstm_out[:,i] ** 2, axis=1))\n",
    "    #t2v_weights_norm = t2v_lstm_out[:,i] / vect_norms[:,np.newaxis]\n",
    "    U, _, _ = np.linalg.svd(t2v_lstm_out[:,i])\n",
    "\n",
    "    plt.scatter(U[:,0], U[:,1], c=y_test_h1[:,i], alpha=0.5);"
   ]
  },
  {
   "cell_type": "code",
   "execution_count": null,
   "metadata": {},
   "outputs": [],
   "source": []
  }
 ],
 "metadata": {
  "interpreter": {
   "hash": "916dbcbb3f70747c44a77c7bcd40155683ae19c65e1c03b4aa3499c5328201f1"
  },
  "kernelspec": {
   "display_name": "Python 3.8.10 64-bit",
   "language": "python",
   "name": "python3"
  },
  "language_info": {
   "codemirror_mode": {
    "name": "ipython",
    "version": 3
   },
   "file_extension": ".py",
   "mimetype": "text/x-python",
   "name": "python",
   "nbconvert_exporter": "python",
   "pygments_lexer": "ipython3",
   "version": "3.8.10"
  }
 },
 "nbformat": 4,
 "nbformat_minor": 2
}
